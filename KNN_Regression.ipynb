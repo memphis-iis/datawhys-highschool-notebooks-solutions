{
 "cells": [
  {
   "cell_type": "markdown",
      "metadata": {
      "deletable": false,
      "editable": false,
    "id": "m3ZNoVo8qEuS"
   },
   "source": [
    "# KNN Regression"
   ]
  },
  {
   "cell_type": "markdown",
      "metadata": {
      "deletable": false,
      "editable": false,
    "id": "bGEoHVMeqNqe"
   },
   "source": [
    "## ANTICIPATED TIME"
   ]
  },
  {
   "cell_type": "markdown",
      "metadata": {
      "deletable": false,
      "editable": false,
    "id": "lsq9Pl-IqSPP"
   },
   "source": [
    "\n",
    "2 Hours"
   ]
  },
  {
   "cell_type": "markdown",
      "metadata": {
      "deletable": false,
      "editable": false,
    "id": "kGGYzaDXqST5"
   },
   "source": [
    "\n",
    "\n",
    "## BEFORE YOU BEGIN"
   ]
  },
  {
   "cell_type": "markdown",
      "metadata": {
      "deletable": false,
      "editable": false,
    "id": "ae6baVsOqScg"
   },
   "source": [
    "[KNN Classification](KNN_Classification.ipynb)\n"
   ]
  },
  {
   "cell_type": "markdown",
      "metadata": {
      "deletable": false,
      "editable": false,
    "id": "PTq7DsSBqci3"
   },
   "source": [
    "## WHAT YOU WILL LEARN"
   ]
  },
  {
   "cell_type": "markdown",
      "metadata": {
      "deletable": false,
      "editable": false,
    "id": "VDMuaKBtqdGn"
   },
   "source": [
    "\n",
    "- What is regression?\n",
    "- What is KNN regression?\n",
    "- When do I use KNN regression?\n",
    "- How does KNN regression work?\n",
    "- How to choose K?\n",
    "- How do you evaluate the performance of a KNN regression model?\n",
    "- What are the strengths and weaknesses of using KNN regression?\n"
   ]
  },
  {
   "cell_type": "markdown",
      "metadata": {
      "deletable": false,
      "editable": false,
    "id": "Yx4sdH2ysRaY"
   },
   "source": [
    "## DEFINITIONS YOU’LL NEED TO KNOW"
   ]
  },
  {
   "cell_type": "markdown",
      "metadata": {
      "deletable": false,
      "editable": false,
    "id": "AIcnl6YPsRsm"
   },
   "source": [
    "\n",
    "\n",
    "- Regression - model used to predict a number\n",
    "- KNN Regression - is a technique that is used to predict continuous values\n",
    "- Predictors - a variable that is used to predict the values of a dependent/response variable\n",
    "- Response - the number you are trying to predict\n",
    "- Residuals - the difference between a predicted value and the actual value\n",
    "- Feature similarity - predicts values of new data\n",
    "- Standardization - putting data on the same scale for evaluation\n"
   ]
  },
  {
   "cell_type": "markdown",
      "metadata": {
      "deletable": false,
      "editable": false,
    "id": "Ie1U9miIsbtT"
   },
   "source": [
    "## SCENARIO:  \n"
   ]
  },
  {
   "cell_type": "markdown",
      "metadata": {
      "deletable": false,
      "editable": false,
    "deletable": false,
    "editable": false,
    "html": "<iframe class='metadata-html' width='560' height='315' src='https://video.olney.ai/6-knn-r.mp4' title='YouTube video player' frameborder='0' allow='accelerometer; autoplay; clipboard-write; encrypted-media; gyroscope; picture-in-picture; web-share' referrerpolicy='strict-origin-when-cross-origin' allowfullscreen></iframe>",
    "id": "npqY6ZiSbavX",
    "slideshow": {
     "slide_type": ""
    },
    "tags": []
   },
   "source": [
    "Ethan and Angelina want to predict how much pollution a new car would produce. They aren't sure what about cars is important for pollution, so they decide they want to make predictions using cars that are similar to the new car. Diego suggested that the team should figure this out using KNN (K-nearest neighbors) algorithm.\n",
    "\n",
    "To make sure that KNN works correctly, Ethan and Angelina need to make sure all of the features are treated equally. Otherwise a feature like car size, which has bigger numbers than fuel efficiency, could affect their prediction by a lot. The team also has to consider picking the right number for K. A small K would mean predictions only use the most similar car to the new car. A large K would use several similar cars to the new car in order to make the prediction. Picking the correct K and making sure all the features are looked at equally can help the team make a good prediction about how much pollution the new car would produce! Ethan and Angelina suggest they use this approach to better understand the data in their afterschool program.\n"
   ]
  },
  {
   "cell_type": "markdown",
      "metadata": {
      "deletable": false,
      "editable": false,
    "id": "RXe2ACZNslTt"
   },
   "source": [
    "## WHAT DO I NEED TO KNOW?"
   ]
  },
  {
   "cell_type": "markdown",
      "metadata": {
      "deletable": false,
      "editable": false,
    "id": "XNqokFeTstD2"
   },
   "source": [
    "\n",
    "\n",
    "How KNN regression works\n",
    "So in the last notebook, we looked at predicting the class (label) of an item, car type (diesel, gas, hybrid). What happens if we want to predict a number?\n",
    "\n",
    "We are in luck because K-nearest-neighbor (KNN) can also be used to predict a number (**response variable**). The KNN algorithm is used for classification (sorting) and regression (predicting) problems. So it uses feature similarity to predict data values.\n",
    "\n",
    "For example, if you want to predict the height of a new classmate (a transfer student), you can use the heights of some of your friends (the nearest neighbors data points) and take the average height as your prediction. In the example of being environmentally friendly, you can use the heights of similar cars and take the average as your prediction for a new car coming next year.\n",
    "\n",
    "**Feature similarity** is when new data is given a value based on how much it looks like the closest certain amount of numbers (K data) in the training set. That's what KNN regression does: it makes predictions based on the average of the nearest neighbors.\n",
    "\n",
    "***Residuals***\n",
    "Just like we learned in our other notebooks, we want to see how good our model is. In regression, we try to measure how many ‘errors’ we got in our prediction. In other words, we just\n",
    "we just use the difference between the number we predicted and the actual number in the dataset. Because it can be negative or positive, we usually square it and make it easier to read.\n",
    "\n",
    "***Choosing K***\n",
    "Now we will go back to wanting to see how a person’s height and age affects their weight. After we’ve done our standardization, we can choose a number called K to help us draw a line that shows a relationship between height and weight. If K is 1, you just use the closest data point. It's great if it's close, but if it's far away it's bad for predicting. In many cases, the line will look pretty jagged and bumpy. It will change a lot with the differences in height by trying to fit each person’s weight closely.\n",
    "\n",
    "If K is a larger number, then the line becomes very smooth. This is because it looks more at heights together to decide where the line should go which makes it steady. When you look at pictures of the line with different K values, you can see that a low K gives a zigzaggy line, while a high K gives a smoother line.\n",
    "\n",
    "*So finding the right k can be a bit tricky.*\n",
    "\n",
    "The best choice of K depends on how good your features are at predicting the outcome, and whether they are consistently good or just sometimes good. If the features are not that good at predicting the outcome or are not consistently good, then a larger K will help by including more neighbors. However, if K is too large, then the model will become insensitive to the values of the nearest neighbors, and this generally won't work - the closest neighbors are normally the best predictors.  \n"
   ]
  },
  {
   "cell_type": "markdown",
      "metadata": {
      "deletable": false,
      "editable": false,
    "id": "qHzAoOo2tBIM"
   },
   "source": [
    "## YOUR TURN:"
   ]
  },
  {
   "cell_type": "markdown",
      "metadata": {
      "deletable": false,
      "editable": false,
    "id": "DEnDk1fotGQb"
   },
   "source": [
    "\n",
    "Now let’s give it a go with some practice! You now understand another model of KNN and its ability to make predictions, it’s time to practice applying these concepts! As you go through this, think about how important it is to choose K to help you determine the best prediction.\n"
   ]
  },
  {
   "cell_type": "markdown",
      "metadata": {
      "deletable": false,
      "editable": false,
    "id": "nizd8FBQtMhv"
   },
   "source": [
    "### Goal 1: Importing the Pandas Library\n",
    "\n",
    "Need extra tools to help solve this problem? Well, we can bring in extra ‘libraries’ to help us do extra data science stuff. You can think of it as an ‘add-on’. In this case, we bring in pandas, which is a popular library for doing data science stuff.  "
   ]
  },
  {
   "cell_type": "markdown",
      "metadata": {
      "deletable": false,
      "editable": false,
    "id": "9CPMYDgRtOen",
    "jp-MarkdownHeadingCollapsed": true
   },
   "source": [
    "#### Blockly"
   ]
  },
  {
   "cell_type": "markdown",
      "metadata": {
      "deletable": false,
      "editable": false,
    "id": "ZJqAHwMztP_f"
   },
   "source": [
    "\n",
    "**Step 1 - Starting the import**\n",
    "\n",
    "First, we need to set up a “command” to tell the computer what to do. In this case, “command” is to “import” to bring the add-on package in.\n",
    "\n",
    "Bring in the IMPORT menu, which can be helpful to bring in other data tools. In this case, we're bringing in the **import** block.\n"
   ]
  },
  {
   "cell_type": "markdown",
      "metadata": {
      "deletable": false,
      "editable": false,
    "id": "wvQASwPwte8u"
   },
   "source": [
    "\n",
    "**Step 2 - Telling what library to import**\n",
    "\n",
    "In the text area, we type the name of the library we want to import. A library is like an extra thing we bring in to give us more coding abilities. In our case, we will type out **pandas**, which will bring in some cool data manipulation features.\n"
   ]
  },
  {
   "cell_type": "markdown",
      "metadata": {
      "deletable": false,
      "editable": false,
    "id": "EvVzkI_stgm5"
   },
   "source": [
    "\n",
    "**Step 3 - Renaming the library so it’s easy to remember**\n",
    "\n",
    "Once you are done, put the **import** and **package** together in a single variable. This handy feature helps cut down on all the typing later on. You can call it whatever is easiest for you to remember. In the example below, we’ve put everything into **pd**, and we type it in the open area.\n"
   ]
  },
  {
   "cell_type": "markdown",
      "metadata": {
      "deletable": false,
      "editable": false,
    "id": "u-bDKRTmtkDR"
   },
   "source": [
    "\n",
    "**Step 4 - Connect the blocks to run the code**\n",
    "\n",
    "Connect the blocks and run the code!\n",
    "<details>\n",
    "    <summary>Click to see the answer...</summary>\n",
    "\n",
    "![](https://pbs.twimg.com/media/GcxNkjYXkAAlpKD?format=png&name=240x240)\n",
    "\n",
    "</details>"
   ]
  },
  {
   "cell_type": "code",
   "execution_count": 4,
   "metadata": {},
   "outputs": [],
   "source": [
    "#blocks code\n"
   ]
  },
  {
   "cell_type": "markdown",
      "metadata": {
      "deletable": false,
      "editable": false,
    "id": "iLPDbzpyt5Lw",
    "jp-MarkdownHeadingCollapsed": true
   },
   "source": [
    "#### Freehand"
   ]
  },
  {
   "cell_type": "markdown",
      "metadata": {
      "deletable": false,
      "editable": false,
    "id": "Dh7hKZ5jt7ZP"
   },
   "source": [
    "**Step 1 - Starting the import**\n",
    "\n",
    "First, we need to set up a “command” to tell the computer what to do. In this case, “command” is to “import” to bring the add-on package in."
   ]
  },
  {
   "cell_type": "markdown",
      "metadata": {
      "deletable": false,
      "editable": false,
    "id": "l9Ws7AiUt-Fs"
   },
   "source": [
    "\n",
    "**Step 2 - Telling what library to import**\n",
    "\n",
    "In the text area, we type the name of the library we want to import. A library is like an extra thing we bring in to give us more coding abilities. In our case, we will type out **pandas**, which will bring in some cool data manipulation features."
   ]
  },
  {
   "cell_type": "markdown",
      "metadata": {
      "deletable": false,
      "editable": false,
    "id": "DRkVmSxHt_Az"
   },
   "source": [
    "\n",
    "**Step 3 - Renaming the library so it’s easy to remember**\n",
    "\n",
    "Once you are done, put the ‘import’ and ‘package’ together in a single variable. This handy feature helps cut down on all the typing later on. Feel free to use whatever name you want that will help you remember it later on. In the example below, we’ve put everything into **pd**."
   ]
  },
  {
   "cell_type": "markdown",
      "metadata": {
      "deletable": false,
      "editable": false,
    "id": "oH41lUHbt_09"
   },
   "source": [
    "\n",
    "**Step 4 - Run the code**\n",
    "\n",
    "Hit ‘control’ and ‘enter’ at the same time to run the code!\n",
    "\n",
    "<details>\n",
    "    <summary>Click to see the answer...</summary>\n",
    "\n",
    "![](https://pbs.twimg.com/media/GZmkVCYWEA4oGso?format=jpg&name=small)\n",
    "\n",
    "</details>"
   ]
  },
  {
   "cell_type": "markdown",
      "metadata": {
      "deletable": false,
      "editable": false,
    "id": "UZuLBzDtuKI-"
   },
   "source": [
    "**Your Turn**: Now it’s your turn! We’re going to dive into the pandas package, which helps us with some really cool data science things. First, let’s import the package and assign it to the variable “pd” to make it easier to use throughout our notebook.\n"
   ]
  },
  {
   "cell_type": "code",
   "execution_count": 8,
   "metadata": {
    "id": "DuY_fPQ2uOF_"
   },
   "outputs": [],
   "source": [
    "#freehand code \n"
   ]
  },
  {
   "cell_type": "markdown",
      "metadata": {
      "deletable": false,
      "editable": false,
    "id": "sCLA80RouNNd"
   },
   "source": [
    "**Explanation**: *Congrats!  Your attempts finally made it!  Now you have successfully imported the \"pandas\" package as the variable \"pd\"*."
   ]
  },
  {
   "cell_type": "markdown",
      "metadata": {
      "deletable": false,
      "editable": false,
    "id": "aQkhDKabuUP_"
   },
   "source": [
    "### Goal 2 - Bringing in the Dataframe\n",
    "Let’s bring in the data that we want to look at.\n"
   ]
  },
  {
   "cell_type": "markdown",
      "metadata": {
      "deletable": false,
      "editable": false,
    "id": "A8wKMo5ZuVMW",
    "jp-MarkdownHeadingCollapsed": true
   },
   "source": [
    "#### Blockly"
   ]
  },
  {
   "cell_type": "markdown",
      "metadata": {
      "deletable": false,
      "editable": false,
    "id": "qhOYkwprub-y"
   },
   "source": [
    "\n",
    "**Step 1 - Write out the variable name you want to use**\n",
    "\n",
    "Now that we’re all set with our new package to help us to do cool things, let’s bring the data into a variable and call it **train**.\n",
    "\n",
    "In Blockly, bring in the VARIABLES menu.\n"
   ]
  },
  {
   "cell_type": "markdown",
      "metadata": {
      "deletable": false,
      "editable": false,
    "id": "WsLRU9Hdufb4"
   },
   "source": [
    "\n",
    "**Step 2 - Assign the dataframe to the variable you created**\n",
    "\n",
    "Just like we did before, let’s type out a variable name. Rather than type out the full file name for our data, this easy to remember name will hold the data we bring in.\n",
    "\n",
    "In Blockly, go to the Variables and drag the Set block for the **train** variable. This will allow us to assign the result of a function call to the variable. A function is  \n"
   ]
  },
  {
   "cell_type": "markdown",
      "metadata": {
      "deletable": false,
      "editable": false,
    "id": "iUAc5PsYuiB8"
   },
   "source": [
    "\n",
    "**Step 3 - Bring in the data**\n",
    "\n",
    "Now we need to look at the file that has all our data. To load our dataframe, we’ll use a simple command to bring in the file we need (CSV….Comma Separated Values). Let’s say we have a file called ‘datasets/AirQualityCars.csv' in the folder **‘datasets’**. We’re telling Python to read the CSV file and store it in a variable called **train**.\n",
    "\n",
    "From the Variable menu, drag a DO block using the **pd** variable, go ahead with the do operation **read_csv**. The read_csv function reads a CSV file and returns a DataFrame object.\n",
    "\n",
    "In our case, let’s bring in the “datasets/AirQualityCars.csv\" (use the Quotes from the TEXT menu) because that is what Kiana is working with.\n"
   ]
  },
  {
   "cell_type": "markdown",
      "metadata": {
      "deletable": false,
      "editable": false,
    "id": "2amAoPO4ujO9"
   },
   "source": [
    "\n",
    "**Step 4 - Display the variable**\n",
    "\n",
    "Let’s see it now by ‘displaying’ and showing our work.\n",
    "\n",
    "Drag the **train** variable to the workspace, making it available for further use in our program. This step is more of a visualization step, as it allows us to see the variable in the Blockly workspace\n"
   ]
  },
  {
   "cell_type": "markdown",
      "metadata": {
      "deletable": false,
      "editable": false,
    "id": "GoeBAjSIukC-"
   },
   "source": [
    "\n",
    "**Step 5 - Connect the blocks to run the code**\n",
    "\n",
    "Connect the blocks and run the code!\n",
    "\n",
    "<details>\n",
    "    <summary>Click to see the answer...</summary>\n",
    "\n",
    "![](https://pbs.twimg.com/media/Gab5Z-TXsAAQAWr?format=jpg&name=medium)\n",
    "</details>"
   ]
  },
  {
   "cell_type": "code",
   "execution_count": 3,
   "metadata": {},
   "outputs": [],
   "source": [
    "#blocks code\n"
   ]
  },
  {
   "cell_type": "markdown",
      "metadata": {
      "deletable": false,
      "editable": false,
    "id": "y8k1uN47u6NX",
    "jp-MarkdownHeadingCollapsed": true
   },
   "source": [
    "#### Freehand"
   ]
  },
  {
   "cell_type": "markdown",
      "metadata": {
      "deletable": false,
      "editable": false,
    "id": "vno2NRiau7PN"
   },
   "source": [
    "**Step 1 - Write out the variable name you want to use**\n",
    "\n",
    "Now that we’re all set with our new package to help us to do cool things, let’s bring the data into a variable called train. Think of it as a digital spreadsheet with much more power to analyze and manipulate the data!\n",
    "\n",
    "Just like we did before, let’s type out a variable name. Rather than type out the full file name for our data, this easy to remember name will hold the data we bring in.\n"
   ]
  },
  {
   "cell_type": "markdown",
      "metadata": {
      "deletable": false,
      "editable": false,
    "id": "kjzmA8YsvIDl"
   },
   "source": [
    "\n",
    "**Step 2 - Bring in the data**\n",
    "\n",
    "Now we need to look at the file that has all our data.\n",
    "\n",
    "To load our dataframe, we’ll use a simple command to bring in the file we need (CSV….Comma Separated Values). Let’s say we have a file called ‘AirQualityCars.csv' in the folder **‘datasets’**. We’re telling Python to read the CSV file and store it in a variable called **train**. For this function, we need to specify the code as “pd.read_csv”, which makes the code read the csv file. This variable is now our dataframe!\n",
    "\n",
    "In our case, let’s bring in the “datasets/AirQualityCars.csv” (user the Quotes from the TEXT menu) because that is what Kiana is working with.\n"
   ]
  },
  {
   "cell_type": "markdown",
      "metadata": {
      "deletable": false,
      "editable": false,
    "id": "xH06UlzWvJXz"
   },
   "source": [
    "\n",
    "**Step 3 - Assign the dataframe to the variable you created**\n",
    "\n",
    "Just like we did before, let’s type out a variable name. Rather than type out the full file name for our data, this easy to remember name will hold the data we bring in.\n"
   ]
  },
  {
   "cell_type": "markdown",
      "metadata": {
      "deletable": false,
      "editable": false,
    "id": "Tt8vADQ3vKcG"
   },
   "source": [
    "\n",
    "**Step 4 - Print the variable**\n",
    "\n",
    "Let’s see it now by printing the **train** variable and showing our work.\n"
   ]
  },
  {
   "cell_type": "markdown",
      "metadata": {
      "deletable": false,
      "editable": false,
    "id": "Gx8usqDgvLHu"
   },
   "source": [
    "\n",
    "**Step 5 - Run the code**\n",
    "\n",
    "Hit ‘control’ and ‘enter’ at the same time to run the code!\n",
    "\n",
    "<details>\n",
    "    <summary>Click to see the answer...</summary>\n",
    "\n",
    "![](https://pbs.twimg.com/media/Gab5c61WwAApSiM?format=png&name=900x900)\n",
    "</details>"
   ]
  },
  {
   "cell_type": "markdown",
      "metadata": {
      "deletable": false,
      "editable": false,
    "id": "CmaWrGdrvl0T"
   },
   "source": [
    "Your Turn: Now it’s your turn!  Let’s dive in and start working with the data! We’ll begin by loading it into a dataframe, which will allow us to easily interact with and analyze the dataset.\n"
   ]
  },
  {
   "cell_type": "code",
   "execution_count": 9,
   "metadata": {
    "colab": {
     "base_uri": "https://localhost:8080/",
     "height": 1000
    },
    "id": "VLa4kVr1voa9",
    "outputId": "9c490dd0-ef25-4437-cdc7-b371f4a9f90e"
   },
   "outputs": [
    {
     "data": {
      "application/vnd.google.colaboratory.intrinsic+json": {
       "summary": "{\n  \"name\": \"train\",\n  \"rows\": 50,\n  \"fields\": [\n    {\n      \"column\": \"Brand\",\n      \"properties\": {\n        \"dtype\": \"category\",\n        \"num_unique_values\": 10,\n        \"samples\": [\n          \"Volkswagen\",\n          \"Ford\",\n          \"BMW\"\n        ],\n        \"semantic_type\": \"\",\n        \"description\": \"\"\n      }\n    },\n    {\n      \"column\": \"Model\",\n      \"properties\": {\n        \"dtype\": \"string\",\n        \"num_unique_values\": 50,\n        \"samples\": [\n          \"Camaro\",\n          \"A3\",\n          \"C-Class\"\n        ],\n        \"semantic_type\": \"\",\n        \"description\": \"\"\n      }\n    },\n    {\n      \"column\": \"Volume\",\n      \"properties\": {\n        \"dtype\": \"number\",\n        \"std\": 1.9193961635506787,\n        \"min\": 12.0,\n        \"max\": 19.8,\n        \"num_unique_values\": 28,\n        \"samples\": [\n          15.4,\n          17.0,\n          12.0\n        ],\n        \"semantic_type\": \"\",\n        \"description\": \"\"\n      }\n    },\n    {\n      \"column\": \"Weight\",\n      \"properties\": {\n        \"dtype\": \"number\",\n        \"std\": 288,\n        \"min\": 1250,\n        \"max\": 2260,\n        \"num_unique_values\": 48,\n        \"samples\": [\n          1825,\n          1320,\n          2190\n        ],\n        \"semantic_type\": \"\",\n        \"description\": \"\"\n      }\n    },\n    {\n      \"column\": \"CO2Emission\",\n      \"properties\": {\n        \"dtype\": \"number\",\n        \"std\": 36,\n        \"min\": 90,\n        \"max\": 260,\n        \"num_unique_values\": 23,\n        \"samples\": [\n          130,\n          150,\n          120\n        ],\n        \"semantic_type\": \"\",\n        \"description\": \"\"\n      }\n    }\n  ]\n}",
       "type": "dataframe",
       "variable_name": "train"
      },
      "text/html": [
       "\n",
       "  <div id=\"df-1ab33479-f6ae-42eb-9e2d-ed7622375c46\" class=\"colab-df-container\">\n",
       "    <div>\n",
       "<style scoped>\n",
       "    .dataframe tbody tr th:only-of-type {\n",
       "        vertical-align: middle;\n",
       "    }\n",
       "\n",
       "    .dataframe tbody tr th {\n",
       "        vertical-align: top;\n",
       "    }\n",
       "\n",
       "    .dataframe thead th {\n",
       "        text-align: right;\n",
       "    }\n",
       "</style>\n",
       "<table border=\"1\" class=\"dataframe\">\n",
       "  <thead>\n",
       "    <tr style=\"text-align: right;\">\n",
       "      <th></th>\n",
       "      <th>Brand</th>\n",
       "      <th>Model</th>\n",
       "      <th>Volume</th>\n",
       "      <th>Weight</th>\n",
       "      <th>CO2Emission</th>\n",
       "    </tr>\n",
       "  </thead>\n",
       "  <tbody>\n",
       "    <tr>\n",
       "      <th>0</th>\n",
       "      <td>Toyota</td>\n",
       "      <td>Corolla</td>\n",
       "      <td>12.3</td>\n",
       "      <td>1300</td>\n",
       "      <td>120</td>\n",
       "    </tr>\n",
       "    <tr>\n",
       "      <th>1</th>\n",
       "      <td>Toyota</td>\n",
       "      <td>Camry</td>\n",
       "      <td>14.0</td>\n",
       "      <td>1495</td>\n",
       "      <td>135</td>\n",
       "    </tr>\n",
       "    <tr>\n",
       "      <th>2</th>\n",
       "      <td>Toyota</td>\n",
       "      <td>RAV4</td>\n",
       "      <td>15.0</td>\n",
       "      <td>1680</td>\n",
       "      <td>140</td>\n",
       "    </tr>\n",
       "    <tr>\n",
       "      <th>3</th>\n",
       "      <td>Toyota</td>\n",
       "      <td>Prius</td>\n",
       "      <td>12.5</td>\n",
       "      <td>1375</td>\n",
       "      <td>90</td>\n",
       "    </tr>\n",
       "    <tr>\n",
       "      <th>4</th>\n",
       "      <td>Toyota</td>\n",
       "      <td>Highlander</td>\n",
       "      <td>16.5</td>\n",
       "      <td>1965</td>\n",
       "      <td>165</td>\n",
       "    </tr>\n",
       "    <tr>\n",
       "      <th>5</th>\n",
       "      <td>Ford</td>\n",
       "      <td>F-150</td>\n",
       "      <td>19.5</td>\n",
       "      <td>2200</td>\n",
       "      <td>255</td>\n",
       "    </tr>\n",
       "    <tr>\n",
       "      <th>6</th>\n",
       "      <td>Ford</td>\n",
       "      <td>Mustang</td>\n",
       "      <td>13.0</td>\n",
       "      <td>1655</td>\n",
       "      <td>180</td>\n",
       "    </tr>\n",
       "    <tr>\n",
       "      <th>7</th>\n",
       "      <td>Ford</td>\n",
       "      <td>Explorer</td>\n",
       "      <td>16.8</td>\n",
       "      <td>2020</td>\n",
       "      <td>200</td>\n",
       "    </tr>\n",
       "    <tr>\n",
       "      <th>8</th>\n",
       "      <td>Ford</td>\n",
       "      <td>Focus</td>\n",
       "      <td>12.0</td>\n",
       "      <td>1350</td>\n",
       "      <td>115</td>\n",
       "    </tr>\n",
       "    <tr>\n",
       "      <th>9</th>\n",
       "      <td>Ford</td>\n",
       "      <td>Escape</td>\n",
       "      <td>15.4</td>\n",
       "      <td>1580</td>\n",
       "      <td>150</td>\n",
       "    </tr>\n",
       "    <tr>\n",
       "      <th>10</th>\n",
       "      <td>Chevrolet</td>\n",
       "      <td>Silverado</td>\n",
       "      <td>19.8</td>\n",
       "      <td>2260</td>\n",
       "      <td>260</td>\n",
       "    </tr>\n",
       "    <tr>\n",
       "      <th>11</th>\n",
       "      <td>Chevrolet</td>\n",
       "      <td>Malibu</td>\n",
       "      <td>13.5</td>\n",
       "      <td>1460</td>\n",
       "      <td>135</td>\n",
       "    </tr>\n",
       "    <tr>\n",
       "      <th>12</th>\n",
       "      <td>Chevrolet</td>\n",
       "      <td>Equinox</td>\n",
       "      <td>15.3</td>\n",
       "      <td>1705</td>\n",
       "      <td>155</td>\n",
       "    </tr>\n",
       "    <tr>\n",
       "      <th>13</th>\n",
       "      <td>Chevrolet</td>\n",
       "      <td>Camaro</td>\n",
       "      <td>13.2</td>\n",
       "      <td>1685</td>\n",
       "      <td>190</td>\n",
       "    </tr>\n",
       "    <tr>\n",
       "      <th>14</th>\n",
       "      <td>Chevrolet</td>\n",
       "      <td>Traverse</td>\n",
       "      <td>17.5</td>\n",
       "      <td>2030</td>\n",
       "      <td>210</td>\n",
       "    </tr>\n",
       "    <tr>\n",
       "      <th>15</th>\n",
       "      <td>Honda</td>\n",
       "      <td>Civic</td>\n",
       "      <td>12.2</td>\n",
       "      <td>1290</td>\n",
       "      <td>110</td>\n",
       "    </tr>\n",
       "    <tr>\n",
       "      <th>16</th>\n",
       "      <td>Honda</td>\n",
       "      <td>Accord</td>\n",
       "      <td>13.6</td>\n",
       "      <td>1490</td>\n",
       "      <td>130</td>\n",
       "    </tr>\n",
       "    <tr>\n",
       "      <th>17</th>\n",
       "      <td>Honda</td>\n",
       "      <td>CR-V</td>\n",
       "      <td>14.8</td>\n",
       "      <td>1610</td>\n",
       "      <td>140</td>\n",
       "    </tr>\n",
       "    <tr>\n",
       "      <th>18</th>\n",
       "      <td>Honda</td>\n",
       "      <td>HR-V</td>\n",
       "      <td>14.0</td>\n",
       "      <td>1425</td>\n",
       "      <td>115</td>\n",
       "    </tr>\n",
       "    <tr>\n",
       "      <th>19</th>\n",
       "      <td>Honda</td>\n",
       "      <td>Pilot</td>\n",
       "      <td>16.7</td>\n",
       "      <td>1975</td>\n",
       "      <td>180</td>\n",
       "    </tr>\n",
       "    <tr>\n",
       "      <th>20</th>\n",
       "      <td>Nissan</td>\n",
       "      <td>Altima</td>\n",
       "      <td>13.1</td>\n",
       "      <td>1470</td>\n",
       "      <td>130</td>\n",
       "    </tr>\n",
       "    <tr>\n",
       "      <th>21</th>\n",
       "      <td>Nissan</td>\n",
       "      <td>Rogue</td>\n",
       "      <td>15.0</td>\n",
       "      <td>1640</td>\n",
       "      <td>145</td>\n",
       "    </tr>\n",
       "    <tr>\n",
       "      <th>22</th>\n",
       "      <td>Nissan</td>\n",
       "      <td>Sentra</td>\n",
       "      <td>12.0</td>\n",
       "      <td>1250</td>\n",
       "      <td>110</td>\n",
       "    </tr>\n",
       "    <tr>\n",
       "      <th>23</th>\n",
       "      <td>Nissan</td>\n",
       "      <td>Frontier</td>\n",
       "      <td>18.0</td>\n",
       "      <td>2000</td>\n",
       "      <td>195</td>\n",
       "    </tr>\n",
       "    <tr>\n",
       "      <th>24</th>\n",
       "      <td>Nissan</td>\n",
       "      <td>Maxima</td>\n",
       "      <td>13.9</td>\n",
       "      <td>1600</td>\n",
       "      <td>145</td>\n",
       "    </tr>\n",
       "    <tr>\n",
       "      <th>25</th>\n",
       "      <td>BMW</td>\n",
       "      <td>3 Series</td>\n",
       "      <td>13.0</td>\n",
       "      <td>1570</td>\n",
       "      <td>140</td>\n",
       "    </tr>\n",
       "    <tr>\n",
       "      <th>26</th>\n",
       "      <td>BMW</td>\n",
       "      <td>X5</td>\n",
       "      <td>16.5</td>\n",
       "      <td>2190</td>\n",
       "      <td>195</td>\n",
       "    </tr>\n",
       "    <tr>\n",
       "      <th>27</th>\n",
       "      <td>BMW</td>\n",
       "      <td>5 Series</td>\n",
       "      <td>14.0</td>\n",
       "      <td>1825</td>\n",
       "      <td>160</td>\n",
       "    </tr>\n",
       "    <tr>\n",
       "      <th>28</th>\n",
       "      <td>BMW</td>\n",
       "      <td>X3</td>\n",
       "      <td>15.0</td>\n",
       "      <td>1820</td>\n",
       "      <td>170</td>\n",
       "    </tr>\n",
       "    <tr>\n",
       "      <th>29</th>\n",
       "      <td>BMW</td>\n",
       "      <td>7 Series</td>\n",
       "      <td>15.5</td>\n",
       "      <td>2195</td>\n",
       "      <td>205</td>\n",
       "    </tr>\n",
       "    <tr>\n",
       "      <th>30</th>\n",
       "      <td>Mercedes-Benz</td>\n",
       "      <td>C-Class</td>\n",
       "      <td>13.1</td>\n",
       "      <td>1530</td>\n",
       "      <td>130</td>\n",
       "    </tr>\n",
       "    <tr>\n",
       "      <th>31</th>\n",
       "      <td>Mercedes-Benz</td>\n",
       "      <td>E-Class</td>\n",
       "      <td>14.8</td>\n",
       "      <td>1760</td>\n",
       "      <td>150</td>\n",
       "    </tr>\n",
       "    <tr>\n",
       "      <th>32</th>\n",
       "      <td>Mercedes-Benz</td>\n",
       "      <td>GLC</td>\n",
       "      <td>15.9</td>\n",
       "      <td>1835</td>\n",
       "      <td>170</td>\n",
       "    </tr>\n",
       "    <tr>\n",
       "      <th>33</th>\n",
       "      <td>Mercedes-Benz</td>\n",
       "      <td>GLE</td>\n",
       "      <td>16.5</td>\n",
       "      <td>2130</td>\n",
       "      <td>190</td>\n",
       "    </tr>\n",
       "    <tr>\n",
       "      <th>34</th>\n",
       "      <td>Mercedes-Benz</td>\n",
       "      <td>S-Class</td>\n",
       "      <td>15.8</td>\n",
       "      <td>2080</td>\n",
       "      <td>175</td>\n",
       "    </tr>\n",
       "    <tr>\n",
       "      <th>35</th>\n",
       "      <td>Audi</td>\n",
       "      <td>A4</td>\n",
       "      <td>13.2</td>\n",
       "      <td>1520</td>\n",
       "      <td>135</td>\n",
       "    </tr>\n",
       "    <tr>\n",
       "      <th>36</th>\n",
       "      <td>Audi</td>\n",
       "      <td>Q5</td>\n",
       "      <td>15.3</td>\n",
       "      <td>1765</td>\n",
       "      <td>160</td>\n",
       "    </tr>\n",
       "    <tr>\n",
       "      <th>37</th>\n",
       "      <td>Audi</td>\n",
       "      <td>A6</td>\n",
       "      <td>14.0</td>\n",
       "      <td>1695</td>\n",
       "      <td>145</td>\n",
       "    </tr>\n",
       "    <tr>\n",
       "      <th>38</th>\n",
       "      <td>Audi</td>\n",
       "      <td>Q7</td>\n",
       "      <td>16.5</td>\n",
       "      <td>2170</td>\n",
       "      <td>200</td>\n",
       "    </tr>\n",
       "    <tr>\n",
       "      <th>39</th>\n",
       "      <td>Audi</td>\n",
       "      <td>A3</td>\n",
       "      <td>12.5</td>\n",
       "      <td>1370</td>\n",
       "      <td>120</td>\n",
       "    </tr>\n",
       "    <tr>\n",
       "      <th>40</th>\n",
       "      <td>Volkswagen</td>\n",
       "      <td>Golf</td>\n",
       "      <td>12.0</td>\n",
       "      <td>1320</td>\n",
       "      <td>115</td>\n",
       "    </tr>\n",
       "    <tr>\n",
       "      <th>41</th>\n",
       "      <td>Volkswagen</td>\n",
       "      <td>Tiguan</td>\n",
       "      <td>15.4</td>\n",
       "      <td>1650</td>\n",
       "      <td>140</td>\n",
       "    </tr>\n",
       "    <tr>\n",
       "      <th>42</th>\n",
       "      <td>Volkswagen</td>\n",
       "      <td>Passat</td>\n",
       "      <td>13.5</td>\n",
       "      <td>1470</td>\n",
       "      <td>125</td>\n",
       "    </tr>\n",
       "    <tr>\n",
       "      <th>43</th>\n",
       "      <td>Volkswagen</td>\n",
       "      <td>Jetta</td>\n",
       "      <td>13.0</td>\n",
       "      <td>1420</td>\n",
       "      <td>120</td>\n",
       "    </tr>\n",
       "    <tr>\n",
       "      <th>44</th>\n",
       "      <td>Volkswagen</td>\n",
       "      <td>Atlas</td>\n",
       "      <td>17.0</td>\n",
       "      <td>2000</td>\n",
       "      <td>190</td>\n",
       "    </tr>\n",
       "    <tr>\n",
       "      <th>45</th>\n",
       "      <td>Hyundai</td>\n",
       "      <td>Elantra</td>\n",
       "      <td>12.0</td>\n",
       "      <td>1275</td>\n",
       "      <td>115</td>\n",
       "    </tr>\n",
       "    <tr>\n",
       "      <th>46</th>\n",
       "      <td>Hyundai</td>\n",
       "      <td>Tucson</td>\n",
       "      <td>15.0</td>\n",
       "      <td>1590</td>\n",
       "      <td>140</td>\n",
       "    </tr>\n",
       "    <tr>\n",
       "      <th>47</th>\n",
       "      <td>Hyundai</td>\n",
       "      <td>Santa Fe</td>\n",
       "      <td>16.0</td>\n",
       "      <td>1810</td>\n",
       "      <td>165</td>\n",
       "    </tr>\n",
       "    <tr>\n",
       "      <th>48</th>\n",
       "      <td>Hyundai</td>\n",
       "      <td>Kona</td>\n",
       "      <td>13.1</td>\n",
       "      <td>1410</td>\n",
       "      <td>125</td>\n",
       "    </tr>\n",
       "    <tr>\n",
       "      <th>49</th>\n",
       "      <td>Hyundai</td>\n",
       "      <td>Sonata</td>\n",
       "      <td>13.8</td>\n",
       "      <td>1440</td>\n",
       "      <td>130</td>\n",
       "    </tr>\n",
       "  </tbody>\n",
       "</table>\n",
       "</div>\n",
       "    <div class=\"colab-df-buttons\">\n",
       "\n",
       "  <div class=\"colab-df-container\">\n",
       "    <button class=\"colab-df-convert\" onclick=\"convertToInteractive('df-1ab33479-f6ae-42eb-9e2d-ed7622375c46')\"\n",
       "            title=\"Convert this dataframe to an interactive table.\"\n",
       "            style=\"display:none;\">\n",
       "\n",
       "  <svg xmlns=\"http://www.w3.org/2000/svg\" height=\"24px\" viewBox=\"0 -960 960 960\">\n",
       "    <path d=\"M120-120v-720h720v720H120Zm60-500h600v-160H180v160Zm220 220h160v-160H400v160Zm0 220h160v-160H400v160ZM180-400h160v-160H180v160Zm440 0h160v-160H620v160ZM180-180h160v-160H180v160Zm440 0h160v-160H620v160Z\"/>\n",
       "  </svg>\n",
       "    </button>\n",
       "\n",
       "  <style>\n",
       "    .colab-df-container {\n",
       "      display:flex;\n",
       "      gap: 12px;\n",
       "    }\n",
       "\n",
       "    .colab-df-convert {\n",
       "      background-color: #E8F0FE;\n",
       "      border: none;\n",
       "      border-radius: 50%;\n",
       "      cursor: pointer;\n",
       "      display: none;\n",
       "      fill: #1967D2;\n",
       "      height: 32px;\n",
       "      padding: 0 0 0 0;\n",
       "      width: 32px;\n",
       "    }\n",
       "\n",
       "    .colab-df-convert:hover {\n",
       "      background-color: #E2EBFA;\n",
       "      box-shadow: 0px 1px 2px rgba(60, 64, 67, 0.3), 0px 1px 3px 1px rgba(60, 64, 67, 0.15);\n",
       "      fill: #174EA6;\n",
       "    }\n",
       "\n",
       "    .colab-df-buttons div {\n",
       "      margin-bottom: 4px;\n",
       "    }\n",
       "\n",
       "    [theme=dark] .colab-df-convert {\n",
       "      background-color: #3B4455;\n",
       "      fill: #D2E3FC;\n",
       "    }\n",
       "\n",
       "    [theme=dark] .colab-df-convert:hover {\n",
       "      background-color: #434B5C;\n",
       "      box-shadow: 0px 1px 3px 1px rgba(0, 0, 0, 0.15);\n",
       "      filter: drop-shadow(0px 1px 2px rgba(0, 0, 0, 0.3));\n",
       "      fill: #FFFFFF;\n",
       "    }\n",
       "  </style>\n",
       "\n",
       "    <script>\n",
       "      const buttonEl =\n",
       "        document.querySelector('#df-1ab33479-f6ae-42eb-9e2d-ed7622375c46 button.colab-df-convert');\n",
       "      buttonEl.style.display =\n",
       "        google.colab.kernel.accessAllowed ? 'block' : 'none';\n",
       "\n",
       "      async function convertToInteractive(key) {\n",
       "        const element = document.querySelector('#df-1ab33479-f6ae-42eb-9e2d-ed7622375c46');\n",
       "        const dataTable =\n",
       "          await google.colab.kernel.invokeFunction('convertToInteractive',\n",
       "                                                    [key], {});\n",
       "        if (!dataTable) return;\n",
       "\n",
       "        const docLinkHtml = 'Like what you see? Visit the ' +\n",
       "          '<a target=\"_blank\" href=https://colab.research.google.com/notebooks/data_table.ipynb>data table notebook</a>'\n",
       "          + ' to learn more about interactive tables.';\n",
       "        element.innerHTML = '';\n",
       "        dataTable['output_type'] = 'display_data';\n",
       "        await google.colab.output.renderOutput(dataTable, element);\n",
       "        const docLink = document.createElement('div');\n",
       "        docLink.innerHTML = docLinkHtml;\n",
       "        element.appendChild(docLink);\n",
       "      }\n",
       "    </script>\n",
       "  </div>\n",
       "\n",
       "\n",
       "<div id=\"df-ca3c4ff5-d5e4-4fab-9d38-f22dff1d2585\">\n",
       "  <button class=\"colab-df-quickchart\" onclick=\"quickchart('df-ca3c4ff5-d5e4-4fab-9d38-f22dff1d2585')\"\n",
       "            title=\"Suggest charts\"\n",
       "            style=\"display:none;\">\n",
       "\n",
       "<svg xmlns=\"http://www.w3.org/2000/svg\" height=\"24px\"viewBox=\"0 0 24 24\"\n",
       "     width=\"24px\">\n",
       "    <g>\n",
       "        <path d=\"M19 3H5c-1.1 0-2 .9-2 2v14c0 1.1.9 2 2 2h14c1.1 0 2-.9 2-2V5c0-1.1-.9-2-2-2zM9 17H7v-7h2v7zm4 0h-2V7h2v10zm4 0h-2v-4h2v4z\"/>\n",
       "    </g>\n",
       "</svg>\n",
       "  </button>\n",
       "\n",
       "<style>\n",
       "  .colab-df-quickchart {\n",
       "      --bg-color: #E8F0FE;\n",
       "      --fill-color: #1967D2;\n",
       "      --hover-bg-color: #E2EBFA;\n",
       "      --hover-fill-color: #174EA6;\n",
       "      --disabled-fill-color: #AAA;\n",
       "      --disabled-bg-color: #DDD;\n",
       "  }\n",
       "\n",
       "  [theme=dark] .colab-df-quickchart {\n",
       "      --bg-color: #3B4455;\n",
       "      --fill-color: #D2E3FC;\n",
       "      --hover-bg-color: #434B5C;\n",
       "      --hover-fill-color: #FFFFFF;\n",
       "      --disabled-bg-color: #3B4455;\n",
       "      --disabled-fill-color: #666;\n",
       "  }\n",
       "\n",
       "  .colab-df-quickchart {\n",
       "    background-color: var(--bg-color);\n",
       "    border: none;\n",
       "    border-radius: 50%;\n",
       "    cursor: pointer;\n",
       "    display: none;\n",
       "    fill: var(--fill-color);\n",
       "    height: 32px;\n",
       "    padding: 0;\n",
       "    width: 32px;\n",
       "  }\n",
       "\n",
       "  .colab-df-quickchart:hover {\n",
       "    background-color: var(--hover-bg-color);\n",
       "    box-shadow: 0 1px 2px rgba(60, 64, 67, 0.3), 0 1px 3px 1px rgba(60, 64, 67, 0.15);\n",
       "    fill: var(--button-hover-fill-color);\n",
       "  }\n",
       "\n",
       "  .colab-df-quickchart-complete:disabled,\n",
       "  .colab-df-quickchart-complete:disabled:hover {\n",
       "    background-color: var(--disabled-bg-color);\n",
       "    fill: var(--disabled-fill-color);\n",
       "    box-shadow: none;\n",
       "  }\n",
       "\n",
       "  .colab-df-spinner {\n",
       "    border: 2px solid var(--fill-color);\n",
       "    border-color: transparent;\n",
       "    border-bottom-color: var(--fill-color);\n",
       "    animation:\n",
       "      spin 1s steps(1) infinite;\n",
       "  }\n",
       "\n",
       "  @keyframes spin {\n",
       "    0% {\n",
       "      border-color: transparent;\n",
       "      border-bottom-color: var(--fill-color);\n",
       "      border-left-color: var(--fill-color);\n",
       "    }\n",
       "    20% {\n",
       "      border-color: transparent;\n",
       "      border-left-color: var(--fill-color);\n",
       "      border-top-color: var(--fill-color);\n",
       "    }\n",
       "    30% {\n",
       "      border-color: transparent;\n",
       "      border-left-color: var(--fill-color);\n",
       "      border-top-color: var(--fill-color);\n",
       "      border-right-color: var(--fill-color);\n",
       "    }\n",
       "    40% {\n",
       "      border-color: transparent;\n",
       "      border-right-color: var(--fill-color);\n",
       "      border-top-color: var(--fill-color);\n",
       "    }\n",
       "    60% {\n",
       "      border-color: transparent;\n",
       "      border-right-color: var(--fill-color);\n",
       "    }\n",
       "    80% {\n",
       "      border-color: transparent;\n",
       "      border-right-color: var(--fill-color);\n",
       "      border-bottom-color: var(--fill-color);\n",
       "    }\n",
       "    90% {\n",
       "      border-color: transparent;\n",
       "      border-bottom-color: var(--fill-color);\n",
       "    }\n",
       "  }\n",
       "</style>\n",
       "\n",
       "  <script>\n",
       "    async function quickchart(key) {\n",
       "      const quickchartButtonEl =\n",
       "        document.querySelector('#' + key + ' button');\n",
       "      quickchartButtonEl.disabled = true;  // To prevent multiple clicks.\n",
       "      quickchartButtonEl.classList.add('colab-df-spinner');\n",
       "      try {\n",
       "        const charts = await google.colab.kernel.invokeFunction(\n",
       "            'suggestCharts', [key], {});\n",
       "      } catch (error) {\n",
       "        console.error('Error during call to suggestCharts:', error);\n",
       "      }\n",
       "      quickchartButtonEl.classList.remove('colab-df-spinner');\n",
       "      quickchartButtonEl.classList.add('colab-df-quickchart-complete');\n",
       "    }\n",
       "    (() => {\n",
       "      let quickchartButtonEl =\n",
       "        document.querySelector('#df-ca3c4ff5-d5e4-4fab-9d38-f22dff1d2585 button');\n",
       "      quickchartButtonEl.style.display =\n",
       "        google.colab.kernel.accessAllowed ? 'block' : 'none';\n",
       "    })();\n",
       "  </script>\n",
       "</div>\n",
       "\n",
       "  <div id=\"id_963ee440-eb72-4adb-882b-9fe0055be8d0\">\n",
       "    <style>\n",
       "      .colab-df-generate {\n",
       "        background-color: #E8F0FE;\n",
       "        border: none;\n",
       "        border-radius: 50%;\n",
       "        cursor: pointer;\n",
       "        display: none;\n",
       "        fill: #1967D2;\n",
       "        height: 32px;\n",
       "        padding: 0 0 0 0;\n",
       "        width: 32px;\n",
       "      }\n",
       "\n",
       "      .colab-df-generate:hover {\n",
       "        background-color: #E2EBFA;\n",
       "        box-shadow: 0px 1px 2px rgba(60, 64, 67, 0.3), 0px 1px 3px 1px rgba(60, 64, 67, 0.15);\n",
       "        fill: #174EA6;\n",
       "      }\n",
       "\n",
       "      [theme=dark] .colab-df-generate {\n",
       "        background-color: #3B4455;\n",
       "        fill: #D2E3FC;\n",
       "      }\n",
       "\n",
       "      [theme=dark] .colab-df-generate:hover {\n",
       "        background-color: #434B5C;\n",
       "        box-shadow: 0px 1px 3px 1px rgba(0, 0, 0, 0.15);\n",
       "        filter: drop-shadow(0px 1px 2px rgba(0, 0, 0, 0.3));\n",
       "        fill: #FFFFFF;\n",
       "      }\n",
       "    </style>\n",
       "    <button class=\"colab-df-generate\" onclick=\"generateWithVariable('train')\"\n",
       "            title=\"Generate code using this dataframe.\"\n",
       "            style=\"display:none;\">\n",
       "\n",
       "  <svg xmlns=\"http://www.w3.org/2000/svg\" height=\"24px\"viewBox=\"0 0 24 24\"\n",
       "       width=\"24px\">\n",
       "    <path d=\"M7,19H8.4L18.45,9,17,7.55,7,17.6ZM5,21V16.75L18.45,3.32a2,2,0,0,1,2.83,0l1.4,1.43a1.91,1.91,0,0,1,.58,1.4,1.91,1.91,0,0,1-.58,1.4L9.25,21ZM18.45,9,17,7.55Zm-12,3A5.31,5.31,0,0,0,4.9,8.1,5.31,5.31,0,0,0,1,6.5,5.31,5.31,0,0,0,4.9,4.9,5.31,5.31,0,0,0,6.5,1,5.31,5.31,0,0,0,8.1,4.9,5.31,5.31,0,0,0,12,6.5,5.46,5.46,0,0,0,6.5,12Z\"/>\n",
       "  </svg>\n",
       "    </button>\n",
       "    <script>\n",
       "      (() => {\n",
       "      const buttonEl =\n",
       "        document.querySelector('#id_963ee440-eb72-4adb-882b-9fe0055be8d0 button.colab-df-generate');\n",
       "      buttonEl.style.display =\n",
       "        google.colab.kernel.accessAllowed ? 'block' : 'none';\n",
       "\n",
       "      buttonEl.onclick = () => {\n",
       "        google.colab.notebook.generateWithVariable('train');\n",
       "      }\n",
       "      })();\n",
       "    </script>\n",
       "  </div>\n",
       "\n",
       "    </div>\n",
       "  </div>\n"
      ],
      "text/plain": [
       "            Brand       Model  Volume  Weight  CO2Emission\n",
       "0          Toyota     Corolla    12.3    1300          120\n",
       "1          Toyota       Camry    14.0    1495          135\n",
       "2          Toyota        RAV4    15.0    1680          140\n",
       "3          Toyota       Prius    12.5    1375           90\n",
       "4          Toyota  Highlander    16.5    1965          165\n",
       "5            Ford       F-150    19.5    2200          255\n",
       "6            Ford     Mustang    13.0    1655          180\n",
       "7            Ford    Explorer    16.8    2020          200\n",
       "8            Ford       Focus    12.0    1350          115\n",
       "9            Ford      Escape    15.4    1580          150\n",
       "10      Chevrolet   Silverado    19.8    2260          260\n",
       "11      Chevrolet      Malibu    13.5    1460          135\n",
       "12      Chevrolet     Equinox    15.3    1705          155\n",
       "13      Chevrolet      Camaro    13.2    1685          190\n",
       "14      Chevrolet    Traverse    17.5    2030          210\n",
       "15          Honda       Civic    12.2    1290          110\n",
       "16          Honda      Accord    13.6    1490          130\n",
       "17          Honda        CR-V    14.8    1610          140\n",
       "18          Honda        HR-V    14.0    1425          115\n",
       "19          Honda       Pilot    16.7    1975          180\n",
       "20         Nissan      Altima    13.1    1470          130\n",
       "21         Nissan       Rogue    15.0    1640          145\n",
       "22         Nissan      Sentra    12.0    1250          110\n",
       "23         Nissan    Frontier    18.0    2000          195\n",
       "24         Nissan      Maxima    13.9    1600          145\n",
       "25            BMW    3 Series    13.0    1570          140\n",
       "26            BMW          X5    16.5    2190          195\n",
       "27            BMW    5 Series    14.0    1825          160\n",
       "28            BMW          X3    15.0    1820          170\n",
       "29            BMW    7 Series    15.5    2195          205\n",
       "30  Mercedes-Benz     C-Class    13.1    1530          130\n",
       "31  Mercedes-Benz     E-Class    14.8    1760          150\n",
       "32  Mercedes-Benz         GLC    15.9    1835          170\n",
       "33  Mercedes-Benz         GLE    16.5    2130          190\n",
       "34  Mercedes-Benz     S-Class    15.8    2080          175\n",
       "35           Audi          A4    13.2    1520          135\n",
       "36           Audi          Q5    15.3    1765          160\n",
       "37           Audi          A6    14.0    1695          145\n",
       "38           Audi          Q7    16.5    2170          200\n",
       "39           Audi          A3    12.5    1370          120\n",
       "40     Volkswagen        Golf    12.0    1320          115\n",
       "41     Volkswagen      Tiguan    15.4    1650          140\n",
       "42     Volkswagen      Passat    13.5    1470          125\n",
       "43     Volkswagen       Jetta    13.0    1420          120\n",
       "44     Volkswagen       Atlas    17.0    2000          190\n",
       "45        Hyundai     Elantra    12.0    1275          115\n",
       "46        Hyundai      Tucson    15.0    1590          140\n",
       "47        Hyundai    Santa Fe    16.0    1810          165\n",
       "48        Hyundai        Kona    13.1    1410          125\n",
       "49        Hyundai      Sonata    13.8    1440          130"
      ]
     },
     "execution_count": 9,
     "metadata": {},
     "output_type": "execute_result"
    }
   ],
   "source": [
    "#freehand code \n"
   ]
  },
  {
   "cell_type": "markdown",
      "metadata": {
      "deletable": false,
      "editable": false,
    "id": "Fu-VbHBzvp2y"
   },
   "source": [
    "**Explanation**: *To predict CO2Emissions (the label), this dataset can be used in a regression model with CO2 emissions as the target variable and other pollutants as features. Each feature, such as Methane, NOx, PM2.5, VOC, and SO2 emissions, provides insight into activities that might correlate with CO2 levels, especially since many are byproducts of combustion processes emitting CO2. Training on these features allows the model to estimate CO2 emissions based on observed patterns in other pollutant levels, aiding in emissions monitoring and control efforts*."
   ]
  },
  {
   "cell_type": "markdown",
      "metadata": {
      "deletable": false,
      "editable": false,
    "id": "WmT6tAqkvrsV"
   },
   "source": [
    "###  Goal 3 - Import the Plotly.Express Library.\n",
    "\n",
    "Need extra tools to help solve this problem? Well, we can bring in extra ‘libraries’ to help us do extra data science stuff. You can think of it like an ‘add-on’. In this case, we bring in Plotly Express, which is a popular library for doing different visualizations."
   ]
  },
  {
   "cell_type": "markdown",
      "metadata": {
      "deletable": false,
      "editable": false,
    "jp-MarkdownHeadingCollapsed": true
   },
   "source": [
    "#### Blockly"
   ]
  },
  {
   "cell_type": "markdown",
      "metadata": {
      "deletable": false,
      "editable": false,
    "id": "z5ElONyZv4G6"
   },
   "source": [
    "\n",
    "**Step 1 - Starting the import**\n",
    "\n",
    "First, we need to set up a “command” to tell the computer what to do. In this case, “command” is to “import” to bring the add-on package in.\n",
    "Bring in the IMPORT menu, which can be helpful to bring in other data tools. In this case, we're bringing in the import block.\n"
   ]
  },
  {
   "cell_type": "markdown",
      "metadata": {
      "deletable": false,
      "editable": false,
    "id": "RcNJPUMOw_VS"
   },
   "source": [
    "\n",
    "**Step 2 - Telling what library to import**\n",
    "\n",
    "In the text area, we type the name of the library we want to import. A library is like an extra thing we bring in to give us more coding abilities. In our case, we will type out plotly.express, which will bring in some cool data manipulation features.\n"
   ]
  },
  {
   "cell_type": "markdown",
      "metadata": {
      "deletable": false,
      "editable": false,
    "id": "2ehNLAx5xALR"
   },
   "source": [
    "\n",
    "**Step 3 - Renaming the library so it’s easy to remember**\n",
    "\n",
    "Once you are done, put the import and package together in a single variable. This handy feature helps cut down on all the typing later on. You can call it whatever is easiest for you to remember. In the example below, we’ve put everything into px, and we type it in the open area.\n"
   ]
  },
  {
   "cell_type": "markdown",
      "metadata": {
      "deletable": false,
      "editable": false,
    "id": "k2EZYJvrxIrq"
   },
   "source": [
    "\n",
    "**Step 4 - Connect the blocks to run the code**\n",
    "\n",
    "Connect the blocks and run the code!\n",
    "<details>\n",
    "    <summary>Click to see the answer...</summary>\n",
    "\n",
    "![](https://pbs.twimg.com/media/Gab594HW4AA7zAX?format=png&name=small)\n",
    "</details>"
   ]
  },
  {
   "cell_type": "code",
   "execution_count": null,
   "metadata": {},
   "outputs": [],
   "source": [
    "#blocks code\n"
   ]
  },
  {
   "cell_type": "markdown",
      "metadata": {
      "deletable": false,
      "editable": false,
    "id": "Q6VxyNHR1rIp",
    "jp-MarkdownHeadingCollapsed": true
   },
   "source": [
    "#### Freehand"
   ]
  },
  {
   "cell_type": "markdown",
      "metadata": {
      "deletable": false,
      "editable": false,
    "id": "lnoP7_kR1u3t"
   },
   "source": [
    "**Step 1 - Starting the import**\n",
    "\n",
    "First, we need to set up a “command” to tell the computer what to do. In this case, “command” is to “import” to bring the add-on package in."
   ]
  },
  {
   "cell_type": "markdown",
      "metadata": {
      "deletable": false,
      "editable": false,
    "id": "MJRHWKxU1vsi"
   },
   "source": [
    "\n",
    "**Step 2 - Telling what library to import**\n",
    "\n",
    "In the text area, we type the name of the library we want to import. A library is like an extra thing we bring in to give us more coding abilities. In our case, we will type out plotly.express, which will bring in some cool data manipulation features."
   ]
  },
  {
   "cell_type": "markdown",
      "metadata": {
      "deletable": false,
      "editable": false,
    "id": "8DAgdpKx1wkf"
   },
   "source": [
    "\n",
    "**Step 3 - Renaming the library so it’s easy to remember**\n",
    "\n",
    "Once you are done, put the ‘import’ and ‘package’ together in a single variable. This handy feature helps cut down on all the typing later on. Feel free to use whatever name you want that will help you remember it later on. In the example below, we’ve put everything into px."
   ]
  },
  {
   "cell_type": "markdown",
      "metadata": {
      "deletable": false,
      "editable": false,
    "id": "AFJOACG_1xRD"
   },
   "source": [
    "\n",
    "**Step 4 - Run the code**\n",
    "\n",
    "Hit ‘control’ and ‘enter’ at the same time to run the code!\n",
    "<details>\n",
    "    <summary>Click to see the answer...</summary>\n",
    "\n",
    "![](https://pbs.twimg.com/media/Gab6AduXQAIEi5X?format=png&name=900x900)\n",
    "</details>"
   ]
  },
  {
   "cell_type": "markdown",
      "metadata": {
      "deletable": false,
      "editable": false,
    "id": "b-pdXbBH36zZ"
   },
   "source": [
    "**Your Turn**: Now it’s your turn! We’re going to dive into the plotly.express package, which helps us with some really cool data science things. First, let’s import the package and assign it to the variable “px” to make it easier to use throughout our notebook.\n"
   ]
  },
  {
   "cell_type": "code",
   "execution_count": 10,
   "metadata": {
    "id": "JvKgL5yc39RM"
   },
   "outputs": [],
   "source": [
    "#freehand code \n"
   ]
  },
  {
   "cell_type": "markdown",
      "metadata": {
      "deletable": false,
      "editable": false,
    "id": "VvZuJ5Cj38FY"
   },
   "source": [
    "\n",
    "\n",
    "\n",
    "**Explanation**: *Congrats! Your attempts finally made it! Now you have successfully imported the plotly.express package as the variable px*."
   ]
  },
  {
   "cell_type": "markdown",
      "metadata": {
      "deletable": false,
      "editable": false,
    "id": "L1gaDMhM4lAs"
   },
   "source": [
    "### Goal 4 - Create a scatter plot and trendline to visualize the correlation between two variables.\n",
    "\n",
    "Let’s try to look at two variables to see their relationship, along with a trendline."
   ]
  },
  {
   "cell_type": "markdown",
      "metadata": {
      "deletable": false,
      "editable": false,
    "id": "w6m173xe4pb_",
    "jp-MarkdownHeadingCollapsed": true
   },
   "source": [
    "#### Blockly"
   ]
  },
  {
   "cell_type": "markdown",
      "metadata": {
      "deletable": false,
      "editable": false,
    "id": "GcjjY2PO4zAi"
   },
   "source": [
    "\n",
    "**Step 1 - Call the scatter function from plotly**\n",
    "\n",
    "Let’s see if we can explore the correlations between two variables. Let’s start with a visualization that helps ‘scatter’ all the data on one visualization.\n",
    "\n",
    "From the Variables menu, get a DO block for the **px** block. With that, select the **scatter** operation. That will generate the scatter plot.\n"
   ]
  },
  {
   "cell_type": "markdown",
      "metadata": {
      "deletable": false,
      "editable": false,
    "id": "D89qs3Rj40cE"
   },
   "source": [
    "\n",
    "**Step 2 - Saying what data to use for the scatter plot**\n",
    "\n",
    "So what are we going to look at? Simple, you just have to inform the x-axis and y-axis variables.\n",
    "\n",
    "Inside the scatter() method, we add our parameters for the plot. First we have the dataframe,  which is the data containing the data to plot.  From the Variables menu, get the train variable that will contain the data that you want to generate the scatter plot with. Then, get two Quote “” blocks from the Text menu.\n"
   ]
  },
  {
   "cell_type": "markdown",
      "metadata": {
      "deletable": false,
      "editable": false,
    "id": "2ySui3Eg42Jz"
   },
   "source": [
    "\n",
    "**Step 3 - Tell plotly what columns to put on the axis:**\n",
    "\n",
    "Now we need to inform the x-axis and y-axis variables.  Type for each of the names of the columns of the x-axis and y-axis as **‘Weight’** and '**CO2Emission**'.     \n"
   ]
  },
  {
   "cell_type": "markdown",
      "metadata": {
      "deletable": false,
      "editable": false,
    "id": "iq6cB7Sf425w"
   },
   "source": [
    "\n",
    "**Step 4 - Show the linear regression**\n",
    "\n",
    "Lastly, we want to add a trendline to our scatter plot to help visualize the relationship between the x and y variables.\n",
    "\n",
    "In this case, using **freestyle**, type **trendline='ols'**. This will be the least ordered square that we talked about earlier. This will give us the scatterplot, which will show the relationship between the weight of the car and the amount of CO2 it emits.\n"
   ]
  },
  {
   "cell_type": "markdown",
      "metadata": {
      "deletable": false,
      "editable": false,
    "id": "FpkB74F943qL"
   },
   "source": [
    "\n",
    "**Step 5 - Connect the blocks to run the code**\n",
    "\n",
    "Connect the blocks and run the code!\n",
    "<details>\n",
    "    <summary>Click to see the answer...</summary>\n",
    "\n",
    "![](https://pbs.twimg.com/media/Gab603uXMAA2kms?format=png&name=small)\n",
    "</details>"
   ]
  },
  {
   "cell_type": "code",
   "execution_count": null,
   "metadata": {},
   "outputs": [],
   "source": [
    "#blocks code\n"
   ]
  },
  {
   "cell_type": "markdown",
      "metadata": {
      "deletable": false,
      "editable": false,
    "id": "QIVrugCq5dsM",
    "jp-MarkdownHeadingCollapsed": true
   },
   "source": [
    "#### Freehand"
   ]
  },
  {
   "cell_type": "markdown",
      "metadata": {
      "deletable": false,
      "editable": false,
    "id": "PXc5isLC5eyM"
   },
   "source": [
    "\n",
    "**Step 1 - Call the scatter function from plotly**\n",
    "\n",
    "Let’s see if we can explore the correlations between the two variables. Let’s start with a visualization that helps ‘scatter’ all the data in one visualization.\n",
    "\n",
    "To make the scatterplot, we first call the scatter() function from the px library.\n",
    "\n",
    "`px.scatter()`\n"
   ]
  },
  {
   "cell_type": "markdown",
      "metadata": {
      "deletable": false,
      "editable": false,
    "id": "y_ai1u315qI9"
   },
   "source": [
    "\n",
    "**Step 2 - Saying what data to use for the scatter plot**\n",
    "\n",
    "So what are we going to look at? Simple, you just have to inform the x-axis and y-axis variables.\n",
    "\n",
    "Inside the scatter() method, we add our parameters for the plot. First, we have the train,  which is the data containing the data to plot\n"
   ]
  },
  {
   "cell_type": "markdown",
      "metadata": {
      "deletable": false,
      "editable": false,
    "id": "5fWATB8j5rrN"
   },
   "source": [
    "\n",
    "**Step 3 - Tell plotly what columns to put on the axis**\n",
    "\n",
    "**‘Weight’** is the column to be plotted on the x-axis, representing the weight of the cars. '**CO2Emission’** is the amount of CO2 emissions we have recorded. This second thing is the column to be plotted on the y-axis.\n",
    "\n",
    "Inside the scatter() method, we add the following parameters to make our scatterplot.\n",
    "- **train**: the name of the dataframe\n",
    "- **Weight**: the data to plot in the X-Axis\n",
    "- **CO2Emission**: the data to plot in the Y-Axis\n"
   ]
  },
  {
   "cell_type": "markdown",
      "metadata": {
      "deletable": false,
      "editable": false,
    "id": "f9RMqB7q5ubi"
   },
   "source": [
    "\n",
    "**Step 4 - Show the linear regression**\n",
    "\n",
    "Lastly, we want to add a trendline to our scatter plot to help visualize the relationship between the x and y variables. In this case, we’ll type type **trendline='ols'**. This will be the least ordered square that we talked about earlier\n",
    "trendline=’ols’: this parameter adds a trendline to the scatter plot to help visualize the relationship between the x and y variables\n",
    "\n",
    "This will give us the scatterplot, which will show the relationship between the weight of the car and the amount of CO2 it emits.\n",
    "\n",
    "`px.scatter(train,'Weight','CO2Emission',trendline='ols')`"
   ]
  },
  {
   "cell_type": "markdown",
      "metadata": {
      "deletable": false,
      "editable": false,
    "id": "Up3HJpRw5vbq"
   },
   "source": [
    "\n",
    "**Step 5 - Run the code**\n",
    "\n",
    "Hit ‘control’ and ‘enter’ at the same time to run the code!\n",
    "<details>\n",
    "    <summary>Click to see the answer...</summary>\n",
    "\n",
    "![](https://pbs.twimg.com/media/Gab6yUOXcAIM6_H?format=jpg&name=medium)\n",
    "</details>"
   ]
  },
  {
   "cell_type": "markdown",
      "metadata": {
      "deletable": false,
      "editable": false,
    "id": "W4VhYj2F8mMh"
   },
   "source": [
    "**Your Turn**: Test it out yourself! Firstly we will create a scatterplot to explore our two variables: car weight and CO2 emissions to see their relationship. Make sure to set the x and y axis with the correct data then we can add a trendline to see the pattern between the variables and better understand their relationship!\n"
   ]
  },
  {
   "cell_type": "code",
   "execution_count": 1,
   "metadata": {
    "colab": {
     "base_uri": "https://localhost:8080/",
     "height": 542
    },
    "id": "pgtp9lDo8nuM",
    "outputId": "e1a72a68-7a4b-4eea-8a04-634d5224cdc5"
   },
   "outputs": [],
   "source": [
    "#freehand code \n"
   ]
  },
  {
   "cell_type": "markdown",
      "metadata": {
      "deletable": false,
      "editable": false,
    "id": "XDWYEOJK8pvO"
   },
   "source": [
    "**Explanation**: *The scatterplot shows the relationship between the weight of an object (like a car) and the amount of CO2 it emits. The dots represent data points for different weights and their corresponding CO2 emissions. As we can see, there’s a trend where heavier objects generally produce more CO2 emissions, shown by the upward slope of the trend line. The trend line helps summarize the overall direction of the data. In simple terms, this means that, typically, the heavier something is, the more CO2 it tends to emit more*."
   ]
  },
  {
   "cell_type": "markdown",
      "metadata": {
      "deletable": false,
      "editable": false,
    "id": "EBbmulP08rkd"
   },
   "source": [
    "### Goal 5 - Import the sklearn library\n",
    "\n",
    "Remember how we bring in packages to help with extra data science things we come across? Now that we are doing KNN regression, we are going to bring in the SkLearn to help us project/predict the new data points based on nearest neighbors."
   ]
  },
  {
   "cell_type": "markdown",
      "metadata": {
      "deletable": false,
      "editable": false,
    "id": "Wvfpe9wJ8vla",
    "jp-MarkdownHeadingCollapsed": true
   },
   "source": [
    "#### Blockly"
   ]
  },
  {
   "cell_type": "markdown",
      "metadata": {
      "deletable": false,
      "editable": false,
    "id": "lKKijEbw8xdW"
   },
   "source": [
    "\n",
    "**Step 1 - Starting the import**\n",
    "\n",
    "First, we need to set up a “command” to tell the computer what to do. In this case, “command” is to “import” to bring the add-on package in.\n",
    "\n",
    "Bring in the IMPORT menu, which can be helpful to bring in other data tools. In this case, we're bringing in the **import** block.\n"
   ]
  },
  {
   "cell_type": "markdown",
      "metadata": {
      "deletable": false,
      "editable": false,
    "id": "5V8Ew2ug82pU"
   },
   "source": [
    "\n",
    "**Step 2 - Telling what library to import**\n",
    "\n",
    "In the text area, we type the name of the library we want to import. A library is like an extra thing we bring in to give us more coding abilities. In our case, we will type out **sklearn.neighbors**, which will find the closest data points to a new data point, and then projects the new data point based on the majority class of its nearest neighbors.\n"
   ]
  },
  {
   "cell_type": "markdown",
      "metadata": {
      "deletable": false,
      "editable": false,
    "id": "Q3gi3jZG8352"
   },
   "source": [
    "\n",
    "**Step 3 - Renaming the library so it’s easy to remember**\n",
    "\n",
    "Once you are done, put the **import** and **package** together in a single variable. This handy feature helps cut down on all the typing later on. You can call it whatever is easiest for you to remember. In the example below, we’ve put everything into **neighbors**, and we type it in the open area.\n"
   ]
  },
  {
   "cell_type": "markdown",
      "metadata": {
      "deletable": false,
      "editable": false,
    "id": "D-xm-d4D84no"
   },
   "source": [
    "\n",
    "**Step 4 - Connect the blocks to run the code**\n",
    "\n",
    "Connect the blocks and run the code!\n",
    "<details>\n",
    "    <summary>Click to see the answer...</summary>\n",
    "\n",
    "![](https://pbs.twimg.com/media/Gab7_88WwAE79BG?format=png&name=small)\n",
    "</details>"
   ]
  },
  {
   "cell_type": "code",
   "execution_count": null,
   "metadata": {},
   "outputs": [],
   "source": [
    "#blocks code\n"
   ]
  },
  {
   "cell_type": "markdown",
      "metadata": {
      "deletable": false,
      "editable": false,
    "id": "cECAv-JP9HvG",
    "jp-MarkdownHeadingCollapsed": true
   },
   "source": [
    "#### Freehand"
   ]
  },
  {
   "cell_type": "markdown",
      "metadata": {
      "deletable": false,
      "editable": false,
    "id": "8lgsonLi9JYW"
   },
   "source": [
    "**Step 1 - Starting the import**\n",
    "\n",
    "First, we need to set up a “command” to tell the computer what to do. In this case, “command” is to “import” to bring the add-on package in.\n"
   ]
  },
  {
   "cell_type": "markdown",
      "metadata": {
      "deletable": false,
      "editable": false,
    "id": "BwzW0msF9PlB"
   },
   "source": [
    "\n",
    "**Step 2 - Telling what library to import**\n",
    "\n",
    "In the text area, we type the name of the library we want to import. A library is like an extra thing we bring in to give us more coding abilities. In our case, we will type out **sklearn.neighbors**, which will provide us with some cool data manipulation features.\n"
   ]
  },
  {
   "cell_type": "markdown",
      "metadata": {
      "deletable": false,
      "editable": false,
    "id": "qwY6uFT99QTF"
   },
   "source": [
    "\n",
    "**Step 3 - Import package as an acronym**\n",
    "\n",
    "Once you are done, put the ‘import’ and ‘package’ together in a single variable. This handy feature helps cut down on all the typing later on. You can call it whatever is easiest for you to remember. In the example below, we’ve put everything into **neighbors**\n"
   ]
  },
  {
   "cell_type": "markdown",
      "metadata": {
      "deletable": false,
      "editable": false,
    "id": "6o3-CU5O9RBx"
   },
   "source": [
    "\n",
    "**Step 4 - Run the code**\n",
    "\n",
    "Hit ‘control’ and ‘enter’ at the same time to run the code!\n",
    "<details>\n",
    "    <summary>Click to see the answer...</summary>\n",
    "\n",
    "![](https://pbs.twimg.com/media/Gab79hSWsAALBYV?format=png&name=900x900)\n",
    "</details>"
   ]
  },
  {
   "cell_type": "markdown",
      "metadata": {
      "deletable": false,
      "editable": false,
    "id": "LtqgUw1q3v4x"
   },
   "source": [
    "**Your Turn**: Now it’s your turn! We’re going to dive into the sklearn.neighbors package, which helps us with some really cool data science things. First, let’s import the package and assign it to the variable “neighbors” to make it easier to use throughout our notebook.\n",
    "\n"
   ]
  },
  {
   "cell_type": "code",
   "execution_count": 12,
   "metadata": {
    "id": "68N8zRzP3xg1"
   },
   "outputs": [],
   "source": [
    "#freehand code \n"
   ]
  },
  {
   "cell_type": "markdown",
      "metadata": {
      "deletable": false,
      "editable": false,
    "id": "QH9tyDxw3y-U"
   },
   "source": [
    "**Explanation**: *Congrats! Your attempts finally made it! Now you have successfully imported the sklearn.neighbors package as the variable neighbors*."
   ]
  },
  {
   "cell_type": "markdown",
      "metadata": {
      "deletable": false,
      "editable": false,
    "id": "ypkzitDi34-m"
   },
   "source": [
    "### Goal 6 - Create a KNN Regression model.\n",
    "\n",
    "Let’s get started with the KNN regressions model and to help set up the number we want to predict."
   ]
  },
  {
   "cell_type": "markdown",
      "metadata": {
      "deletable": false,
      "editable": false,
    "id": "U_z5e2S138pC",
    "jp-MarkdownHeadingCollapsed": true
   },
   "source": [
    "#### Blockly"
   ]
  },
  {
   "cell_type": "markdown",
      "metadata": {
      "deletable": false,
      "editable": false,
    "id": "JzULdCAu4JUl"
   },
   "source": [
    "\n",
    "**Step 1 - Write out the variable name you want to use**\n",
    "\n",
    "We setup a variable to store the model in a variable for later use. In this case, we will call it regr to make it easier to remember\n",
    "\n",
    "On the \"Variables\" menu, click Create Variable, type a name for our model, **regr**. Then, drag a \"SET\" block to the workspace for the created variable. This block allows us to create a new variable and assign a value to it.\n"
   ]
  },
  {
   "cell_type": "markdown",
      "metadata": {
      "deletable": false,
      "editable": false,
    "id": "I0qW7T9W4V4Y"
   },
   "source": [
    "\n",
    "**Step 2 - Create the KNN regression model**\n",
    "\n",
    "We read about the KNN Regression model. Now let’s do it\n",
    "Using the neighbors library, we call the KNeighborsRegressorr() to create the KNN regression model.\n",
    "\n",
    "From the Variable menu, drag a Create block for the **neighbors** variable. On the create listbox select the option **KNeighborsRegressor**. This specifies the type (class) of object we want to create, which is the KNeighborsRegressor from the neighbors module.\n",
    "\n",
    "Get a Create block for the \"**neighbors**\" variable from the Variables menu. With that, a new object of the model, **KNeighborsRegressor**, is created. The \"KNeighborsRegressor\" class is a type of regression model that uses k-nearest neighbors to make predictions.\n"
   ]
  },
  {
   "cell_type": "markdown",
      "metadata": {
      "deletable": false,
      "editable": false,
    "id": "cWI0VJT84XLL"
   },
   "source": [
    "\n",
    "**Step 3 -  Define the hyperparameters**\n",
    "\n",
    "KNN Regression will look at a certain number of neighbors . But how many neighbors?\n",
    "\n",
    "Inside the method, we say how many neighbors to explore for our regressor. We use 5 neighbors in this case.\n",
    "\n",
    "Drag a Freestyle block, and type **n_neighbors=5**. This specifies the number of neighbors to consider when making predictions.\n"
   ]
  },
  {
   "cell_type": "markdown",
      "metadata": {
      "deletable": false,
      "editable": false,
    "id": "yHa3vjBu4X42"
   },
   "source": [
    "\n",
    "**Step 4 - Assign the regressor model to the variable you created**\n",
    "\n",
    "We can now connect the **regr** variable with the **KNeighborsRegressor** model.\n"
   ]
  },
  {
   "cell_type": "markdown",
      "metadata": {
      "deletable": false,
      "editable": false,
    "id": "qGWn3_Zo4Yns"
   },
   "source": [
    "\n",
    "**Step 5- Connect the blocks to run the code**\n",
    "\n",
    "Connect the blocks and run the code!\n",
    "<details>\n",
    "    <summary>Click to see the answer...</summary>\n",
    "\n",
    "![](https://pbs.twimg.com/media/GcO1zFZW0AAyZOu?format=jpg&name=small)\n",
    "</details>"
   ]
  },
  {
   "cell_type": "code",
   "execution_count": null,
   "metadata": {},
   "outputs": [],
   "source": [
    "#blocks code\n"
   ]
  },
  {
   "cell_type": "markdown",
      "metadata": {
      "deletable": false,
      "editable": false,
    "id": "NIPAegfN4wG9",
    "jp-MarkdownHeadingCollapsed": true
   },
   "source": [
    "#### Freestyle"
   ]
  },
  {
   "cell_type": "markdown",
      "metadata": {
      "deletable": false,
      "editable": false,
    "id": "gqZfml7K4zKO"
   },
   "source": [
    "\n",
    "**Step 1 -  Create the KNN regressor model**\n",
    "\n",
    "We read about the KNN Regression model. Now let’s do it!\n",
    "\n",
    "Using the neighbors library, we call the KNeighborsRegessor() method\n",
    "\n",
    "`neighbors.KNeighborsRegressor()`\n"
   ]
  },
  {
   "cell_type": "markdown",
      "metadata": {
      "deletable": false,
      "editable": false,
    "id": "0usUtK5P43Qi"
   },
   "source": [
    "\n",
    "**Step 2 -  Define the hyperparameters**\n",
    "\n",
    "KNN Regression will look at a certain number of neighbors. But how many neighbors?\n",
    "Inside the method, we say how many neighbors to explore for our regressor. We use 5 neighbors in this case.\n",
    "\n",
    "`neighbors.KNeighborsRegressor(n_neighbors=5)`\n"
   ]
  },
  {
   "cell_type": "markdown",
      "metadata": {
      "deletable": false,
      "editable": false,
    "id": "vh5L-g4H5BRa"
   },
   "source": [
    "\n",
    "**Step 3 - Assign the regressor model to the variable you created**\n",
    "\n",
    "We setup a variable to store the regressor model in a variable for later use. In this case, we will call it **regr**.\n",
    "\n",
    "`regr = neighbors.KNeighborsRegressor(n_neighbors=5)`\n"
   ]
  },
  {
   "cell_type": "markdown",
      "metadata": {
      "deletable": false,
      "editable": false,
    "id": "IbDNIUBK5CfH"
   },
   "source": [
    "\n",
    "\n",
    "**Step 4 - Run the code**\n",
    "\n",
    "Hit ‘control’ and ‘enter’ at the same time to run the code!\n",
    "<details>\n",
    "    <summary>Click to see the answer...</summary>\n",
    "\n",
    "![](https://pbs.twimg.com/media/GcO1wkSXEAEBSPN?format=jpg&name=small)\n",
    "</details>"
   ]
  },
  {
   "cell_type": "markdown",
      "metadata": {
      "deletable": false,
      "editable": false,
    "id": "D4aeEHnd5QRQ"
   },
   "source": [
    "**Your Turn**: Try it! Using the KNN regressor tool helps us make predictions based on the neighbors of the data point, so let’s see how useful it is!\n"
   ]
  },
  {
   "cell_type": "code",
   "execution_count": 13,
   "metadata": {
    "id": "M84rWXW65RVg"
   },
   "outputs": [],
   "source": [
    "#freehand code \n"
   ]
  },
  {
   "cell_type": "markdown",
      "metadata": {
      "deletable": false,
      "editable": false,
    "id": "yJcsf--Z5S59"
   },
   "source": [
    "**Explanation**: *The KNN regressor is a tool that helps make predictions based on the \"neighbors\" of a data point. In other words, if we want to predict something like CO2 emissions, the model will look at similar data points (its \"neighbors\") and use them to make a guess. This model is useful when there’s a pattern in the data, where similar inputs have similar outputs*."
   ]
  },
  {
   "cell_type": "markdown",
      "metadata": {
      "deletable": false,
      "editable": false,
    "id": "W8zgwLfN6Ocz"
   },
   "source": [
    "### Goal 7 - Train and Score the Regressor Model.\n",
    "\n",
    "Now that we’ve brought in our KNN model, let’s train the model to see how it will learn from the data points that we have in the file."
   ]
  },
  {
   "cell_type": "markdown",
      "metadata": {
      "deletable": false,
      "editable": false,
    "id": "rucO-7Qq6QRO",
    "jp-MarkdownHeadingCollapsed": true
   },
   "source": [
    "#### Blockly"
   ]
  },
  {
   "cell_type": "markdown",
      "metadata": {
      "deletable": false,
      "editable": false,
    "id": "XWkV9BZ26kfN"
   },
   "source": [
    "\n",
    "**Step 1 - Prepare to train the model**\n",
    "\n",
    "To train data using the regressor model, we use the model and call the fit() method from it. This will use the ‘fit’ method to train the model that we want to train on.  \n",
    "\n",
    "From the Variable menu, drag the DO block for the **regr** variable, and select the **fit** function as the do operation. This specifies the function we want to call, which is the fit method of the knn object.\n"
   ]
  },
  {
   "cell_type": "markdown",
      "metadata": {
      "deletable": false,
      "editable": false,
    "id": "usLA8_Gn6ngW"
   },
   "source": [
    "\n",
    "**Step 2 - Have the training features ready**\n",
    "\n",
    "The next step for training the model is to select the features to train the regressor. In this step, we select the features and add them as a dataframe in the parameter. In this case, the model will train (learn) the regressor based on these 2 variables and use it to predict the label\n",
    "\n",
    "From the Lists menu, drag a dictVariable, and select the **train** variable from the list of available variables. Also, from the Lists menu, you will get a Create List block. Using the Gear icon, add up to 2 items. For each one of the items, add a Text (a Quote “” from the Text menu), as follows:  \"**Weight**\" and \"**Volume**\".\n"
   ]
  },
  {
   "cell_type": "markdown",
      "metadata": {
      "deletable": false,
      "editable": false,
    "id": "J906xDec6pV5"
   },
   "source": [
    "\n",
    "**Step 3 -  Have the training label ready**\n",
    "\n",
    "So what are we trying to predict? Next, we need to add the data labels for the selected features. We add the data labels(**CO2Emission**) as a parameter in the fit() method.\n",
    "\n",
    "From the Lists menu, drag a dictVariable, and select the \"train\" variable from the list of available variables. From the Text menu, get a Quote “” block and add a Text **CO2Emission**. This is the target value applied to train (fit) the model.\n"
   ]
  },
  {
   "cell_type": "markdown",
      "metadata": {
      "deletable": false,
      "editable": false,
    "id": "VyMehrVg6rQD"
   },
   "source": [
    "\n",
    "**Step 4 - Measure the correctness on the training dataset**\n",
    "\n",
    "To measure the correctness of the model, we will use the score method() from the neighbors library. Just as in the previous step, we will just replace the fit() method with the score() method. Based on the **‘fit’**, we will try to see how much we were able to predict in our training dataset.\n",
    "\n",
    "This will give us the knn model’s correctness score. A good score will be closer to 1 (ie - 100). Medium might be more like .95 (95% accurate). Not great would be .90 (90%). It depends on the topic you are looking at.\n",
    "\n",
    "Right-click on the \"regr.fit\" block and select \"Duplicate\" from the context menu. This creates a copy of the block. Within the duplicated block, click on the method dropdown menu and select \"**score**\" from the list of available methods. The score method will work similarly to fit, and will use the training features and label to measure how much of the training data was learned.  \n"
   ]
  },
  {
   "cell_type": "markdown",
      "metadata": {
      "deletable": false,
      "editable": false,
    "id": "zv1L4Pg_6sdR"
   },
   "source": [
    "\n",
    "**Step 5 - Connect the blocks to run the code**\n",
    "\n",
    "Connect the blocks and run the code!\n",
    "<details>\n",
    "    <summary>Click to see the answer...</summary>\n",
    "\n",
    "![](https://pbs.twimg.com/media/Gab9wftX0AAdu0V?format=jpg&name=small)\n",
    "\n",
    "</details>"
   ]
  },
  {
   "cell_type": "code",
   "execution_count": null,
   "metadata": {},
   "outputs": [],
   "source": [
    "#blocks code\n"
   ]
  },
  {
   "cell_type": "markdown",
      "metadata": {
      "deletable": false,
      "editable": false,
    "id": "y8neGzqp7PlC",
    "jp-MarkdownHeadingCollapsed": true
   },
   "source": [
    "#### Freehand"
   ]
  },
  {
   "cell_type": "markdown",
      "metadata": {
      "deletable": false,
      "editable": false,
    "id": "zfdrtb3W7Rl5"
   },
   "source": [
    "\n",
    "**Step 1 - Prepare to train the model**\n",
    "\n",
    "To train data using the regressor model, we use the model and call the fit() method from it. This will use the **‘fit’** method to train the model that we want to train on.  \n",
    "\n",
    "`regr.fit()`\n"
   ]
  },
  {
   "cell_type": "markdown",
      "metadata": {
      "deletable": false,
      "editable": false,
    "id": "WEChrcq07W_L"
   },
   "source": [
    "\n",
    "**Step 2 - Have the training features ready**\n",
    "\n",
    "The next step for training the model is to select the features to train the regressor. In this step, we select the features and add them as a dataframe in the parameter. In this case, the model will train (learn) the regressor with the scaled features we have stored in the variable **train**\n",
    "\n",
    "`regr.fit(train[[‘Weight’,’Volume’]])`"
   ]
  },
  {
   "cell_type": "markdown",
      "metadata": {
      "deletable": false,
      "editable": false,
    "id": "yl87-Zq67YwR"
   },
   "source": [
    "\n",
    "**Step 3 - Have the training label ready**\n",
    "\n",
    "So what is the label that we are trying to predict? Next, we need to add the data labels for the selected features. We add the data labels (**CO2Emission**) as a parameter in the fit() method.\n",
    "\n",
    "`regr.fit(train[[‘Weight’,’Volume’]], train[‘CO2Emission’])`"
   ]
  },
  {
   "cell_type": "markdown",
      "metadata": {
      "deletable": false,
      "editable": false,
    "id": "3BlUV3fO7aXK"
   },
   "source": [
    "\n",
    "**Step 4 - Measure the correctness on the training dataset**\n",
    "\n",
    "To measure the correctness of the model, we will use the score method() from the neighbors library. Just as in the previous step, we will just replace the fit() method with the score() method. Based on the ‘fit’, we will try to see how much we were able to predict in our training dataset.\n",
    "\n",
    "This will give us the knn model correctness score. A good score will be closer to 1 (ie - 100). Medium might be more like .95 (95% accurate). Not great would be .90 (90%). It depends on the topic you are looking at.\n",
    "\n",
    "`regr.score(train[[‘Weight’,’Volume’]], train[‘CO2Emission’])`\n",
    "\n"
   ]
  },
  {
   "cell_type": "markdown",
      "metadata": {
      "deletable": false,
      "editable": false,
    "id": "bSqaKh157bu4"
   },
   "source": [
    "**Step 5 - Run the code**\n",
    "\n",
    "Hit ‘control’ and ‘enter’ at the same time to run the code!\n",
    "<details>\n",
    "    <summary>Click to see the answer...</summary>\n",
    "\n",
    "![](https://pbs.twimg.com/media/Gab90PUWsAAdNzI?format=jpg&name=small)\n",
    "\n",
    "</details>"
   ]
  },
  {
   "cell_type": "markdown",
      "metadata": {
      "deletable": false,
      "editable": false,
    "id": "E9FD-WgR8ja7"
   },
   "source": [
    "**Your Turn**: Indentation aligned with Step. Bolded and colon. 2-3 sentence description. Please center image\n"
   ]
  },
  {
   "cell_type": "code",
   "execution_count": 14,
   "metadata": {
    "colab": {
     "base_uri": "https://localhost:8080/"
    },
    "id": "vIHkDKr98p9h",
    "outputId": "ec654b47-ee64-4f7b-c2f9-a4b7a96c686f"
   },
   "outputs": [
    {
     "data": {
      "text/plain": [
       "0.8845480512300746"
      ]
     },
     "execution_count": 14,
     "metadata": {},
     "output_type": "execute_result"
    }
   ],
   "source": [
    "#freehand code \n"
   ]
  },
  {
   "cell_type": "markdown",
      "metadata": {
      "deletable": false,
      "editable": false,
    "id": "TMH7HTs08uYd"
   },
   "source": [
    "**Explanation**: *You have now trained the model to predict CO2 emissions based on two features: Weight and Volume. By fitting the model to this data, the algorithm learns the relationship between weight, volume, and CO2 emissions, allowing it to make predictions based on that relationship. You have also calculated the model’s accuracy on the training data. It checks how well the model’s predictions match the actual CO2 emissions in the training dataset. The score is a number between 0 and 100%*."
   ]
  },
  {
   "cell_type": "markdown",
      "metadata": {
      "deletable": false,
      "editable": false,
    "id": "XlhwnnHf86TO"
   },
   "source": [
    "### Goal 8 - Load the Test dataset.\n",
    "\n",
    "So we’ve looked at the training dataset to learn something about our data. How about applying it to the rest of the dataset and seeing how good our predictions are?"
   ]
  },
  {
   "cell_type": "markdown",
      "metadata": {
      "deletable": false,
      "editable": false,
    "id": "5xl7fWya9MUw",
    "jp-MarkdownHeadingCollapsed": true
   },
   "source": [
    "#### Blockly"
   ]
  },
  {
   "cell_type": "markdown",
      "metadata": {
      "deletable": false,
      "editable": false,
    "id": "SiRjNZHI9OTP"
   },
   "source": [
    "\n",
    "**Step 1: Write out the variable name you want to use**\n",
    "\n",
    "Now that we’re all set with our new package to help us to do cool things, let’s bring the data into a variable and call it **test**. Think of it as a digital spreadsheet with much more power to analyze and manipulate the data! To do this, bring in the VARIABLES menu.\n"
   ]
  },
  {
   "cell_type": "markdown",
      "metadata": {
      "deletable": false,
      "editable": false,
    "id": "v7ZyH3rn9Ter"
   },
   "source": [
    "\n",
    "**Step 2: Assign the dataframe to the variable you created**\n",
    "\n",
    "Just like we did before, let’s type out a variable name. Rather than type out the full file name for our data, this easy to remember name will hold the data we bring in.\n",
    "\n",
    "From the Variables menu, drag the Set block for the **test** variable. This will allow us to assign the result of a function call to the variable.\n"
   ]
  },
  {
   "cell_type": "markdown",
      "metadata": {
      "deletable": false,
      "editable": false,
    "id": "zxDpIKjW9VT5"
   },
   "source": [
    "\n",
    "**Step 3: Bring in the data**\n",
    "\n",
    "Now we need to look at the file that has all our data. To load our dataframe, we’ll use a simple command to bring in the file we need (CSV….Comma Separated Values). Let’s say we have a file called ‘AirQualityCTest.csv' in the folder **‘datasets’**. We’re telling Python to read the CSV file and store it in a variable called **test**.\n",
    "\n",
    "To load our test dataframe, we’ll call the method **read_csv**() from pandas to read the file we need (i.e. CSV(Comma Separated Values) file).\n",
    "\n",
    "From the Variable menu, drag a DO block using the **pd** variable, go ahead with the do operation **read_csv**. The read_csv function reads a CSV file and returns a DataFrame object. In our case, let’s bring in the \"datasets/AirQualityCtest.csv\" (user the Quotes from the TEXT menu) because that is what we are working with.\n"
   ]
  },
  {
   "cell_type": "markdown",
      "metadata": {
      "deletable": false,
      "editable": false,
    "id": "gaO3CCzv9Wdo"
   },
   "source": [
    "\n",
    "**Step 4 - Display the variable**\n",
    "\n",
    "Drag the **test** variable to the workspace, making it available for further use in our program. This step is more of a visualization step, as it allows us to see the variable in the Blockly workspace.\n"
   ]
  },
  {
   "cell_type": "markdown",
      "metadata": {
      "deletable": false,
      "editable": false,
    "id": "do8dmZaa9XTX"
   },
   "source": [
    "\n",
    "**Step 5 - Connect the blocks to run the code**\n",
    "\n",
    "Connect the blocks and run the code!\n",
    "<details>\n",
    "    <summary>Click to see the answer...</summary>\n",
    "\n",
    "![](https://pbs.twimg.com/media/Gab-trtWgAAOONP?format=jpg&name=small)\n",
    "\n",
    "</details>"
   ]
  },
  {
   "cell_type": "code",
   "execution_count": null,
   "metadata": {},
   "outputs": [],
   "source": [
    "#blocks code\n"
   ]
  },
  {
   "cell_type": "markdown",
      "metadata": {
      "deletable": false,
      "editable": false,
    "id": "uR7X6-599uEp",
    "jp-MarkdownHeadingCollapsed": true
   },
   "source": [
    "#### Freehand"
   ]
  },
  {
   "cell_type": "markdown",
      "metadata": {
      "deletable": false,
      "editable": false,
    "id": "VeS4m_aU9vOU"
   },
   "source": [
    "\n",
    "**Step 1 - Write out the variable name you want to use**\n",
    "\n",
    "Now that we’re all set with our new package to help us to do cool things let’s bring the data into a variable called **test**. Think of it as a digital spreadsheet with much more power to analyze and manipulate the data!\n"
   ]
  },
  {
   "cell_type": "markdown",
      "metadata": {
      "deletable": false,
      "editable": false,
    "id": "GoQR8MKD90f8"
   },
   "source": [
    "\n",
    "**Step 2 - Assign the dataframe to the variable you created**\n",
    "\n",
    "Just like we did before, let’s type out a variable name. Rather than type out the full file name for our data, this easy to remember name will hold the data we bring in.\n"
   ]
  },
  {
   "cell_type": "markdown",
      "metadata": {
      "deletable": false,
      "editable": false,
    "id": "I55f3vrx92MB"
   },
   "source": [
    "\n",
    "**Step 3 - Bring in the data**\n",
    "\n",
    "Now, we need to look at the file that has all our data.\n",
    "\n",
    "To load our dataframe, we’ll use a simple command to bring in the file we need (CSV….Comma Separated Values). Let’s say we have a file called ‘AirQualityCtests.csv' in the folder **‘datasets’**. We’re telling Python to read the CSV file and store it in a variable called **test**. For this function, we need to specify the code as “**pd.read_csv**”, which makes the code read the csv file. This variable is now our dataframe!\n",
    "\n",
    "In our case, let’s bring in the AirQualityCtest.csv’ because that is what our group working with.\n"
   ]
  },
  {
   "cell_type": "markdown",
      "metadata": {
      "deletable": false,
      "editable": false,
    "id": "2tzuVwZg93cg"
   },
   "source": [
    "\n",
    "**Step 4 - Print the variable**\n",
    "\n",
    "Let’s see it now by ‘printing’ and showing our work. Retype the variable name underneath the code, and it will print the code. In this case, we will type out the variable name **test**.\n"
   ]
  },
  {
   "cell_type": "markdown",
      "metadata": {
      "deletable": false,
      "editable": false,
    "id": "jw_3WnU294AA"
   },
   "source": [
    "\n",
    "**Step 5 - Run the code**\n",
    "\n",
    "Hit ‘control’ and ‘enter’ at the same time to run the code!\n",
    "<details>\n",
    "    <summary>Click to see the answer...</summary>\n",
    "\n",
    "![](https://pbs.twimg.com/media/Gab-wAQXMAAIVs8?format=png&name=small)\n",
    "</details>"
   ]
  },
  {
   "cell_type": "markdown",
      "metadata": {
      "deletable": false,
      "editable": false,
    "id": "qOpgS2sf-TR9"
   },
   "source": [
    "**Your Turn**: Now it’s your turn!  Let’s dive in and start working with the data!  We’ll begin by loading it into our variable named test, which will allow us to easily interact with and analyze the dataset.\n"
   ]
  },
  {
   "cell_type": "code",
   "execution_count": 15,
   "metadata": {
    "colab": {
     "base_uri": "https://localhost:8080/",
     "height": 363
    },
    "id": "VISBept3-Xrn",
    "outputId": "360af297-6492-437d-fe15-c735129b2d49"
   },
   "outputs": [
    {
     "data": {
      "application/vnd.google.colaboratory.intrinsic+json": {
       "summary": "{\n  \"name\": \"test\",\n  \"rows\": 10,\n  \"fields\": [\n    {\n      \"column\": \"Brand\",\n      \"properties\": {\n        \"dtype\": \"category\",\n        \"num_unique_values\": 2,\n        \"samples\": [\n          \"Fiat\",\n          \"Porsche\"\n        ],\n        \"semantic_type\": \"\",\n        \"description\": \"\"\n      }\n    },\n    {\n      \"column\": \"Model\",\n      \"properties\": {\n        \"dtype\": \"string\",\n        \"num_unique_values\": 10,\n        \"samples\": [\n          \"500X\",\n          \"Cayenne\"\n        ],\n        \"semantic_type\": \"\",\n        \"description\": \"\"\n      }\n    },\n    {\n      \"column\": \"Volume\",\n      \"properties\": {\n        \"dtype\": \"number\",\n        \"std\": 1,\n        \"min\": 10,\n        \"max\": 16,\n        \"num_unique_values\": 7,\n        \"samples\": [\n          13,\n          16\n        ],\n        \"semantic_type\": \"\",\n        \"description\": \"\"\n      }\n    },\n    {\n      \"column\": \"Weight\",\n      \"properties\": {\n        \"dtype\": \"number\",\n        \"std\": 437,\n        \"min\": 950,\n        \"max\": 2290,\n        \"num_unique_values\": 10,\n        \"samples\": [\n          1420,\n          2000\n        ],\n        \"semantic_type\": \"\",\n        \"description\": \"\"\n      }\n    },\n    {\n      \"column\": \"CO2Emission\",\n      \"properties\": {\n        \"dtype\": \"number\",\n        \"std\": 51,\n        \"min\": 79,\n        \"max\": 245,\n        \"num_unique_values\": 9,\n        \"samples\": [\n          104,\n          199\n        ],\n        \"semantic_type\": \"\",\n        \"description\": \"\"\n      }\n    }\n  ]\n}",
       "type": "dataframe",
       "variable_name": "test"
      },
      "text/html": [
       "\n",
       "  <div id=\"df-c9b0295e-1b86-4c1e-87cc-285622984887\" class=\"colab-df-container\">\n",
       "    <div>\n",
       "<style scoped>\n",
       "    .dataframe tbody tr th:only-of-type {\n",
       "        vertical-align: middle;\n",
       "    }\n",
       "\n",
       "    .dataframe tbody tr th {\n",
       "        vertical-align: top;\n",
       "    }\n",
       "\n",
       "    .dataframe thead th {\n",
       "        text-align: right;\n",
       "    }\n",
       "</style>\n",
       "<table border=\"1\" class=\"dataframe\">\n",
       "  <thead>\n",
       "    <tr style=\"text-align: right;\">\n",
       "      <th></th>\n",
       "      <th>Brand</th>\n",
       "      <th>Model</th>\n",
       "      <th>Volume</th>\n",
       "      <th>Weight</th>\n",
       "      <th>CO2Emission</th>\n",
       "    </tr>\n",
       "  </thead>\n",
       "  <tbody>\n",
       "    <tr>\n",
       "      <th>0</th>\n",
       "      <td>Porsche</td>\n",
       "      <td>911</td>\n",
       "      <td>13</td>\n",
       "      <td>1570</td>\n",
       "      <td>153</td>\n",
       "    </tr>\n",
       "    <tr>\n",
       "      <th>1</th>\n",
       "      <td>Porsche</td>\n",
       "      <td>Cayenne</td>\n",
       "      <td>16</td>\n",
       "      <td>2000</td>\n",
       "      <td>199</td>\n",
       "    </tr>\n",
       "    <tr>\n",
       "      <th>2</th>\n",
       "      <td>Porsche</td>\n",
       "      <td>Macan</td>\n",
       "      <td>15</td>\n",
       "      <td>1855</td>\n",
       "      <td>152</td>\n",
       "    </tr>\n",
       "    <tr>\n",
       "      <th>3</th>\n",
       "      <td>Porsche</td>\n",
       "      <td>Panamera</td>\n",
       "      <td>15</td>\n",
       "      <td>1850</td>\n",
       "      <td>170</td>\n",
       "    </tr>\n",
       "    <tr>\n",
       "      <th>4</th>\n",
       "      <td>Porsche</td>\n",
       "      <td>Taycan</td>\n",
       "      <td>14</td>\n",
       "      <td>2290</td>\n",
       "      <td>245</td>\n",
       "    </tr>\n",
       "    <tr>\n",
       "      <th>5</th>\n",
       "      <td>Fiat</td>\n",
       "      <td>500</td>\n",
       "      <td>10</td>\n",
       "      <td>965</td>\n",
       "      <td>82</td>\n",
       "    </tr>\n",
       "    <tr>\n",
       "      <th>6</th>\n",
       "      <td>Fiat</td>\n",
       "      <td>Panda</td>\n",
       "      <td>11</td>\n",
       "      <td>950</td>\n",
       "      <td>79</td>\n",
       "    </tr>\n",
       "    <tr>\n",
       "      <th>7</th>\n",
       "      <td>Fiat</td>\n",
       "      <td>Tipo</td>\n",
       "      <td>12</td>\n",
       "      <td>1270</td>\n",
       "      <td>104</td>\n",
       "    </tr>\n",
       "    <tr>\n",
       "      <th>8</th>\n",
       "      <td>Fiat</td>\n",
       "      <td>500X</td>\n",
       "      <td>13</td>\n",
       "      <td>1420</td>\n",
       "      <td>126</td>\n",
       "    </tr>\n",
       "    <tr>\n",
       "      <th>9</th>\n",
       "      <td>Fiat</td>\n",
       "      <td>Doblo</td>\n",
       "      <td>14</td>\n",
       "      <td>1600</td>\n",
       "      <td>152</td>\n",
       "    </tr>\n",
       "  </tbody>\n",
       "</table>\n",
       "</div>\n",
       "    <div class=\"colab-df-buttons\">\n",
       "\n",
       "  <div class=\"colab-df-container\">\n",
       "    <button class=\"colab-df-convert\" onclick=\"convertToInteractive('df-c9b0295e-1b86-4c1e-87cc-285622984887')\"\n",
       "            title=\"Convert this dataframe to an interactive table.\"\n",
       "            style=\"display:none;\">\n",
       "\n",
       "  <svg xmlns=\"http://www.w3.org/2000/svg\" height=\"24px\" viewBox=\"0 -960 960 960\">\n",
       "    <path d=\"M120-120v-720h720v720H120Zm60-500h600v-160H180v160Zm220 220h160v-160H400v160Zm0 220h160v-160H400v160ZM180-400h160v-160H180v160Zm440 0h160v-160H620v160ZM180-180h160v-160H180v160Zm440 0h160v-160H620v160Z\"/>\n",
       "  </svg>\n",
       "    </button>\n",
       "\n",
       "  <style>\n",
       "    .colab-df-container {\n",
       "      display:flex;\n",
       "      gap: 12px;\n",
       "    }\n",
       "\n",
       "    .colab-df-convert {\n",
       "      background-color: #E8F0FE;\n",
       "      border: none;\n",
       "      border-radius: 50%;\n",
       "      cursor: pointer;\n",
       "      display: none;\n",
       "      fill: #1967D2;\n",
       "      height: 32px;\n",
       "      padding: 0 0 0 0;\n",
       "      width: 32px;\n",
       "    }\n",
       "\n",
       "    .colab-df-convert:hover {\n",
       "      background-color: #E2EBFA;\n",
       "      box-shadow: 0px 1px 2px rgba(60, 64, 67, 0.3), 0px 1px 3px 1px rgba(60, 64, 67, 0.15);\n",
       "      fill: #174EA6;\n",
       "    }\n",
       "\n",
       "    .colab-df-buttons div {\n",
       "      margin-bottom: 4px;\n",
       "    }\n",
       "\n",
       "    [theme=dark] .colab-df-convert {\n",
       "      background-color: #3B4455;\n",
       "      fill: #D2E3FC;\n",
       "    }\n",
       "\n",
       "    [theme=dark] .colab-df-convert:hover {\n",
       "      background-color: #434B5C;\n",
       "      box-shadow: 0px 1px 3px 1px rgba(0, 0, 0, 0.15);\n",
       "      filter: drop-shadow(0px 1px 2px rgba(0, 0, 0, 0.3));\n",
       "      fill: #FFFFFF;\n",
       "    }\n",
       "  </style>\n",
       "\n",
       "    <script>\n",
       "      const buttonEl =\n",
       "        document.querySelector('#df-c9b0295e-1b86-4c1e-87cc-285622984887 button.colab-df-convert');\n",
       "      buttonEl.style.display =\n",
       "        google.colab.kernel.accessAllowed ? 'block' : 'none';\n",
       "\n",
       "      async function convertToInteractive(key) {\n",
       "        const element = document.querySelector('#df-c9b0295e-1b86-4c1e-87cc-285622984887');\n",
       "        const dataTable =\n",
       "          await google.colab.kernel.invokeFunction('convertToInteractive',\n",
       "                                                    [key], {});\n",
       "        if (!dataTable) return;\n",
       "\n",
       "        const docLinkHtml = 'Like what you see? Visit the ' +\n",
       "          '<a target=\"_blank\" href=https://colab.research.google.com/notebooks/data_table.ipynb>data table notebook</a>'\n",
       "          + ' to learn more about interactive tables.';\n",
       "        element.innerHTML = '';\n",
       "        dataTable['output_type'] = 'display_data';\n",
       "        await google.colab.output.renderOutput(dataTable, element);\n",
       "        const docLink = document.createElement('div');\n",
       "        docLink.innerHTML = docLinkHtml;\n",
       "        element.appendChild(docLink);\n",
       "      }\n",
       "    </script>\n",
       "  </div>\n",
       "\n",
       "\n",
       "<div id=\"df-d5e7682f-cfd1-42ba-aa89-d914823d4d1f\">\n",
       "  <button class=\"colab-df-quickchart\" onclick=\"quickchart('df-d5e7682f-cfd1-42ba-aa89-d914823d4d1f')\"\n",
       "            title=\"Suggest charts\"\n",
       "            style=\"display:none;\">\n",
       "\n",
       "<svg xmlns=\"http://www.w3.org/2000/svg\" height=\"24px\"viewBox=\"0 0 24 24\"\n",
       "     width=\"24px\">\n",
       "    <g>\n",
       "        <path d=\"M19 3H5c-1.1 0-2 .9-2 2v14c0 1.1.9 2 2 2h14c1.1 0 2-.9 2-2V5c0-1.1-.9-2-2-2zM9 17H7v-7h2v7zm4 0h-2V7h2v10zm4 0h-2v-4h2v4z\"/>\n",
       "    </g>\n",
       "</svg>\n",
       "  </button>\n",
       "\n",
       "<style>\n",
       "  .colab-df-quickchart {\n",
       "      --bg-color: #E8F0FE;\n",
       "      --fill-color: #1967D2;\n",
       "      --hover-bg-color: #E2EBFA;\n",
       "      --hover-fill-color: #174EA6;\n",
       "      --disabled-fill-color: #AAA;\n",
       "      --disabled-bg-color: #DDD;\n",
       "  }\n",
       "\n",
       "  [theme=dark] .colab-df-quickchart {\n",
       "      --bg-color: #3B4455;\n",
       "      --fill-color: #D2E3FC;\n",
       "      --hover-bg-color: #434B5C;\n",
       "      --hover-fill-color: #FFFFFF;\n",
       "      --disabled-bg-color: #3B4455;\n",
       "      --disabled-fill-color: #666;\n",
       "  }\n",
       "\n",
       "  .colab-df-quickchart {\n",
       "    background-color: var(--bg-color);\n",
       "    border: none;\n",
       "    border-radius: 50%;\n",
       "    cursor: pointer;\n",
       "    display: none;\n",
       "    fill: var(--fill-color);\n",
       "    height: 32px;\n",
       "    padding: 0;\n",
       "    width: 32px;\n",
       "  }\n",
       "\n",
       "  .colab-df-quickchart:hover {\n",
       "    background-color: var(--hover-bg-color);\n",
       "    box-shadow: 0 1px 2px rgba(60, 64, 67, 0.3), 0 1px 3px 1px rgba(60, 64, 67, 0.15);\n",
       "    fill: var(--button-hover-fill-color);\n",
       "  }\n",
       "\n",
       "  .colab-df-quickchart-complete:disabled,\n",
       "  .colab-df-quickchart-complete:disabled:hover {\n",
       "    background-color: var(--disabled-bg-color);\n",
       "    fill: var(--disabled-fill-color);\n",
       "    box-shadow: none;\n",
       "  }\n",
       "\n",
       "  .colab-df-spinner {\n",
       "    border: 2px solid var(--fill-color);\n",
       "    border-color: transparent;\n",
       "    border-bottom-color: var(--fill-color);\n",
       "    animation:\n",
       "      spin 1s steps(1) infinite;\n",
       "  }\n",
       "\n",
       "  @keyframes spin {\n",
       "    0% {\n",
       "      border-color: transparent;\n",
       "      border-bottom-color: var(--fill-color);\n",
       "      border-left-color: var(--fill-color);\n",
       "    }\n",
       "    20% {\n",
       "      border-color: transparent;\n",
       "      border-left-color: var(--fill-color);\n",
       "      border-top-color: var(--fill-color);\n",
       "    }\n",
       "    30% {\n",
       "      border-color: transparent;\n",
       "      border-left-color: var(--fill-color);\n",
       "      border-top-color: var(--fill-color);\n",
       "      border-right-color: var(--fill-color);\n",
       "    }\n",
       "    40% {\n",
       "      border-color: transparent;\n",
       "      border-right-color: var(--fill-color);\n",
       "      border-top-color: var(--fill-color);\n",
       "    }\n",
       "    60% {\n",
       "      border-color: transparent;\n",
       "      border-right-color: var(--fill-color);\n",
       "    }\n",
       "    80% {\n",
       "      border-color: transparent;\n",
       "      border-right-color: var(--fill-color);\n",
       "      border-bottom-color: var(--fill-color);\n",
       "    }\n",
       "    90% {\n",
       "      border-color: transparent;\n",
       "      border-bottom-color: var(--fill-color);\n",
       "    }\n",
       "  }\n",
       "</style>\n",
       "\n",
       "  <script>\n",
       "    async function quickchart(key) {\n",
       "      const quickchartButtonEl =\n",
       "        document.querySelector('#' + key + ' button');\n",
       "      quickchartButtonEl.disabled = true;  // To prevent multiple clicks.\n",
       "      quickchartButtonEl.classList.add('colab-df-spinner');\n",
       "      try {\n",
       "        const charts = await google.colab.kernel.invokeFunction(\n",
       "            'suggestCharts', [key], {});\n",
       "      } catch (error) {\n",
       "        console.error('Error during call to suggestCharts:', error);\n",
       "      }\n",
       "      quickchartButtonEl.classList.remove('colab-df-spinner');\n",
       "      quickchartButtonEl.classList.add('colab-df-quickchart-complete');\n",
       "    }\n",
       "    (() => {\n",
       "      let quickchartButtonEl =\n",
       "        document.querySelector('#df-d5e7682f-cfd1-42ba-aa89-d914823d4d1f button');\n",
       "      quickchartButtonEl.style.display =\n",
       "        google.colab.kernel.accessAllowed ? 'block' : 'none';\n",
       "    })();\n",
       "  </script>\n",
       "</div>\n",
       "\n",
       "  <div id=\"id_5db97c1d-869f-4fdc-9603-d6cae3a72032\">\n",
       "    <style>\n",
       "      .colab-df-generate {\n",
       "        background-color: #E8F0FE;\n",
       "        border: none;\n",
       "        border-radius: 50%;\n",
       "        cursor: pointer;\n",
       "        display: none;\n",
       "        fill: #1967D2;\n",
       "        height: 32px;\n",
       "        padding: 0 0 0 0;\n",
       "        width: 32px;\n",
       "      }\n",
       "\n",
       "      .colab-df-generate:hover {\n",
       "        background-color: #E2EBFA;\n",
       "        box-shadow: 0px 1px 2px rgba(60, 64, 67, 0.3), 0px 1px 3px 1px rgba(60, 64, 67, 0.15);\n",
       "        fill: #174EA6;\n",
       "      }\n",
       "\n",
       "      [theme=dark] .colab-df-generate {\n",
       "        background-color: #3B4455;\n",
       "        fill: #D2E3FC;\n",
       "      }\n",
       "\n",
       "      [theme=dark] .colab-df-generate:hover {\n",
       "        background-color: #434B5C;\n",
       "        box-shadow: 0px 1px 3px 1px rgba(0, 0, 0, 0.15);\n",
       "        filter: drop-shadow(0px 1px 2px rgba(0, 0, 0, 0.3));\n",
       "        fill: #FFFFFF;\n",
       "      }\n",
       "    </style>\n",
       "    <button class=\"colab-df-generate\" onclick=\"generateWithVariable('test')\"\n",
       "            title=\"Generate code using this dataframe.\"\n",
       "            style=\"display:none;\">\n",
       "\n",
       "  <svg xmlns=\"http://www.w3.org/2000/svg\" height=\"24px\"viewBox=\"0 0 24 24\"\n",
       "       width=\"24px\">\n",
       "    <path d=\"M7,19H8.4L18.45,9,17,7.55,7,17.6ZM5,21V16.75L18.45,3.32a2,2,0,0,1,2.83,0l1.4,1.43a1.91,1.91,0,0,1,.58,1.4,1.91,1.91,0,0,1-.58,1.4L9.25,21ZM18.45,9,17,7.55Zm-12,3A5.31,5.31,0,0,0,4.9,8.1,5.31,5.31,0,0,0,1,6.5,5.31,5.31,0,0,0,4.9,4.9,5.31,5.31,0,0,0,6.5,1,5.31,5.31,0,0,0,8.1,4.9,5.31,5.31,0,0,0,12,6.5,5.46,5.46,0,0,0,6.5,12Z\"/>\n",
       "  </svg>\n",
       "    </button>\n",
       "    <script>\n",
       "      (() => {\n",
       "      const buttonEl =\n",
       "        document.querySelector('#id_5db97c1d-869f-4fdc-9603-d6cae3a72032 button.colab-df-generate');\n",
       "      buttonEl.style.display =\n",
       "        google.colab.kernel.accessAllowed ? 'block' : 'none';\n",
       "\n",
       "      buttonEl.onclick = () => {\n",
       "        google.colab.notebook.generateWithVariable('test');\n",
       "      }\n",
       "      })();\n",
       "    </script>\n",
       "  </div>\n",
       "\n",
       "    </div>\n",
       "  </div>\n"
      ],
      "text/plain": [
       "     Brand     Model  Volume  Weight  CO2Emission\n",
       "0  Porsche       911      13    1570          153\n",
       "1  Porsche   Cayenne      16    2000          199\n",
       "2  Porsche     Macan      15    1855          152\n",
       "3  Porsche  Panamera      15    1850          170\n",
       "4  Porsche    Taycan      14    2290          245\n",
       "5     Fiat       500      10     965           82\n",
       "6     Fiat     Panda      11     950           79\n",
       "7     Fiat      Tipo      12    1270          104\n",
       "8     Fiat      500X      13    1420          126\n",
       "9     Fiat     Doblo      14    1600          152"
      ]
     },
     "execution_count": 15,
     "metadata": {},
     "output_type": "execute_result"
    }
   ],
   "source": [
    "#freehand code \n"
   ]
  },
  {
   "cell_type": "markdown",
      "metadata": {
      "deletable": false,
      "editable": false,
    "id": "PzWwJKe3-Y4k"
   },
   "source": [
    "**Explanation**: *The testing dataset is used to check how well the model can predict CO2 emissions for new cars. After training, the model uses Volume and Weight from this new data to predict CO2 emissions. We then compare these predictions to the actual emissions in the testing dataset. If the predictions are close, it means the model learned well and can make accurate predictions on new data; if not, the model may need improvement*."
   ]
  },
  {
   "cell_type": "markdown",
      "metadata": {
      "deletable": false,
      "editable": false,
    "id": "F0hJSBhJ-aRD"
   },
   "source": [
    "### Goal 9: Predict Labels for the Testing Dataset (i.e., - predict the rest of the data)\n",
    "\n",
    "So far we’ve taken a smaller part of all our data to train and try and learn something about it. Can we take what we’ve learned from the training and use it to predict the rest of our dataset?"
   ]
  },
  {
   "cell_type": "markdown",
      "metadata": {
      "deletable": false,
      "editable": false,
    "id": "uz0kwq21-hAg",
    "jp-MarkdownHeadingCollapsed": true
   },
   "source": [
    "#### Blockly"
   ]
  },
  {
   "cell_type": "markdown",
      "metadata": {
      "deletable": false,
      "editable": false,
    "id": "L5yrOXRkBvDS"
   },
   "source": [
    "**Step 1 - Write out the variable name you want to use**\n",
    "\n",
    "Now that we’re all set with our new package to help us to do cool things, let’s bring the data into a variable and call it **predictions**.\n",
    "\n",
    "From the Variables menu, click Create Variable, and type **predictions**. On the same menu, drag the Set block of the prediction variable. This variable will hold the result of the prediction.\n",
    "\n"
   ]
  },
  {
   "cell_type": "markdown",
      "metadata": {
      "deletable": false,
      "editable": false,
    "id": "g95LL61EBxbA"
   },
   "source": [
    "\n",
    "\n",
    "**Step 2 - Prepare the predict operation**\n",
    "\n",
    "So let’s take the regr variable from before and try to predict the label of the new dataset for **CO2Emission**. Let’s start by using the predict() method from the knn model.\n",
    "\n",
    "From the Variables menu, get a DO block, for the **regr** variable. With that select the operation **predict**.\n"
   ]
  },
  {
   "cell_type": "markdown",
      "metadata": {
      "deletable": false,
      "editable": false,
    "id": "hUuZFv1aBzCY"
   },
   "source": [
    "\n",
    "**Step 3 - Set the test features**\n",
    "\n",
    "Inside the predict() method, we provide the **test** features from the test data. This will use the 2 features (ie - columns) to predict the labels.\n",
    "\n",
    "From the Lists menu, drag a dictVariable, and select the \"test\" variable from the list of available variables. Also, from the Lists menu, you will get a Create List block. Using the Gear icon, add up to 2 items. For each one of the items, add a Text (a Quote “” from the Text menu), as follows: **Weight** and **Volume**. These are the feature names applied to predict the target label on the testing dataset. Store the output of the KNN prediction in the **predictions** variable. This variable will now hold the result of the prediction.\n"
   ]
  },
  {
   "cell_type": "markdown",
      "metadata": {
      "deletable": false,
      "editable": false,
    "id": "SUFBqW6fB1KD"
   },
   "source": [
    "\n",
    "**Step 4 - Assign the predictions to the variable you created**\n",
    "\n",
    "Next, we store the prediction labels into a variable **‘predictions’**. To do that we have to connect the SET predictions variable to the **regr.predict**() block.\n"
   ]
  },
  {
   "cell_type": "markdown",
      "metadata": {
      "deletable": false,
      "editable": false,
    "id": "Ki5wxVBkB2EI"
   },
   "source": [
    "\n",
    "**Step 5 - Display the predictions**\n",
    "\n",
    "Let’s see it now by showing our work.\n",
    "\n",
    "Drag the **predictions** variable to the workspace, making it available for further use in our program. This step is more of a visualization step, as it allows us to see the variable in the Blockly workspace.\n"
   ]
  },
  {
   "cell_type": "markdown",
      "metadata": {
      "deletable": false,
      "editable": false,
    "id": "g9HW9UMaB3NP"
   },
   "source": [
    "\n",
    "**Step 6 - Connect the blocks to run the code**\n",
    "\n",
    "Connect the blocks and run the code!\n",
    "<details>\n",
    "    <summary>Click to see the answer...</summary>\n",
    "\n",
    "![](https://pbs.twimg.com/media/GbeSDKLbsAAT4EG?format=png&name=small)\n",
    "\n",
    "<details>"
   ]
  },
  {
   "cell_type": "code",
   "execution_count": null,
   "metadata": {},
   "outputs": [],
   "source": [
    "#blocks code\n"
   ]
  },
  {
   "cell_type": "markdown",
      "metadata": {
      "deletable": false,
      "editable": false,
    "id": "lrp1JJIaCZwK",
    "jp-MarkdownHeadingCollapsed": true
   },
   "source": [
    "#### Freehand"
   ]
  },
  {
   "cell_type": "markdown",
      "metadata": {
      "deletable": false,
      "editable": false,
    "id": "DSZARb5-CayI"
   },
   "source": [
    "**Step 1 - Prepare the predict operation**\n",
    "\n",
    "So let’s take the **regr** variable from before and try to predict the label of the new dataset (contaminated, not contaminated. Let’s start by using the predict() method from the knn model.\n",
    "\n",
    "`regr.predict()`\n"
   ]
  },
  {
   "cell_type": "markdown",
      "metadata": {
      "deletable": false,
      "editable": false,
    "id": "v56f_9nVCg-T"
   },
   "source": [
    "\n",
    "**Step 2 - Set the test features**\n",
    "\n",
    "Inside the predict() method,we  provide the test features from the test data.\n",
    "\n",
    "`regr.predict(test[['Weight', 'Volume']])`\n"
   ]
  },
  {
   "cell_type": "markdown",
      "metadata": {
      "deletable": false,
      "editable": false,
    "id": "XvzvG_08Cjr3"
   },
   "source": [
    "\n",
    "**Step 3 - Assign the predictions to the variable you created**\n",
    "\n",
    "Next, we store the prediction labels into a variable ‘predictions’\n",
    "\n",
    "`predictions = knn.predict(test[['Weight', 'Volume']])`\n"
   ]
  },
  {
   "cell_type": "markdown",
      "metadata": {
      "deletable": false,
      "editable": false,
    "id": "i_L3V6KBCknv"
   },
   "source": [
    "\n",
    "**Step 4 - Print the predictions**\n",
    "\n",
    "Finally, we print the the prediction labels using ‘predictions’\n",
    "\n",
    "`predictions`"
   ]
  },
  {
   "cell_type": "markdown",
      "metadata": {
      "deletable": false,
      "editable": false,
    "id": "gSvR4tjiClWu"
   },
   "source": [
    "\n",
    "\n",
    "**Step 5 - Run the code**\n",
    "\n",
    "Hit ‘control’ and ‘enter’ at the same time to run the code!\n",
    "\n",
    "<details>\n",
    "    <summary>Click to see the answer...</summary>\n",
    "\n",
    "![](https://pbs.twimg.com/media/Gab_xhAWwAAYySA?format=jpg&name=small)\n",
    "\n",
    "</details>"
   ]
  },
  {
   "cell_type": "markdown",
      "metadata": {
      "deletable": false,
      "editable": false,
    "id": "cglgdqsfDERq"
   },
   "source": [
    "**Your Turn**: *Let’s give it a go! Try using the predict() method to predict the label for your new dataset and eventually store the predictions in our predictions variable. We’ll then see the results to see how accurate our model is!*\n"
   ]
  },
  {
   "cell_type": "code",
   "execution_count": 17,
   "metadata": {
    "colab": {
     "base_uri": "https://localhost:8080/"
    },
    "id": "Nvps_kMnDFA_",
    "outputId": "527030c6-7648-4068-b2b3-ffeec327228e"
   },
   "outputs": [
    {
     "data": {
      "text/plain": [
       "array([141., 195., 165., 165., 223., 114., 114., 114., 125., 143.])"
      ]
     },
     "execution_count": 17,
     "metadata": {},
     "output_type": "execute_result"
    }
   ],
   "source": [
    "#freehand code \n"
   ]
  },
  {
   "cell_type": "markdown",
      "metadata": {
      "deletable": false,
      "editable": false,
    "id": "_6NtDtyVDUp9"
   },
   "source": [
    "**Explanation**: *You have used the predict function to estimate results based on new input data, the testing dataset. In this case, the code tells the model to make predictions using values from the Weight and Volume columns in the test dataset. These columns are the features the model uses to predict an outcome, like CO2 emissions, for example*."
   ]
  },
  {
   "cell_type": "markdown",
      "metadata": {
      "deletable": false,
      "editable": false,
    "id": "ZZmqs88FD2sw"
   },
   "source": [
    "### Goal 10: Importing the SKLearn Metrics Library\n",
    "\n",
    "Need extra tools to help solve this problem? Well, we can bring in extra ‘libraries’ to help us do extra data science stuff. You can think of it as an ‘add-on’. In this case, we bring in SKLearn, which is a popular library that helps us understand how well the predictions performed."
   ]
  },
  {
   "cell_type": "markdown",
      "metadata": {
      "deletable": false,
      "editable": false,
    "jp-MarkdownHeadingCollapsed": true
   },
   "source": [
    "#### Blockly"
   ]
  },
  {
   "cell_type": "markdown",
      "metadata": {
      "deletable": false,
      "editable": false,
    "id": "gDyh5PF9D8Tj"
   },
   "source": [
    "**Step 1 - Starting the import**\n",
    "\n",
    "First, we need to set up a “command” to tell the computer what to do. In this case, “command” is to “import” to bring the add-on package in.\n",
    "\n",
    "Bring in the IMPORT menu, which can be helpful to bring in other data tools. In this case, we're bringing in the **import** block.\n"
   ]
  },
  {
   "cell_type": "markdown",
      "metadata": {
      "deletable": false,
      "editable": false,
    "id": "8cTurhGtD9oa"
   },
   "source": [
    "\n",
    "**Step 2 - Telling what library to import**\n",
    "\n",
    "In the text area, we type the name of the library we want to import. A library is like an extra thing we bring in to give us more coding abilities. In our case, we will type out **sklearn.metrics**, which will bring in some cool data manipulation features.\n"
   ]
  },
  {
   "cell_type": "markdown",
      "metadata": {
      "deletable": false,
      "editable": false,
    "id": "-MKlnNL1D-Td"
   },
   "source": [
    "\n",
    "**Step 3 - Renaming the library so it’s easy to remember**\n",
    "\n",
    "Once you are done, put the **import** and **package** together in a single variable. This handy feature helps cut down on all the typing later on. You can call it whatever is easiest for you to remember. In the example below, we’ve put everything into **metrics**, and we type it in the open area.\n"
   ]
  },
  {
   "cell_type": "markdown",
      "metadata": {
      "deletable": false,
      "editable": false,
    "id": "0pIZMJ0FD_Bn"
   },
   "source": [
    "\n",
    "**Step 4 - Connect the blocks to run the code**\n",
    "\n",
    "Connect the blocks and run the code!\n",
    "<details>\n",
    "    <summary>Click to see the answer...</summary>\n",
    "\n",
    "\n",
    "![](https://pbs.twimg.com/media/GacAgr6W4AAT6At?format=png&name=small)\n",
    "</details>"
   ]
  },
  {
   "cell_type": "code",
   "execution_count": null,
   "metadata": {},
   "outputs": [],
   "source": [
    "#blocks code\n"
   ]
  },
  {
   "cell_type": "markdown",
      "metadata": {
      "deletable": false,
      "editable": false,
    "id": "Rnu9WSCdERyv",
    "jp-MarkdownHeadingCollapsed": true
   },
   "source": [
    "#### Freehand"
   ]
  },
  {
   "cell_type": "markdown",
      "metadata": {
      "deletable": false,
      "editable": false,
    "id": "REoPXqUDES_T"
   },
   "source": [
    "\n",
    "**Step 1 - Starting the import**\n",
    "\n",
    "First, we need to set up a “command” to tell the computer what to do. In this case, “command” is to “import” to bring the add-on package in.\n"
   ]
  },
  {
   "cell_type": "markdown",
      "metadata": {
      "deletable": false,
      "editable": false,
    "id": "Ilg3rAtHEXPm"
   },
   "source": [
    "\n",
    "**Step 2 - Telling what library to import**\n",
    "\n",
    "In the text area, we type the name of the library we want to import. A library is like an extra thing we bring in to give us more coding abilities. In our case, we will type out **sklearn.metrics**, which will provide us with some cool data manipulation features. Some packages have a lengthy name, so we will want to make our own nickname for this.\n"
   ]
  },
  {
   "cell_type": "markdown",
      "metadata": {
      "deletable": false,
      "editable": false,
    "id": "NlQT17GWEYLS"
   },
   "source": [
    "\n",
    "**Step 3 - Renaming the library so it’s easy to remember**\n",
    "\n",
    "Once you are done, put the ‘import’ and ‘package’ together in a single variable. This handy feature helps cut down on all the typing later on. Feel free to use whatever name you want that will help you remember it later on. In the example below, we’ve put everything into **metrics**.\n"
   ]
  },
  {
   "cell_type": "markdown",
      "metadata": {
      "deletable": false,
      "editable": false,
    "id": "mCHql--hEY1F"
   },
   "source": [
    "\n",
    "**Step 4 - Run the code**\n",
    "\n",
    "Hit ‘control’ and ‘enter’ at the same time to run the code!\n",
    "<details>\n",
    "    <summary>Click to see the answer...</summary>\n",
    "\n",
    "![](https://pbs.twimg.com/media/GacAi_vXgAAdT_8?format=png&name=small)\n",
    "</details>"
   ]
  },
  {
   "cell_type": "markdown",
      "metadata": {
      "deletable": false,
      "editable": false,
    "id": "8QoJRp89Elm7"
   },
   "source": [
    "**Your Turn**: Indentation aligned with Step. Bolded and colon. 2-3 sentence description. Please center image\n"
   ]
  },
  {
   "cell_type": "code",
   "execution_count": 18,
   "metadata": {
    "id": "fnaC5G_ZEoEs"
   },
   "outputs": [],
   "source": [
    "#freehand code \n"
   ]
  },
  {
   "cell_type": "markdown",
      "metadata": {
      "deletable": false,
      "editable": false,
    "id": "MJokZ_khEq0h"
   },
   "source": [
    "**Explanation**: *The metrics library provides tools to measure and evaluate the performance of machine learning models. By using `metrics`, we can check how well our model is working*."
   ]
  },
  {
   "cell_type": "markdown",
      "metadata": {
      "deletable": false,
      "editable": false,
    "id": "qqrB8jCTEsNL"
   },
   "source": [
    "## Assessing the Performance of the Regressor\n",
    "\n",
    "So how well did our predictions do? Let’s calculate R2 to help us think about the performance of predictions on the testing dataset\n"
   ]
  },
  {
   "cell_type": "markdown",
      "metadata": {
      "deletable": false,
      "editable": false,
    "id": "OHoIafSpEupa"
   },
   "source": [
    "### Goal 11: Assessing the Performance of the Predictions on Test Dataset Using R2\n"
   ]
  },
  {
   "cell_type": "markdown",
      "metadata": {
      "deletable": false,
      "editable": false,
    "id": "rVm8-Wb9E1TF",
    "jp-MarkdownHeadingCollapsed": true
   },
   "source": [
    "#### Blockly"
   ]
  },
  {
   "cell_type": "markdown",
      "metadata": {
      "deletable": false,
      "editable": false,
    "id": "TOiqiMxAE4iP"
   },
   "source": [
    "\n",
    "**Step 1 - Prepare the R2 score calculation from the metrics library**\n",
    "\n",
    "To calculate the correctness of the model predictions, we will use the r2_score() function from the metrics library. This correctness score will measure the percentage of correct predictions.  \n",
    "\n",
    "From the Variables menu, get a DO block for the **metrics** variable. With that, select the **r2_score** operation. This operation will compare the correctness of the model and the test label with the predicted values."
   ]
  },
  {
   "cell_type": "markdown",
      "metadata": {
      "deletable": false,
      "editable": false,
    "id": "cfvDaeOAFGq4"
   },
   "source": [
    "\n",
    "\n",
    "**Step 2 - Calculate KNN model’s correctness**\n",
    "\n",
    "The accuracy_score() function takes 2 parameters to calculate the correctness score and helps measure the percentage of correct predictions. So let’s compare **CO2Emission** from the test dataset and **predictions** from the model we just created.\n",
    "\n",
    "From the Lists menu get a dictVariable block and select the test variable. From the Text menu get a Quote “” block to inform the label name ”Contaminated”. This list will be used as the true labels for the accuracy calculation.\n"
   ]
  },
  {
   "cell_type": "markdown",
      "metadata": {
      "deletable": false,
      "editable": false,
    "id": "_vKjMOzeFHiS"
   },
   "source": [
    "\n",
    "**Step 3 -  Compare testing labels with the predicted values**\n",
    "\n",
    "From the Lists menu, get a dictVariable block and select \"**test**\". Get then a Quote “” block from the Text menu, and type \"**CO2Emission**\" column.\n",
    "<details>\n",
    "    <summary>Click to see the answer...</summary>\n",
    "\n",
    "\n",
    "![](https://pbs.twimg.com/media/GcNQTiBWsAASJbl?format=jpg&name=small)\n",
    "</details>"
   ]
  },
  {
   "cell_type": "code",
   "execution_count": null,
   "metadata": {},
   "outputs": [],
   "source": [
    "#blocks code\n"
   ]
  },
  {
   "cell_type": "markdown",
      "metadata": {
      "deletable": false,
      "editable": false,
    "id": "QJGTo7IUGsAQ",
    "jp-MarkdownHeadingCollapsed": true
   },
   "source": [
    "#### Freehand"
   ]
  },
  {
   "cell_type": "markdown",
      "metadata": {
      "deletable": false,
      "editable": false,
    "id": "2v45Gdi3GtcK"
   },
   "source": [
    "**Step 1 - Prepare the R2 score calculation from the metrics library**\n",
    "\n",
    "To calculate the correctness of the model predictions, we will use the metrics.R2_score() method from the metrics library.  This correctness score will measure the percentage of correct predictions.\n",
    "\n",
    "`metrics.r2_score()`\n"
   ]
  },
  {
   "cell_type": "markdown",
      "metadata": {
      "deletable": false,
      "editable": false,
    "id": "qAJBq_TrG1E4"
   },
   "source": [
    "\n",
    "**Step 2 - Calculate knn model’s correctness**\n",
    "\n",
    "The r2_score() function takes 2 parameters to calculate the correctness score and helps measure the percentage of correct predictions. So let’s compare **CO2Emission** from the test dataset and **predictions** from the model we just created.\n",
    "The **r2_score**() method takes 2 parameters to calculate the R2 score.\n",
    "- *Test data labels*: **test[‘CO2Emission’]**\n",
    "- *The predicted labels*: **predictions**\n"
   ]
  },
  {
   "cell_type": "markdown",
      "metadata": {
      "deletable": false,
      "editable": false,
    "id": "XP8ZRdZKG6Ic"
   },
   "source": [
    "\n",
    "**Step 3 - Compare testing labels with the predicted values**\n",
    "\n",
    "So let’s compare **CO2Emission** from the test dataset and **predictions** from the model we just created.\n",
    "\n",
    "`metrics.r2_score(test[‘CO2Emission’], predictions)`\n"
   ]
  },
  {
   "cell_type": "markdown",
      "metadata": {
      "deletable": false,
      "editable": false,
    "id": "ZArnHY0OHEJ1"
   },
   "source": [
    "\n",
    "**Step 4 - Connect the blocks to run the code**\n",
    "\n",
    "Connect the blocks and run the code!\n",
    "<details>\n",
    "    <summary>Click to see the answer...</summary>\n",
    "\n",
    "![](https://pbs.twimg.com/media/GcNPLE0XkAETUid?format=jpg&name=small)\n",
    "</details>"
   ]
  },
  {
   "cell_type": "markdown",
      "metadata": {
      "deletable": false,
      "editable": false,
    "id": "r0sNTUdFHeJz"
   },
   "source": [
    "**Your Turn**: Give it a try! Here we use a metric called r2_score() to verify how accurate our model is by comparing our test labels with predictions!\n"
   ]
  },
  {
   "cell_type": "code",
   "execution_count": 21,
   "metadata": {
    "colab": {
     "base_uri": "https://localhost:8080/"
    },
    "id": "JROO2EY8HfNA",
    "outputId": "0e8c91f9-4231-46c3-f2ae-b508e21fcc70"
   },
   "outputs": [
    {
     "data": {
      "text/plain": [
       "0.8641064866392857"
      ]
     },
     "execution_count": 21,
     "metadata": {},
     "output_type": "execute_result"
    }
   ],
   "source": [
    "#freehand code \n"
   ]
  },
  {
   "cell_type": "markdown",
      "metadata": {
      "deletable": false,
      "editable": false,
    "id": "u7aUMt1BHg8f"
   },
   "source": [
    "**Explanation**: *You have calculated a metric called R-squared to evaluate how well a model’s predictions match the actual values. The R-squared score is a number between 0 and 1. If it’s close to 1, it means the model’s predictions are very close to the actual values, so it’s doing a good job. If it’s closer to 0, it means the predictions aren’t very accurate. In short, a higher R-squared means a better model*."
   ]
  },
  {
   "cell_type": "markdown",
      "metadata": {
      "deletable": false,
      "editable": false,
    "id": "AxidT0GwHrf4"
   },
   "source": [
    "## WHAT DID YOU LEARN?"
   ]
  },
  {
   "cell_type": "markdown",
      "metadata": {
      "deletable": false,
      "editable": false,
    "id": "VINEYsWLHtPS"
   },
   "source": [
    "\n",
    "In this lesson, we learned how to use the K-nearest-neighbor (KNN) algorithm to predict numeric values based on feature similarity. We explored the importance of standardizing data to ensure accurate comparisons and how to choose the optimal value of K to balance model complexity and accuracy. Additionally, we learned to evaluate the model’s performance using residuals and the coefficient of determination (r²). This lesson provided a foundation for understanding non-parametric regression techniques and their applications in real-world scenarios.\n"
   ]
  },
  {
   "cell_type": "markdown",
      "metadata": {
      "deletable": false,
      "editable": false,
    "id": "JAi8dr2WHuMm"
   },
   "source": [
    "\n",
    "## WHAT’S NEXT?"
   ]
  },
  {
   "cell_type": "markdown",
      "metadata": {
      "deletable": false,
      "editable": false,
    "id": "2lxs3BVnHvGX"
   },
   "source": [
    "\n",
    "[Simple Linear Regression](Simple_Linear_Regression.ipynb)\n"
   ]
  },
  {
   "cell_type": "markdown",
      "metadata": {
      "deletable": false,
      "editable": false,
    "id": "aoV3OsnDHv-L"
   },
   "source": [
    "\n",
    "## TELL ME MORE"
   ]
  },
  {
   "cell_type": "markdown",
      "metadata": {
      "deletable": false,
      "editable": false,
    "id": "bgy1cES1Hwmr"
   },
   "source": [
    "\n",
    "- [Datawhys KNN Regression Notebook](https://github.com/memphis-iis/datawhys-content-notebooks-python/blob/master/KNN-regression.ipynb)\n",
    "- [Datawhys KNN Regression Problem-Solving Notebook](https://github.com/memphis-iis/datawhys-content-notebooks-python/blob/master/KNN-regression.ipynb)\n"
   ]
  }
 ],
 "metadata": {
  "colab": {
   "provenance": []
  },
  "kernelspec": {
   "display_name": "Python 3 (ipykernel)",
   "language": "python",
   "name": "python3"
  },
  "language_info": {
   "codemirror_mode": {
    "name": "ipython",
    "version": 3
   },
   "file_extension": ".py",
   "mimetype": "text/x-python",
   "name": "python",
   "nbconvert_exporter": "python",
   "pygments_lexer": "ipython3",
   "version": "3.10.6"
  }
 },
 "nbformat": 4,
 "nbformat_minor": 4
}
