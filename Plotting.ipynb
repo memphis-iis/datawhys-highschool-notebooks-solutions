{
 "cells": [
  {
   "cell_type": "markdown",
      "metadata": {
      "deletable": false,
      "editable": false,
    "id": "Zoa5rpNleaEU"
   },
   "source": [
    "# Plotting"
   ]
  },
  {
   "cell_type": "markdown",
      "metadata": {
      "deletable": false,
      "editable": false,
    "id": "cYrVxgQQenlO"
   },
   "source": [
    "## ANTICIPATED LESSON TIME\n"
   ]
  },
  {
   "cell_type": "markdown",
      "metadata": {
      "deletable": false,
      "editable": false,
    "id": "WeCfuJeUennh"
   },
   "source": [
    "2 hours\n"
   ]
  },
  {
   "cell_type": "markdown",
      "metadata": {
      "deletable": false,
      "editable": false,
    "id": "kt66Hm3ufVPU"
   },
   "source": [
    "## BEFORE YOU BEGIN:\n"
   ]
  },
  {
   "cell_type": "markdown",
      "metadata": {
      "deletable": false,
      "editable": false,
    "id": "SwIYoTTyfYRl"
   },
   "source": [
    "[Data Science and the Nature of Data](Datascience_and_the_Nature_of_Data.ipynb)\n"
   ]
  },
  {
   "cell_type": "markdown",
      "metadata": {
      "deletable": false,
      "editable": false,
    "id": "C5yF3YwbfVU4"
   },
   "source": [
    "## WHAT YOU WILL LEARN\n"
   ]
  },
  {
   "cell_type": "markdown",
      "metadata": {
      "deletable": false,
      "editable": false,
    "id": "IXDnKMfqfVXf"
   },
   "source": [
    "\n",
    "- What is data visualization?\n",
    "- Why is data visualization important, and how do we apply it?\n",
    "- How to identify the different levels of measurement (nominal, - ordinal, interval, ratio).\n",
    "- How to create and interpret plots like scatter, bar, line, and histograms.\n",
    "- How are plots created and interpreted?\n",
    "- How is data analyzed through loading and manipulating data in a dataframe? (e.g., probability distributions)\n"
   ]
  },
  {
   "cell_type": "markdown",
      "metadata": {
      "deletable": false,
      "editable": false,
    "id": "00-z6TjfhEbt"
   },
   "source": [
    "## SCENARIO"
   ]
  },
  {
   "cell_type": "markdown",
      "metadata": {
      "deletable": false,
      "editable": false,
    "deletable": false,
    "editable": false,
    "html": "<iframe class='metadata-html' width='560' height='315' src='https://video.olney.ai/2-plotting.mp4' title='YouTube video player' frameborder='0' allow='accelerometer; autoplay; clipboard-write; encrypted-media; gyroscope; picture-in-picture; web-share' referrerpolicy='strict-origin-when-cross-origin' allowfullscreen></iframe>",
    "id": "npqY6ZiSbavX",
    "slideshow": {
     "slide_type": ""
    },
    "tags": []
   },
   "source": [
    "\n",
    "\n",
    "Ethan recently took a trip to the Netherlands as a foreign exchange student. He quickly noticed that most people use public transportation. He also noticed how clean the air quality is compared to his home. He learned that the Netherlands took steps to improve their public transportation system, and now, they have one of the best public transportation systems in the world, which improved their air quality over time.  \n",
    "\n",
    "Ethan thought about his bus route to school and how much traffic he encounters when he is home. He wants to use data science to help analyze what causes the delays and potential pollution problems in his hometown. Using data science will help him analyze traffic data in both countries, such as vehicle speeds and traffic flow, to improve traffic management and reduce congestion. Comparing data from both countries will help him find solutions to improving his quality of life at home.\n"
   ]
  },
  {
   "cell_type": "markdown",
      "metadata": {
      "deletable": false,
      "editable": false
   },
   "source": [
    "## WHAT DO I NEED TO KNOW?"
   ]
  },
  {
   "cell_type": "markdown",
      "metadata": {
      "deletable": false,
      "editable": false,
    "id": "qrgUmfOahWzU"
   },
   "source": [
    "\n",
    "\n",
    "The thing about data is that it can add up really quickly. So one way to solve the problem is by trying to visualize the data, which can help us see patterns we might miss. Data visualization can include things like charts, plots, graphs, and maps (and many more). You will notice the type of variable (nominal, ordinal, interval, and ratio) that we described in the [Data Science and the Nature of Data](Data_Science_and_the_Nature_of_Data.ipynb) will be really helpful for certain data visualizations.\n",
    "\n",
    "So…what are the four most often used plots?\n"
   ]
  },
  {
   "cell_type": "markdown",
      "metadata": {
      "deletable": false,
      "editable": false,
    "id": "-ZNNgMI0hW1p"
   },
   "source": [
    "| Kind of Visualization | What it Means | What it Looks Like |\n",
    "| :-------------------- | ------------- | -----------------: |\n",
    "| Scatter Plots         | *What does all my data look like?* <br><br> Scatter plots include all of the data points along the Y <br> (numbers up and down) and X (numbers across) axis | ![scatter](https://pbs.twimg.com/media/GZaad5YWsAA1eWu?format=png&name=900x900) |\n",
    "| Bar Plots             |   *How many are in each category?* <br><br> Bar plots use ‘bars’ to show a value for a specific variable.<br>The Y axis are the totals, while the X axis are the categories. | ![bar](https://pbs.twimg.com/media/GZaaY1bWMAALgUZ?format=png&name=900x900) |\n",
    "| Line Plots            |  *What do the trends look like?* <br><br> Line plots are for non-categorical variables, (e.g., numeric variables).<br>You can have multiple lines on a single plot,<br>in which case each line is a category like bar plots. | ![line](https://pbs.twimg.com/media/GZaaQiwXUAAP6WU?format=png&name=900x900) |\n",
    "| Histogram             |  How many in a specific number range <br><br>Histograms show the count of a single non-categorical variable. <br> Be careful though. While it looks similar to Bar Plots,<br> the X axis describes how many are grouped in a specific number range | ![hist](https://pbs.twimg.com/media/GZaaJE3XYAAjKcJ?format=png&name=900x900) |\n"
   ]
  },
  {
   "cell_type": "markdown",
      "metadata": {
      "deletable": false,
      "editable": false,
    "id": "AoYlgQ7KkLiJ"
   },
   "source": [
    "Our first thing to do is bring in (import) the package we want. This “package” gives us special features that help us solve Ethan’s problem. Think of it as kind of an ‘add-on’ that gives you extra data science help. We’ll give that package an easy-to-remember name to make things even more accessible."
   ]
  },
  {
   "cell_type": "markdown",
      "metadata": {
      "deletable": false,
      "editable": false,
    "id": "VJLLwc3qkiKs"
   },
   "source": [
    "## YOUR TURN"
   ]
  },
  {
   "cell_type": "markdown",
      "metadata": {
      "deletable": false,
      "editable": false,
    "id": "yjoUuv0pjDxb"
   },
   "source": [
    "\n",
    "Now that you understand plotting and how it helps us to visualize or see data, it’s time to practice applying these concepts! As you go through this, think about how tools like scatter plots, bar plots, line plots, and histograms help us identify patterns and trends so that we can make decisions based on our data!"
   ]
  },
  {
   "cell_type": "markdown",
      "metadata": {
      "deletable": false,
      "editable": false,
    "id": "cWFl04Uma3HF"
   },
   "source": [
    "### Goal 1: Importing the pandas Library\n",
    "\n",
    "We are going to do more data science stuff, so let’s bring in the pandas library again."
   ]
  },
  {
   "cell_type": "markdown",
      "metadata": {
      "deletable": false,
      "editable": false,
    "id": "iG-b9Twaa3Jp",
    "jp-MarkdownHeadingCollapsed": true
   },
   "source": [
    "#### Blockly"
   ]
  },
  {
   "cell_type": "markdown",
      "metadata": {
      "deletable": false,
      "editable": false,
    "id": "M6ptFz3ua3Qp"
   },
   "source": [
    "**Step 1 - Starting the import**\n",
    "\n",
    "First, we need to set up a “command” to tell the computer what to do. In this case, “command” is to “import” to bring the add-on package in.\n",
    "\n",
    "Bring in the IMPORT menu, which can be helpful to bring in other data tools. In this case, we're bringing in the **import** block.\n"
   ]
  },
  {
   "cell_type": "markdown",
      "metadata": {
      "deletable": false,
      "editable": false,
    "id": "pB0r94uGbOH7"
   },
   "source": [
    "\n",
    "\n",
    "\n",
    "**Step 2 - Telling what library to import**\n",
    "\n",
    "In the text area, we type the name of the library we want to import. A library is like an extra thing we bring in to give us more coding abilities. In our case, we will type out **pandas**, which will bring in some cool data manipulation features.\n",
    "\n"
   ]
  },
  {
   "cell_type": "markdown",
      "metadata": {
      "deletable": false,
      "editable": false,
    "id": "0g_UxdWDbOKT"
   },
   "source": [
    "**Step 3 - Renaming the library so it’s easy to remember**\n",
    "\n",
    "Once you are done, put the **import** and **package** together in a single variable. This handy feature helps cut down on all the typing later on. You can call it whatever is easiest for you to remember. In the example below, we’ve put everything into **pd**, and we type it in the open area.\n",
    "\n"
   ]
  },
  {
   "cell_type": "markdown",
      "metadata": {
      "deletable": false,
      "editable": false,
    "id": "_GdfMrJFbOM2"
   },
   "source": [
    "\n",
    "**Step 4 - Connect the blocks to run the code**\n",
    "\n",
    "Connect the blocks and run the code!\n",
    "\n",
    "<details>\n",
    "    <summary>Click to see the answer...</summary>\n",
    "\n",
    "\n",
    "![](https://pbs.twimg.com/media/GcxNkjYXkAAlpKD?format=png&name=240x240)\n",
    "\n",
    "</details>"
   ]
  },
  {
   "cell_type": "code",
   "execution_count": 4,
   "metadata": {},
   "outputs": [],
   "source": [
    "#blocks code\n"
   ]
  },
  {
   "cell_type": "markdown",
      "metadata": {
      "deletable": false,
      "editable": false,
    "id": "r6OkEtV2a3Sx",
    "jp-MarkdownHeadingCollapsed": true
   },
   "source": [
    "#### Freehand"
   ]
  },
  {
   "cell_type": "markdown",
      "metadata": {
      "deletable": false,
      "editable": false,
    "id": "AygZpMZjb2b7"
   },
   "source": [
    "\n",
    "**Step 1 - Starting the import**\n",
    "\n",
    "First, we need to set up a “command” to tell the computer what to do. In this case, “command” is to “import” to bring the add-on package in."
   ]
  },
  {
   "cell_type": "markdown",
      "metadata": {
      "deletable": false,
      "editable": false,
    "id": "0tLIaiRQb2eJ"
   },
   "source": [
    "\n",
    "**Step 2 - Telling what library to import:**\n",
    "\n",
    "In the text area, we type the name of the library we want to import. A library is like an extra thing we bring in to give us more coding abilities. In our case, we will type out **pandas**, which will bring in some cool data manipulation features."
   ]
  },
  {
   "cell_type": "markdown",
      "metadata": {
      "deletable": false,
      "editable": false,
    "id": "2XcGmKzdb2gZ"
   },
   "source": [
    "\n",
    "**Step 3 - Renaming the library so it’s easy to remember**\n",
    "\n",
    "Once you are done, put the ‘import’ and ‘package’ together in a single variable. This handy feature helps cut down on all the typing later on. Feel free to use whatever name you want that will help you remember it later on. In the example below, we’ve put everything into **pd**."
   ]
  },
  {
   "cell_type": "markdown",
      "metadata": {
      "deletable": false,
      "editable": false,
    "id": "WTAbO_Ctb2in"
   },
   "source": [
    "\n",
    "**Step 4 - Run the code**\n",
    "\n",
    "Hit ‘control’ and ‘enter’ at the same time to run the data science magic!\n",
    "\n",
    "<details>\n",
    "    <summary>Click to see the answer...</summary>\n",
    "\n",
    "\n",
    "![](https://pbs.twimg.com/media/GZmkVCYWEA4oGso?format=jpg&name=small)\n",
    "\n",
    "</details>"
   ]
  },
  {
   "cell_type": "markdown",
      "metadata": {
      "deletable": false,
      "editable": false,
    "id": "2UDvW0Xhb2k7"
   },
   "source": [
    "\n",
    "**Your Turn**: Now it’s your turn! We’re going to dive into the pandas package, which helps us with some really cool data science things. First, let’s import the package and assign it to the variable “pd” to make it easier to use throughout our notebook."
   ]
  },
  {
   "cell_type": "code",
   "execution_count": 1,
   "metadata": {
    "id": "6JI-SlLPcUN0"
   },
   "outputs": [],
   "source": [
    "#freehand code \n"
   ]
  },
  {
   "cell_type": "markdown",
      "metadata": {
      "deletable": false,
      "editable": false,
    "id": "5GlM_qtwb2nR"
   },
   "source": [
    "**Explanation**: *Congrats!  Your attempts finally made it!  Now you have successfully imported the \"pandas\" package as the variable \"pd\".*"
   ]
  },
  {
   "cell_type": "markdown",
      "metadata": {
      "deletable": false,
      "editable": false,
    "id": "Pr3aHaoHcdRe"
   },
   "source": [
    "### Goal 2: Import the Plotly.\n",
    "\n",
    "Express Library We’ve already brought pandas to help with data science. Let’s bring in Plotly Express to help with some fancy-pants visualizations.\n"
   ]
  },
  {
   "cell_type": "markdown",
      "metadata": {
      "deletable": false,
      "editable": false,
    "id": "khsh2LbLcgDq",
    "jp-MarkdownHeadingCollapsed": true
   },
   "source": [
    "#### Blockly"
   ]
  },
  {
   "cell_type": "markdown",
      "metadata": {
      "deletable": false,
      "editable": false,
    "id": "QLZzWxSxcgF6"
   },
   "source": [
    "**Step 1 - Starting the import**\n",
    "\n",
    "First, we need to set up a “command” to tell the computer what to do. In this case, “command” is to “import” to bring the add-on package in.\n",
    "\n",
    "Bring in the IMPORT menu, which can be helpful to bring in other data tools. In this case, we're bringing in the **import** block.\n"
   ]
  },
  {
   "cell_type": "markdown",
      "metadata": {
      "deletable": false,
      "editable": false,
    "id": "55rTxP2JcgIa"
   },
   "source": [
    "\n",
    "**Step 2 - Telling what library to import**\n",
    "\n",
    "In the text area, we type the name of the library we want to import. A library is like an extra thing we bring in to give us more coding abilities. In our case, we will type out the **plotly.express** library. Plotly is a popular library in Python that provides functions for fancy-pants data visualizations.\n"
   ]
  },
  {
   "cell_type": "markdown",
      "metadata": {
      "deletable": false,
      "editable": false,
    "id": "OjLyx5TWcgK9"
   },
   "source": [
    "\n",
    "**Step 3 - Renaming the library so it’s easy to remember**\n",
    "\n",
    "Once you are done, put the **import** and **plotly.express** together in a single variable. This handy feature helps cut down on all the typing later on. You can call it whatever is easiest for you to remember. In the example below, we’ve put everything into px so it’s easier to remember.\n",
    "\n"
   ]
  },
  {
   "cell_type": "markdown",
      "metadata": {
      "deletable": false,
      "editable": false,
    "id": "yjCjB2dQcgNF"
   },
   "source": [
    "**Step 4 - Connect the blocks to run the code**\n",
    "\n",
    "Connect the blocks and run the code!\n",
    "\n",
    "<details>\n",
    "    <summary>Click to see the answer...</summary>\n",
    "\n",
    "![](https://pbs.twimg.com/media/GaON4A9XsAANFz2?format=png&name=240x240\n",
    ")\n",
    "\n",
    "</details>"
   ]
  },
  {
   "cell_type": "code",
   "execution_count": 5,
   "metadata": {},
   "outputs": [],
   "source": [
    "#blocks code\n"
   ]
  },
  {
   "cell_type": "markdown",
      "metadata": {
      "deletable": false,
      "editable": false,
    "id": "dUx47VGjcgPe",
    "jp-MarkdownHeadingCollapsed": true
   },
   "source": [
    "#### Freehand"
   ]
  },
  {
   "cell_type": "markdown",
      "metadata": {
      "deletable": false,
      "editable": false,
    "id": "PgeY-bDVe8si"
   },
   "source": [
    "**Step 1 - Starting the import**\n",
    "\n",
    "First, we need to set up a “command” to tell the computer what to do. In this case, “command” is to “import” to bring the add-on package in.\n",
    "\n"
   ]
  },
  {
   "cell_type": "markdown",
      "metadata": {
      "deletable": false,
      "editable": false,
    "id": "uFRsu4Ale8zv"
   },
   "source": [
    "**Step 2 - Telling what library to import**\n",
    "\n",
    "In the text area, we type the name of the library we want to import. A library is like an extra thing we bring in to give us more coding abilities. In our case, we will type out the **plotly.express** library. Plotly is a popular library in Python that provides functions for fancy-pants data visualizations.\n"
   ]
  },
  {
   "cell_type": "markdown",
      "metadata": {
      "deletable": false,
      "editable": false,
    "id": "LpuqLj53e82S"
   },
   "source": [
    "**Step 3 - Renaming the library so it’s easy to remember**\n",
    "\n",
    "Once you are done, put the ‘import’ and ‘package’ together in a single variable. This handy feature helps cut down on all the typing later on. Feel free to use whatever name you want that will help you remember it later on. In the example below, we’ve put everything into **px**.\n",
    "\n"
   ]
  },
  {
   "cell_type": "markdown",
      "metadata": {
      "deletable": false,
      "editable": false,
    "id": "G7mI49pPe84v"
   },
   "source": [
    "**Step 4 - Run the code**\n",
    "\n",
    "Hit ‘control’ and ‘enter’ at the same time to run the data science magic!\n",
    "\n",
    "<details>\n",
    "    <summary>Click to see the answer...</summary>\n",
    "\n",
    "![](https://pbs.twimg.com/media/GaON1ppW0AIrmJh?format=png&name=360x360\n",
    ")\n",
    "\n",
    "</details>"
   ]
  },
  {
   "cell_type": "markdown",
      "metadata": {
      "deletable": false,
      "editable": false,
    "id": "D2RqqkcMcgRp"
   },
   "source": [
    "**Your Turn**: Now it’s your turn! We’re going to bring in Plotly Express to help with those visualizations. Let’s start the import making sure to rename it before we run it."
   ]
  },
  {
   "cell_type": "code",
   "execution_count": 5,
   "metadata": {
    "id": "8V6fOBUmgau3"
   },
   "outputs": [],
   "source": [
    "#freehand code \n"
   ]
  },
  {
   "cell_type": "markdown",
      "metadata": {
      "deletable": false,
      "editable": false,
    "id": "M2xNTO-sgcit"
   },
   "source": [
    "**Explanation**: *Congrats! Your attempts finally made it! Now you have successfully imported the **plotly.express** package as the variable **px**.*"
   ]
  },
  {
   "cell_type": "markdown",
      "metadata": {
      "deletable": false,
      "editable": false,
    "id": "ldxSP0ctgidT"
   },
   "source": [
    "### Goal 3: Bringing in the Dataframe\n",
    "\n",
    "Let’s bring in the data that we want to look at.\n"
   ]
  },
  {
   "cell_type": "markdown",
      "metadata": {
      "deletable": false,
      "editable": false,
    "id": "EfGmLcivhUmF",
    "jp-MarkdownHeadingCollapsed": true
   },
   "source": [
    "#### Blockly"
   ]
  },
  {
   "cell_type": "markdown",
      "metadata": {
      "deletable": false,
      "editable": false,
    "id": "l9DDc-CWgutE"
   },
   "source": [
    "\n",
    "**Step 1 - Write out the variable name you want to use**\n",
    "\n",
    "Now that we’re all set with our new package to help us to do cool things, let’s bring the data into a variable and call it **data**. Think of it as a digital spreadsheet with much more power to analyze and manipulate the data!\n",
    "\n",
    "In Blockly, bring in the VARIABLES menu.\n"
   ]
  },
  {
   "cell_type": "markdown",
      "metadata": {
      "deletable": false,
      "editable": false,
    "id": "0lpwic4DguvX"
   },
   "source": [
    "\n",
    "**Step 2 - Assign the dataframe to the variable you created**\n",
    "\n",
    "Just like we did before, let’s type out a variable name. Rather than type out the full file name for our data, this easy to remember name will hold the data we bring in.\n",
    "\n",
    "In Blockly, go to the Variables and drag the Set block for the **data** variable. This will allow us to assign the result of a function call to the variable. A function is basically code that does a specific task for us."
   ]
  },
  {
   "cell_type": "markdown",
      "metadata": {
      "deletable": false,
      "editable": false,
    "id": "SpXpzASwgux4"
   },
   "source": [
    "\n",
    "\n",
    "**Step 3 - Bring in the data**\n",
    "Now we need to look at the file that has all our data. To load our dataframe, we’ll use a simple command to bring in the file we need (CSV….Comma Separated Values). Let’s say we have a file called ‘AirQuality.csv' in the folder **‘datasets’**. We’re telling Python to read the CSV file and store it in a variable called **data**.\n",
    "\n",
    "From the Variable menu, drag a DO block using the **pd** variable, go ahead with the do operation read_csv. The **read_csv** function reads a CSV file and returns a DataFrame object.\n",
    "\n",
    "In our case, let’s bring in the “datasets/AirQualityIndex.csv\" (use the Quotes from the TEXT menu) because that is what Angelina is working with.\n"
   ]
  },
  {
   "cell_type": "markdown",
      "metadata": {
      "deletable": false,
      "editable": false,
    "id": "b9S7YPyygu0g"
   },
   "source": [
    "\n",
    "**Step 4 - Display the variable**\n",
    "\n",
    "Let’s see it now by ‘displaying’ and showing our work.\n",
    "\n",
    "Drag the **data** variable to the workspace, making it available for further use in our program. This step is more of a visualization step, allowing us to see the variable in the Blockly workspace.\n"
   ]
  },
  {
   "cell_type": "markdown",
      "metadata": {
      "deletable": false,
      "editable": false,
    "id": "4aM3Rgangu22"
   },
   "source": [
    "\n",
    "**Step 5 - Connect the blocks to run the code**\n",
    "\n",
    "Connect the blocks and run the code!\n",
    "\n",
    "<details>\n",
    "    <summary>Click to see the answer...</summary>\n",
    "\n",
    "\n",
    "![](https://pbs.twimg.com/media/GhDkmMDXkAAe_5K?format=png&name=small)\n",
    "\n",
    "</details>"
   ]
  },
  {
   "cell_type": "code",
   "execution_count": 2,
   "metadata": {},
   "outputs": [
    {
     "data": {
      "text/html": [
       "<div>\n",
       "<style scoped>\n",
       "    .dataframe tbody tr th:only-of-type {\n",
       "        vertical-align: middle;\n",
       "    }\n",
       "\n",
       "    .dataframe tbody tr th {\n",
       "        vertical-align: top;\n",
       "    }\n",
       "\n",
       "    .dataframe thead th {\n",
       "        text-align: right;\n",
       "    }\n",
       "</style>\n",
       "<table border=\"1\" class=\"dataframe\">\n",
       "  <thead>\n",
       "    <tr style=\"text-align: right;\">\n",
       "      <th></th>\n",
       "      <th>TrafficVolume</th>\n",
       "      <th>AverageSpeed</th>\n",
       "      <th>CO2Emissions</th>\n",
       "      <th>NoiseLevel</th>\n",
       "      <th>TrafficCondition</th>\n",
       "    </tr>\n",
       "  </thead>\n",
       "  <tbody>\n",
       "    <tr>\n",
       "      <th>0</th>\n",
       "      <td>2222.222222</td>\n",
       "      <td>75</td>\n",
       "      <td>33.898305</td>\n",
       "      <td>33.75</td>\n",
       "      <td>Free Flow</td>\n",
       "    </tr>\n",
       "    <tr>\n",
       "      <th>1</th>\n",
       "      <td>1666.666667</td>\n",
       "      <td>50</td>\n",
       "      <td>33.898305</td>\n",
       "      <td>33.75</td>\n",
       "      <td>Free Flow</td>\n",
       "    </tr>\n",
       "    <tr>\n",
       "      <th>2</th>\n",
       "      <td>1111.111111</td>\n",
       "      <td>60</td>\n",
       "      <td>25.423729</td>\n",
       "      <td>33.75</td>\n",
       "      <td>Free Flow</td>\n",
       "    </tr>\n",
       "    <tr>\n",
       "      <th>3</th>\n",
       "      <td>833.333333</td>\n",
       "      <td>55</td>\n",
       "      <td>42.372881</td>\n",
       "      <td>33.75</td>\n",
       "      <td>Free Flow</td>\n",
       "    </tr>\n",
       "    <tr>\n",
       "      <th>4</th>\n",
       "      <td>1944.444444</td>\n",
       "      <td>80</td>\n",
       "      <td>33.898305</td>\n",
       "      <td>33.75</td>\n",
       "      <td>Free Flow</td>\n",
       "    </tr>\n",
       "    <tr>\n",
       "      <th>...</th>\n",
       "      <td>...</td>\n",
       "      <td>...</td>\n",
       "      <td>...</td>\n",
       "      <td>...</td>\n",
       "      <td>...</td>\n",
       "    </tr>\n",
       "    <tr>\n",
       "      <th>145</th>\n",
       "      <td>6666.666667</td>\n",
       "      <td>50</td>\n",
       "      <td>355.932203</td>\n",
       "      <td>112.50</td>\n",
       "      <td>Heavy</td>\n",
       "    </tr>\n",
       "    <tr>\n",
       "      <th>146</th>\n",
       "      <td>5555.555556</td>\n",
       "      <td>25</td>\n",
       "      <td>338.983051</td>\n",
       "      <td>97.50</td>\n",
       "      <td>Heavy</td>\n",
       "    </tr>\n",
       "    <tr>\n",
       "      <th>147</th>\n",
       "      <td>6111.111111</td>\n",
       "      <td>50</td>\n",
       "      <td>355.932203</td>\n",
       "      <td>101.25</td>\n",
       "      <td>Heavy</td>\n",
       "    </tr>\n",
       "    <tr>\n",
       "      <th>148</th>\n",
       "      <td>5277.777778</td>\n",
       "      <td>70</td>\n",
       "      <td>372.881356</td>\n",
       "      <td>112.50</td>\n",
       "      <td>Heavy</td>\n",
       "    </tr>\n",
       "    <tr>\n",
       "      <th>149</th>\n",
       "      <td>4444.444444</td>\n",
       "      <td>50</td>\n",
       "      <td>347.457627</td>\n",
       "      <td>93.75</td>\n",
       "      <td>Heavy</td>\n",
       "    </tr>\n",
       "  </tbody>\n",
       "</table>\n",
       "<p>150 rows × 5 columns</p>\n",
       "</div>"
      ],
      "text/plain": [
       "     TrafficVolume  AverageSpeed  CO2Emissions  NoiseLevel TrafficCondition\n",
       "0      2222.222222            75     33.898305       33.75        Free Flow\n",
       "1      1666.666667            50     33.898305       33.75        Free Flow\n",
       "2      1111.111111            60     25.423729       33.75        Free Flow\n",
       "3       833.333333            55     42.372881       33.75        Free Flow\n",
       "4      1944.444444            80     33.898305       33.75        Free Flow\n",
       "..             ...           ...           ...         ...              ...\n",
       "145    6666.666667            50    355.932203      112.50            Heavy\n",
       "146    5555.555556            25    338.983051       97.50            Heavy\n",
       "147    6111.111111            50    355.932203      101.25            Heavy\n",
       "148    5277.777778            70    372.881356      112.50            Heavy\n",
       "149    4444.444444            50    347.457627       93.75            Heavy\n",
       "\n",
       "[150 rows x 5 columns]"
      ]
     },
     "execution_count": 2,
     "metadata": {},
     "output_type": "execute_result"
    }
   ],
   "source": [
    "#blocks code\n"
   ]
  },
  {
   "cell_type": "markdown",
      "metadata": {
      "deletable": false,
      "editable": false,
    "id": "j-7QkjJnhRDb",
    "jp-MarkdownHeadingCollapsed": true
   },
   "source": [
    "#### Freehand"
   ]
  },
  {
   "cell_type": "markdown",
      "metadata": {
      "deletable": false,
      "editable": false,
    "id": "wYPekg_4hYBm"
   },
   "source": [
    "\n",
    "**Step 1 - Write out the variable name you want to use**\n",
    "\n",
    "Now that we’re all set with our new package to help us to do cool things let’s bring the **data** into a variable called data. Think of it as a digital spreadsheet with much more power to analyze and manipulate the data!\n",
    "\n",
    "Just like we did before, let’s type out a variable name. Rather than type out the full file name for our data, this easy to remember name will hold the data we bring in."
   ]
  },
  {
   "cell_type": "markdown",
      "metadata": {
      "deletable": false,
      "editable": false,
    "id": "0Oe4RUbFhYD2"
   },
   "source": [
    "\n",
    "\n",
    "**Step 2 - Assign the Dataframe to the Variable You Created**\n",
    "\n",
    "Just like we did before, let’s type out a variable name. Rather than type out the full file name for our data, this easy to remember name will hold the data we bring in."
   ]
  },
  {
   "cell_type": "markdown",
      "metadata": {
      "deletable": false,
      "editable": false,
    "id": "qw1cT6r6hYGP"
   },
   "source": [
    "\n",
    "**Step 3 - Bring in the data**\n",
    "\n",
    "Now, we need to look at the file that has all our data.\n",
    "\n",
    "To load our dataframe, we’ll use a simple command to bring in the file we need (CSV….Comma Separated Values). Let’s say we have a file called ‘AirQuality.csv’ in the folder **‘datasets’**. We’re telling Python to read the CSV file and store it in a variable called **data**. For this function, we need to specify the code as “pd.read_csv”, which makes the code read the csv file. This variable is now our dataframe!\n",
    "\n",
    "In our case, let’s bring in the “datasets/AirQualityIndex.csv\" (user the Quotes from the TEXT menu) because that is what Kiana is working with.\n"
   ]
  },
  {
   "cell_type": "markdown",
      "metadata": {
      "deletable": false,
      "editable": false,
    "id": "y5bE1Qm7hYIk"
   },
   "source": [
    "**Step 4 - Print the Variable**\n",
    "\n",
    "Let’s see it now by ‘printing’ and showing our work."
   ]
  },
  {
   "cell_type": "markdown",
      "metadata": {
      "deletable": false,
      "editable": false,
    "id": "JqEgFhw5hYK4"
   },
   "source": [
    "\n",
    "**Step 5 - Run the code**\n",
    "Hit ‘control’ and ‘enter’ at the same time to run the code!\n",
    "<details>\n",
    "    <summary>Click to see the answer...</summary>\n",
    "\n",
    "\n",
    "![](https://pbs.twimg.com/media/GhDkgM8X0AAQ2se?format=png&name=small)\n",
    "\n",
    "</details>"
   ]
  },
  {
   "cell_type": "markdown",
      "metadata": {
      "deletable": false,
      "editable": false,
    "id": "tH9-Yq6ihYNi"
   },
   "source": [
    "**Your Turn**: Let’s dive in and start working with the data! We’ll begin by loading it into a dataframe, which will allow us to interact with and analyze the dataset easily."
   ]
  },
  {
   "cell_type": "code",
   "execution_count": 29,
   "metadata": {
    "colab": {
     "base_uri": "https://localhost:8080/",
     "height": 423
    },
    "id": "ob1w2J0LiiCX",
    "outputId": "e6398c63-7d0d-478d-e9a2-48c8a071910e"
   },
   "outputs": [
    {
     "data": {
      "application/vnd.google.colaboratory.intrinsic+json": {
       "summary": "{\n  \"name\": \"data\",\n  \"rows\": 150,\n  \"fields\": [\n    {\n      \"column\": \"TrafficVolume\",\n      \"properties\": {\n        \"dtype\": \"number\",\n        \"std\": 2300.1836888404623,\n        \"min\": 0.0,\n        \"max\": 10000.0,\n        \"num_unique_values\": 35,\n        \"samples\": [\n          5277.777778,\n          555.5555556,\n          3611.111111\n        ],\n        \"semantic_type\": \"\",\n        \"description\": \"\"\n      }\n    },\n    {\n      \"column\": \"AverageSpeed\",\n      \"properties\": {\n        \"dtype\": \"number\",\n        \"std\": 21,\n        \"min\": 0,\n        \"max\": 120,\n        \"num_unique_values\": 23,\n        \"samples\": [\n          15,\n          100,\n          75\n        ],\n        \"semantic_type\": \"\",\n        \"description\": \"\"\n      }\n    },\n    {\n      \"column\": \"CO2Emissions\",\n      \"properties\": {\n        \"dtype\": \"number\",\n        \"std\": 149.52715423255,\n        \"min\": 0.0,\n        \"max\": 500.0,\n        \"num_unique_values\": 43,\n        \"samples\": [\n          483.0508475,\n          237.2881356,\n          228.8135593\n        ],\n        \"semantic_type\": \"\",\n        \"description\": \"\"\n      }\n    },\n    {\n      \"column\": \"NoiseLevel\",\n      \"properties\": {\n        \"dtype\": \"number\",\n        \"std\": 28.61852781378158,\n        \"min\": 30.0,\n        \"max\": 120.0,\n        \"num_unique_values\": 22,\n        \"samples\": [\n          33.75,\n          71.25,\n          75.0\n        ],\n        \"semantic_type\": \"\",\n        \"description\": \"\"\n      }\n    },\n    {\n      \"column\": \"TrafficCondition\",\n      \"properties\": {\n        \"dtype\": \"category\",\n        \"num_unique_values\": 3,\n        \"samples\": [\n          \"Free Flow\",\n          \"Moderate\",\n          \"Heavy\"\n        ],\n        \"semantic_type\": \"\",\n        \"description\": \"\"\n      }\n    }\n  ]\n}",
       "type": "dataframe",
       "variable_name": "data"
      },
      "text/html": [
       "\n",
       "  <div id=\"df-9cccb193-f652-421f-a7e8-98682198ea3e\" class=\"colab-df-container\">\n",
       "    <div>\n",
       "<style scoped>\n",
       "    .dataframe tbody tr th:only-of-type {\n",
       "        vertical-align: middle;\n",
       "    }\n",
       "\n",
       "    .dataframe tbody tr th {\n",
       "        vertical-align: top;\n",
       "    }\n",
       "\n",
       "    .dataframe thead th {\n",
       "        text-align: right;\n",
       "    }\n",
       "</style>\n",
       "<table border=\"1\" class=\"dataframe\">\n",
       "  <thead>\n",
       "    <tr style=\"text-align: right;\">\n",
       "      <th></th>\n",
       "      <th>TrafficVolume</th>\n",
       "      <th>AverageSpeed</th>\n",
       "      <th>CO2Emissions</th>\n",
       "      <th>NoiseLevel</th>\n",
       "      <th>TrafficCondition</th>\n",
       "    </tr>\n",
       "  </thead>\n",
       "  <tbody>\n",
       "    <tr>\n",
       "      <th>0</th>\n",
       "      <td>2222.222222</td>\n",
       "      <td>75</td>\n",
       "      <td>33.898305</td>\n",
       "      <td>33.75</td>\n",
       "      <td>Free Flow</td>\n",
       "    </tr>\n",
       "    <tr>\n",
       "      <th>1</th>\n",
       "      <td>1666.666667</td>\n",
       "      <td>50</td>\n",
       "      <td>33.898305</td>\n",
       "      <td>33.75</td>\n",
       "      <td>Free Flow</td>\n",
       "    </tr>\n",
       "    <tr>\n",
       "      <th>2</th>\n",
       "      <td>1111.111111</td>\n",
       "      <td>60</td>\n",
       "      <td>25.423729</td>\n",
       "      <td>33.75</td>\n",
       "      <td>Free Flow</td>\n",
       "    </tr>\n",
       "    <tr>\n",
       "      <th>3</th>\n",
       "      <td>833.333333</td>\n",
       "      <td>55</td>\n",
       "      <td>42.372881</td>\n",
       "      <td>33.75</td>\n",
       "      <td>Free Flow</td>\n",
       "    </tr>\n",
       "    <tr>\n",
       "      <th>4</th>\n",
       "      <td>1944.444444</td>\n",
       "      <td>80</td>\n",
       "      <td>33.898305</td>\n",
       "      <td>33.75</td>\n",
       "      <td>Free Flow</td>\n",
       "    </tr>\n",
       "    <tr>\n",
       "      <th>...</th>\n",
       "      <td>...</td>\n",
       "      <td>...</td>\n",
       "      <td>...</td>\n",
       "      <td>...</td>\n",
       "      <td>...</td>\n",
       "    </tr>\n",
       "    <tr>\n",
       "      <th>145</th>\n",
       "      <td>6666.666667</td>\n",
       "      <td>50</td>\n",
       "      <td>355.932203</td>\n",
       "      <td>112.50</td>\n",
       "      <td>Heavy</td>\n",
       "    </tr>\n",
       "    <tr>\n",
       "      <th>146</th>\n",
       "      <td>5555.555556</td>\n",
       "      <td>25</td>\n",
       "      <td>338.983051</td>\n",
       "      <td>97.50</td>\n",
       "      <td>Heavy</td>\n",
       "    </tr>\n",
       "    <tr>\n",
       "      <th>147</th>\n",
       "      <td>6111.111111</td>\n",
       "      <td>50</td>\n",
       "      <td>355.932203</td>\n",
       "      <td>101.25</td>\n",
       "      <td>Heavy</td>\n",
       "    </tr>\n",
       "    <tr>\n",
       "      <th>148</th>\n",
       "      <td>5277.777778</td>\n",
       "      <td>70</td>\n",
       "      <td>372.881356</td>\n",
       "      <td>112.50</td>\n",
       "      <td>Heavy</td>\n",
       "    </tr>\n",
       "    <tr>\n",
       "      <th>149</th>\n",
       "      <td>4444.444444</td>\n",
       "      <td>50</td>\n",
       "      <td>347.457627</td>\n",
       "      <td>93.75</td>\n",
       "      <td>Heavy</td>\n",
       "    </tr>\n",
       "  </tbody>\n",
       "</table>\n",
       "<p>150 rows × 5 columns</p>\n",
       "</div>\n",
       "    <div class=\"colab-df-buttons\">\n",
       "\n",
       "  <div class=\"colab-df-container\">\n",
       "    <button class=\"colab-df-convert\" onclick=\"convertToInteractive('df-9cccb193-f652-421f-a7e8-98682198ea3e')\"\n",
       "            title=\"Convert this dataframe to an interactive table.\"\n",
       "            style=\"display:none;\">\n",
       "\n",
       "  <svg xmlns=\"http://www.w3.org/2000/svg\" height=\"24px\" viewBox=\"0 -960 960 960\">\n",
       "    <path d=\"M120-120v-720h720v720H120Zm60-500h600v-160H180v160Zm220 220h160v-160H400v160Zm0 220h160v-160H400v160ZM180-400h160v-160H180v160Zm440 0h160v-160H620v160ZM180-180h160v-160H180v160Zm440 0h160v-160H620v160Z\"/>\n",
       "  </svg>\n",
       "    </button>\n",
       "\n",
       "  <style>\n",
       "    .colab-df-container {\n",
       "      display:flex;\n",
       "      gap: 12px;\n",
       "    }\n",
       "\n",
       "    .colab-df-convert {\n",
       "      background-color: #E8F0FE;\n",
       "      border: none;\n",
       "      border-radius: 50%;\n",
       "      cursor: pointer;\n",
       "      display: none;\n",
       "      fill: #1967D2;\n",
       "      height: 32px;\n",
       "      padding: 0 0 0 0;\n",
       "      width: 32px;\n",
       "    }\n",
       "\n",
       "    .colab-df-convert:hover {\n",
       "      background-color: #E2EBFA;\n",
       "      box-shadow: 0px 1px 2px rgba(60, 64, 67, 0.3), 0px 1px 3px 1px rgba(60, 64, 67, 0.15);\n",
       "      fill: #174EA6;\n",
       "    }\n",
       "\n",
       "    .colab-df-buttons div {\n",
       "      margin-bottom: 4px;\n",
       "    }\n",
       "\n",
       "    [theme=dark] .colab-df-convert {\n",
       "      background-color: #3B4455;\n",
       "      fill: #D2E3FC;\n",
       "    }\n",
       "\n",
       "    [theme=dark] .colab-df-convert:hover {\n",
       "      background-color: #434B5C;\n",
       "      box-shadow: 0px 1px 3px 1px rgba(0, 0, 0, 0.15);\n",
       "      filter: drop-shadow(0px 1px 2px rgba(0, 0, 0, 0.3));\n",
       "      fill: #FFFFFF;\n",
       "    }\n",
       "  </style>\n",
       "\n",
       "    <script>\n",
       "      const buttonEl =\n",
       "        document.querySelector('#df-9cccb193-f652-421f-a7e8-98682198ea3e button.colab-df-convert');\n",
       "      buttonEl.style.display =\n",
       "        google.colab.kernel.accessAllowed ? 'block' : 'none';\n",
       "\n",
       "      async function convertToInteractive(key) {\n",
       "        const element = document.querySelector('#df-9cccb193-f652-421f-a7e8-98682198ea3e');\n",
       "        const dataTable =\n",
       "          await google.colab.kernel.invokeFunction('convertToInteractive',\n",
       "                                                    [key], {});\n",
       "        if (!dataTable) return;\n",
       "\n",
       "        const docLinkHtml = 'Like what you see? Visit the ' +\n",
       "          '<a target=\"_blank\" href=https://colab.research.google.com/notebooks/data_table.ipynb>data table notebook</a>'\n",
       "          + ' to learn more about interactive tables.';\n",
       "        element.innerHTML = '';\n",
       "        dataTable['output_type'] = 'display_data';\n",
       "        await google.colab.output.renderOutput(dataTable, element);\n",
       "        const docLink = document.createElement('div');\n",
       "        docLink.innerHTML = docLinkHtml;\n",
       "        element.appendChild(docLink);\n",
       "      }\n",
       "    </script>\n",
       "  </div>\n",
       "\n",
       "\n",
       "<div id=\"df-47457fed-b57a-4b30-baee-e647f88e5322\">\n",
       "  <button class=\"colab-df-quickchart\" onclick=\"quickchart('df-47457fed-b57a-4b30-baee-e647f88e5322')\"\n",
       "            title=\"Suggest charts\"\n",
       "            style=\"display:none;\">\n",
       "\n",
       "<svg xmlns=\"http://www.w3.org/2000/svg\" height=\"24px\"viewBox=\"0 0 24 24\"\n",
       "     width=\"24px\">\n",
       "    <g>\n",
       "        <path d=\"M19 3H5c-1.1 0-2 .9-2 2v14c0 1.1.9 2 2 2h14c1.1 0 2-.9 2-2V5c0-1.1-.9-2-2-2zM9 17H7v-7h2v7zm4 0h-2V7h2v10zm4 0h-2v-4h2v4z\"/>\n",
       "    </g>\n",
       "</svg>\n",
       "  </button>\n",
       "\n",
       "<style>\n",
       "  .colab-df-quickchart {\n",
       "      --bg-color: #E8F0FE;\n",
       "      --fill-color: #1967D2;\n",
       "      --hover-bg-color: #E2EBFA;\n",
       "      --hover-fill-color: #174EA6;\n",
       "      --disabled-fill-color: #AAA;\n",
       "      --disabled-bg-color: #DDD;\n",
       "  }\n",
       "\n",
       "  [theme=dark] .colab-df-quickchart {\n",
       "      --bg-color: #3B4455;\n",
       "      --fill-color: #D2E3FC;\n",
       "      --hover-bg-color: #434B5C;\n",
       "      --hover-fill-color: #FFFFFF;\n",
       "      --disabled-bg-color: #3B4455;\n",
       "      --disabled-fill-color: #666;\n",
       "  }\n",
       "\n",
       "  .colab-df-quickchart {\n",
       "    background-color: var(--bg-color);\n",
       "    border: none;\n",
       "    border-radius: 50%;\n",
       "    cursor: pointer;\n",
       "    display: none;\n",
       "    fill: var(--fill-color);\n",
       "    height: 32px;\n",
       "    padding: 0;\n",
       "    width: 32px;\n",
       "  }\n",
       "\n",
       "  .colab-df-quickchart:hover {\n",
       "    background-color: var(--hover-bg-color);\n",
       "    box-shadow: 0 1px 2px rgba(60, 64, 67, 0.3), 0 1px 3px 1px rgba(60, 64, 67, 0.15);\n",
       "    fill: var(--button-hover-fill-color);\n",
       "  }\n",
       "\n",
       "  .colab-df-quickchart-complete:disabled,\n",
       "  .colab-df-quickchart-complete:disabled:hover {\n",
       "    background-color: var(--disabled-bg-color);\n",
       "    fill: var(--disabled-fill-color);\n",
       "    box-shadow: none;\n",
       "  }\n",
       "\n",
       "  .colab-df-spinner {\n",
       "    border: 2px solid var(--fill-color);\n",
       "    border-color: transparent;\n",
       "    border-bottom-color: var(--fill-color);\n",
       "    animation:\n",
       "      spin 1s steps(1) infinite;\n",
       "  }\n",
       "\n",
       "  @keyframes spin {\n",
       "    0% {\n",
       "      border-color: transparent;\n",
       "      border-bottom-color: var(--fill-color);\n",
       "      border-left-color: var(--fill-color);\n",
       "    }\n",
       "    20% {\n",
       "      border-color: transparent;\n",
       "      border-left-color: var(--fill-color);\n",
       "      border-top-color: var(--fill-color);\n",
       "    }\n",
       "    30% {\n",
       "      border-color: transparent;\n",
       "      border-left-color: var(--fill-color);\n",
       "      border-top-color: var(--fill-color);\n",
       "      border-right-color: var(--fill-color);\n",
       "    }\n",
       "    40% {\n",
       "      border-color: transparent;\n",
       "      border-right-color: var(--fill-color);\n",
       "      border-top-color: var(--fill-color);\n",
       "    }\n",
       "    60% {\n",
       "      border-color: transparent;\n",
       "      border-right-color: var(--fill-color);\n",
       "    }\n",
       "    80% {\n",
       "      border-color: transparent;\n",
       "      border-right-color: var(--fill-color);\n",
       "      border-bottom-color: var(--fill-color);\n",
       "    }\n",
       "    90% {\n",
       "      border-color: transparent;\n",
       "      border-bottom-color: var(--fill-color);\n",
       "    }\n",
       "  }\n",
       "</style>\n",
       "\n",
       "  <script>\n",
       "    async function quickchart(key) {\n",
       "      const quickchartButtonEl =\n",
       "        document.querySelector('#' + key + ' button');\n",
       "      quickchartButtonEl.disabled = true;  // To prevent multiple clicks.\n",
       "      quickchartButtonEl.classList.add('colab-df-spinner');\n",
       "      try {\n",
       "        const charts = await google.colab.kernel.invokeFunction(\n",
       "            'suggestCharts', [key], {});\n",
       "      } catch (error) {\n",
       "        console.error('Error during call to suggestCharts:', error);\n",
       "      }\n",
       "      quickchartButtonEl.classList.remove('colab-df-spinner');\n",
       "      quickchartButtonEl.classList.add('colab-df-quickchart-complete');\n",
       "    }\n",
       "    (() => {\n",
       "      let quickchartButtonEl =\n",
       "        document.querySelector('#df-47457fed-b57a-4b30-baee-e647f88e5322 button');\n",
       "      quickchartButtonEl.style.display =\n",
       "        google.colab.kernel.accessAllowed ? 'block' : 'none';\n",
       "    })();\n",
       "  </script>\n",
       "</div>\n",
       "\n",
       "  <div id=\"id_787c3df2-39db-4a1f-a45c-014a8db395a4\">\n",
       "    <style>\n",
       "      .colab-df-generate {\n",
       "        background-color: #E8F0FE;\n",
       "        border: none;\n",
       "        border-radius: 50%;\n",
       "        cursor: pointer;\n",
       "        display: none;\n",
       "        fill: #1967D2;\n",
       "        height: 32px;\n",
       "        padding: 0 0 0 0;\n",
       "        width: 32px;\n",
       "      }\n",
       "\n",
       "      .colab-df-generate:hover {\n",
       "        background-color: #E2EBFA;\n",
       "        box-shadow: 0px 1px 2px rgba(60, 64, 67, 0.3), 0px 1px 3px 1px rgba(60, 64, 67, 0.15);\n",
       "        fill: #174EA6;\n",
       "      }\n",
       "\n",
       "      [theme=dark] .colab-df-generate {\n",
       "        background-color: #3B4455;\n",
       "        fill: #D2E3FC;\n",
       "      }\n",
       "\n",
       "      [theme=dark] .colab-df-generate:hover {\n",
       "        background-color: #434B5C;\n",
       "        box-shadow: 0px 1px 3px 1px rgba(0, 0, 0, 0.15);\n",
       "        filter: drop-shadow(0px 1px 2px rgba(0, 0, 0, 0.3));\n",
       "        fill: #FFFFFF;\n",
       "      }\n",
       "    </style>\n",
       "    <button class=\"colab-df-generate\" onclick=\"generateWithVariable('data')\"\n",
       "            title=\"Generate code using this dataframe.\"\n",
       "            style=\"display:none;\">\n",
       "\n",
       "  <svg xmlns=\"http://www.w3.org/2000/svg\" height=\"24px\"viewBox=\"0 0 24 24\"\n",
       "       width=\"24px\">\n",
       "    <path d=\"M7,19H8.4L18.45,9,17,7.55,7,17.6ZM5,21V16.75L18.45,3.32a2,2,0,0,1,2.83,0l1.4,1.43a1.91,1.91,0,0,1,.58,1.4,1.91,1.91,0,0,1-.58,1.4L9.25,21ZM18.45,9,17,7.55Zm-12,3A5.31,5.31,0,0,0,4.9,8.1,5.31,5.31,0,0,0,1,6.5,5.31,5.31,0,0,0,4.9,4.9,5.31,5.31,0,0,0,6.5,1,5.31,5.31,0,0,0,8.1,4.9,5.31,5.31,0,0,0,12,6.5,5.46,5.46,0,0,0,6.5,12Z\"/>\n",
       "  </svg>\n",
       "    </button>\n",
       "    <script>\n",
       "      (() => {\n",
       "      const buttonEl =\n",
       "        document.querySelector('#id_787c3df2-39db-4a1f-a45c-014a8db395a4 button.colab-df-generate');\n",
       "      buttonEl.style.display =\n",
       "        google.colab.kernel.accessAllowed ? 'block' : 'none';\n",
       "\n",
       "      buttonEl.onclick = () => {\n",
       "        google.colab.notebook.generateWithVariable('data');\n",
       "      }\n",
       "      })();\n",
       "    </script>\n",
       "  </div>\n",
       "\n",
       "    </div>\n",
       "  </div>\n"
      ],
      "text/plain": [
       "     TrafficVolume  AverageSpeed  CO2Emissions  NoiseLevel TrafficCondition\n",
       "0      2222.222222            75     33.898305       33.75        Free Flow\n",
       "1      1666.666667            50     33.898305       33.75        Free Flow\n",
       "2      1111.111111            60     25.423729       33.75        Free Flow\n",
       "3       833.333333            55     42.372881       33.75        Free Flow\n",
       "4      1944.444444            80     33.898305       33.75        Free Flow\n",
       "..             ...           ...           ...         ...              ...\n",
       "145    6666.666667            50    355.932203      112.50            Heavy\n",
       "146    5555.555556            25    338.983051       97.50            Heavy\n",
       "147    6111.111111            50    355.932203      101.25            Heavy\n",
       "148    5277.777778            70    372.881356      112.50            Heavy\n",
       "149    4444.444444            50    347.457627       93.75            Heavy\n",
       "\n",
       "[150 rows x 5 columns]"
      ]
     },
     "execution_count": 29,
     "metadata": {},
     "output_type": "execute_result"
    }
   ],
   "source": [
    "#freehand code \n"
   ]
  },
  {
   "cell_type": "markdown",
      "metadata": {
      "deletable": false,
      "editable": false,
    "id": "G-1tdfXYhYPz"
   },
   "source": [
    "**Explanation**:  *Voila! The variable ‘data’ is now our dataframe! You have now brought in the dataframe and stored it in handy software that you can reference later on. Now, on to the fun part!*\n",
    "\n",
    "*The dataset has information about how clean or polluted the air is in different places over time. It includes details like the date, location, and levels of things that can make the air dirty, such as ozone, carbon monoxide, and dust particles. Sometimes, it also shows the weather, like temperature and wind speed, which can affect air quality. High school students can look at this data to see patterns in air pollution, understand what causes the air to be cleaner or dirtier, and learn why good air quality is essential for our health and the environment.*\n"
   ]
  },
  {
   "cell_type": "markdown",
      "metadata": {
      "deletable": false,
      "editable": false,
    "id": "9PJSb4-Tiow2"
   },
   "source": [
    "### Goal 4: Building a Scatter Plot\n",
    "\n",
    "Scatter plots help us to look at each data point when it comes to interval ratio data. The scatter plot shows us the relationship between two variables in a data set. The independent variable is plotted on the X-axis, while the dependent variable is plotted on the Y-axis. They are super handy for finding the relationship between different numeric variables."
   ]
  },
  {
   "cell_type": "markdown",
      "metadata": {
      "deletable": false,
      "editable": false,
    "id": "jyjIldKvi0-_",
    "jp-MarkdownHeadingCollapsed": true
   },
   "source": [
    "#### Blockly"
   ]
  },
  {
   "cell_type": "markdown",
      "metadata": {
      "deletable": false,
      "editable": false,
    "id": "-tZhDuHvi2Iv"
   },
   "source": [
    "\n",
    "**Step 1 - Call the scatter function from Plotly**\n",
    "\n",
    "To make a scatterplot, we first need to call the scatter function with our plotly library (px).\n",
    "\n",
    "From the Variables menu, drag a DO block for the **px** variable. Select the \"**scatter**\" function. This specifies the function we want to call, which is the scatter function from the Plotly Express library (imported as \"**px**\" earlier).\n"
   ]
  },
  {
   "cell_type": "markdown",
      "metadata": {
      "deletable": false,
      "editable": false,
    "id": "9ZHR1Yl3i2K9"
   },
   "source": [
    "\n",
    "**Step 2 - Saying what data to use for the scatter plot**\n",
    "\n",
    "In order to make a plot, we need to choose its source from which data we want to plot from. In this case, our dataset is stored in the dataframe **data**.\n",
    "\n",
    "For the first argument, drag from the Variable menu the **data** variable. This allows us to specify a dataframe and what to look at for the scatter function."
   ]
  },
  {
   "cell_type": "markdown",
      "metadata": {
      "deletable": false,
      "editable": false,
    "id": "YnhjKt5qi2NA"
   },
   "source": [
    "\n",
    "\n",
    "**Step 3 - Tell Plotly what columns to put on the axis**\n",
    "\n",
    "Identify the two variables you want to look at. One variable will be alongside the X-axis (*across*) and another one alongside the Y-axis (*up and down*). In our context, we want to see the relationship between TrafficVolume and CO2Emissions. We will assign the variables to the 2 axes in the graph.\n",
    "\n",
    "From the TEXT menu, drag the Quotes. Type the text **TrafficVolume**. This specifies TrafficVolume as the x-axis variable for the scatter plot. Also, from the TEXT menu, drag the Quotes. Type the text **CO2Emissions**. This specifies TrafficVolume as the x-axis variable for the scatter plot.\n",
    "\n"
   ]
  },
  {
   "cell_type": "markdown",
      "metadata": {
      "deletable": false,
      "editable": false,
    "id": "evXRFBbJi2PV"
   },
   "source": [
    "**Step 4 - Connect the blocks to run the code**\n",
    "\n",
    "Connect the blocks and run the code!\n",
    "\n",
    "<details>\n",
    "    <summary>Click to see the answer...</summary>\n",
    "\n",
    "![](https://pbs.twimg.com/media/GZjsNSEW8AUehfZ?format=png&name=small)\n",
    "\n",
    "</details>"
   ]
  },
  {
   "cell_type": "code",
   "execution_count": null,
   "metadata": {},
   "outputs": [],
   "source": [
    "#blocks code\n"
   ]
  },
  {
   "cell_type": "markdown",
      "metadata": {
      "deletable": false,
      "editable": false,
    "id": "u8OpkbPYi2RR",
    "jp-MarkdownHeadingCollapsed": true
   },
   "source": [
    "#### Freehand"
   ]
  },
  {
   "cell_type": "markdown",
      "metadata": {
      "deletable": false,
      "editable": false,
    "id": "X18WCPHBi2Ta"
   },
   "source": [
    "\n",
    "**Step 1 - Call the scatter function from Plotly**\n",
    "\n",
    "To make a scatterplot, we first need to call the scatter function with our plotly library (**px**).\n",
    "\n",
    "`px.scatter()`"
   ]
  },
  {
   "cell_type": "markdown",
      "metadata": {
      "deletable": false,
      "editable": false,
    "id": "uVhNU-KVi2V1"
   },
   "source": [
    "\n",
    "**Step 2 - Saying what data to use for the scatter plot**\n",
    "\n",
    "In order to make a plot, we need to choose the source from which data we want to plot from. In this case, our dataset is stored in the dataframe “data”\n",
    "\n",
    "`px.scatter(data)`"
   ]
  },
  {
   "cell_type": "markdown",
      "metadata": {
      "deletable": false,
      "editable": false,
    "id": "z-CybT_yi2Xx"
   },
   "source": [
    "\n",
    "**Step 3 - Tell Plotly what the columns to put on the axis**\n",
    "Identify the two variables you want to look at. One variable will be alongside the X-axis (*across*) and another one alongside the Y-axis (*up and down*). In our context, we want to see the relationship between **TrafficVolume** and **CO2Emissions**. We will assign the variables in the 2 axes in the graph\n",
    "\n",
    "`px.scatter(data, x=\"TrafficVolume\", y=\"CO2Emissions\")`\n"
   ]
  },
  {
   "cell_type": "markdown",
      "metadata": {
      "deletable": false,
      "editable": false,
    "id": "_41hgJWQjs-l"
   },
   "source": [
    "**Step 4 - Run the code**\n",
    "\n",
    "Hit ‘control’ and ‘enter’ at the same time to run the code!\n",
    "\n",
    "<details>\n",
    "    <summary>Click to see the answer...</summary>\n",
    "\n",
    "![](https://pbs.twimg.com/media/GdBFjO9XMAAM0f8?format=png&name=small)\n",
    "\n",
    "</details>"
   ]
  },
  {
   "cell_type": "markdown",
      "metadata": {
      "deletable": false,
      "editable": false,
    "id": "0H7rdGZykXz8"
   },
   "source": [
    "**Your Turn**: Let’s see what you can create and what it looks like. Try the code above to create your own scatter plot and see all the data"
   ]
  },
  {
   "cell_type": "code",
   "execution_count": 1,
   "metadata": {
    "colab": {
     "base_uri": "https://localhost:8080/",
     "height": 542
    },
    "id": "vAjforG8kaLM",
    "outputId": "75830232-c3c2-42fe-eda0-9721d9b31158"
   },
   "outputs": [],
   "source": [
    "#freehand code \n"
   ]
  },
  {
   "cell_type": "markdown",
      "metadata": {
      "deletable": false,
      "editable": false,
    "id": "XI4kof55keyb"
   },
   "source": [
    "**Explanation**: *Look at all that data! You should now have a scatter plot that shows all of your data. Do you see any interesting patterns starting to form?*\n",
    "\n",
    "*The scatterplot shows that as Traffic Volume (number of vehicles) increases, CO₂ Emissions (carbon dioxide pollution) also rise. Each blue dot represents a specific data point, and the general trend is that more traffic leads to higher CO₂ emissions. For example, with 2,000 vehicles, emissions stay low, but with 10,000 vehicles, emissions are much higher. What do you think this shows about how traffic contributes to air pollution?*\n"
   ]
  },
  {
   "cell_type": "markdown",
      "metadata": {
      "deletable": false,
      "editable": false,
    "id": "ASWj45mskkA0"
   },
   "source": [
    "### Goal 5: Finding the Average of the Data (Mean)\n",
    "\n",
    "Let’s see if we can get a better understanding of our data by looking at the average (mean). First, let’s go ahead and calculate the average for the categories we see in TrafficCondition."
   ]
  },
  {
   "cell_type": "markdown",
      "metadata": {
      "deletable": false,
      "editable": false,
    "id": "Bn3kNGHUkkDG",
    "jp-MarkdownHeadingCollapsed": true
   },
   "source": [
    "#### Blockly"
   ]
  },
  {
   "cell_type": "markdown",
      "metadata": {
      "deletable": false,
      "editable": false,
    "id": "yylj0GjHkkIk"
   },
   "source": [
    "**Step 1 - Write out the variable name you want to use for the groups**\n",
    "\n",
    "We are going to calculate the averages (mean) of the values for categories found in the TrafficCondition column (freeflow, heavy, moderate) soon. Let’s write out a variable name to create a new variable that will hold these averages.\n",
    "\n",
    "On the \"Variables\" menu, click Create Variable. Type **groups** as the variable name. On the \"Variables\" menu, drag the SET block to the variable **groups**.\n"
   ]
  },
  {
   "cell_type": "markdown",
      "metadata": {
      "deletable": false,
      "editable": false,
    "id": "bRo3P8Mbkzj7"
   },
   "source": [
    "\n",
    "**Step 2 - Finding the categories in the column we are looking at**\n",
    "\n",
    "So now let’s go ahead and find the categories we see in the TrafficCondition (freeflow, heavy, moderate)\n",
    "\n",
    "From the Variable menu, drag the DO block for the data variable. Select the **groupby** DO function from the list of available functions. This specifies the function we want to call, which is the **groupby** function from the **data** object. From the TEXT menu, drag the Quote block (“”). Enter the text string \"**TrafficCondition**\". This specifies the column to group by in the data object.\n",
    "\n",
    "<details>\n",
    "    <summary>Click to see the answer...</summary>\n",
    "\n",
    "![](https://pbs.twimg.com/media/GZjvn0jXYAIF7u-?format=png&name=small)\n",
    "\n",
    "</details>"
   ]
  },
  {
   "cell_type": "code",
   "execution_count": null,
   "metadata": {},
   "outputs": [],
   "source": [
    "#blocks code\n"
   ]
  },
  {
   "cell_type": "markdown",
      "metadata": {
      "deletable": false,
      "editable": false,
    "id": "I-2YP3JHkzmW"
   },
   "source": [
    "\n",
    "**Step 3 - Click blocks to code and run the code cell**\n",
    "\n",
    "Now that we’ve got it all together let’s run to get the averages(means).\n",
    "\n",
    "In the Blockly workspace, click on the \"Blocks to Code\" button to convert the blocks into executable code. Next, run the code cell to execute the code and see the results.\n"
   ]
  },
  {
   "cell_type": "markdown",
      "metadata": {
      "deletable": false,
      "editable": false,
    "id": "W_ZW4WFzkzot"
   },
   "source": [
    "\n",
    "**Step 4 - Write out the variable name you want to use for the groups**\n",
    "\n",
    "In Step 2, we looked at the different categories in TrafficCondition. Now, let’s create a variable that will hold all the averages (means) we have for each category found in in TrafficCondition.\n",
    "\n",
    "On the \"Variables\" menu, click on Create Variable. Type the name averages to the new variable. This specifies the name of the variable we want to create, which is \"**averages**\" in this case. From the Variables menu, drag the SET block for the **averages** variable. This allows us to assign the result of a function call to the variable.\n"
   ]
  },
  {
   "cell_type": "markdown",
      "metadata": {
      "deletable": false,
      "editable": false,
    "id": "JMRU77zakzrC"
   },
   "source": [
    "\n",
    "**Step 5 - Calculate the averages (means) for each category**\n",
    "\n",
    "Now, let’s use Python to calculate the **averages** (means) for us for the new variable (what we called averages) you created!\n",
    "\n",
    "From the Variables menu, drag the DO block for the **groups** variable. Select the \"**mean**\" from the list of available functions. This specifies the function we want to call, which is the **mean** function from the **groups** object.\n"
   ]
  },
  {
   "cell_type": "markdown",
      "metadata": {
      "deletable": false,
      "editable": false,
    "id": "ipZdJDBakztq"
   },
   "source": [
    "\n",
    "**Step 6 - Print the averages (mean) for each category**\n",
    "\n",
    "Now, let’s print the averages variable so we can see the calculated results.\n",
    "\n",
    "From the Variables menu, drag the averages variable block to the workspace so that it will print the calculated results.\n",
    "\n"
   ]
  },
  {
   "cell_type": "markdown",
      "metadata": {
      "deletable": false,
      "editable": false,
    "id": "7hivpfrVkzv-"
   },
   "source": [
    "**Step 7 - Connect the blocks to run the code**\n",
    "\n",
    "Connect the blocks and run the code!\n",
    "\n",
    "![](https://pbs.twimg.com/media/GZa18vWXYAExGfy?format=png&name=360x360)\n"
   ]
  },
  {
   "cell_type": "code",
   "execution_count": null,
   "metadata": {},
   "outputs": [],
   "source": [
    "#blocks code\n"
   ]
  },
  {
   "cell_type": "markdown",
      "metadata": {
      "deletable": false,
      "editable": false,
    "id": "ZEe4ZQzolruw",
    "jp-MarkdownHeadingCollapsed": true
   },
   "source": [
    "#### Freehand"
   ]
  },
  {
   "cell_type": "markdown",
      "metadata": {
      "deletable": false,
      "editable": false,
    "id": "y4GXgK6EltiY"
   },
   "source": [
    "\n",
    "**Step 1 - Write out the variable name you want to use for the groups**\n",
    "\n",
    "We are going to soon calculate the averages (mean) of the values for categories found in the TrafficCondition column (freeflow, heavy, moderate). Let’s write out a variable name to create a new variable that will hold these averages. We write out the variable as **groups**\n",
    "\n",
    "`groups =`\n"
   ]
  },
  {
   "cell_type": "markdown",
      "metadata": {
      "deletable": false,
      "editable": false,
    "id": "hX3Z1EJ-ne8i"
   },
   "source": [
    "\n",
    "**Step 2 - Finding the categories in the column we are looking at**\n",
    "\n",
    "So now let’s go ahead and find the categories we see in the TrafficCondition (freeflow, heavy, moderate)\n",
    "\n",
    "Group the data by the TrafficCondition column, a categorical variable representing different traffic states, to analyze how each condition affects other variables in the dataset. You can do it by the **groupby**() function, getting the ‘TrafficCondition’ as a parameter.\n",
    "\n",
    "`groups = data.groupby('TrafficCondition')`"
   ]
  },
  {
   "cell_type": "code",
   "execution_count": 31,
   "metadata": {
    "id": "F01R-OWppQU3"
   },
   "outputs": [],
   "source": [
    "#freehand code \n"
   ]
  },
  {
   "cell_type": "markdown",
      "metadata": {
      "deletable": false,
      "editable": false,
    "id": "cDKekWMSooH4"
   },
   "source": [
    "\n",
    "<details>\n",
    "    <summary>Click to see the answer...</summary>\n",
    "\n",
    "![](https://pbs.twimg.com/media/GZjvYvWX0AICjtq?format=png&name=small)\n",
    "\n",
    "</details>"
   ]
  },
  {
   "cell_type": "markdown",
      "metadata": {
      "deletable": false,
      "editable": false,
    "id": "qO5yh5UMnfJp"
   },
   "source": [
    "\n",
    "\n",
    "**Step 3 - Run the code**\n",
    "\n",
    "Now that we’ve got it all together let’s run to get the averages(means).\n"
   ]
  },
  {
   "cell_type": "markdown",
      "metadata": {
      "deletable": false,
      "editable": false,
    "id": "3hDyCAXOnfL_"
   },
   "source": [
    "\n",
    "**Step 4 - Write out the variable name you want to use for the groups**\n",
    "\n",
    "In Step 2, we looked at the different categories in TrafficCondition. Now, let’s create a variable that will hold all the averages (means) we have for each category found in in TrafficCondition.\n",
    "\n",
    "`averages =`\n"
   ]
  },
  {
   "cell_type": "markdown",
      "metadata": {
      "deletable": false,
      "editable": false,
    "id": "rTKAGeFSnfOb"
   },
   "source": [
    "\n",
    "\n",
    "**Step 5 - Calculate the averages (means) for each category**\n",
    "\n",
    "Now, let’s use Python to calculate the averages (means) for us for the new variable (what we called **averages**) you created!\n",
    "\n",
    "With the “groups” object, you should call the **mean**() function to calculate the average for all numerical columns.\n",
    "\n",
    "`averages = groups.mean()`\n"
   ]
  },
  {
   "cell_type": "markdown",
      "metadata": {
      "deletable": false,
      "editable": false,
    "id": "OudGHyIynfQz"
   },
   "source": [
    "\n",
    "\n",
    "**Step 6 - Display the averages (mean) for each category**\n",
    "\n",
    "Now, let’s display the **averages** variable so we can see the calculated results.\n",
    "\n",
    "`averages`\n",
    "\n",
    "\n"
   ]
  },
  {
   "cell_type": "markdown",
      "metadata": {
      "deletable": false,
      "editable": false,
    "id": "aFNf-IdJnfTA"
   },
   "source": [
    "\n",
    "**Step 7 - Run the code**\n",
    "\n",
    "Hit ‘control’ and ‘enter’ at the same time to run the code!\n",
    "\n",
    "\n",
    "<details>\n",
    "    <summary>Click to see the answer...</summary>\n",
    "\n",
    "![](https://pbs.twimg.com/media/GZa10s7WEAA_S6L?format=png&name=360x360)\n",
    "</details>"
   ]
  },
  {
   "cell_type": "markdown",
      "metadata": {
      "deletable": false,
      "editable": false,
    "id": "CMG12NuNnfVO"
   },
   "source": [
    "**Your Turn**:   So those are the steps. Can you look at the code and type it in there? Run it and see what you find.\n"
   ]
  },
  {
   "cell_type": "code",
   "execution_count": 32,
   "metadata": {
    "colab": {
     "base_uri": "https://localhost:8080/",
     "height": 175
    },
    "id": "0CQtCjkBpDuF",
    "outputId": "3141b025-c4d5-4801-fc24-7cc8fc921c51"
   },
   "outputs": [
    {
     "data": {
      "application/vnd.google.colaboratory.intrinsic+json": {
       "summary": "{\n  \"name\": \"averages\",\n  \"rows\": 3,\n  \"fields\": [\n    {\n      \"column\": \"TrafficCondition\",\n      \"properties\": {\n        \"dtype\": \"string\",\n        \"num_unique_values\": 3,\n        \"samples\": [\n          \"Free Flow\",\n          \"Heavy\",\n          \"Moderate\"\n        ],\n        \"semantic_type\": \"\",\n        \"description\": \"\"\n      }\n    },\n    {\n      \"column\": \"TrafficVolume\",\n      \"properties\": {\n        \"dtype\": \"number\",\n        \"std\": 2208.5016241731955,\n        \"min\": 1961.111111084,\n        \"max\": 6355.55555558,\n        \"num_unique_values\": 3,\n        \"samples\": [\n          1961.111111084,\n          6355.55555558,\n          4544.44444442\n        ],\n        \"semantic_type\": \"\",\n        \"description\": \"\"\n      }\n    },\n    {\n      \"column\": \"AverageSpeed\",\n      \"properties\": {\n        \"dtype\": \"number\",\n        \"std\": 16.566230711903057,\n        \"min\": 38.5,\n        \"max\": 70.9,\n        \"num_unique_values\": 3,\n        \"samples\": [\n          70.9,\n          48.7,\n          38.5\n        ],\n        \"semantic_type\": \"\",\n        \"description\": \"\"\n      }\n    },\n    {\n      \"column\": \"CO2Emissions\",\n      \"properties\": {\n        \"dtype\": \"number\",\n        \"std\": 177.08493177779982,\n        \"min\": 39.32203389822,\n        \"max\": 385.762711862,\n        \"num_unique_values\": 3,\n        \"samples\": [\n          39.32203389822,\n          385.762711862,\n          276.271186436\n        ],\n        \"semantic_type\": \"\",\n        \"description\": \"\"\n      }\n    },\n    {\n      \"column\": \"NoiseLevel\",\n      \"properties\": {\n        \"dtype\": \"number\",\n        \"std\": 33.667426765346946,\n        \"min\": 35.4,\n        \"max\": 102.225,\n        \"num_unique_values\": 3,\n        \"samples\": [\n          35.4,\n          102.225,\n          75.975\n        ],\n        \"semantic_type\": \"\",\n        \"description\": \"\"\n      }\n    }\n  ]\n}",
       "type": "dataframe",
       "variable_name": "averages"
      },
      "text/html": [
       "\n",
       "  <div id=\"df-08706c1e-3eb9-4808-a90e-2f01606ecd03\" class=\"colab-df-container\">\n",
       "    <div>\n",
       "<style scoped>\n",
       "    .dataframe tbody tr th:only-of-type {\n",
       "        vertical-align: middle;\n",
       "    }\n",
       "\n",
       "    .dataframe tbody tr th {\n",
       "        vertical-align: top;\n",
       "    }\n",
       "\n",
       "    .dataframe thead th {\n",
       "        text-align: right;\n",
       "    }\n",
       "</style>\n",
       "<table border=\"1\" class=\"dataframe\">\n",
       "  <thead>\n",
       "    <tr style=\"text-align: right;\">\n",
       "      <th></th>\n",
       "      <th>TrafficVolume</th>\n",
       "      <th>AverageSpeed</th>\n",
       "      <th>CO2Emissions</th>\n",
       "      <th>NoiseLevel</th>\n",
       "    </tr>\n",
       "    <tr>\n",
       "      <th>TrafficCondition</th>\n",
       "      <th></th>\n",
       "      <th></th>\n",
       "      <th></th>\n",
       "      <th></th>\n",
       "    </tr>\n",
       "  </thead>\n",
       "  <tbody>\n",
       "    <tr>\n",
       "      <th>Free Flow</th>\n",
       "      <td>1961.111111</td>\n",
       "      <td>70.9</td>\n",
       "      <td>39.322034</td>\n",
       "      <td>35.400</td>\n",
       "    </tr>\n",
       "    <tr>\n",
       "      <th>Heavy</th>\n",
       "      <td>6355.555556</td>\n",
       "      <td>48.7</td>\n",
       "      <td>385.762712</td>\n",
       "      <td>102.225</td>\n",
       "    </tr>\n",
       "    <tr>\n",
       "      <th>Moderate</th>\n",
       "      <td>4544.444444</td>\n",
       "      <td>38.5</td>\n",
       "      <td>276.271186</td>\n",
       "      <td>75.975</td>\n",
       "    </tr>\n",
       "  </tbody>\n",
       "</table>\n",
       "</div>\n",
       "    <div class=\"colab-df-buttons\">\n",
       "\n",
       "  <div class=\"colab-df-container\">\n",
       "    <button class=\"colab-df-convert\" onclick=\"convertToInteractive('df-08706c1e-3eb9-4808-a90e-2f01606ecd03')\"\n",
       "            title=\"Convert this dataframe to an interactive table.\"\n",
       "            style=\"display:none;\">\n",
       "\n",
       "  <svg xmlns=\"http://www.w3.org/2000/svg\" height=\"24px\" viewBox=\"0 -960 960 960\">\n",
       "    <path d=\"M120-120v-720h720v720H120Zm60-500h600v-160H180v160Zm220 220h160v-160H400v160Zm0 220h160v-160H400v160ZM180-400h160v-160H180v160Zm440 0h160v-160H620v160ZM180-180h160v-160H180v160Zm440 0h160v-160H620v160Z\"/>\n",
       "  </svg>\n",
       "    </button>\n",
       "\n",
       "  <style>\n",
       "    .colab-df-container {\n",
       "      display:flex;\n",
       "      gap: 12px;\n",
       "    }\n",
       "\n",
       "    .colab-df-convert {\n",
       "      background-color: #E8F0FE;\n",
       "      border: none;\n",
       "      border-radius: 50%;\n",
       "      cursor: pointer;\n",
       "      display: none;\n",
       "      fill: #1967D2;\n",
       "      height: 32px;\n",
       "      padding: 0 0 0 0;\n",
       "      width: 32px;\n",
       "    }\n",
       "\n",
       "    .colab-df-convert:hover {\n",
       "      background-color: #E2EBFA;\n",
       "      box-shadow: 0px 1px 2px rgba(60, 64, 67, 0.3), 0px 1px 3px 1px rgba(60, 64, 67, 0.15);\n",
       "      fill: #174EA6;\n",
       "    }\n",
       "\n",
       "    .colab-df-buttons div {\n",
       "      margin-bottom: 4px;\n",
       "    }\n",
       "\n",
       "    [theme=dark] .colab-df-convert {\n",
       "      background-color: #3B4455;\n",
       "      fill: #D2E3FC;\n",
       "    }\n",
       "\n",
       "    [theme=dark] .colab-df-convert:hover {\n",
       "      background-color: #434B5C;\n",
       "      box-shadow: 0px 1px 3px 1px rgba(0, 0, 0, 0.15);\n",
       "      filter: drop-shadow(0px 1px 2px rgba(0, 0, 0, 0.3));\n",
       "      fill: #FFFFFF;\n",
       "    }\n",
       "  </style>\n",
       "\n",
       "    <script>\n",
       "      const buttonEl =\n",
       "        document.querySelector('#df-08706c1e-3eb9-4808-a90e-2f01606ecd03 button.colab-df-convert');\n",
       "      buttonEl.style.display =\n",
       "        google.colab.kernel.accessAllowed ? 'block' : 'none';\n",
       "\n",
       "      async function convertToInteractive(key) {\n",
       "        const element = document.querySelector('#df-08706c1e-3eb9-4808-a90e-2f01606ecd03');\n",
       "        const dataTable =\n",
       "          await google.colab.kernel.invokeFunction('convertToInteractive',\n",
       "                                                    [key], {});\n",
       "        if (!dataTable) return;\n",
       "\n",
       "        const docLinkHtml = 'Like what you see? Visit the ' +\n",
       "          '<a target=\"_blank\" href=https://colab.research.google.com/notebooks/data_table.ipynb>data table notebook</a>'\n",
       "          + ' to learn more about interactive tables.';\n",
       "        element.innerHTML = '';\n",
       "        dataTable['output_type'] = 'display_data';\n",
       "        await google.colab.output.renderOutput(dataTable, element);\n",
       "        const docLink = document.createElement('div');\n",
       "        docLink.innerHTML = docLinkHtml;\n",
       "        element.appendChild(docLink);\n",
       "      }\n",
       "    </script>\n",
       "  </div>\n",
       "\n",
       "\n",
       "<div id=\"df-81729e8d-8fed-4839-a759-ff4a924d0472\">\n",
       "  <button class=\"colab-df-quickchart\" onclick=\"quickchart('df-81729e8d-8fed-4839-a759-ff4a924d0472')\"\n",
       "            title=\"Suggest charts\"\n",
       "            style=\"display:none;\">\n",
       "\n",
       "<svg xmlns=\"http://www.w3.org/2000/svg\" height=\"24px\"viewBox=\"0 0 24 24\"\n",
       "     width=\"24px\">\n",
       "    <g>\n",
       "        <path d=\"M19 3H5c-1.1 0-2 .9-2 2v14c0 1.1.9 2 2 2h14c1.1 0 2-.9 2-2V5c0-1.1-.9-2-2-2zM9 17H7v-7h2v7zm4 0h-2V7h2v10zm4 0h-2v-4h2v4z\"/>\n",
       "    </g>\n",
       "</svg>\n",
       "  </button>\n",
       "\n",
       "<style>\n",
       "  .colab-df-quickchart {\n",
       "      --bg-color: #E8F0FE;\n",
       "      --fill-color: #1967D2;\n",
       "      --hover-bg-color: #E2EBFA;\n",
       "      --hover-fill-color: #174EA6;\n",
       "      --disabled-fill-color: #AAA;\n",
       "      --disabled-bg-color: #DDD;\n",
       "  }\n",
       "\n",
       "  [theme=dark] .colab-df-quickchart {\n",
       "      --bg-color: #3B4455;\n",
       "      --fill-color: #D2E3FC;\n",
       "      --hover-bg-color: #434B5C;\n",
       "      --hover-fill-color: #FFFFFF;\n",
       "      --disabled-bg-color: #3B4455;\n",
       "      --disabled-fill-color: #666;\n",
       "  }\n",
       "\n",
       "  .colab-df-quickchart {\n",
       "    background-color: var(--bg-color);\n",
       "    border: none;\n",
       "    border-radius: 50%;\n",
       "    cursor: pointer;\n",
       "    display: none;\n",
       "    fill: var(--fill-color);\n",
       "    height: 32px;\n",
       "    padding: 0;\n",
       "    width: 32px;\n",
       "  }\n",
       "\n",
       "  .colab-df-quickchart:hover {\n",
       "    background-color: var(--hover-bg-color);\n",
       "    box-shadow: 0 1px 2px rgba(60, 64, 67, 0.3), 0 1px 3px 1px rgba(60, 64, 67, 0.15);\n",
       "    fill: var(--button-hover-fill-color);\n",
       "  }\n",
       "\n",
       "  .colab-df-quickchart-complete:disabled,\n",
       "  .colab-df-quickchart-complete:disabled:hover {\n",
       "    background-color: var(--disabled-bg-color);\n",
       "    fill: var(--disabled-fill-color);\n",
       "    box-shadow: none;\n",
       "  }\n",
       "\n",
       "  .colab-df-spinner {\n",
       "    border: 2px solid var(--fill-color);\n",
       "    border-color: transparent;\n",
       "    border-bottom-color: var(--fill-color);\n",
       "    animation:\n",
       "      spin 1s steps(1) infinite;\n",
       "  }\n",
       "\n",
       "  @keyframes spin {\n",
       "    0% {\n",
       "      border-color: transparent;\n",
       "      border-bottom-color: var(--fill-color);\n",
       "      border-left-color: var(--fill-color);\n",
       "    }\n",
       "    20% {\n",
       "      border-color: transparent;\n",
       "      border-left-color: var(--fill-color);\n",
       "      border-top-color: var(--fill-color);\n",
       "    }\n",
       "    30% {\n",
       "      border-color: transparent;\n",
       "      border-left-color: var(--fill-color);\n",
       "      border-top-color: var(--fill-color);\n",
       "      border-right-color: var(--fill-color);\n",
       "    }\n",
       "    40% {\n",
       "      border-color: transparent;\n",
       "      border-right-color: var(--fill-color);\n",
       "      border-top-color: var(--fill-color);\n",
       "    }\n",
       "    60% {\n",
       "      border-color: transparent;\n",
       "      border-right-color: var(--fill-color);\n",
       "    }\n",
       "    80% {\n",
       "      border-color: transparent;\n",
       "      border-right-color: var(--fill-color);\n",
       "      border-bottom-color: var(--fill-color);\n",
       "    }\n",
       "    90% {\n",
       "      border-color: transparent;\n",
       "      border-bottom-color: var(--fill-color);\n",
       "    }\n",
       "  }\n",
       "</style>\n",
       "\n",
       "  <script>\n",
       "    async function quickchart(key) {\n",
       "      const quickchartButtonEl =\n",
       "        document.querySelector('#' + key + ' button');\n",
       "      quickchartButtonEl.disabled = true;  // To prevent multiple clicks.\n",
       "      quickchartButtonEl.classList.add('colab-df-spinner');\n",
       "      try {\n",
       "        const charts = await google.colab.kernel.invokeFunction(\n",
       "            'suggestCharts', [key], {});\n",
       "      } catch (error) {\n",
       "        console.error('Error during call to suggestCharts:', error);\n",
       "      }\n",
       "      quickchartButtonEl.classList.remove('colab-df-spinner');\n",
       "      quickchartButtonEl.classList.add('colab-df-quickchart-complete');\n",
       "    }\n",
       "    (() => {\n",
       "      let quickchartButtonEl =\n",
       "        document.querySelector('#df-81729e8d-8fed-4839-a759-ff4a924d0472 button');\n",
       "      quickchartButtonEl.style.display =\n",
       "        google.colab.kernel.accessAllowed ? 'block' : 'none';\n",
       "    })();\n",
       "  </script>\n",
       "</div>\n",
       "\n",
       "  <div id=\"id_ed6bb139-043c-4799-93fc-be33852ff68a\">\n",
       "    <style>\n",
       "      .colab-df-generate {\n",
       "        background-color: #E8F0FE;\n",
       "        border: none;\n",
       "        border-radius: 50%;\n",
       "        cursor: pointer;\n",
       "        display: none;\n",
       "        fill: #1967D2;\n",
       "        height: 32px;\n",
       "        padding: 0 0 0 0;\n",
       "        width: 32px;\n",
       "      }\n",
       "\n",
       "      .colab-df-generate:hover {\n",
       "        background-color: #E2EBFA;\n",
       "        box-shadow: 0px 1px 2px rgba(60, 64, 67, 0.3), 0px 1px 3px 1px rgba(60, 64, 67, 0.15);\n",
       "        fill: #174EA6;\n",
       "      }\n",
       "\n",
       "      [theme=dark] .colab-df-generate {\n",
       "        background-color: #3B4455;\n",
       "        fill: #D2E3FC;\n",
       "      }\n",
       "\n",
       "      [theme=dark] .colab-df-generate:hover {\n",
       "        background-color: #434B5C;\n",
       "        box-shadow: 0px 1px 3px 1px rgba(0, 0, 0, 0.15);\n",
       "        filter: drop-shadow(0px 1px 2px rgba(0, 0, 0, 0.3));\n",
       "        fill: #FFFFFF;\n",
       "      }\n",
       "    </style>\n",
       "    <button class=\"colab-df-generate\" onclick=\"generateWithVariable('averages')\"\n",
       "            title=\"Generate code using this dataframe.\"\n",
       "            style=\"display:none;\">\n",
       "\n",
       "  <svg xmlns=\"http://www.w3.org/2000/svg\" height=\"24px\"viewBox=\"0 0 24 24\"\n",
       "       width=\"24px\">\n",
       "    <path d=\"M7,19H8.4L18.45,9,17,7.55,7,17.6ZM5,21V16.75L18.45,3.32a2,2,0,0,1,2.83,0l1.4,1.43a1.91,1.91,0,0,1,.58,1.4,1.91,1.91,0,0,1-.58,1.4L9.25,21ZM18.45,9,17,7.55Zm-12,3A5.31,5.31,0,0,0,4.9,8.1,5.31,5.31,0,0,0,1,6.5,5.31,5.31,0,0,0,4.9,4.9,5.31,5.31,0,0,0,6.5,1,5.31,5.31,0,0,0,8.1,4.9,5.31,5.31,0,0,0,12,6.5,5.46,5.46,0,0,0,6.5,12Z\"/>\n",
       "  </svg>\n",
       "    </button>\n",
       "    <script>\n",
       "      (() => {\n",
       "      const buttonEl =\n",
       "        document.querySelector('#id_ed6bb139-043c-4799-93fc-be33852ff68a button.colab-df-generate');\n",
       "      buttonEl.style.display =\n",
       "        google.colab.kernel.accessAllowed ? 'block' : 'none';\n",
       "\n",
       "      buttonEl.onclick = () => {\n",
       "        google.colab.notebook.generateWithVariable('averages');\n",
       "      }\n",
       "      })();\n",
       "    </script>\n",
       "  </div>\n",
       "\n",
       "    </div>\n",
       "  </div>\n"
      ],
      "text/plain": [
       "                  TrafficVolume  AverageSpeed  CO2Emissions  NoiseLevel\n",
       "TrafficCondition                                                       \n",
       "Free Flow           1961.111111          70.9     39.322034      35.400\n",
       "Heavy               6355.555556          48.7    385.762712     102.225\n",
       "Moderate            4544.444444          38.5    276.271186      75.975"
      ]
     },
     "execution_count": 32,
     "metadata": {},
     "output_type": "execute_result"
    }
   ],
   "source": [
    "#freehand code \n"
   ]
  },
  {
   "cell_type": "markdown",
      "metadata": {
      "deletable": false,
      "editable": false,
    "id": "Fs2QlT1Js1At"
   },
   "source": [
    "**Explanation**: *In Heavy traffic, emissions are the highest, around 400 units, while Moderate traffic leads to medium levels of emissions, around 250 units. This indicates that heavier traffic contributes significantly more to CO₂ emissions than light or free-flowing traffic. It highlights the impact of traffic congestion on air pollution.*"
   ]
  },
  {
   "cell_type": "markdown",
      "metadata": {
      "deletable": false,
      "editable": false,
    "id": "87s1Mk9us3Ol"
   },
   "source": [
    "### Goal 6: Building a Bart Chart for the Average of the Data (Mean)\n",
    "\n",
    "Now, let's build a bar chart for the average data. We’ll use this bar chart to compare CO2 emissions averages for each traffic condition category."
   ]
  },
  {
   "cell_type": "markdown",
      "metadata": {
      "deletable": false,
      "editable": false,
    "id": "NDofZ-tls3Q3",
    "jp-MarkdownHeadingCollapsed": true
   },
   "source": [
    "#### Blockly"
   ]
  },
  {
   "cell_type": "markdown",
      "metadata": {
      "deletable": false,
      "editable": false,
    "id": "Bp8PPBY2s3Td"
   },
   "source": [
    "**Step 1 - Call the bar chart function from Plotly**\n",
    "\n",
    "To make a bar chart, we first need to call the bar chart function with our plotly library (px).\n",
    "\n",
    "From the Variable menu, get a DO block for the **px** variable and select the **bar** operation. From this same menu, get a variable.\n"
   ]
  },
  {
   "cell_type": "markdown",
      "metadata": {
      "deletable": false,
      "editable": false,
    "id": "tpbAvnyms3WJ"
   },
   "source": [
    "\n",
    "**Step 2 -  Saying what data to use for the bar plot**\n",
    "\n",
    "In order to make a plot, we need to choose the source from which data we want to plot from. In this case, our dataset is stored in the dataframe **averages**\n",
    "\n",
    "From the Variables menu, drag a **“averages”** variable. From this same menu, drag two Get blocks, both for the same variable, **“averages”**.\n"
   ]
  },
  {
   "cell_type": "markdown",
      "metadata": {
      "deletable": false,
      "editable": false,
    "id": "WO4j1goTs3Yw"
   },
   "source": [
    "\n",
    "**Step 3 - Tell Plotly what columns to put on the axis**\n",
    "\n",
    "Let’s now create a bar chart using the averages dataset with the **bar**() function from **px**, having the index on the x-axis (across) and CO2Emissions on the y-axis (up and down) from the averages dataset.\n",
    "\n",
    "On the first select the **index** attribute, and on the second one select the attribute **CO2Emissions**. Connect all these elements as shown below and generate a bar chart, comparing CO2 emissions averages for each traffic condition category (free-flow, medium, or heavy).\n",
    "\n",
    "\n"
   ]
  },
  {
   "cell_type": "markdown",
      "metadata": {
      "deletable": false,
      "editable": false,
    "id": "iZWnsleas3bG"
   },
   "source": [
    "**Step 4 - Connect the blocks to run the code**\n",
    "\n",
    "Connect the blocks and run the code!\n",
    "\n",
    "\n",
    "<details>\n",
    "    <summary>Click to see the answer...</summary>\n",
    "\n",
    "![](\n",
    "https://pbs.twimg.com/media/GZkfOSJWgA4g-np?format=png&name=small\n",
    ")\n",
    "\n",
    "</details>"
   ]
  },
  {
   "cell_type": "code",
   "execution_count": null,
   "metadata": {},
   "outputs": [],
   "source": [
    "#blocks code\n"
   ]
  },
  {
   "cell_type": "markdown",
      "metadata": {
      "deletable": false,
      "editable": false,
    "id": "N3ex_NuYtmyE",
    "jp-MarkdownHeadingCollapsed": true
   },
   "source": [
    "#### Freehand"
   ]
  },
  {
   "cell_type": "markdown",
      "metadata": {
      "deletable": false,
      "editable": false,
    "id": "Yt4GTc8_tm3P"
   },
   "source": [
    "\n",
    "**Step 1 - Call the bar chart function from Plotly**\n",
    "\n",
    "To make a bar chart, we first need to call the bar chart function with our plotly library (px).\n",
    "\n",
    "`px.bar()`\n"
   ]
  },
  {
   "cell_type": "markdown",
      "metadata": {
      "deletable": false,
      "editable": false,
    "id": "Gm_gYc7Ntm53"
   },
   "source": [
    "\n",
    "**Step 2 - Saying what data to use for the bar plot**\n",
    "\n",
    "In order to make a plot, we need to choose the source from which data we want to plot from. In this case, our dataset is stored in the dataframe **averages**\n",
    "\n",
    "`px.bar(averages)`\n",
    "\n"
   ]
  },
  {
   "cell_type": "markdown",
      "metadata": {
      "deletable": false,
      "editable": false,
    "id": "g0Sqw6D-tm8i"
   },
   "source": [
    "**Step 3 - Tell Plotly what columns to put on the axis**\n",
    "\n",
    "Let’s now create a bar chart using the averages dataset with the **bar**() function from **px**, having the index on the x-axis (across) and CO2Emissions on the y-axis (up and down) from the averages dataset.\n",
    "\n",
    "`px.bar(averages,averages.index,averages.CO2Emissions)`\n",
    "\n",
    "\n",
    "<details>\n",
    "    <summary>Click to see the answer...</summary>\n",
    "\n",
    "![](https://pbs.twimg.com/media/GZkfJQkWcAwpd2e?format=png&name=small)\n",
    "\n",
    "</details>"
   ]
  },
  {
   "cell_type": "markdown",
      "metadata": {
      "deletable": false,
      "editable": false,
    "id": "tuO91_Cotm_K"
   },
   "source": [
    "**Your Turn**: So those are the steps. Can you look at the code and type it in there? Run it and see what you find."
   ]
  },
  {
   "cell_type": "code",
   "execution_count": 2,
   "metadata": {
    "colab": {
     "base_uri": "https://localhost:8080/",
     "height": 542
    },
    "id": "tKZkJJa4uODG",
    "outputId": "fa9d523f-ff43-4c77-e251-d301a076dc8c"
   },
   "outputs": [],
   "source": [
    "#freehand code \n"
   ]
  },
  {
   "cell_type": "markdown",
      "metadata": {
      "deletable": false,
      "editable": false,
    "id": "xgqg8vOGtnBf"
   },
   "source": [
    "**Explanation**: *This bar chart shows how CO₂ Emissions vary under different Traffic Conditions. When traffic is in Free Flow, the average emissions are very low. In Heavy traffic, emissions are the highest, around 400 units, while Moderate traffic leads to medium levels of emissions, around 250 units. This indicates that heavier traffic contributes significantly more to CO₂ emissions than light or free-flowing traffic. It highlights the impact of traffic congestion on air pollution.*"
   ]
  },
  {
   "cell_type": "markdown",
      "metadata": {
      "deletable": false,
      "editable": false,
    "id": "HwCAyMVAtnF_"
   },
   "source": [
    "### Goal 7: Bringing in Historical Data for a Line Chart\n",
    "\n",
    "Let’s bring in the data that we want to look at using a line chart."
   ]
  },
  {
   "cell_type": "markdown",
      "metadata": {
      "deletable": false,
      "editable": false,
    "id": "Bm8zZhiFuhpH",
    "jp-MarkdownHeadingCollapsed": true
   },
   "source": [
    "#### Blockly"
   ]
  },
  {
   "cell_type": "markdown",
      "metadata": {
      "deletable": false,
      "editable": false,
    "id": "o1opSHfSui3j"
   },
   "source": [
    "\n",
    "**Step 1 - Write out the variable name you want to use**\n",
    "\n",
    "Now that we’re all set with our new package to help us to do cool things, let’s bring the data into a variable and call it **timeseries**. Think of it as a digital spreadsheet with much more power to analyze and manipulate the data!\n",
    "\n",
    "In Blockly, bring in the VARIABLES menu."
   ]
  },
  {
   "cell_type": "markdown",
      "metadata": {
      "deletable": false,
      "editable": false,
    "id": "JAnhZu08ui6P"
   },
   "source": [
    "\n",
    "\n",
    "**Step 2 - Assign the dataframe to the variable you created**\n",
    "\n",
    "Just like we did before, let’s type out a variable name. Rather than type out the full file name for our data, this easy to remember name will hold the data we bring in.\n",
    "\n",
    "In Blockly, go to the Variables and drag the Set block for the **timeseries** variable. This will allow us to assign the result of a function call to the variable. A function is basically code that does a specific task for us.\n"
   ]
  },
  {
   "cell_type": "markdown",
      "metadata": {
      "deletable": false,
      "editable": false,
    "id": "nNsU75qyui8t"
   },
   "source": [
    "\n",
    "**Step 3 - Bring in the data**\n",
    "\n",
    "Now we need to look at the file that has all our data. To load our dataframe, we’ll use a simple command to bring in the file we need (CSV….Comma Separated Values). Let’s say we have a file called ‘AirQualityTimeseries.csv' in the folder **‘datasets’**. We’re telling Python to read the CSV file and store it in a variable called **timeseries**.\n",
    "\n",
    "From the Variable menu, drag a DO block using the **pd** variable, go ahead with the do operation **read_csv**. The read_csv function reads a CSV file and returns a DataFrame object.\n",
    "\n",
    "In our case, let’s bring in the “datasets/AirQualityTimeseries.csv\" (use the Quotes from the TEXT menu) because that is what Angelina is working with."
   ]
  },
  {
   "cell_type": "markdown",
      "metadata": {
      "deletable": false,
      "editable": false,
    "id": "J6Nocg--ui_O"
   },
   "source": [
    "\n",
    "\n",
    "**Step 4 - Display the variable**\n",
    "\n",
    "Let’s see it now by ‘displaying’ and showing our work.\n",
    "\n",
    "Drag the **timeseries** variable to the workspace, making it available for further use in our program. This step is more of a visualization step, as it allows us to see the variable in the Blockly workspace.\n",
    "\n",
    "\n",
    "<details>\n",
    "    <summary>Click to see the answer...</summary>\n",
    "\n",
    "![](https://pbs.twimg.com/media/GboYZqqXAAEzRFT?format=jpg&name=medium)\n",
    "\n",
    "</details>"
   ]
  },
  {
   "cell_type": "code",
   "execution_count": null,
   "metadata": {},
   "outputs": [],
   "source": [
    "#blocks code\n"
   ]
  },
  {
   "cell_type": "markdown",
      "metadata": {
      "deletable": false,
      "editable": false,
    "id": "CEI3jDK4ujD8",
    "jp-MarkdownHeadingCollapsed": true
   },
   "source": [
    "#### Freehand"
   ]
  },
  {
   "cell_type": "markdown",
      "metadata": {
      "deletable": false,
      "editable": false,
    "id": "CT6K2kWiujGP"
   },
   "source": [
    "\n",
    "**Step 1 - Write out the variable name you want to use**\n",
    "\n",
    "Now that we’re all set with our new package to help us to do cool things, let’s bring the data into a variable called **timeseries**. Think of it as a digital spreadsheet with much more power to analyze and manipulate the data!\n",
    "\n",
    "Just like we did before, let’s type out a variable name. Rather than type out the full file name for our data, this easy to remember name will hold the data we bring in."
   ]
  },
  {
   "cell_type": "markdown",
      "metadata": {
      "deletable": false,
      "editable": false,
    "id": "OYdBVIpZujI0"
   },
   "source": [
    "\n",
    "**Step 2 - Assign the dataframe to the variable you created**\n",
    "\n",
    "Just like we did before, let’s type out a variable name. Rather than type out the full file name for our data, this easy to remember name will hold the data we bring in."
   ]
  },
  {
   "cell_type": "markdown",
      "metadata": {
      "deletable": false,
      "editable": false,
    "id": "Z3EcfL4nviu0"
   },
   "source": [
    "\n",
    "**Step 3 - Bring in the data**\n",
    "\n",
    "Now we need to look at the file that has all our data.\n",
    "\n",
    "To load our dataframe, we’ll use a simple command to bring in the file we need (CSV….Comma Separated Values). Let’s say we have a file called ‘AirQualityTimeseries.csv' in the folder **‘datasets’**. We’re telling Python to read the CSV file and store it in a variable called **timeseries**. For this function, we need to specify the code as “pd.read_csv”, which makes the code read the csv file. This variable is now our dataframe!\n",
    "\n",
    "In our case, let’s bring in the “datasets/AirQualityTimeseries.csv\" (user the Quotes from the TEXT menu) because that is what Kiana is working with."
   ]
  },
  {
   "cell_type": "markdown",
      "metadata": {
      "deletable": false,
      "editable": false,
    "id": "qdZ_0IctvoHt"
   },
   "source": [
    "\n",
    "**Step 4 - Print the variable**\n",
    "\n",
    "Let’s see it now by printing the **timeseries** variable and showing our work."
   ]
  },
  {
   "cell_type": "markdown",
      "metadata": {
      "deletable": false,
      "editable": false,
    "id": "4mEL8BT-vsvh"
   },
   "source": [
    "\n",
    "**Step 5 - Run the code**\n",
    "\n",
    "Hit ‘control’ and ‘enter’ at the same time to run the code!\n",
    "\n",
    "\n",
    "<details>\n",
    "    <summary>Click to see the answer...</summary>\n",
    "\n",
    "![](https://pbs.twimg.com/media/GboYcA7WsAAAcjk?format=jpg&name=medium)\n",
    "\n",
    "</details>"
   ]
  },
  {
   "cell_type": "markdown",
      "metadata": {
      "deletable": false,
      "editable": false,
    "id": "96oytnbFv8tY"
   },
   "source": [
    "**Your Turn**: Let’s dive in and start working with the data! We’ll begin by loading it into a dataframe, allowing us to interact with and analyze the dataset easily."
   ]
  },
  {
   "cell_type": "code",
   "execution_count": 3,
   "metadata": {
    "colab": {
     "base_uri": "https://localhost:8080/",
     "height": 423
    },
    "id": "IVxlUBbrwBYl",
    "outputId": "eecafa94-96b9-4b30-c78e-4924d2fc1b31"
   },
   "outputs": [],
   "source": [
    "#freehand code \n"
   ]
  },
  {
   "cell_type": "markdown",
      "metadata": {
      "deletable": false,
      "editable": false,
    "id": "hNIjzokGwCrt"
   },
   "source": [
    "**Explanation**: *This dataset tracks CO₂ emissions by country over time. Each row represents a specific year for a particular country and includes information on the country name, a country code, the year, and the amount of CO₂ emissions recorded in tons. Initially, emissions are often zero or very low, reflecting minimal industrial activity, but they gradually increase in later years, indicating growth in industrialization and fossil fuel use. This dataset is useful for analyzing historical trends in CO₂ emissions across different countries, helping to understand how industrial activities have contributed to climate change over time.*\n"
   ]
  },
  {
   "cell_type": "markdown",
      "metadata": {
      "deletable": false,
      "editable": false,
    "id": "0vBYYIUfwGWA"
   },
   "source": [
    "### Goal 8: Building a Line Plot\n",
    "\n",
    "Line plots are really similar to bar plots, but they have an added thing where they show trends or changes in data over time or across a sequence. Line plots are especially helpful for seeing relationships between two variables, where one variable (often represented on the X-axis) is continuous or time-based, and the other variable is on the Y-axis."
   ]
  },
  {
   "cell_type": "markdown",
      "metadata": {
      "deletable": false,
      "editable": false,
    "id": "PxYKu2lTzvb_",
    "jp-MarkdownHeadingCollapsed": true
   },
   "source": [
    "#### Blockly"
   ]
  },
  {
   "cell_type": "markdown",
      "metadata": {
      "deletable": false,
      "editable": false,
    "id": "zfXEBwtKzwuB"
   },
   "source": [
    "\n",
    "**Step 1 - Call the line function from Plotly**\n",
    "\n",
    "To make a line plot, we first need to call the line function with our plotly library (px).\n",
    "\n",
    "From the Variables menus, get a DO block for the **px** variable from the Variable menu and select the **line** function."
   ]
  },
  {
   "cell_type": "markdown",
      "metadata": {
      "deletable": false,
      "editable": false,
    "id": "96KBRqk0zwxE"
   },
   "source": [
    "\n",
    "\n",
    "**Step 2 - Tell what data to use for the line plot**\n",
    "\n",
    "In order to make a line plot, we need to choose the source from which data we want to plot from. In this case, our dataset is stored in the dataframe time series.\n",
    "From this same menu, drag a **“timeseries”** variable.\n"
   ]
  },
  {
   "cell_type": "markdown",
      "metadata": {
      "deletable": false,
      "editable": false,
    "id": "Xc4mHeM6zwy9"
   },
   "source": [
    "\n",
    "**Step 3 - Tell Plotly what columns to put on the axis**\n",
    "\n",
    "Identify the two variables you want to look at. One variable will be alongside the X-axis (*across*) and another one alongside the Y-axis (*up and down*). In our context, we want to see the relationship between Year and CO2Emissions. We will assign the variables to the 2 axes in the graph.\n",
    "\n",
    "From this Text menu, drag two Quote “” blocks.  On the first, type the index **Year** to be our X-axis. Type the attribute **CO2Emissions** for our Y axis."
   ]
  },
  {
   "cell_type": "markdown",
      "metadata": {
      "deletable": false,
      "editable": false,
    "id": "a49r-nN3zw1N"
   },
   "source": [
    "\n",
    "\n",
    "**Step 4 - Assign color for each line and country**\n",
    "\n",
    "Lastly, get a Freestyle block, and type **color='Country'**:  Connect all these elements as shown below and generate a line chart presenting the trend of CO2 emission over the years per country/region.\n",
    "\n"
   ]
  },
  {
   "cell_type": "markdown",
      "metadata": {
      "deletable": false,
      "editable": false,
    "id": "bBSjV1e_zw39"
   },
   "source": [
    "**Step 5 - Connect the blocks to run the code**\n",
    "\n",
    "Connect the blocks and run the code!\n",
    "\n",
    "\n",
    "<details>\n",
    "    <summary>Click to see the answer...</summary>\n",
    "\n",
    "![](https://pbs.twimg.com/media/GboZRj2XUAAu68B?format=png&name=900x900)\n",
    "\n",
    "</details>"
   ]
  },
  {
   "cell_type": "code",
   "execution_count": null,
   "metadata": {},
   "outputs": [],
   "source": [
    "#blocks code\n"
   ]
  },
  {
   "cell_type": "markdown",
      "metadata": {
      "deletable": false,
      "editable": false,
    "id": "D_MZXy4kzw6S",
    "jp-MarkdownHeadingCollapsed": true
   },
   "source": [
    "#### Freehand"
   ]
  },
  {
   "cell_type": "markdown",
      "metadata": {
      "deletable": false,
      "editable": false,
    "id": "yfVDF-8zzw8x"
   },
   "source": [
    "\n",
    "**Step 1 - Bring in the line function from the plotly library we put into px.**\n",
    "\n",
    "To make a line plot, we first need to call the line function with our plotly library (px).\n",
    "\n",
    "`px.line( )`"
   ]
  },
  {
   "cell_type": "markdown",
      "metadata": {
      "deletable": false,
      "editable": false,
    "id": "5PkZqx9o0b40"
   },
   "source": [
    "\n",
    "\n",
    "**Step 2 - Tell what data to use for the line plot**\n",
    "\n",
    "In order to make a line plot, we need to choose the source from which data we want to plot from. In this case, our dataset is stored in the dataframe **timeseries**.\n",
    "\n",
    "`px.line(timeseries )`\n"
   ]
  },
  {
   "cell_type": "markdown",
      "metadata": {
      "deletable": false,
      "editable": false,
    "id": "35ZAd_vb0cGT"
   },
   "source": [
    "\n",
    "**Step 3 - Tell Plotly what columns to put on the axis**\n",
    "\n",
    "Identify the two variables you want to look at. One variable will be alongside the X-axis (*across*) and another one alongside the Y-axis (*up and down*). In our context, we want to see the relationship between Year and CO2Emissions. We will assign the variables in the 2 axis in the graph.\n",
    "\n",
    "From this Text menu, drag two Quote “” blocks.  On the first, type the index **Year** to be our X axis. Type the attribute **CO2Emissions** for our Y axis.\n",
    "\n",
    "`px.line(timeseries,'Year','CO2Emissions')`"
   ]
  },
  {
   "cell_type": "markdown",
      "metadata": {
      "deletable": false,
      "editable": false,
    "id": "VASOV6g80cIs"
   },
   "source": [
    "\n",
    "\n",
    "**Step 4 - Assign color for each line and country**\n",
    "\n",
    "Lastly,  type **color='Country'**, which will generate a line chart presenting the trend of CO2 emission over the years per country/region.\n",
    "\n",
    "`px.line(timeseries,'Year','CO2Emissions',color='Country')`\n",
    "\n"
   ]
  },
  {
   "cell_type": "markdown",
      "metadata": {
      "deletable": false,
      "editable": false,
    "id": "novRiew10cLN"
   },
   "source": [
    "\n",
    "**Step 5 - Run the code**\n",
    "\n",
    "Hit ‘control’ and ‘enter’ at the same time to run the code!\n",
    "\n",
    "\n",
    "<details>\n",
    "    <summary>Click to see the answer...</summary>\n",
    "\n",
    "![](https://pbs.twimg.com/media/GboZT0zW8AEe3L2?format=jpg&name=medium)\n",
    "\n",
    "</details>"
   ]
  },
  {
   "cell_type": "markdown",
      "metadata": {
      "deletable": false,
      "editable": false,
    "id": "opTNNK-U1ALl"
   },
   "source": [
    "**Your Turn**: You’ve done a bar chart visualization, but let’s see if we can try out a line graph to see what happens.\n",
    "\n"
   ]
  },
  {
   "cell_type": "code",
   "execution_count": 4,
   "metadata": {
    "colab": {
     "base_uri": "https://localhost:8080/",
     "height": 542
    },
    "id": "is7Xi_2B1BWQ",
    "outputId": "61302077-f99d-4101-ad9a-e96697a15620"
   },
   "outputs": [],
   "source": [
    "#freehand code \n"
   ]
  },
  {
   "cell_type": "markdown",
      "metadata": {
      "deletable": false,
      "editable": false,
    "id": "9-D7hZcx1CG5"
   },
   "source": [
    "**Explanation**: *The line chart shows how global carbon dioxide (CO₂) emissions have changed over time from 1750 to today. We can see that CO₂ emissions were very low until the mid-20th century. However, around 1950, emissions started to rise quickly, especially in regions like China, the United States, and Asia. The yellow line represents the entire world's CO₂ emissions, which have skyrocketed to over 30 billion tons in recent years. This rapid increase is mainly due to industrial growth, fossil fuel use, and population growth. The graph highlights how human activities have greatly increased CO₂ emissions, contributing to climate change.*"
   ]
  },
  {
   "cell_type": "markdown",
      "metadata": {
      "deletable": false,
      "editable": false,
    "id": "F9E7hwXn1ViV"
   },
   "source": [
    "### Goal 9: Creating a histogram \n",
    "\n",
    "A histogram is another fascinating tool for data visualization. Unlike other methods, it tallies and keeps track of the frequencies for each unique distinct value in a variable. Picture it as a series of 'bins', each housing a specific group of numbers. These [distributions](## \"the number of times a variable has a particular value\") can be [uniform](## \"a flat distribution where every value is equally likely\"), [normal](## \"a bell curve distribution where most values are in the middle are most likely\"), [right-skewed](## \"a graph where it looks like a lot of the data is smaller on the right-hand side\"), [left-skewed](## \"a graph where it looks like a lot of the data is smaller on the right-hand side \"), and [mixtures](## \"is a probability distribution formed by combining two or more simpler distributions\"). We can find unique patterns like outliers, extreme values, or skewness, which makes histograms particularly useful. It's kinda like using a detective's magnifying glass to scrutinize your data!"
   ]
  },
  {
   "cell_type": "markdown",
      "metadata": {
      "deletable": false,
      "editable": false,
    "id": "k-O87H0f1WKq",
    "jp-MarkdownHeadingCollapsed": true
   },
   "source": [
    "#### Blockly"
   ]
  },
  {
   "cell_type": "markdown",
      "metadata": {
      "deletable": false,
      "editable": false,
    "id": "jiMKqfxB1WNo"
   },
   "source": [
    "**Step 1 - Call the histogram function from Plotly**\n",
    "\n",
    "To make a histogram, we first need to call the histogram() function with our plotly library (px).\n",
    "\n",
    "Get a DO block for the **px** variable from the Variable menu and select the **histogram** function."
   ]
  },
  {
   "cell_type": "markdown",
      "metadata": {
      "deletable": false,
      "editable": false,
    "id": "yjUX6mbD1WXs"
   },
   "source": [
    "\n",
    "\n",
    "**Step 2 - Tell what data to use for the line plot**\n",
    "\n",
    "In order to make a plot, we need to choose its source from which data we want to plot from. In this case, our dataset is stored in the dataframe **data**\n"
   ]
  },
  {
   "cell_type": "markdown",
      "metadata": {
      "deletable": false,
      "editable": false,
    "id": "DTqn0TI41Way"
   },
   "source": [
    "\n",
    "**Step 3 - Tell Plotly what columns to look at**\n",
    "\n",
    "So what variable do we want to look at?\n",
    "\n",
    "From this Text menu, drag one Quote “” blocks.  Type the attribute **CO2Emissions**.\n"
   ]
  },
  {
   "cell_type": "markdown",
      "metadata": {
      "deletable": false,
      "editable": false,
    "id": "BYWcRGlj1WdX"
   },
   "source": [
    "\n",
    "**Step 4 - Connect the blocks to run the code**\n",
    "\n",
    "Connect the blocks and run the code!\n",
    "\n",
    "\n",
    "<details>\n",
    "    <summary>Click to see the answer...</summary>\n",
    "\n",
    "![](https://pbs.twimg.com/media/GZkpUdRXsAohNWf?format=png&name=900x900)\n",
    "\n",
    "</details>"
   ]
  },
  {
   "cell_type": "code",
   "execution_count": null,
   "metadata": {},
   "outputs": [],
   "source": [
    "#blocks code\n"
   ]
  },
  {
   "cell_type": "markdown",
      "metadata": {
      "deletable": false,
      "editable": false,
    "id": "448_ZS1j1WgH",
    "jp-MarkdownHeadingCollapsed": true
   },
   "source": [
    "#### Freehand"
   ]
  },
  {
   "cell_type": "markdown",
      "metadata": {
      "deletable": false,
      "editable": false,
    "id": "pjlLVNRz4Otj"
   },
   "source": [
    "\n",
    "**Step 1 - Call the histogram function from Plotly**\n",
    "\n",
    "To make a histogram, we first need to call the line function with our plotly library (px).\n",
    "\n",
    "`px.histogram()`\n"
   ]
  },
  {
   "cell_type": "markdown",
      "metadata": {
      "deletable": false,
      "editable": false,
    "id": "A92n-orl4OwO"
   },
   "source": [
    "\n",
    "**Step 2 - Tell what data to use for the line plot**\n",
    "\n",
    "In order to make a plot, we need to choose the source from which data we want to plot from. In this case, our dataset is stored in the dataframe data.\n",
    "\n",
    "`px.histogram(data)`\n"
   ]
  },
  {
   "cell_type": "markdown",
      "metadata": {
      "deletable": false,
      "editable": false,
    "id": "SNclSok94OyC"
   },
   "source": [
    "\n",
    "**Step 3 - Tell Plotly what columns to look at**\n",
    "\n",
    "So what variable do we want to look at?\n",
    "\n",
    "`px.histogram(data,'CO2Emissions')`\n"
   ]
  },
  {
   "cell_type": "markdown",
      "metadata": {
      "deletable": false,
      "editable": false,
    "id": "ymlruNmL4Ozw"
   },
   "source": [
    "\n",
    "**Step 4 - Run the code**\n",
    "\n",
    "Hit ‘control’ and ‘enter’ at the same time to run the code!\n",
    "\n",
    "<details>\n",
    "    <summary>Click to see the answer...</summary>\n",
    "\n",
    "![](https://pbs.twimg.com/media/GZkoNEuWIAIXFMG?format=png&name=small)\n",
    "\n",
    "</details>"
   ]
  },
  {
   "cell_type": "markdown",
      "metadata": {
      "deletable": false,
      "editable": false,
    "id": "NpqIsj7K4iNE"
   },
   "source": [
    "**Your Turn**: To plot a histogram, we first need to call the **histogram**() method with our plotly library (**px**).To make a plot, we must choose the source from which data we want to plot. In this case, our dataset is stored in the data frame “data”. Then identify the variable you want to look at. Just like before, one variable will be the numerical variable alongside the X-axis"
   ]
  },
  {
   "cell_type": "code",
   "execution_count": 5,
   "metadata": {
    "colab": {
     "base_uri": "https://localhost:8080/",
     "height": 542
    },
    "id": "kFpZl3P94oEh",
    "outputId": "7dae46f2-4bf7-400c-e935-696d49a080ac"
   },
   "outputs": [],
   "source": [
    "#freehand code \n"
   ]
  },
  {
   "cell_type": "markdown",
      "metadata": {
      "deletable": false,
      "editable": false,
    "id": "f-QiQMgi4O3c"
   },
   "source": [
    "**Explanation**: *So, what do you see in the distribution? In many cases, you want a bell distribution where it gradually goes up and then down.*\n",
    "\n",
    "*The histogram shows the distribution of CO₂ Emissions in different amounts. Most data points are concentrated around low emissions, with over 40 measurements having CO₂ emissions close to 100. Fewer measurements are seen at higher levels, with emissions between 300 and 400 being the next most common. Very few measurements are recorded at extremely low or very high levels. This suggests that most of the time, CO₂ emissions are relatively low, but there are still notable instances of higher emissions.*\n"
   ]
  },
  {
   "cell_type": "markdown",
      "metadata": {
      "deletable": false,
      "editable": false,
    "id": "hD4rre-N4O5L"
   },
   "source": [
    "### Goal 10: Create a segmented histogram \n",
    "\n",
    "The goal is to create a histogram of CO₂ Emissions segmented by Traffic Condition to visually compare how different traffic conditions (such as free flow, moderate, or heavy traffic) impact the distribution of the amount of CO₂ released. This helps identify which traffic conditions contribute the most to air pollution and can guide efforts to reduce emissions in those scenarios."
   ]
  },
  {
   "cell_type": "markdown",
      "metadata": {
      "deletable": false,
      "editable": false,
    "id": "9QG2bXKi7r7C",
    "jp-MarkdownHeadingCollapsed": true
   },
   "source": [
    "#### Blockly"
   ]
  },
  {
   "cell_type": "markdown",
      "metadata": {
      "deletable": false,
      "editable": false,
    "id": "pG0MITCd7xJC"
   },
   "source": [
    "\n",
    "**Step 1 - Call the histogram function from Plotly**\n",
    "\n",
    "To make a segmented histogram, we first need to call the histogram function with our plotly library (px).\n",
    "Get a DO block for the **px** variable from the Variable menu and select the **histogram** function.\n"
   ]
  },
  {
   "cell_type": "markdown",
      "metadata": {
      "deletable": false,
      "editable": false,
    "id": "Zy2Az7gr7xNC"
   },
   "source": [
    "\n",
    "**Step 2 - Tell what data to use for the line plot**\n",
    "\n",
    "In order to make a plot, we need to choose the source from which data we want to plot from. In this case, our dataset is stored in the dataframe **data**\n"
   ]
  },
  {
   "cell_type": "markdown",
      "metadata": {
      "deletable": false,
      "editable": false,
    "id": "YqO-oMVT7xO9"
   },
   "source": [
    "\n",
    "**Step 3 - Tell Plotly what columns to look at**\n",
    "\n",
    "So, what variable do we want to look at?\n",
    "\n",
    "From this Text menu, drag one Quote “” block.  Type the attribute **CO2Emissions**.\n"
   ]
  },
  {
   "cell_type": "markdown",
      "metadata": {
      "deletable": false,
      "editable": false,
    "id": "4hUUWdVx7xQv"
   },
   "source": [
    "\n",
    "**Step 4 - Tell Python to show colors by TrafficCondition**\n",
    "\n",
    "Let’s see if we can break it down by colors so it’s a bit easier to see.\n",
    "From this FreeStyle menu, drag one Quote “” block.  \n",
    "Type the attribute **‘TrafficCondition’**.\n"
   ]
  },
  {
   "cell_type": "markdown",
      "metadata": {
      "deletable": false,
      "editable": false,
    "id": "wO0GJk_b7xSi"
   },
   "source": [
    "\n",
    "**Step 5 - Connect the blocks to run the code**\n",
    "\n",
    "Connect the blocks to run the code!\n",
    "  \n",
    "<details>\n",
    "    <summary>Click to see the answer...</summary>\n",
    "\n",
    "![](https://pbs.twimg.com/media/GZks24GXMAgikWu?format=png&name=900x900)\n",
    "\n",
    "</details>"
   ]
  },
  {
   "cell_type": "code",
   "execution_count": null,
   "metadata": {},
   "outputs": [],
   "source": [
    "#blocks code\n"
   ]
  },
  {
   "cell_type": "markdown",
      "metadata": {
      "deletable": false,
      "editable": false,
    "id": "RYrYJxwx8LOT",
    "jp-MarkdownHeadingCollapsed": true
   },
   "source": [
    "#### Freehand"
   ]
  },
  {
   "cell_type": "markdown",
      "metadata": {
      "deletable": false,
      "editable": false,
    "id": "q1rRae1H8Mp8"
   },
   "source": [
    "**Step 1 - Call the histogram function from Plotly**\n",
    "\n",
    "To make a segmented histogram, we first need to call the histogram function with our plotly library (px).\n",
    "\n",
    "`px.histogram()`\n"
   ]
  },
  {
   "cell_type": "markdown",
      "metadata": {
      "deletable": false,
      "editable": false,
    "id": "JPSGQfP08Ms3"
   },
   "source": [
    "\n",
    "\n",
    "**Step 2 - Tell what data to use for the line plot**\n",
    "\n",
    "In order to make a plot, we need to choose the source from which data we want to plot from. In this case, our dataset is stored in the dataframe data.\n",
    "\n",
    "`px.histogram(data)`\n"
   ]
  },
  {
   "cell_type": "markdown",
      "metadata": {
      "deletable": false,
      "editable": false,
    "id": "Ovxqt6yK8MvJ"
   },
   "source": [
    "\n",
    "**Step 3 - Tell Plotly what columns to look at**\n",
    "\n",
    "So what variable do we want to look at? In this case, let’s look at CO2Emissions.\n",
    "\n",
    "`px.histogram(data,'CO2Emissions')`\n"
   ]
  },
  {
   "cell_type": "markdown",
      "metadata": {
      "deletable": false,
      "editable": false,
    "id": "93lf9b_08Mx4"
   },
   "source": [
    "\n",
    "**Step 4 - Tell Python to show colors by “TrafficCondition”**\n",
    "\n",
    "Let’s see if we can break it down by colors so it’s a bit easier to see.\n",
    "\n",
    "`px.histogram(data,’CO2Emissions',color='TrafficCondition')`\n",
    "\n",
    "\n",
    "\n"
   ]
  },
  {
   "cell_type": "markdown",
      "metadata": {
      "deletable": false,
      "editable": false,
    "id": "TY57aGs18M0d"
   },
   "source": [
    "\n",
    "**Step 5 - Run the code**\n",
    "\n",
    "Hit ‘control’ and ‘enter’ at the same time to run the code!\n",
    "\n",
    "<details>\n",
    "    <summary>Click to see the answer...</summary>\n",
    "\n",
    "![](https://pbs.twimg.com/media/GZksinhWUAcbi9P?format=jpg&name=medium)\n",
    "\n",
    "</details>"
   ]
  },
  {
   "cell_type": "markdown",
      "metadata": {
      "deletable": false,
      "editable": false,
    "id": "MKOeDX5z8M20"
   },
   "source": [
    "**Your Turn**: Create a segmented histogram to visualize the distribution of CO₂ Emissions, using different colors to represent various Traffic Conditions. To do that, use the **histogram**() function again, having the data as the dataframe, the ‘CO2Emissions' as the numerical data, and the TrafficCondition as the categorical variable to segment it (color='TrafficCondition')."
   ]
  },
  {
   "cell_type": "code",
   "execution_count": 6,
   "metadata": {
    "colab": {
     "base_uri": "https://localhost:8080/",
     "height": 542
    },
    "id": "ID8XGY-A9CBx",
    "outputId": "d48ac935-10af-4d7e-bd04-77caddf13310"
   },
   "outputs": [],
   "source": [
    "#freehand code \n"
   ]
  },
  {
   "cell_type": "markdown",
      "metadata": {
      "deletable": false,
      "editable": false,
    "id": "N1FVaPB_8M8z"
   },
   "source": [
    "**Explanation**: *This graph helps show how traffic affects the distribution of pollution levels, as traffic gets heavier, emissions generally increase.*\n",
    "\n",
    "*This new histogram shows the distribution of CO₂ Emissions under different Traffic Conditions. The bars are colored to represent three types of traffic: Free Flow (blue), Moderate (orange), and Heavy (green). Most emissions are higher when traffic is heavier, with the green bars representing the highest CO₂ emissions. In contrast, during Free-flow traffic, there are many instances of little to no emissions (blue bars near zero). Moderate traffic conditions have emissions that are mostly between 100 and 300.*\n"
   ]
  },
  {
   "cell_type": "markdown",
      "metadata": {
      "deletable": false,
      "editable": false,
    "id": "NGX_zcqc9LG_"
   },
   "source": [
    "## WHAT DID YOU LEARN?"
   ]
  },
  {
   "cell_type": "markdown",
      "metadata": {
      "deletable": false,
      "editable": false,
    "id": "XaPY37dW9qsn"
   },
   "source": [
    "\n",
    "In this lesson, we've covered important skills and knowledge about data visualization. We’ve learned to create and think through how to understand scatter plots, bar plots, line plots, and histograms. These tools help us identify patterns and trends, which are great for making decisions based on data.\n",
    "\n",
    "We've also worked on dataframes and applied these visualization techniques to solve real-world scenarios. We can use Ethan's experience as an inspiration so that we'll be able to analyze traffic data, propose solutions, and create interactive graphs with plotly.express to improve traffic management and reduce congestion in your hometown.\n"
   ]
  },
  {
   "cell_type": "markdown",
      "metadata": {
      "deletable": false,
      "editable": false,
    "id": "k8RoW-oB9qwi"
   },
   "source": [
    "## WHAT’S NEXT?"
   ]
  },
  {
   "cell_type": "markdown",
      "metadata": {
      "deletable": false,
      "editable": false,
    "id": "31SNB25L9qzd"
   },
   "source": [
    "[Descriptive Statistics](Descriptive_Statistics.ipynb)"
   ]
  },
  {
   "cell_type": "markdown",
      "metadata": {
      "deletable": false,
      "editable": false,
    "id": "YwwhFS6Q97-6"
   },
   "source": [
    "\n",
    "## TELL ME MORE"
   ]
  },
  {
   "cell_type": "markdown",
      "metadata": {
      "deletable": false,
      "editable": false,
    "id": "FsV27XXm9-MZ"
   },
   "source": [
    "\n",
    "- [Datawhys Plotting Notebook](https://github.com/memphis-iis/datawhys-content-notebooks-python/blob/master/Plotting.ipynb)\n",
    "- [Datawhys Plotting Problem-Solving Notebook](https://github.com/memphis-iis/datawhys-content-notebooks-python/blob/master/Plotting-PS.ipynb)\n",
    "- **Art**: Data visualization is an art! Check out this [Population Pyramid activity](https://www.rcboe.org/cms/lib/GA01903614/Centricity/Domain/2849/Population_Pyramids-_introduction.docx).\n",
    "- **Math**: Learn about [scatter plots, bar graphs, line graphs, and histograms](https://www.mathsisfun.com/data/index.html). This resource includes step-by-step instructions on how to create and interpret these graphs, along with practice problems and real-world examples.\n",
    "- **Computer Science**: Learn more about [data representation, data manipulation, and data visualization techniques](https://studio.code.org/s/explore-data-1-2021) using programming languages such as Python.\n",
    "- **Career Connections**: Are you interested in becoming a data scientist? This resource offers an overview of [Data Science and the career prospects](https://www.youtube.com/watch?v=X3paOmcrTjQ&themeRefresh=1) for data scientists.\n",
    "This resource provides an [overview of 15 project ideas](https://www.polygence.org/blog/data-science-passion-project-ideas-for-high-school-students) for you to use your data science knowledge to explore your passion!\n",
    "- [Data visualization with D3 playlist](https://www.youtube.com/watch?v=q6GWkbUWFBg&list=PLhGp6N0DI_1TSgS8KqsGQMyGlVIatwVXn) - freeCodeCamp (video)\n",
    "- [Excel Data Visualization Course](https://youtu.be/VV8iRJ-DS0A?si=2Kp4Qvi2Ut0vXyT9) - freeCodeCamp (video)\n",
    "- [Data Visualization](https://towardsdatascience.com/data-visualization/home) - Towards Data Science (articles)"
   ]
  }
 ],
 "metadata": {
  "colab": {
   "provenance": []
  },
  "kernelspec": {
   "display_name": "Python 3 (ipykernel)",
   "language": "python",
   "name": "python3"
  },
  "language_info": {
   "codemirror_mode": {
    "name": "ipython",
    "version": 3
   },
   "file_extension": ".py",
   "mimetype": "text/x-python",
   "name": "python",
   "nbconvert_exporter": "python",
   "pygments_lexer": "ipython3",
   "version": "3.10.6"
  }
 },
 "nbformat": 4,
 "nbformat_minor": 4
}
