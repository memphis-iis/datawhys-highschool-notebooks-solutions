{
 "cells": [
  {
   "cell_type": "markdown",
      "metadata": {
      "deletable": false,
      "editable": false,
    "id": "xSCyNKa9bGG4"
   },
   "source": [
    "# Datascience and the Nature of Data Redesign"
   ]
  },
  {
   "cell_type": "markdown",
      "metadata": {
      "deletable": false,
      "editable": false,
    "id": "yaFVj052bCs9"
   },
   "source": [
    "## ANTICIPATED LESSON TIME:\n"
   ]
  },
  {
   "cell_type": "markdown",
      "metadata": {
      "deletable": false,
      "editable": false,
    "id": "I64OMWHdbiAO"
   },
   "source": [
    "2 hours"
   ]
  },
  {
   "cell_type": "markdown",
      "metadata": {
      "deletable": false,
      "editable": false,
    "id": "uqBN-4P0bCva"
   },
   "source": [
    "## WHAT YOU WILL LEARN:\n",
    "\n"
   ]
  },
  {
   "cell_type": "markdown",
      "metadata": {
      "deletable": false,
      "editable": false,
    "id": "ytEljiaSbgkh"
   },
   "source": [
    "- What is a variable?\n",
    "- What are the different types of variables (nominal, ordinal, interval, and ratio)?\n",
    "- How do I use a library to help with data science?\n",
    "- How can you ensure data integrity and remove duplicate values?"
   ]
  },
  {
   "cell_type": "markdown",
      "metadata": {
      "deletable": false,
      "editable": false,
    "id": "yqu9bBG4bakM"
   },
   "source": [
    "## DEFINITIONS YOU’LL NEED TO KNOW:\n"
   ]
  },
  {
   "cell_type": "markdown",
      "metadata": {
      "deletable": false,
      "editable": false,
    "editable": true,
    "id": "_kNhNXhebasw",
    "slideshow": {
     "slide_type": ""
    },
    "tags": []
   },
   "source": [
    "\n",
    "- Variable: measurements of things in the real world.\n",
    "- Nominal: a variable with unordered categories.\n",
    "- Ordinal: a variable with ordered categories.\n",
    "- Interval: a variable that is ordered with evenly spaced\n",
    " measurements.\n",
    "- Ratio: an interval variable with a true zero point.\n",
    "- Datasets: a well-organized set of related information, ready for - study and use, in file form.\n",
    "- Dataframe: a dataset in variable form; like a table made up of rows.\n",
    "- Null value: missing data; null values indicate that there is no value present"
   ]
  },
  {
   "cell_type": "markdown",
      "metadata": {
      "deletable": false,
      "editable": false
   },
   "source": [
    "## SCENARIO:"
   ]
  },
  {
   "cell_type": "markdown",
      "metadata": {
      "deletable": false,
      "editable": false,
    "deletable": false,
    "editable": false,
    "html": "<iframe class='metadata-html' width='560' height='315' src='https://video.olney.ai/1-nature-of-data.mp4' title='YouTube video player' frameborder='0' allow='accelerometer; autoplay; clipboard-write; encrypted-media; gyroscope; picture-in-picture; web-share' referrerpolicy='strict-origin-when-cross-origin' allowfullscreen></iframe>",
    "id": "npqY6ZiSbavX",
    "slideshow": {
     "slide_type": ""
    },
    "tags": []
   },
   "source": [
    "So, how can we help Angela and her after-school club? First, let’s consider measurement and how we can record what she needs. We’ll call this **\"data\"** to think about all that information.\n",
    "\n",
    "When you hear people talk about \"data\", you may think that all data is the same. However, there are many different kinds of data. To think through Angelina’s problem, it’s important to understand how to measure things through **variables**. Different types of variables affect your analysis. If you don't understand these types, you will probably use the wrong analysis!\n",
    "\n",
    "Yikes!\n"
   ]
  },
  {
   "cell_type": "markdown",
      "metadata": {
      "deletable": false,
      "editable": false,
    "id": "rwFf24KHbCxv"
   },
   "source": [
    "\n",
    "## WHAT DO I NEED TO KNOW?:\n",
    "\n",
    "\n",
    "\n",
    "\n",
    "\n",
    "\n"
   ]
  },
  {
   "cell_type": "markdown",
      "metadata": {
      "deletable": false,
      "editable": false,
    "id": "duB4iQE3dz8B"
   },
   "source": [
    "So, how can we help Angela and her after-school club? First, let’s consider measurement and how we can record what she needs. We’ll call this **\"data\"** to think about all that information.\n",
    "\n",
    "When you hear people talk about \"data\", you may think that all data is the same. However, there are many different kinds of data. To think through Angelina’s problem, it’s important to understand how to measure things through **variables**. Different types of variables affect your analysis. If you don't understand these types, you will probably use the wrong analysis!\n",
    "\n",
    "Yikes!\n",
    "\n",
    "So what are the different kinds of data?\n"
   ]
  },
  {
   "cell_type": "markdown",
      "metadata": {
      "deletable": false,
      "editable": false,
    "id": "qtMmKxuzdvho"
   },
   "source": [
    "**Nominal:**\n",
    "\n",
    "A nominal variable is kind of like the ‘name’ of categories.  Nominal variables aren’t ordered like numbers are.\n",
    "\n",
    "An example of this is male or female for biological sex.  We do not say that males come before females or are smaller than females.  They are just different names for the categories.\n"
   ]
  },
  {
   "cell_type": "markdown",
      "metadata": {
      "deletable": false,
      "editable": false,
    "id": "gD9dN1xQdvjr"
   },
   "source": [
    "\n",
    "**Ordinal:**\n",
    "\n",
    "One way to think of ordinal variables is the ‘order’ of something you are measuring.  You can think of it as nominal data but with an ordering from first to last or smallest to largest.  Because of that, the order matters.\n",
    "\n",
    "But here’s the thing, the order might be spaced differently. If it was a race, the distance between a first and second-place finish in a race might be close. But the distance between the second and third-place finish might be really spaced out.\n",
    "\n",
    "As it relates to Angela’s problem, she might look at ordinal variables to see how people rank feelings about air pollution (1.  Strongly disagree…2 Disagree…3…Neither agree/nor disagree…4.  Agree…5 Strongly Disagree).\n"
   ]
  },
  {
   "cell_type": "markdown",
      "metadata": {
      "deletable": false,
      "editable": false,
    "id": "-CNc75vGdvl7"
   },
   "source": [
    "\n",
    "**Interval:**\n",
    "\n",
    "Intervals can be a bit wonky. These variables follow an order (like ordinal), but the distance between 1, 2, and so on are all the same. To add another fun twist, 0 does not necessarily mean ‘nothing’.\n",
    "\n",
    "A great example is the temperature in Fahrenheit. 0F doesn’t mean there’s no temperature or no cold or no heat, it’s just a point on the scale that helps us think about how to measure it.\n"
   ]
  },
  {
   "cell_type": "markdown",
      "metadata": {
      "deletable": false,
      "editable": false,
    "id": "LIeA_nHZdvoP"
   },
   "source": [
    "\n",
    "**Ratio:**\n",
    "\n",
    "Ratio variables are like interval variables, but the 0 means ‘nothing’. Age and height are good examples because 0 age means you have no age. Also, 0 height means you have no height."
   ]
  },
  {
   "cell_type": "markdown",
      "metadata": {
      "deletable": false,
      "editable": false,
    "id": "GnbwKEiqdvqe"
   },
   "source": [
    "## YOUR TURN:"
   ]
  },
  {
   "cell_type": "markdown",
      "metadata": {
      "deletable": false,
      "editable": false,
    "id": "G_p805eheSev"
   },
   "source": [
    "Now that you understand the building blocks of data science and ideas behind data redesign, it’s time to practice applying these concepts! As you go through this, pay close attention to the different types of variables and how they affect data analysis."
   ]
  },
  {
   "cell_type": "markdown",
      "metadata": {
      "deletable": false,
      "editable": false,
    "id": "pcTYLu7beT1L"
   },
   "source": [
    "### Goal 1: Importing the Pandas Library\n",
    "\n",
    "Need extra tools to help solve this problem? Well, we can bring in extra ‘libraries’ to help us do extra data science stuff. You can think of it like an ‘add-on’. In this case, we bring in pandas, which is a popular library for doing data science stuff.  \n"
   ]
  },
  {
   "cell_type": "markdown",
      "metadata": {
      "deletable": false,
      "editable": false,
    "id": "t8kD1DcRecQ7",
    "jp-MarkdownHeadingCollapsed": true
   },
   "source": [
    "#### Blockly\n"
   ]
  },
  {
   "cell_type": "markdown",
      "metadata": {
      "deletable": false,
      "editable": false,
    "id": "baatKKpHej3f"
   },
   "source": [
    "**Step 1 - Starting the IMPORT:**\n",
    "\n",
    "First, we need to set up a “command” to tell the computer what to do. In this case, “command” is to “import” to bring the add-on package in.\n",
    "\n",
    "Bring in the IMPORT menu, which can be helpful to bring in other data tools. In this case, we're bringing in the **import** block.\n",
    "\n"
   ]
  },
  {
   "cell_type": "markdown",
      "metadata": {
      "deletable": false,
      "editable": false,
    "id": "fBwwSfEqelNN"
   },
   "source": [
    "**Step 2 - Telling what Library to Import:**\n",
    "\n",
    "In the text area, we type the name of the library we want to import. A library is like an extra thing we bring in to give us more coding abilities. In our case, we will type out **pandas**, which will bring in some cool data manipulation features.\n"
   ]
  },
  {
   "cell_type": "markdown",
      "metadata": {
      "deletable": false,
      "editable": false,
    "id": "i9KikbaremUu"
   },
   "source": [
    "\n",
    "**Step 3 - Renaming the Library So It’s Easy to Remember:**\n",
    "\n",
    "Once you are done, put the **import** and **package** together in a single variable. This handy feature helps cut down on all the typing later on. You can call it whatever is easiest for you to remember. In the example below, we’ve put everything into **pd**, and we type it in the open area.\n",
    "\n"
   ]
  },
  {
   "cell_type": "markdown",
      "metadata": {
      "deletable": false,
      "editable": false,
    "id": "kVTcOVfJJZK3"
   },
   "source": [
    "**Step 4 - Connect the blocks to run the code**\n",
    "\n",
    "Connect the blocks and run the code!\n",
    "\n",
    "<details>\n",
    "    <summary>Click to see the answer...</summary>\n",
    "\n",
    "![](https://pbs.twimg.com/media/GcxNkjYXkAAlpKD?format=png&name=240x240)\n",
    "\n",
    "</details>"
   ]
  },
  {
   "cell_type": "code",
   "execution_count": 3,
   "metadata": {
    "id": "Bu2XSHlWevMZ"
   },
   "outputs": [],
   "source": [
    "#blocks code\n"
   ]
  },
  {
   "cell_type": "markdown",
      "metadata": {
      "deletable": false,
      "editable": false,
    "id": "O56K9z-oevVq",
    "jp-MarkdownHeadingCollapsed": true
   },
   "source": [
    "#### Freehand"
   ]
  },
  {
   "cell_type": "markdown",
      "metadata": {
      "deletable": false,
      "editable": false,
    "id": "YZfiPMlTfAyc"
   },
   "source": [
    "\n",
    "**Step 1 - Starting the IMPORT:**\n",
    "\n",
    "First, we need to set up a “command” to tell the computer what to do. In this case, “command” is to “import” to bring the add-on package in."
   ]
  },
  {
   "cell_type": "markdown",
      "metadata": {
      "deletable": false,
      "editable": false,
    "id": "cH_oEeb0fBF8"
   },
   "source": [
    "**Step 2 - Telling what Library to Import:**\n",
    "\n",
    "In the text area, we type the name of the library we want to import. A library is like an extra thing we bring in to give us more coding abilities. In our case, we will type out pandas, which will bring in some cool data manipulation features."
   ]
  },
  {
   "cell_type": "markdown",
      "metadata": {
      "deletable": false,
      "editable": false,
    "id": "30L4kegsfBII"
   },
   "source": [
    "**Step 3 - Renaming the Library So It’s Easy to Remember:**\n",
    "\n",
    "Once you are done, put the ‘import’ and ‘package’ together in a single variable. This handy feature helps cut down on all the typing later on. Feel free to use whatever name you want that will help you remember it later on. In the example below, we’ve put everything into **pd**."
   ]
  },
  {
   "cell_type": "markdown",
      "metadata": {
      "deletable": false,
      "editable": false,
    "id": "c8GCMqpAfBMp"
   },
   "source": [
    "**Step 4 - Run the Code:**\n",
    "\n",
    "Hit ‘control’ and ‘enter’ at the same time to run the data science magic!\n",
    "\n",
    "<details>\n",
    "    <summary>Click to see the answer...</summary>\n",
    "    \n",
    "![](https://pbs.twimg.com/media/GZmkVCYWEA4oGso?format=jpg&name=small)\n",
    "\n",
    "</details>\n",
    "\n"
   ]
  },
  {
   "cell_type": "markdown",
      "metadata": {
      "deletable": false,
      "editable": false,
    "id": "_p_OUrngfBXY"
   },
   "source": [
    "\n",
    "**Your Turn**: Now it’s your turn! We’re going to dive into the **pandas** package, which helps us with some really cool data science things. First, let’s import the package and assign it to the variable **“pd”** to make it easier to use throughout our notebook."
   ]
  },
  {
   "cell_type": "code",
   "execution_count": 4,
   "metadata": {
    "id": "ZxSdi0fOfac5"
   },
   "outputs": [],
   "source": [
    "#freehand code \n"
   ]
  },
  {
   "cell_type": "markdown",
      "metadata": {
      "deletable": false,
      "editable": false,
    "id": "Ggof8OVefc46"
   },
   "source": [
    "**Explanation**: *Congrats!  Your attempts finally made it!  Now you have successfully imported the \"**pandas**\" package as the variable \"**pd**\".*"
   ]
  },
  {
   "cell_type": "markdown",
      "metadata": {
      "deletable": false,
      "editable": false,
    "id": "fcIgFc0Pfa2Z"
   },
   "source": [
    "### Goal 2: Bringing in the Dataframe\n",
    "\n",
    "Let’s bring in the data that we want to look at."
   ]
  },
  {
   "cell_type": "markdown",
      "metadata": {
      "deletable": false,
      "editable": false,
    "id": "bq28FDCwf9y_",
    "jp-MarkdownHeadingCollapsed": true
   },
   "source": [
    "#### Blockly"
   ]
  },
  {
   "cell_type": "markdown",
      "metadata": {
      "deletable": false,
      "editable": false,
    "id": "iGUj3uShf91S"
   },
   "source": [
    "**Step 1 - Write out the variable name you want to use:**\n",
    "\n",
    "Now that we’re all set with our new package to help us to do cool things, let’s bring the data into a variable and call it **dataframe**. Think of it as a digital spreadsheet with much more power to analyze and manipulate the data!\n",
    "\n",
    "In Blockly, bring in the VARIABLES menu."
   ]
  },
  {
   "cell_type": "markdown",
      "metadata": {
      "deletable": false,
      "editable": false,
    "id": "6LOxWIwVf93X"
   },
   "source": [
    "**Step 2 - Assign the Dataframe to the Variable You Created:**\n",
    "\n",
    "Just like we did before, let’s type out a variable name. Rather than type out the full file name for our data, this easy to remember name will hold the data we bring in.\n",
    "\n",
    "In Blockly, go to the Variables and drag the Set block for the **dataframe** variable. This will allow us to assign the result of a function call to the variable. A function is basically code that does a specific task for us."
   ]
  },
  {
   "cell_type": "markdown",
      "metadata": {
      "deletable": false,
      "editable": false,
    "id": "aJyTn_sQf95w"
   },
   "source": [
    "**Step 3 - Bring in the data:**\n",
    "\n",
    "Now we need to look at the file that has all our data. To load our dataframe, we’ll use a simple command to bring in the file we need (CSV….Comma Separated Values). Let’s say we have a file called ‘VehicleEmissions.csv' in the folder **‘datasets’**. We’re telling Python to read the CSV file and store it in a variable called **dataframe**.\n",
    "\n",
    "From the Variable menu, drag a DO block using the **pd** variable, go ahead with the **do** operation **read_csv**. The read_csv function reads a CSV file and returns a DataFrame object.\n",
    "\n",
    "In our case, let’s bring in the “datasets/VehicleEmissions.csv\" (use the Quotes from the TEXT menu) because that is what Angelina is working with."
   ]
  },
  {
   "cell_type": "markdown",
      "metadata": {
      "deletable": false,
      "editable": false,
    "id": "nUUtopZpKXgL"
   },
   "source": [
    "\n",
    "**Step 4 - Display the variable**\n",
    "\n",
    "Let’s see it now by ‘displaying’ and showing our work.\n",
    "\n",
    "Drag the **dataframe** variable to the workspace, making it available for further use in our program. This step is more of a visualization step, as it allows us to see the variable in the Blockly workspace.\n",
    "\n",
    "\n"
   ]
  },
  {
   "cell_type": "markdown",
      "metadata": {
      "deletable": false,
      "editable": false,
    "id": "Mv3tMRlLf979"
   },
   "source": [
    "**Step 5 - Connect the blocks to run the code**\n",
    "\n",
    "Connect the blocks and run the code!\n",
    "\n",
    "<details>\n",
    "    <summary>Click to see the answer...</summary>\n",
    "    \n",
    "![](https://pbs.twimg.com/media/GZjdlWqXYA8lxYO?format=png&name=900x900)\n",
    "    \n",
    "</details>\n"
   ]
  },
  {
   "cell_type": "code",
   "execution_count": 5,
   "metadata": {
    "id": "Bx4j06vFkkW0"
   },
   "outputs": [],
   "source": [
    "#blocks code\n"
   ]
  },
  {
   "cell_type": "markdown",
      "metadata": {
      "deletable": false,
      "editable": false,
    "id": "QZtlkp8kf9-b",
    "jp-MarkdownHeadingCollapsed": true
   },
   "source": [
    "#### Freehand"
   ]
  },
  {
   "cell_type": "markdown",
      "metadata": {
      "deletable": false,
      "editable": false,
    "id": "qAygL-_jgezX"
   },
   "source": [
    "**Step 1 - Write out the variable name you want to use:**\n",
    "\n",
    "Now that we’re all set with our new package to help us to do cool things, let’s bring the data into a variable called **dataframe**. Think of it as a digital spreadsheet with much more power to analyze and manipulate the data!"
   ]
  },
  {
   "cell_type": "markdown",
      "metadata": {
      "deletable": false,
      "editable": false,
    "id": "x4rA5Gp6ge11"
   },
   "source": [
    "**Step 2 - Assign the Dataframe to the Variable You Created:**\n",
    "\n",
    "Just like we did before, let’s type out a variable name. Rather than type out the full file name for our data, this easy to remember name will hold the data we bring in.\n"
   ]
  },
  {
   "cell_type": "markdown",
      "metadata": {
      "deletable": false,
      "editable": false,
    "id": "TFa9QKiTge4U"
   },
   "source": [
    "**Step 3 - Bring in the data:**\n",
    "\n",
    "Now we need to look at the file that has all our data.\n",
    "\n",
    "To load our **dataframe**, we’ll use a simple command to bring in the file we need (CSV….Comma Separated Values). Let’s say we have a file called ‘VehicleEmissions.csv' in the folder **‘datasets’**. We’re telling Python to read the CSV file and store it in a variable called dataframe. For this function, we need to specify the code as “**pd.read_csv**”, which makes the code read the csv file. This variable is now our dataframe!\n",
    "\n",
    "In our case, let’s bring in the “datasets/VehicleEmissions.csv\" (user the Quotes from the TEXT menu) because that is what Kiana is working with."
   ]
  },
  {
   "cell_type": "markdown",
      "metadata": {
      "deletable": false,
      "editable": false,
    "id": "EUHW7qhjge64"
   },
   "source": [
    "**Step 4 - Print the variable**\n",
    "\n",
    "Let’s see it now by ‘printing’ and showing our work. Retype the variable name underneath the code, and it will print the code. In this case, we will type out the variable name **dataframe**.\n"
   ]
  },
  {
   "cell_type": "markdown",
      "metadata": {
      "deletable": false,
      "editable": false,
    "id": "DLgNsvdwMxBe"
   },
   "source": [
    "\n",
    "**Step 5 - Run the code**\n",
    "\n",
    "Hit ‘control’ and ‘enter’ at the same time to run the code!\n",
    "\n",
    "<details>\n",
    "    <summary>Click to see the answer...</summary>\n",
    "\n",
    "![](https://pbs.twimg.com/media/GZjdif6W0AYKevK?format=png&name=small)\n",
    "\n",
    "</details>"
   ]
  },
  {
   "cell_type": "markdown",
      "metadata": {
      "deletable": false,
      "editable": false,
    "id": "3U103s94g7DX"
   },
   "source": [
    "**Your Turn**: Now it’s your turn!  Let’s dive in and start working with the data!  We’ll begin by loading it into a dataframe, which will allow us to easily interact with and analyze the dataset.\n",
    "\n"
   ]
  },
  {
   "cell_type": "code",
   "execution_count": 6,
   "metadata": {
    "colab": {
     "base_uri": "https://localhost:8080/",
     "height": 423
    },
    "id": "BMmk69hug7RV",
    "outputId": "5b523259-851c-499c-fda2-ab96b1079984"
   },
   "outputs": [
    {
     "data": {
      "application/vnd.google.colaboratory.intrinsic+json": {
       "summary": "{\n  \"name\": \"dataframe\",\n  \"rows\": 150,\n  \"fields\": [\n    {\n      \"column\": \"TrafficVolume\",\n      \"properties\": {\n        \"dtype\": \"number\",\n        \"std\": 2300.1836888404623,\n        \"min\": 0.0,\n        \"max\": 10000.0,\n        \"num_unique_values\": 35,\n        \"samples\": [\n          5277.777778,\n          555.5555556,\n          3611.111111\n        ],\n        \"semantic_type\": \"\",\n        \"description\": \"\"\n      }\n    },\n    {\n      \"column\": \"AverageSpeed\",\n      \"properties\": {\n        \"dtype\": \"number\",\n        \"std\": 21,\n        \"min\": 0,\n        \"max\": 120,\n        \"num_unique_values\": 23,\n        \"samples\": [\n          15,\n          100,\n          75\n        ],\n        \"semantic_type\": \"\",\n        \"description\": \"\"\n      }\n    },\n    {\n      \"column\": \"CO2Emissions\",\n      \"properties\": {\n        \"dtype\": \"number\",\n        \"std\": 149.52715423255,\n        \"min\": 0.0,\n        \"max\": 500.0,\n        \"num_unique_values\": 43,\n        \"samples\": [\n          483.0508475,\n          237.2881356,\n          228.8135593\n        ],\n        \"semantic_type\": \"\",\n        \"description\": \"\"\n      }\n    },\n    {\n      \"column\": \"NoiseLevel\",\n      \"properties\": {\n        \"dtype\": \"number\",\n        \"std\": 28.61852781378158,\n        \"min\": 30.0,\n        \"max\": 120.0,\n        \"num_unique_values\": 22,\n        \"samples\": [\n          33.75,\n          71.25,\n          75.0\n        ],\n        \"semantic_type\": \"\",\n        \"description\": \"\"\n      }\n    },\n    {\n      \"column\": \"TrafficCondition\",\n      \"properties\": {\n        \"dtype\": \"category\",\n        \"num_unique_values\": 3,\n        \"samples\": [\n          \"Free Flow\",\n          \"Moderate\",\n          \"Heavy\"\n        ],\n        \"semantic_type\": \"\",\n        \"description\": \"\"\n      }\n    },\n    {\n      \"column\": \"Road Type\",\n      \"properties\": {\n        \"dtype\": \"category\",\n        \"num_unique_values\": 3,\n        \"samples\": [\n          \"Rural\",\n          \"Highway\",\n          \"City\"\n        ],\n        \"semantic_type\": \"\",\n        \"description\": \"\"\n      }\n    }\n  ]\n}",
       "type": "dataframe",
       "variable_name": "dataframe"
      },
      "text/html": [
       "\n",
       "  <div id=\"df-547f5313-8278-4328-9214-087f1ab17cc5\" class=\"colab-df-container\">\n",
       "    <div>\n",
       "<style scoped>\n",
       "    .dataframe tbody tr th:only-of-type {\n",
       "        vertical-align: middle;\n",
       "    }\n",
       "\n",
       "    .dataframe tbody tr th {\n",
       "        vertical-align: top;\n",
       "    }\n",
       "\n",
       "    .dataframe thead th {\n",
       "        text-align: right;\n",
       "    }\n",
       "</style>\n",
       "<table border=\"1\" class=\"dataframe\">\n",
       "  <thead>\n",
       "    <tr style=\"text-align: right;\">\n",
       "      <th></th>\n",
       "      <th>TrafficVolume</th>\n",
       "      <th>AverageSpeed</th>\n",
       "      <th>CO2Emissions</th>\n",
       "      <th>NoiseLevel</th>\n",
       "      <th>TrafficCondition</th>\n",
       "      <th>Road Type</th>\n",
       "    </tr>\n",
       "  </thead>\n",
       "  <tbody>\n",
       "    <tr>\n",
       "      <th>0</th>\n",
       "      <td>2222.222222</td>\n",
       "      <td>75</td>\n",
       "      <td>33.898305</td>\n",
       "      <td>33.75</td>\n",
       "      <td>Free Flow</td>\n",
       "      <td>Rural</td>\n",
       "    </tr>\n",
       "    <tr>\n",
       "      <th>1</th>\n",
       "      <td>1666.666667</td>\n",
       "      <td>50</td>\n",
       "      <td>33.898305</td>\n",
       "      <td>33.75</td>\n",
       "      <td>Free Flow</td>\n",
       "      <td>Rural</td>\n",
       "    </tr>\n",
       "    <tr>\n",
       "      <th>2</th>\n",
       "      <td>1111.111111</td>\n",
       "      <td>60</td>\n",
       "      <td>25.423729</td>\n",
       "      <td>33.75</td>\n",
       "      <td>Free Flow</td>\n",
       "      <td>Rural</td>\n",
       "    </tr>\n",
       "    <tr>\n",
       "      <th>3</th>\n",
       "      <td>833.333333</td>\n",
       "      <td>55</td>\n",
       "      <td>42.372881</td>\n",
       "      <td>33.75</td>\n",
       "      <td>Free Flow</td>\n",
       "      <td>Rural</td>\n",
       "    </tr>\n",
       "    <tr>\n",
       "      <th>4</th>\n",
       "      <td>1944.444444</td>\n",
       "      <td>80</td>\n",
       "      <td>33.898305</td>\n",
       "      <td>33.75</td>\n",
       "      <td>Free Flow</td>\n",
       "      <td>Rural</td>\n",
       "    </tr>\n",
       "    <tr>\n",
       "      <th>...</th>\n",
       "      <td>...</td>\n",
       "      <td>...</td>\n",
       "      <td>...</td>\n",
       "      <td>...</td>\n",
       "      <td>...</td>\n",
       "      <td>...</td>\n",
       "    </tr>\n",
       "    <tr>\n",
       "      <th>145</th>\n",
       "      <td>6666.666667</td>\n",
       "      <td>50</td>\n",
       "      <td>355.932203</td>\n",
       "      <td>112.50</td>\n",
       "      <td>Heavy</td>\n",
       "      <td>City</td>\n",
       "    </tr>\n",
       "    <tr>\n",
       "      <th>146</th>\n",
       "      <td>5555.555556</td>\n",
       "      <td>25</td>\n",
       "      <td>338.983051</td>\n",
       "      <td>97.50</td>\n",
       "      <td>Heavy</td>\n",
       "      <td>City</td>\n",
       "    </tr>\n",
       "    <tr>\n",
       "      <th>147</th>\n",
       "      <td>6111.111111</td>\n",
       "      <td>50</td>\n",
       "      <td>355.932203</td>\n",
       "      <td>101.25</td>\n",
       "      <td>Heavy</td>\n",
       "      <td>City</td>\n",
       "    </tr>\n",
       "    <tr>\n",
       "      <th>148</th>\n",
       "      <td>5277.777778</td>\n",
       "      <td>70</td>\n",
       "      <td>372.881356</td>\n",
       "      <td>112.50</td>\n",
       "      <td>Heavy</td>\n",
       "      <td>City</td>\n",
       "    </tr>\n",
       "    <tr>\n",
       "      <th>149</th>\n",
       "      <td>4444.444444</td>\n",
       "      <td>50</td>\n",
       "      <td>347.457627</td>\n",
       "      <td>93.75</td>\n",
       "      <td>Heavy</td>\n",
       "      <td>City</td>\n",
       "    </tr>\n",
       "  </tbody>\n",
       "</table>\n",
       "<p>150 rows × 6 columns</p>\n",
       "</div>\n",
       "    <div class=\"colab-df-buttons\">\n",
       "\n",
       "  <div class=\"colab-df-container\">\n",
       "    <button class=\"colab-df-convert\" onclick=\"convertToInteractive('df-547f5313-8278-4328-9214-087f1ab17cc5')\"\n",
       "            title=\"Convert this dataframe to an interactive table.\"\n",
       "            style=\"display:none;\">\n",
       "\n",
       "  <svg xmlns=\"http://www.w3.org/2000/svg\" height=\"24px\" viewBox=\"0 -960 960 960\">\n",
       "    <path d=\"M120-120v-720h720v720H120Zm60-500h600v-160H180v160Zm220 220h160v-160H400v160Zm0 220h160v-160H400v160ZM180-400h160v-160H180v160Zm440 0h160v-160H620v160ZM180-180h160v-160H180v160Zm440 0h160v-160H620v160Z\"/>\n",
       "  </svg>\n",
       "    </button>\n",
       "\n",
       "  <style>\n",
       "    .colab-df-container {\n",
       "      display:flex;\n",
       "      gap: 12px;\n",
       "    }\n",
       "\n",
       "    .colab-df-convert {\n",
       "      background-color: #E8F0FE;\n",
       "      border: none;\n",
       "      border-radius: 50%;\n",
       "      cursor: pointer;\n",
       "      display: none;\n",
       "      fill: #1967D2;\n",
       "      height: 32px;\n",
       "      padding: 0 0 0 0;\n",
       "      width: 32px;\n",
       "    }\n",
       "\n",
       "    .colab-df-convert:hover {\n",
       "      background-color: #E2EBFA;\n",
       "      box-shadow: 0px 1px 2px rgba(60, 64, 67, 0.3), 0px 1px 3px 1px rgba(60, 64, 67, 0.15);\n",
       "      fill: #174EA6;\n",
       "    }\n",
       "\n",
       "    .colab-df-buttons div {\n",
       "      margin-bottom: 4px;\n",
       "    }\n",
       "\n",
       "    [theme=dark] .colab-df-convert {\n",
       "      background-color: #3B4455;\n",
       "      fill: #D2E3FC;\n",
       "    }\n",
       "\n",
       "    [theme=dark] .colab-df-convert:hover {\n",
       "      background-color: #434B5C;\n",
       "      box-shadow: 0px 1px 3px 1px rgba(0, 0, 0, 0.15);\n",
       "      filter: drop-shadow(0px 1px 2px rgba(0, 0, 0, 0.3));\n",
       "      fill: #FFFFFF;\n",
       "    }\n",
       "  </style>\n",
       "\n",
       "    <script>\n",
       "      const buttonEl =\n",
       "        document.querySelector('#df-547f5313-8278-4328-9214-087f1ab17cc5 button.colab-df-convert');\n",
       "      buttonEl.style.display =\n",
       "        google.colab.kernel.accessAllowed ? 'block' : 'none';\n",
       "\n",
       "      async function convertToInteractive(key) {\n",
       "        const element = document.querySelector('#df-547f5313-8278-4328-9214-087f1ab17cc5');\n",
       "        const dataTable =\n",
       "          await google.colab.kernel.invokeFunction('convertToInteractive',\n",
       "                                                    [key], {});\n",
       "        if (!dataTable) return;\n",
       "\n",
       "        const docLinkHtml = 'Like what you see? Visit the ' +\n",
       "          '<a target=\"_blank\" href=https://colab.research.google.com/notebooks/data_table.ipynb>data table notebook</a>'\n",
       "          + ' to learn more about interactive tables.';\n",
       "        element.innerHTML = '';\n",
       "        dataTable['output_type'] = 'display_data';\n",
       "        await google.colab.output.renderOutput(dataTable, element);\n",
       "        const docLink = document.createElement('div');\n",
       "        docLink.innerHTML = docLinkHtml;\n",
       "        element.appendChild(docLink);\n",
       "      }\n",
       "    </script>\n",
       "  </div>\n",
       "\n",
       "\n",
       "<div id=\"df-9639cf9a-88d5-41e4-aac6-c3655b968196\">\n",
       "  <button class=\"colab-df-quickchart\" onclick=\"quickchart('df-9639cf9a-88d5-41e4-aac6-c3655b968196')\"\n",
       "            title=\"Suggest charts\"\n",
       "            style=\"display:none;\">\n",
       "\n",
       "<svg xmlns=\"http://www.w3.org/2000/svg\" height=\"24px\"viewBox=\"0 0 24 24\"\n",
       "     width=\"24px\">\n",
       "    <g>\n",
       "        <path d=\"M19 3H5c-1.1 0-2 .9-2 2v14c0 1.1.9 2 2 2h14c1.1 0 2-.9 2-2V5c0-1.1-.9-2-2-2zM9 17H7v-7h2v7zm4 0h-2V7h2v10zm4 0h-2v-4h2v4z\"/>\n",
       "    </g>\n",
       "</svg>\n",
       "  </button>\n",
       "\n",
       "<style>\n",
       "  .colab-df-quickchart {\n",
       "      --bg-color: #E8F0FE;\n",
       "      --fill-color: #1967D2;\n",
       "      --hover-bg-color: #E2EBFA;\n",
       "      --hover-fill-color: #174EA6;\n",
       "      --disabled-fill-color: #AAA;\n",
       "      --disabled-bg-color: #DDD;\n",
       "  }\n",
       "\n",
       "  [theme=dark] .colab-df-quickchart {\n",
       "      --bg-color: #3B4455;\n",
       "      --fill-color: #D2E3FC;\n",
       "      --hover-bg-color: #434B5C;\n",
       "      --hover-fill-color: #FFFFFF;\n",
       "      --disabled-bg-color: #3B4455;\n",
       "      --disabled-fill-color: #666;\n",
       "  }\n",
       "\n",
       "  .colab-df-quickchart {\n",
       "    background-color: var(--bg-color);\n",
       "    border: none;\n",
       "    border-radius: 50%;\n",
       "    cursor: pointer;\n",
       "    display: none;\n",
       "    fill: var(--fill-color);\n",
       "    height: 32px;\n",
       "    padding: 0;\n",
       "    width: 32px;\n",
       "  }\n",
       "\n",
       "  .colab-df-quickchart:hover {\n",
       "    background-color: var(--hover-bg-color);\n",
       "    box-shadow: 0 1px 2px rgba(60, 64, 67, 0.3), 0 1px 3px 1px rgba(60, 64, 67, 0.15);\n",
       "    fill: var(--button-hover-fill-color);\n",
       "  }\n",
       "\n",
       "  .colab-df-quickchart-complete:disabled,\n",
       "  .colab-df-quickchart-complete:disabled:hover {\n",
       "    background-color: var(--disabled-bg-color);\n",
       "    fill: var(--disabled-fill-color);\n",
       "    box-shadow: none;\n",
       "  }\n",
       "\n",
       "  .colab-df-spinner {\n",
       "    border: 2px solid var(--fill-color);\n",
       "    border-color: transparent;\n",
       "    border-bottom-color: var(--fill-color);\n",
       "    animation:\n",
       "      spin 1s steps(1) infinite;\n",
       "  }\n",
       "\n",
       "  @keyframes spin {\n",
       "    0% {\n",
       "      border-color: transparent;\n",
       "      border-bottom-color: var(--fill-color);\n",
       "      border-left-color: var(--fill-color);\n",
       "    }\n",
       "    20% {\n",
       "      border-color: transparent;\n",
       "      border-left-color: var(--fill-color);\n",
       "      border-top-color: var(--fill-color);\n",
       "    }\n",
       "    30% {\n",
       "      border-color: transparent;\n",
       "      border-left-color: var(--fill-color);\n",
       "      border-top-color: var(--fill-color);\n",
       "      border-right-color: var(--fill-color);\n",
       "    }\n",
       "    40% {\n",
       "      border-color: transparent;\n",
       "      border-right-color: var(--fill-color);\n",
       "      border-top-color: var(--fill-color);\n",
       "    }\n",
       "    60% {\n",
       "      border-color: transparent;\n",
       "      border-right-color: var(--fill-color);\n",
       "    }\n",
       "    80% {\n",
       "      border-color: transparent;\n",
       "      border-right-color: var(--fill-color);\n",
       "      border-bottom-color: var(--fill-color);\n",
       "    }\n",
       "    90% {\n",
       "      border-color: transparent;\n",
       "      border-bottom-color: var(--fill-color);\n",
       "    }\n",
       "  }\n",
       "</style>\n",
       "\n",
       "  <script>\n",
       "    async function quickchart(key) {\n",
       "      const quickchartButtonEl =\n",
       "        document.querySelector('#' + key + ' button');\n",
       "      quickchartButtonEl.disabled = true;  // To prevent multiple clicks.\n",
       "      quickchartButtonEl.classList.add('colab-df-spinner');\n",
       "      try {\n",
       "        const charts = await google.colab.kernel.invokeFunction(\n",
       "            'suggestCharts', [key], {});\n",
       "      } catch (error) {\n",
       "        console.error('Error during call to suggestCharts:', error);\n",
       "      }\n",
       "      quickchartButtonEl.classList.remove('colab-df-spinner');\n",
       "      quickchartButtonEl.classList.add('colab-df-quickchart-complete');\n",
       "    }\n",
       "    (() => {\n",
       "      let quickchartButtonEl =\n",
       "        document.querySelector('#df-9639cf9a-88d5-41e4-aac6-c3655b968196 button');\n",
       "      quickchartButtonEl.style.display =\n",
       "        google.colab.kernel.accessAllowed ? 'block' : 'none';\n",
       "    })();\n",
       "  </script>\n",
       "</div>\n",
       "\n",
       "  <div id=\"id_d93fa429-4a9f-4881-ae33-9e1e0b19f5cd\">\n",
       "    <style>\n",
       "      .colab-df-generate {\n",
       "        background-color: #E8F0FE;\n",
       "        border: none;\n",
       "        border-radius: 50%;\n",
       "        cursor: pointer;\n",
       "        display: none;\n",
       "        fill: #1967D2;\n",
       "        height: 32px;\n",
       "        padding: 0 0 0 0;\n",
       "        width: 32px;\n",
       "      }\n",
       "\n",
       "      .colab-df-generate:hover {\n",
       "        background-color: #E2EBFA;\n",
       "        box-shadow: 0px 1px 2px rgba(60, 64, 67, 0.3), 0px 1px 3px 1px rgba(60, 64, 67, 0.15);\n",
       "        fill: #174EA6;\n",
       "      }\n",
       "\n",
       "      [theme=dark] .colab-df-generate {\n",
       "        background-color: #3B4455;\n",
       "        fill: #D2E3FC;\n",
       "      }\n",
       "\n",
       "      [theme=dark] .colab-df-generate:hover {\n",
       "        background-color: #434B5C;\n",
       "        box-shadow: 0px 1px 3px 1px rgba(0, 0, 0, 0.15);\n",
       "        filter: drop-shadow(0px 1px 2px rgba(0, 0, 0, 0.3));\n",
       "        fill: #FFFFFF;\n",
       "      }\n",
       "    </style>\n",
       "    <button class=\"colab-df-generate\" onclick=\"generateWithVariable('dataframe')\"\n",
       "            title=\"Generate code using this dataframe.\"\n",
       "            style=\"display:none;\">\n",
       "\n",
       "  <svg xmlns=\"http://www.w3.org/2000/svg\" height=\"24px\"viewBox=\"0 0 24 24\"\n",
       "       width=\"24px\">\n",
       "    <path d=\"M7,19H8.4L18.45,9,17,7.55,7,17.6ZM5,21V16.75L18.45,3.32a2,2,0,0,1,2.83,0l1.4,1.43a1.91,1.91,0,0,1,.58,1.4,1.91,1.91,0,0,1-.58,1.4L9.25,21ZM18.45,9,17,7.55Zm-12,3A5.31,5.31,0,0,0,4.9,8.1,5.31,5.31,0,0,0,1,6.5,5.31,5.31,0,0,0,4.9,4.9,5.31,5.31,0,0,0,6.5,1,5.31,5.31,0,0,0,8.1,4.9,5.31,5.31,0,0,0,12,6.5,5.46,5.46,0,0,0,6.5,12Z\"/>\n",
       "  </svg>\n",
       "    </button>\n",
       "    <script>\n",
       "      (() => {\n",
       "      const buttonEl =\n",
       "        document.querySelector('#id_d93fa429-4a9f-4881-ae33-9e1e0b19f5cd button.colab-df-generate');\n",
       "      buttonEl.style.display =\n",
       "        google.colab.kernel.accessAllowed ? 'block' : 'none';\n",
       "\n",
       "      buttonEl.onclick = () => {\n",
       "        google.colab.notebook.generateWithVariable('dataframe');\n",
       "      }\n",
       "      })();\n",
       "    </script>\n",
       "  </div>\n",
       "\n",
       "    </div>\n",
       "  </div>\n"
      ],
      "text/plain": [
       "     TrafficVolume  AverageSpeed  CO2Emissions  NoiseLevel TrafficCondition  \\\n",
       "0      2222.222222            75     33.898305       33.75        Free Flow   \n",
       "1      1666.666667            50     33.898305       33.75        Free Flow   \n",
       "2      1111.111111            60     25.423729       33.75        Free Flow   \n",
       "3       833.333333            55     42.372881       33.75        Free Flow   \n",
       "4      1944.444444            80     33.898305       33.75        Free Flow   \n",
       "..             ...           ...           ...         ...              ...   \n",
       "145    6666.666667            50    355.932203      112.50            Heavy   \n",
       "146    5555.555556            25    338.983051       97.50            Heavy   \n",
       "147    6111.111111            50    355.932203      101.25            Heavy   \n",
       "148    5277.777778            70    372.881356      112.50            Heavy   \n",
       "149    4444.444444            50    347.457627       93.75            Heavy   \n",
       "\n",
       "    Road Type  \n",
       "0       Rural  \n",
       "1       Rural  \n",
       "2       Rural  \n",
       "3       Rural  \n",
       "4       Rural  \n",
       "..        ...  \n",
       "145      City  \n",
       "146      City  \n",
       "147      City  \n",
       "148      City  \n",
       "149      City  \n",
       "\n",
       "[150 rows x 6 columns]"
      ]
     },
     "execution_count": 6,
     "metadata": {},
     "output_type": "execute_result"
    }
   ],
   "source": [
    "#freehand code \n"
   ]
  },
  {
   "cell_type": "markdown",
      "metadata": {
      "deletable": false,
      "editable": false,
    "id": "4Nr5YW15ge9g"
   },
   "source": [
    "\n",
    "\n",
    "\n",
    "\n",
    "\n",
    "\n",
    "\n",
    "\n",
    "\n",
    "\n",
    "\n",
    "\n",
    "**Explanation**: *Easy-peasy! You have now brought in the dataframe and stored it as a variable that you can reference later on. Now onto the fun part! The dataset contains information about vehicle emissions and various related attributes. Each row represents a different vehicle and provides details such as emissions levels, engine size, fuel consumption, power output, vehicle mass, torque, production year, region, and vehicle type. This dataset is valuable for understanding environmental impacts and can be helpful in studies in science and geography classes.*"
   ]
  },
  {
   "cell_type": "markdown",
      "metadata": {
      "deletable": false,
      "editable": false,
    "id": "RRPi_qShhL6H"
   },
   "source": [
    "### Goal 3: Checking the data for missing (null) values\n",
    "\n",
    "Sometimes, you want to spot-check your data before doing more analysis.  One thing that can really mess up analysis is if we have some data that is blank or missing. Missing data can mess up our ability to draw accurate conclusions and mess up our results. So how might Angelina check on that?"
   ]
  },
  {
   "cell_type": "markdown",
      "metadata": {
      "deletable": false,
      "editable": false,
    "id": "cFBSrQm8hMBx",
    "jp-MarkdownHeadingCollapsed": true
   },
   "source": [
    "#### Blockly"
   ]
  },
  {
   "cell_type": "markdown",
      "metadata": {
      "deletable": false,
      "editable": false,
    "id": "1oJebPa-hMEA"
   },
   "source": [
    "**Step 1 - Write out the name for a variable you want to use**\n",
    "\n",
    "Just like we did before, let’s type out a variable name. Because we want to look at missing data, let’s simply call it **missing**.\n",
    "\n",
    "On the Variable menu, click Create a variable, and type the name **missing** to the new variable. On the same menu, drag the Set block of this variable to the workspace. If we see anything is missing, it will say ‘True’. If it’s not missing, it will say ‘False’."
   ]
  },
  {
   "cell_type": "markdown",
      "metadata": {
      "deletable": false,
      "editable": false,
    "id": "b1Qq4v9ehMGK"
   },
   "source": [
    "**Step 2 - Look for missing values**  \n",
    "\n",
    "To check if your dataset has missing values (null), you can use Python’s pandas library to explore the data. Specifically, you can use the **isnull**() function. This method returns a new dataframe of the same shape as the original, but with True in the places where the values are missing and False where they are not.\n",
    "From the Variables menu, drag a DO block for the dataframe object, then select the operation isnull. We are using the isnull function from the dataframe module to check for null values in the dataframe.\n"
   ]
  },
  {
   "cell_type": "markdown",
      "metadata": {
      "deletable": false,
      "editable": false,
    "id": "sF5nh_IHNvK5"
   },
   "source": [
    "**Step 3 - Connect the blocks to run the code**\n",
    "\n",
    "Connect the blocks and run the code!\n",
    "\n",
    "<details>\n",
    "    <summary>Click to see the answer...</summary>\n",
    "\n",
    "![](https://pbs.twimg.com/media/GZYyCUyXUAA3WdJ?format=png&name=small)\n",
    "\n",
    "</details>"
   ]
  },
  {
   "cell_type": "code",
   "execution_count": 7,
   "metadata": {
    "id": "lhU5e5UKklYu"
   },
   "outputs": [],
   "source": [
    "#blocks code"
   ]
  },
  {
   "cell_type": "markdown",
      "metadata": {
      "deletable": false,
      "editable": false,
    "id": "zQzo3CwuhMIY",
    "jp-MarkdownHeadingCollapsed": true
   },
   "source": [
    "#### Freehand"
   ]
  },
  {
   "cell_type": "markdown",
      "metadata": {
      "deletable": false,
      "editable": false,
    "id": "Zm5OeqnOh58X"
   },
   "source": [
    "**Step 1 - Write out the name for a variable you want to use:**\n",
    "\n",
    "Just like we did before, let’s type out a variable name. Because we want to look at missing data, let’s simply call it **missing**"
   ]
  },
  {
   "cell_type": "markdown",
      "metadata": {
      "deletable": false,
      "editable": false,
    "id": "BHVqFWnshMKm"
   },
   "source": [
    "**Step 2 - Look for missing values**\n",
    "\n",
    "To check if your dataset has missing values, you can use Python’s pandas library to explore the data. Specifically, you can use the **isnull**() function. This method returns a new dataframe of the same shape as the original, but with True in the places where the values are missing and False where they are not.\n",
    "\n"
   ]
  },
  {
   "cell_type": "markdown",
      "metadata": {
      "deletable": false,
      "editable": false,
    "id": "6X9XF_1_N_8Q"
   },
   "source": [
    "**Step 3 - Run the code**\n",
    "\n",
    "Hit ‘control’ and ‘enter’ at the same time to run the code!\n",
    "<details>\n",
    "    <summary>Click to see the answer...</summary>\n",
    "    \n",
    "![](https://pbs.twimg.com/media/GZYyEo4bEAA5Toh?format=png&name=360x360)\n",
    "\n",
    "</details>"
   ]
  },
  {
   "cell_type": "markdown",
      "metadata": {
      "deletable": false,
      "editable": false,
    "id": "4kslXSoLh_3H"
   },
   "source": [
    "**Your Turn**: Now it’s your turn! See if you can type in the data that appears above to find if anything is missing that might trip up Angelina and her group. Use the code provided to check your dataset for missing values. Then, decide how you want to handle any missing data that you find.\n"
   ]
  },
  {
   "cell_type": "code",
   "execution_count": 8,
   "metadata": {
    "id": "Z2mWSaLgiDc2"
   },
   "outputs": [],
   "source": [
    "#freehand code \n"
   ]
  },
  {
   "cell_type": "markdown",
      "metadata": {
      "deletable": false,
      "editable": false,
    "id": "Hl4GwEFBh_5m"
   },
   "source": [
    "**Explanation**: *You Got It! Now you’ve checked your dataset for missing values. This helps you to identify any gaps, to decide how you want to handle them to ensure your analysis remains accurate. Are there any other missing values you might have missed?*\n",
    "\n",
    "*The results from the code show that most of the data in the vehicle emissions dataset is complete, with values present in all columns for most rows. However, the last few rows have missing vehicle_type information, indicated by True. This means that while the dataset is mostly complete, a few entries lack this specific detail, which might be necessary for certain analyses or conclusions about vehicle types and their emissions.*"
   ]
  },
  {
   "cell_type": "markdown",
      "metadata": {
      "deletable": false,
      "editable": false,
    "id": "DnDEabX8iMWu"
   },
   "source": [
    "### Goal 4: Counting missing values.\n",
    "\n",
    "We’ve now found our missing values, but how many do we have? To understand how many values are missing in each column, let’s use the .**sum**() method to count of missing values per column."
   ]
  },
  {
   "cell_type": "markdown",
      "metadata": {
      "deletable": false,
      "editable": false,
    "id": "5dsMOD4piXsU",
    "jp-MarkdownHeadingCollapsed": true
   },
   "source": [
    "#### Blockly"
   ]
  },
  {
   "cell_type": "markdown",
      "metadata": {
      "deletable": false,
      "editable": false,
    "id": "MDgR40cbiaM7"
   },
   "source": [
    "**Step 1 - Sum the total of the missing cells:**\n",
    "\n",
    "To count the missing values in each column of the dataframe, we can use the **sum**() function to add up all the missing cells.\n",
    "\n",
    "From the Variables menu, drag the DO block for the missing variable. With that block, select the sum operation. This function returns the total count of the values in the missing variable, which represents the number of missing values in the dataframe."
   ]
  },
  {
   "cell_type": "markdown",
      "metadata": {
      "deletable": false,
      "editable": false,
    "id": "b9JKeHexiaRB"
   },
   "source": [
    "**Step 2 -  Analyze the results:**\n",
    "\n",
    "The result can now be used for further analysis, such as identifying the extent of missing values, performing data imputation, or reporting the quality of the data.\n",
    "\n"
   ]
  },
  {
   "cell_type": "markdown",
      "metadata": {
      "deletable": false,
      "editable": false,
    "id": "1UPAv_VWPfJH"
   },
   "source": [
    "**Step 3 - Connect the blocks to run the code**\n",
    "\n",
    "Connect the blocks and run the code!\n",
    "\n",
    "<details>\n",
    "    <summary>Click to see the answer...</summary>\n",
    "    \n",
    "![](https://pbs.twimg.com/media/GZY03PtWkAEjc0z?format=png&name=360x360)\n",
    "\n",
    "</details>"
   ]
  },
  {
   "cell_type": "code",
   "execution_count": 9,
   "metadata": {
    "id": "NA-pcwpqkmJ9"
   },
   "outputs": [],
   "source": [
    "#blocks code"
   ]
  },
  {
   "cell_type": "markdown",
      "metadata": {
      "deletable": false,
      "editable": false,
    "id": "6wZ5wSjsilg5",
    "jp-MarkdownHeadingCollapsed": true
   },
   "source": [
    "#### Freehand"
   ]
  },
  {
   "cell_type": "markdown",
      "metadata": {
      "deletable": false,
      "editable": false,
    "id": "5EGiYRzoiljW"
   },
   "source": [
    "**Step 1 - Sum the total of the missing cells:**\n",
    "\n",
    "Count the missing values in each column of the dataframe, we can use the **sum**() function to add up all the missing cells in the **missing** variable."
   ]
  },
  {
   "cell_type": "markdown",
      "metadata": {
      "deletable": false,
      "editable": false,
    "id": "GkODCbRPillj"
   },
   "source": [
    "\n",
    "**Step 2 - Analyze the results:**\n",
    "\n",
    "The result can now be used for further analysis, such as identifying the extent of missing values, performing data imputation, or reporting the quality of the data.\n",
    "\n"
   ]
  },
  {
   "cell_type": "markdown",
      "metadata": {
      "deletable": false,
      "editable": false,
    "id": "r_ubfHpqPn34"
   },
   "source": [
    "**Step 3 - Run the code**\n",
    "\n",
    "Hit ‘control’ and ‘enter’ at the same time to run the code!\n",
    "<details>\n",
    "    <summary>Click to see the answer...</summary>\n",
    "    \n",
    "![](https://pbs.twimg.com/media/GZY00MKXEAAtLRn?format=png&name=360x360)\n",
    "\n",
    "</details>"
   ]
  },
  {
   "cell_type": "markdown",
      "metadata": {
      "deletable": false,
      "editable": false,
    "id": "VGn0kc7RixDq"
   },
   "source": [
    "**Your Turn**: Let’s give it a go and see what we can do.\n"
   ]
  },
  {
   "cell_type": "code",
   "execution_count": 10,
   "metadata": {
    "colab": {
     "base_uri": "https://localhost:8080/",
     "height": 272
    },
    "id": "5IIgqAoWi0ej",
    "outputId": "cae99a4e-f454-4994-82b9-af9c4f14c2dc"
   },
   "outputs": [
    {
     "data": {
      "text/html": [
       "<div>\n",
       "<style scoped>\n",
       "    .dataframe tbody tr th:only-of-type {\n",
       "        vertical-align: middle;\n",
       "    }\n",
       "\n",
       "    .dataframe tbody tr th {\n",
       "        vertical-align: top;\n",
       "    }\n",
       "\n",
       "    .dataframe thead th {\n",
       "        text-align: right;\n",
       "    }\n",
       "</style>\n",
       "<table border=\"1\" class=\"dataframe\">\n",
       "  <thead>\n",
       "    <tr style=\"text-align: right;\">\n",
       "      <th></th>\n",
       "      <th>0</th>\n",
       "    </tr>\n",
       "  </thead>\n",
       "  <tbody>\n",
       "    <tr>\n",
       "      <th>TrafficVolume</th>\n",
       "      <td>0</td>\n",
       "    </tr>\n",
       "    <tr>\n",
       "      <th>AverageSpeed</th>\n",
       "      <td>0</td>\n",
       "    </tr>\n",
       "    <tr>\n",
       "      <th>CO2Emissions</th>\n",
       "      <td>0</td>\n",
       "    </tr>\n",
       "    <tr>\n",
       "      <th>NoiseLevel</th>\n",
       "      <td>0</td>\n",
       "    </tr>\n",
       "    <tr>\n",
       "      <th>TrafficCondition</th>\n",
       "      <td>0</td>\n",
       "    </tr>\n",
       "    <tr>\n",
       "      <th>Road Type</th>\n",
       "      <td>0</td>\n",
       "    </tr>\n",
       "  </tbody>\n",
       "</table>\n",
       "</div><br><label><b>dtype:</b> int64</label>"
      ],
      "text/plain": [
       "TrafficVolume       0\n",
       "AverageSpeed        0\n",
       "CO2Emissions        0\n",
       "NoiseLevel          0\n",
       "TrafficCondition    0\n",
       "Road Type           0\n",
       "dtype: int64"
      ]
     },
     "execution_count": 10,
     "metadata": {},
     "output_type": "execute_result"
    }
   ],
   "source": [
    "#freehand code \n"
   ]
  },
  {
   "cell_type": "markdown",
      "metadata": {
      "deletable": false,
      "editable": false,
    "id": "lR5LmP-giln7"
   },
   "source": [
    "**Explanation**: *Well done! You’ve used the missing values  code to count the missing values in each column of your dataset. This helps you identify any columns with missing data that need to be addressed. Let’s find out what’s next.*\n",
    "\n",
    "*The code output reveals that the dataset is mostly complete, with no missing values in most columns. However, there are some missing values in the power_output column (6 missing) and a significant number in the vehicle_type column (385 missing).*"
   ]
  },
  {
   "cell_type": "markdown",
      "metadata": {
      "deletable": false,
      "editable": false,
    "id": "E5HJqWWRhMMm"
   },
   "source": [
    "### Goal 5: Checking the data for duplicate values.\n",
    "\n",
    "One final doublecheck would be to focus on duplicate values. These values can appear when data is entered or collected multiple times by mistake. But why does this matter? If we accidentally count something too much, it could cause us to make the wrong decision. So, how can we identify and remove those duplicates for our practical analysis?"
   ]
  },
  {
   "cell_type": "markdown",
      "metadata": {
      "deletable": false,
      "editable": false,
    "id": "AYL_mYDHjDAG",
    "jp-MarkdownHeadingCollapsed": true
   },
   "source": [
    "#### Blockly"
   ]
  },
  {
   "cell_type": "markdown",
      "metadata": {
      "deletable": false,
      "editable": false,
    "id": "FZI0YosCjDCR"
   },
   "source": [
    "**Step 1 - Write out the name for a variable you want to use**\n",
    "\n",
    "Just like we did before, let’s type out a variable name. Because we want to look at missing data, let’s simply call it **duplicates** so it’s easy for us to remember\n",
    "\n",
    "On the Variable menu, click on Create variable, and type **duplicates** as the name of the variable. From the same menu, drag the Set block for this variable. This variable will hold a boolean value indicating whether each cell in the dataframe is a duplicate or not."
   ]
  },
  {
   "cell_type": "markdown",
      "metadata": {
      "deletable": false,
      "editable": false,
    "id": "PU5YIRm_jDEU"
   },
   "source": [
    "**Step 2 - Check for duplicated rows**\n",
    "\n",
    "From the Variables menu, drag the DO block for the **dataframe** variable. With that, select the **duplicated**() function. This function returns a value indicating whether each row in the dataframe is a duplicate or not. If it has duplicate rows, it will say ‘True’.\n"
   ]
  },
  {
   "cell_type": "markdown",
      "metadata": {
      "deletable": false,
      "editable": false,
    "id": "_yMn7eNVjDGh"
   },
   "source": [
    "**Step 3 - Calculate the total of duplicates:**\n",
    "\n",
    "In the last step we asked to say ‘True’ everytime there was a duplicate. Now let’s just count them all up.\n",
    "\n",
    "From the Variables menu, drag the **duplicates** variable. From the Math menu, get a Sum of the list. Lastly, from the Text menu choose a Print block. Connect the sum block with duplicates and that with the print.  "
   ]
  },
  {
   "cell_type": "markdown",
      "metadata": {
      "deletable": false,
      "editable": false,
    "id": "q3viHT4SjDIu"
   },
   "source": [
    "**Step 4. Print the variable**\n",
    "\n",
    "The print function will show the result of the sum function on the screen, which will tell us the total count of duplicated rows in the dataframe.\n"
   ]
  },
  {
   "cell_type": "markdown",
      "metadata": {
      "deletable": false,
      "editable": false,
    "id": "e2KIMiXBQAoP"
   },
   "source": [
    "**Step 5 - Connect the blocks to run the code**\n",
    "\n",
    "Connect the blocks and run the code!\n",
    "\n",
    "<details>\n",
    "    <summary>Click to see the answer...</summary>\n",
    "    \n",
    "![](https://pbs.twimg.com/media/GZZGpocXUAAg7Yo?format=png&name=small)\n",
    "\n",
    "</details>"
   ]
  },
  {
   "cell_type": "code",
   "execution_count": 11,
   "metadata": {
    "id": "bEzBm6GPkqP8"
   },
   "outputs": [],
   "source": [
    "#blocks code"
   ]
  },
  {
   "cell_type": "markdown",
      "metadata": {
      "deletable": false,
      "editable": false,
    "id": "9_a5kaOHjDK7",
    "jp-MarkdownHeadingCollapsed": true
   },
   "source": [
    "#### Freehand"
   ]
  },
  {
   "cell_type": "markdown",
      "metadata": {
      "deletable": false,
      "editable": false,
    "id": "JETtqzHFjDNK"
   },
   "source": [
    "**Step 1 - Write out the name for a variable you want to use:**\n",
    "\n",
    "Just like we did before, let’s type out a variable name. Because we want to look at missing data, let’s simply call it **duplicates** so it’s easy for us to remember"
   ]
  },
  {
   "cell_type": "markdown",
      "metadata": {
      "deletable": false,
      "editable": false,
    "id": "t770ajBPja22"
   },
   "source": [
    "**Step 2 - Check for duplicated rows:**\n",
    "\n",
    "Similar to the ways to find extra values, you can use the **duplicated**() function from Python’s pandas library. This function will return True for any duplicate rows in your dataframe. This code will tell you how many duplicate rows exist in your dataset."
   ]
  },
  {
   "cell_type": "markdown",
      "metadata": {
      "deletable": false,
      "editable": false,
    "id": "HaxWA2Adja5N"
   },
   "source": [
    "**Step 3 - Calculate the total of duplicates:**\n",
    "\n",
    "In the last step we asked to say ‘True’ everytime there was a duplicate. Now let’s just count them all up."
   ]
  },
  {
   "cell_type": "markdown",
      "metadata": {
      "deletable": false,
      "editable": false,
    "id": "pcdqjNhEja7r"
   },
   "source": [
    "**Step 4 - Print the variable**\n",
    "\n",
    "The print function will show the result of the sum function on the screen, which will tell us the total count of duplicated rows in the dataframe.\n"
   ]
  },
  {
   "cell_type": "markdown",
      "metadata": {
      "deletable": false,
      "editable": false,
    "id": "two0nr3iQc-3"
   },
   "source": [
    "**Step 5 - Run the code**\n",
    "\n",
    "Hit ‘control’ and ‘enter’ at the same time to run the code!\n",
    "\n",
    "<details>\n",
    "    <summary>Click to see the answer...</summary>\n",
    "\n",
    "![](https://pbs.twimg.com/media/GZZGse6XsAAs3g-?format=png&name=360x360)\n",
    "\n",
    "</details>"
   ]
  },
  {
   "cell_type": "markdown",
      "metadata": {
      "deletable": false,
      "editable": false,
    "id": "t_RcZ_FHjugk"
   },
   "source": [
    "**Your Turn**: So let’s dive in and see if we can find the ‘extras’ that maybe shouldn’t be there."
   ]
  },
  {
   "cell_type": "code",
   "execution_count": 12,
   "metadata": {
    "colab": {
     "base_uri": "https://localhost:8080/"
    },
    "id": "kyNEXxOPjyAI",
    "outputId": "4a463afb-a26e-4d0b-8e68-8f708723c7a2"
   },
   "outputs": [
    {
     "name": "stdout",
     "output_type": "stream",
     "text": [
      "2\n"
     ]
    }
   ],
   "source": [
    "#freehand code \n"
   ]
  },
  {
   "cell_type": "markdown",
      "metadata": {
      "deletable": false,
      "editable": false,
    "id": "ghXxFYPHja-y"
   },
   "source": [
    "**Explanation**: *Nice work! You’ve used the “duplicates” code to check your dataset for any duplicate rows. Identifying and removing these duplicates will help ensure your analysis is accurate and reliable. Did your dataset have any duplicate rows?*\n",
    "\n",
    "*The output shows there are two duplicate rows in the dataset. This means some data entries are repeated, which can affect the accuracy of any analysis. Identifying and possibly removing these duplicates is important to ensure the results reflect the true information about vehicle emissions.*\n"
   ]
  },
  {
   "cell_type": "markdown",
      "metadata": {
      "deletable": false,
      "editable": false,
    "id": "hmQbGywQj2JG"
   },
   "source": [
    "### Goal 6: Cleaning duplicate values.\n",
    "\n",
    "Now that you’ve done a deep dive, what happens if you want to get rid of them? If the result is anything other than zero, you might need to handle these duplicates."
   ]
  },
  {
   "cell_type": "markdown",
      "metadata": {
      "deletable": false,
      "editable": false,
    "id": "fOZb24ZVj2LS",
    "jp-MarkdownHeadingCollapsed": true
   },
   "source": [
    "#### Blockly"
   ]
  },
  {
   "cell_type": "markdown",
      "metadata": {
      "deletable": false,
      "editable": false,
    "id": "Kf6iWKrXj2NR"
   },
   "source": [
    "**Step 1 - Write out the name for a variable you want to use:**\n",
    "\n",
    "Just like we did before, let’s type out a variable name. Because we want to look at missing data, let’s simply call it **data_cleaned**\n",
    "On the Variable menu, click Create variable, then type **data_cleaned** for the variable's name. On this same menu, drag a Set block for this block. This variable will hold the dataframe after removing duplicates."
   ]
  },
  {
   "cell_type": "markdown",
      "metadata": {
      "deletable": false,
      "editable": false,
    "id": "ie5amPjpj2Pl"
   },
   "source": [
    "\n",
    "**Step 2 - Remove duplicates from the dataframe:**\n",
    "\n",
    "From the Variables menu, drag a DO block for the **dataframe** variable. With that variable, select the operation **drop_duplicates**(). This function returns a new dataframe with duplicates removed.\n",
    "Step 3 - Print the variable:\n",
    "Let’s print it the variable we just created to see what we get.\n"
   ]
  },
  {
   "cell_type": "markdown",
      "metadata": {
      "deletable": false,
      "editable": false,
    "id": "rmXKZODxQ4Mf"
   },
   "source": [
    "**Step 3 - Display the variable**\n",
    "\n",
    "Let’s display the variable we just created to see what we get.\n",
    "\n",
    "From the Variables menu, drag the **data_cleaned** variable to a new workspace to print the cleaned dataframe for further analysis or visualization."
   ]
  },
  {
   "cell_type": "markdown",
      "metadata": {
      "deletable": false,
      "editable": false,
    "id": "svKRtJqUQ4iY"
   },
   "source": [
    "\n",
    "\n",
    "**Step 4 - Connect the blocks to run the code**\n",
    "\n",
    "Connect the blocks and run the code!\n",
    "\n",
    "<details>\n",
    "    <summary>Click to see the answer...</summary>\n",
    "\n",
    "![](https://pbs.twimg.com/media/GZZIktUXoAANSjY?format=png&name=small)\n",
    "\n",
    "\n",
    "</details>"
   ]
  },
  {
   "cell_type": "code",
   "execution_count": 13,
   "metadata": {
    "id": "-PRY4DFIkrjH"
   },
   "outputs": [],
   "source": [
    "#blocks code"
   ]
  },
  {
   "cell_type": "markdown",
      "metadata": {
      "deletable": false,
      "editable": false,
    "id": "BaGWklV7j2Rr",
    "jp-MarkdownHeadingCollapsed": true
   },
   "source": [
    "#### Freehand"
   ]
  },
  {
   "cell_type": "markdown",
      "metadata": {
      "deletable": false,
      "editable": false,
    "id": "kTyiqQJLkLsf"
   },
   "source": [
    "**Step 1 - Write out the name for a variable you want to use:**\n",
    "\n",
    "Just like we did before, let’s type out a variable name.  Because we want to look at missing data, let’s simply call it **data_cleaned**"
   ]
  },
  {
   "cell_type": "markdown",
      "metadata": {
      "deletable": false,
      "editable": false,
    "id": "7vKLWNo9j2Tx"
   },
   "source": [
    "**Step 2 - Remove duplicates from the dataframe:**\n",
    "\n",
    "If duplicate values are found, you can remove them using the **drop_duplicates**() function. This will remove all duplicate rows, leaving only unique rows in the dataset.\n",
    "\n",
    "`data_cleaned = dataframe.drop_duplicates()`\n"
   ]
  },
  {
   "cell_type": "markdown",
      "metadata": {
      "deletable": false,
      "editable": false,
    "id": "BW41UW_eRkaK"
   },
   "source": [
    "\n",
    "**Step 3 - Print the variable:**\n",
    "\n",
    "Let’s print it the variable we just created to see what we get.\n",
    "\n"
   ]
  },
  {
   "cell_type": "markdown",
      "metadata": {
      "deletable": false,
      "editable": false,
    "id": "w_L7M1NKRm5l"
   },
   "source": [
    "**Step 4 - Run the code**\n",
    "\n",
    "Hit ‘control’ and ‘enter’ at the same time to run the code!\n",
    "\n",
    "<details>\n",
    "    <summary>Click to see the answer...</summary>\n",
    "\n",
    "![](https://pbs.twimg.com/media/GZZIinHWQAADvc3?format=png&name=small)\n",
    "\n",
    "</details>"
   ]
  },
  {
   "cell_type": "markdown",
      "metadata": {
      "deletable": false,
      "editable": false,
    "id": "tm1PdcyjkZE4"
   },
   "source": [
    "**Your Turn**: Now that we’ve found the duplicates and extras, let’s type the code and get rid of them."
   ]
  },
  {
   "cell_type": "code",
   "execution_count": 14,
   "metadata": {
    "colab": {
     "base_uri": "https://localhost:8080/",
     "height": 423
    },
    "id": "QossnEZ0kabJ",
    "outputId": "2f4ccbe9-ea20-4448-ad3f-b99bf14a4ced"
   },
   "outputs": [
    {
     "data": {
      "application/vnd.google.colaboratory.intrinsic+json": {
       "summary": "{\n  \"name\": \"data_cleaned\",\n  \"rows\": 148,\n  \"fields\": [\n    {\n      \"column\": \"TrafficVolume\",\n      \"properties\": {\n        \"dtype\": \"number\",\n        \"std\": 2295.2444874828097,\n        \"min\": 0.0,\n        \"max\": 10000.0,\n        \"num_unique_values\": 35,\n        \"samples\": [\n          5277.777778,\n          555.5555556,\n          3611.111111\n        ],\n        \"semantic_type\": \"\",\n        \"description\": \"\"\n      }\n    },\n    {\n      \"column\": \"AverageSpeed\",\n      \"properties\": {\n        \"dtype\": \"number\",\n        \"std\": 21,\n        \"min\": 0,\n        \"max\": 120,\n        \"num_unique_values\": 23,\n        \"samples\": [\n          15,\n          100,\n          75\n        ],\n        \"semantic_type\": \"\",\n        \"description\": \"\"\n      }\n    },\n    {\n      \"column\": \"CO2Emissions\",\n      \"properties\": {\n        \"dtype\": \"number\",\n        \"std\": 148.85342825588248,\n        \"min\": 0.0,\n        \"max\": 500.0,\n        \"num_unique_values\": 43,\n        \"samples\": [\n          483.0508475,\n          237.2881356,\n          228.8135593\n        ],\n        \"semantic_type\": \"\",\n        \"description\": \"\"\n      }\n    },\n    {\n      \"column\": \"NoiseLevel\",\n      \"properties\": {\n        \"dtype\": \"number\",\n        \"std\": 28.40346381617489,\n        \"min\": 30.0,\n        \"max\": 120.0,\n        \"num_unique_values\": 22,\n        \"samples\": [\n          33.75,\n          71.25,\n          75.0\n        ],\n        \"semantic_type\": \"\",\n        \"description\": \"\"\n      }\n    },\n    {\n      \"column\": \"TrafficCondition\",\n      \"properties\": {\n        \"dtype\": \"category\",\n        \"num_unique_values\": 3,\n        \"samples\": [\n          \"Free Flow\",\n          \"Moderate\",\n          \"Heavy\"\n        ],\n        \"semantic_type\": \"\",\n        \"description\": \"\"\n      }\n    },\n    {\n      \"column\": \"Road Type\",\n      \"properties\": {\n        \"dtype\": \"category\",\n        \"num_unique_values\": 3,\n        \"samples\": [\n          \"Rural\",\n          \"Highway\",\n          \"City\"\n        ],\n        \"semantic_type\": \"\",\n        \"description\": \"\"\n      }\n    }\n  ]\n}",
       "type": "dataframe",
       "variable_name": "data_cleaned"
      },
      "text/html": [
       "\n",
       "  <div id=\"df-649b73d6-9ee3-480b-b3b1-1963a6dd628c\" class=\"colab-df-container\">\n",
       "    <div>\n",
       "<style scoped>\n",
       "    .dataframe tbody tr th:only-of-type {\n",
       "        vertical-align: middle;\n",
       "    }\n",
       "\n",
       "    .dataframe tbody tr th {\n",
       "        vertical-align: top;\n",
       "    }\n",
       "\n",
       "    .dataframe thead th {\n",
       "        text-align: right;\n",
       "    }\n",
       "</style>\n",
       "<table border=\"1\" class=\"dataframe\">\n",
       "  <thead>\n",
       "    <tr style=\"text-align: right;\">\n",
       "      <th></th>\n",
       "      <th>TrafficVolume</th>\n",
       "      <th>AverageSpeed</th>\n",
       "      <th>CO2Emissions</th>\n",
       "      <th>NoiseLevel</th>\n",
       "      <th>TrafficCondition</th>\n",
       "      <th>Road Type</th>\n",
       "    </tr>\n",
       "  </thead>\n",
       "  <tbody>\n",
       "    <tr>\n",
       "      <th>0</th>\n",
       "      <td>2222.222222</td>\n",
       "      <td>75</td>\n",
       "      <td>33.898305</td>\n",
       "      <td>33.75</td>\n",
       "      <td>Free Flow</td>\n",
       "      <td>Rural</td>\n",
       "    </tr>\n",
       "    <tr>\n",
       "      <th>1</th>\n",
       "      <td>1666.666667</td>\n",
       "      <td>50</td>\n",
       "      <td>33.898305</td>\n",
       "      <td>33.75</td>\n",
       "      <td>Free Flow</td>\n",
       "      <td>Rural</td>\n",
       "    </tr>\n",
       "    <tr>\n",
       "      <th>2</th>\n",
       "      <td>1111.111111</td>\n",
       "      <td>60</td>\n",
       "      <td>25.423729</td>\n",
       "      <td>33.75</td>\n",
       "      <td>Free Flow</td>\n",
       "      <td>Rural</td>\n",
       "    </tr>\n",
       "    <tr>\n",
       "      <th>3</th>\n",
       "      <td>833.333333</td>\n",
       "      <td>55</td>\n",
       "      <td>42.372881</td>\n",
       "      <td>33.75</td>\n",
       "      <td>Free Flow</td>\n",
       "      <td>Rural</td>\n",
       "    </tr>\n",
       "    <tr>\n",
       "      <th>4</th>\n",
       "      <td>1944.444444</td>\n",
       "      <td>80</td>\n",
       "      <td>33.898305</td>\n",
       "      <td>33.75</td>\n",
       "      <td>Free Flow</td>\n",
       "      <td>Rural</td>\n",
       "    </tr>\n",
       "    <tr>\n",
       "      <th>...</th>\n",
       "      <td>...</td>\n",
       "      <td>...</td>\n",
       "      <td>...</td>\n",
       "      <td>...</td>\n",
       "      <td>...</td>\n",
       "      <td>...</td>\n",
       "    </tr>\n",
       "    <tr>\n",
       "      <th>145</th>\n",
       "      <td>6666.666667</td>\n",
       "      <td>50</td>\n",
       "      <td>355.932203</td>\n",
       "      <td>112.50</td>\n",
       "      <td>Heavy</td>\n",
       "      <td>City</td>\n",
       "    </tr>\n",
       "    <tr>\n",
       "      <th>146</th>\n",
       "      <td>5555.555556</td>\n",
       "      <td>25</td>\n",
       "      <td>338.983051</td>\n",
       "      <td>97.50</td>\n",
       "      <td>Heavy</td>\n",
       "      <td>City</td>\n",
       "    </tr>\n",
       "    <tr>\n",
       "      <th>147</th>\n",
       "      <td>6111.111111</td>\n",
       "      <td>50</td>\n",
       "      <td>355.932203</td>\n",
       "      <td>101.25</td>\n",
       "      <td>Heavy</td>\n",
       "      <td>City</td>\n",
       "    </tr>\n",
       "    <tr>\n",
       "      <th>148</th>\n",
       "      <td>5277.777778</td>\n",
       "      <td>70</td>\n",
       "      <td>372.881356</td>\n",
       "      <td>112.50</td>\n",
       "      <td>Heavy</td>\n",
       "      <td>City</td>\n",
       "    </tr>\n",
       "    <tr>\n",
       "      <th>149</th>\n",
       "      <td>4444.444444</td>\n",
       "      <td>50</td>\n",
       "      <td>347.457627</td>\n",
       "      <td>93.75</td>\n",
       "      <td>Heavy</td>\n",
       "      <td>City</td>\n",
       "    </tr>\n",
       "  </tbody>\n",
       "</table>\n",
       "<p>148 rows × 6 columns</p>\n",
       "</div>\n",
       "    <div class=\"colab-df-buttons\">\n",
       "\n",
       "  <div class=\"colab-df-container\">\n",
       "    <button class=\"colab-df-convert\" onclick=\"convertToInteractive('df-649b73d6-9ee3-480b-b3b1-1963a6dd628c')\"\n",
       "            title=\"Convert this dataframe to an interactive table.\"\n",
       "            style=\"display:none;\">\n",
       "\n",
       "  <svg xmlns=\"http://www.w3.org/2000/svg\" height=\"24px\" viewBox=\"0 -960 960 960\">\n",
       "    <path d=\"M120-120v-720h720v720H120Zm60-500h600v-160H180v160Zm220 220h160v-160H400v160Zm0 220h160v-160H400v160ZM180-400h160v-160H180v160Zm440 0h160v-160H620v160ZM180-180h160v-160H180v160Zm440 0h160v-160H620v160Z\"/>\n",
       "  </svg>\n",
       "    </button>\n",
       "\n",
       "  <style>\n",
       "    .colab-df-container {\n",
       "      display:flex;\n",
       "      gap: 12px;\n",
       "    }\n",
       "\n",
       "    .colab-df-convert {\n",
       "      background-color: #E8F0FE;\n",
       "      border: none;\n",
       "      border-radius: 50%;\n",
       "      cursor: pointer;\n",
       "      display: none;\n",
       "      fill: #1967D2;\n",
       "      height: 32px;\n",
       "      padding: 0 0 0 0;\n",
       "      width: 32px;\n",
       "    }\n",
       "\n",
       "    .colab-df-convert:hover {\n",
       "      background-color: #E2EBFA;\n",
       "      box-shadow: 0px 1px 2px rgba(60, 64, 67, 0.3), 0px 1px 3px 1px rgba(60, 64, 67, 0.15);\n",
       "      fill: #174EA6;\n",
       "    }\n",
       "\n",
       "    .colab-df-buttons div {\n",
       "      margin-bottom: 4px;\n",
       "    }\n",
       "\n",
       "    [theme=dark] .colab-df-convert {\n",
       "      background-color: #3B4455;\n",
       "      fill: #D2E3FC;\n",
       "    }\n",
       "\n",
       "    [theme=dark] .colab-df-convert:hover {\n",
       "      background-color: #434B5C;\n",
       "      box-shadow: 0px 1px 3px 1px rgba(0, 0, 0, 0.15);\n",
       "      filter: drop-shadow(0px 1px 2px rgba(0, 0, 0, 0.3));\n",
       "      fill: #FFFFFF;\n",
       "    }\n",
       "  </style>\n",
       "\n",
       "    <script>\n",
       "      const buttonEl =\n",
       "        document.querySelector('#df-649b73d6-9ee3-480b-b3b1-1963a6dd628c button.colab-df-convert');\n",
       "      buttonEl.style.display =\n",
       "        google.colab.kernel.accessAllowed ? 'block' : 'none';\n",
       "\n",
       "      async function convertToInteractive(key) {\n",
       "        const element = document.querySelector('#df-649b73d6-9ee3-480b-b3b1-1963a6dd628c');\n",
       "        const dataTable =\n",
       "          await google.colab.kernel.invokeFunction('convertToInteractive',\n",
       "                                                    [key], {});\n",
       "        if (!dataTable) return;\n",
       "\n",
       "        const docLinkHtml = 'Like what you see? Visit the ' +\n",
       "          '<a target=\"_blank\" href=https://colab.research.google.com/notebooks/data_table.ipynb>data table notebook</a>'\n",
       "          + ' to learn more about interactive tables.';\n",
       "        element.innerHTML = '';\n",
       "        dataTable['output_type'] = 'display_data';\n",
       "        await google.colab.output.renderOutput(dataTable, element);\n",
       "        const docLink = document.createElement('div');\n",
       "        docLink.innerHTML = docLinkHtml;\n",
       "        element.appendChild(docLink);\n",
       "      }\n",
       "    </script>\n",
       "  </div>\n",
       "\n",
       "\n",
       "<div id=\"df-031862e6-5728-4fdb-8940-00386ab4804f\">\n",
       "  <button class=\"colab-df-quickchart\" onclick=\"quickchart('df-031862e6-5728-4fdb-8940-00386ab4804f')\"\n",
       "            title=\"Suggest charts\"\n",
       "            style=\"display:none;\">\n",
       "\n",
       "<svg xmlns=\"http://www.w3.org/2000/svg\" height=\"24px\"viewBox=\"0 0 24 24\"\n",
       "     width=\"24px\">\n",
       "    <g>\n",
       "        <path d=\"M19 3H5c-1.1 0-2 .9-2 2v14c0 1.1.9 2 2 2h14c1.1 0 2-.9 2-2V5c0-1.1-.9-2-2-2zM9 17H7v-7h2v7zm4 0h-2V7h2v10zm4 0h-2v-4h2v4z\"/>\n",
       "    </g>\n",
       "</svg>\n",
       "  </button>\n",
       "\n",
       "<style>\n",
       "  .colab-df-quickchart {\n",
       "      --bg-color: #E8F0FE;\n",
       "      --fill-color: #1967D2;\n",
       "      --hover-bg-color: #E2EBFA;\n",
       "      --hover-fill-color: #174EA6;\n",
       "      --disabled-fill-color: #AAA;\n",
       "      --disabled-bg-color: #DDD;\n",
       "  }\n",
       "\n",
       "  [theme=dark] .colab-df-quickchart {\n",
       "      --bg-color: #3B4455;\n",
       "      --fill-color: #D2E3FC;\n",
       "      --hover-bg-color: #434B5C;\n",
       "      --hover-fill-color: #FFFFFF;\n",
       "      --disabled-bg-color: #3B4455;\n",
       "      --disabled-fill-color: #666;\n",
       "  }\n",
       "\n",
       "  .colab-df-quickchart {\n",
       "    background-color: var(--bg-color);\n",
       "    border: none;\n",
       "    border-radius: 50%;\n",
       "    cursor: pointer;\n",
       "    display: none;\n",
       "    fill: var(--fill-color);\n",
       "    height: 32px;\n",
       "    padding: 0;\n",
       "    width: 32px;\n",
       "  }\n",
       "\n",
       "  .colab-df-quickchart:hover {\n",
       "    background-color: var(--hover-bg-color);\n",
       "    box-shadow: 0 1px 2px rgba(60, 64, 67, 0.3), 0 1px 3px 1px rgba(60, 64, 67, 0.15);\n",
       "    fill: var(--button-hover-fill-color);\n",
       "  }\n",
       "\n",
       "  .colab-df-quickchart-complete:disabled,\n",
       "  .colab-df-quickchart-complete:disabled:hover {\n",
       "    background-color: var(--disabled-bg-color);\n",
       "    fill: var(--disabled-fill-color);\n",
       "    box-shadow: none;\n",
       "  }\n",
       "\n",
       "  .colab-df-spinner {\n",
       "    border: 2px solid var(--fill-color);\n",
       "    border-color: transparent;\n",
       "    border-bottom-color: var(--fill-color);\n",
       "    animation:\n",
       "      spin 1s steps(1) infinite;\n",
       "  }\n",
       "\n",
       "  @keyframes spin {\n",
       "    0% {\n",
       "      border-color: transparent;\n",
       "      border-bottom-color: var(--fill-color);\n",
       "      border-left-color: var(--fill-color);\n",
       "    }\n",
       "    20% {\n",
       "      border-color: transparent;\n",
       "      border-left-color: var(--fill-color);\n",
       "      border-top-color: var(--fill-color);\n",
       "    }\n",
       "    30% {\n",
       "      border-color: transparent;\n",
       "      border-left-color: var(--fill-color);\n",
       "      border-top-color: var(--fill-color);\n",
       "      border-right-color: var(--fill-color);\n",
       "    }\n",
       "    40% {\n",
       "      border-color: transparent;\n",
       "      border-right-color: var(--fill-color);\n",
       "      border-top-color: var(--fill-color);\n",
       "    }\n",
       "    60% {\n",
       "      border-color: transparent;\n",
       "      border-right-color: var(--fill-color);\n",
       "    }\n",
       "    80% {\n",
       "      border-color: transparent;\n",
       "      border-right-color: var(--fill-color);\n",
       "      border-bottom-color: var(--fill-color);\n",
       "    }\n",
       "    90% {\n",
       "      border-color: transparent;\n",
       "      border-bottom-color: var(--fill-color);\n",
       "    }\n",
       "  }\n",
       "</style>\n",
       "\n",
       "  <script>\n",
       "    async function quickchart(key) {\n",
       "      const quickchartButtonEl =\n",
       "        document.querySelector('#' + key + ' button');\n",
       "      quickchartButtonEl.disabled = true;  // To prevent multiple clicks.\n",
       "      quickchartButtonEl.classList.add('colab-df-spinner');\n",
       "      try {\n",
       "        const charts = await google.colab.kernel.invokeFunction(\n",
       "            'suggestCharts', [key], {});\n",
       "      } catch (error) {\n",
       "        console.error('Error during call to suggestCharts:', error);\n",
       "      }\n",
       "      quickchartButtonEl.classList.remove('colab-df-spinner');\n",
       "      quickchartButtonEl.classList.add('colab-df-quickchart-complete');\n",
       "    }\n",
       "    (() => {\n",
       "      let quickchartButtonEl =\n",
       "        document.querySelector('#df-031862e6-5728-4fdb-8940-00386ab4804f button');\n",
       "      quickchartButtonEl.style.display =\n",
       "        google.colab.kernel.accessAllowed ? 'block' : 'none';\n",
       "    })();\n",
       "  </script>\n",
       "</div>\n",
       "\n",
       "  <div id=\"id_e2506822-fe7d-4a75-81dc-46b4994aad97\">\n",
       "    <style>\n",
       "      .colab-df-generate {\n",
       "        background-color: #E8F0FE;\n",
       "        border: none;\n",
       "        border-radius: 50%;\n",
       "        cursor: pointer;\n",
       "        display: none;\n",
       "        fill: #1967D2;\n",
       "        height: 32px;\n",
       "        padding: 0 0 0 0;\n",
       "        width: 32px;\n",
       "      }\n",
       "\n",
       "      .colab-df-generate:hover {\n",
       "        background-color: #E2EBFA;\n",
       "        box-shadow: 0px 1px 2px rgba(60, 64, 67, 0.3), 0px 1px 3px 1px rgba(60, 64, 67, 0.15);\n",
       "        fill: #174EA6;\n",
       "      }\n",
       "\n",
       "      [theme=dark] .colab-df-generate {\n",
       "        background-color: #3B4455;\n",
       "        fill: #D2E3FC;\n",
       "      }\n",
       "\n",
       "      [theme=dark] .colab-df-generate:hover {\n",
       "        background-color: #434B5C;\n",
       "        box-shadow: 0px 1px 3px 1px rgba(0, 0, 0, 0.15);\n",
       "        filter: drop-shadow(0px 1px 2px rgba(0, 0, 0, 0.3));\n",
       "        fill: #FFFFFF;\n",
       "      }\n",
       "    </style>\n",
       "    <button class=\"colab-df-generate\" onclick=\"generateWithVariable('data_cleaned')\"\n",
       "            title=\"Generate code using this dataframe.\"\n",
       "            style=\"display:none;\">\n",
       "\n",
       "  <svg xmlns=\"http://www.w3.org/2000/svg\" height=\"24px\"viewBox=\"0 0 24 24\"\n",
       "       width=\"24px\">\n",
       "    <path d=\"M7,19H8.4L18.45,9,17,7.55,7,17.6ZM5,21V16.75L18.45,3.32a2,2,0,0,1,2.83,0l1.4,1.43a1.91,1.91,0,0,1,.58,1.4,1.91,1.91,0,0,1-.58,1.4L9.25,21ZM18.45,9,17,7.55Zm-12,3A5.31,5.31,0,0,0,4.9,8.1,5.31,5.31,0,0,0,1,6.5,5.31,5.31,0,0,0,4.9,4.9,5.31,5.31,0,0,0,6.5,1,5.31,5.31,0,0,0,8.1,4.9,5.31,5.31,0,0,0,12,6.5,5.46,5.46,0,0,0,6.5,12Z\"/>\n",
       "  </svg>\n",
       "    </button>\n",
       "    <script>\n",
       "      (() => {\n",
       "      const buttonEl =\n",
       "        document.querySelector('#id_e2506822-fe7d-4a75-81dc-46b4994aad97 button.colab-df-generate');\n",
       "      buttonEl.style.display =\n",
       "        google.colab.kernel.accessAllowed ? 'block' : 'none';\n",
       "\n",
       "      buttonEl.onclick = () => {\n",
       "        google.colab.notebook.generateWithVariable('data_cleaned');\n",
       "      }\n",
       "      })();\n",
       "    </script>\n",
       "  </div>\n",
       "\n",
       "    </div>\n",
       "  </div>\n"
      ],
      "text/plain": [
       "     TrafficVolume  AverageSpeed  CO2Emissions  NoiseLevel TrafficCondition  \\\n",
       "0      2222.222222            75     33.898305       33.75        Free Flow   \n",
       "1      1666.666667            50     33.898305       33.75        Free Flow   \n",
       "2      1111.111111            60     25.423729       33.75        Free Flow   \n",
       "3       833.333333            55     42.372881       33.75        Free Flow   \n",
       "4      1944.444444            80     33.898305       33.75        Free Flow   \n",
       "..             ...           ...           ...         ...              ...   \n",
       "145    6666.666667            50    355.932203      112.50            Heavy   \n",
       "146    5555.555556            25    338.983051       97.50            Heavy   \n",
       "147    6111.111111            50    355.932203      101.25            Heavy   \n",
       "148    5277.777778            70    372.881356      112.50            Heavy   \n",
       "149    4444.444444            50    347.457627       93.75            Heavy   \n",
       "\n",
       "    Road Type  \n",
       "0       Rural  \n",
       "1       Rural  \n",
       "2       Rural  \n",
       "3       Rural  \n",
       "4       Rural  \n",
       "..        ...  \n",
       "145      City  \n",
       "146      City  \n",
       "147      City  \n",
       "148      City  \n",
       "149      City  \n",
       "\n",
       "[148 rows x 6 columns]"
      ]
     },
     "execution_count": 14,
     "metadata": {},
     "output_type": "execute_result"
    }
   ],
   "source": [
    "#freehand code \n"
   ]
  },
  {
   "cell_type": "markdown",
      "metadata": {
      "deletable": false,
      "editable": false,
    "id": "fzUCu7dJj2WA"
   },
   "source": [
    "**Explanation**: *Awesome! You have identified and removed the duplicates using the “data_cleaned” code to clean your dataset. This will help ensure your analysis is based on accurate and unique data*.\n"
   ]
  },
  {
   "cell_type": "markdown",
      "metadata": {
      "deletable": false,
      "editable": false,
    "id": "de5DE-EokesE"
   },
   "source": [
    "### Goal 7: Checking the data to see if it’s clean.\n",
    "\n",
    "Before we tried to see how many duplicates. Let’s double-check to make sure we don’t have any duplicates left over."
   ]
  },
  {
   "cell_type": "markdown",
      "metadata": {
      "deletable": false,
      "editable": false,
    "id": "mui6H3KQket4",
    "jp-MarkdownHeadingCollapsed": true
   },
   "source": [
    "#### Blockly"
   ]
  },
  {
   "cell_type": "markdown",
      "metadata": {
      "deletable": false,
      "editable": false,
    "id": "YmL2rkHpkewD"
   },
   "source": [
    "**Step 1 - Check the total of duplicates:**\n",
    "\n",
    "After removing duplicates, it’s always a good idea to verify that no duplicates remain in the dataset!  Verifying that duplicates were removed\n",
    "\n",
    "From the Variables menu, get a DO block for the **data_cleaned** variable. With that variable, select the **duplicated** operation."
   ]
  },
  {
   "cell_type": "markdown",
      "metadata": {
      "deletable": false,
      "editable": false,
    "id": "kCyHtLmmkeyS"
   },
   "source": [
    "**Step 2 - Count for All Duplicate Rows with ‘Sum’:**\n",
    "\n",
    "So now that we’ve double-checked, let’s sum using the sum() function. If we don’t have any duplicate values, we should get a 0 back.\n",
    "\n",
    "From the Math menu, get a Sum of list block, then connect this with the first block.\n"
   ]
  },
  {
   "cell_type": "markdown",
      "metadata": {
      "deletable": false,
      "editable": false,
    "id": "JhqxBSeWSAE4"
   },
   "source": [
    "\n",
    "**Step 3 - Connect the blocks to run the code**\n",
    "\n",
    "Connect the blocks and run the code!\n",
    "\n",
    "<details>\n",
    "    <summary>Click to see the answer...</summary>\n",
    "    \n",
    "![](https://pbs.twimg.com/media/GZZJ6tEW8AAw_fp?format=png&name=small)\n",
    "\n",
    "</details>"
   ]
  },
  {
   "cell_type": "code",
   "execution_count": 15,
   "metadata": {
    "id": "xYJdd7cilAqa"
   },
   "outputs": [],
   "source": [
    "#blocks code"
   ]
  },
  {
   "cell_type": "markdown",
      "metadata": {
      "deletable": false,
      "editable": false,
    "id": "Sia5NjiBke0Z",
    "jp-MarkdownHeadingCollapsed": true
   },
   "source": [
    "#### Freehand"
   ]
  },
  {
   "cell_type": "markdown",
      "metadata": {
      "deletable": false,
      "editable": false,
    "id": "cTUhLY5bke2d"
   },
   "source": [
    "**Step 1 - Check the total of duplicates:**\n",
    "\n",
    "After removing duplicates, it’s always a good idea to verify that no duplicates remain in the dataset!  Verifying that duplicates were removed\n",
    "`data_cleaned.duplicated() `"
   ]
  },
  {
   "cell_type": "markdown",
      "metadata": {
      "deletable": false,
      "editable": false,
    "id": "PZ4g2JL6lMEe"
   },
   "source": [
    "**Step 2 - Count for All Duplicate Rows with ‘Sum’:**\n",
    "\n",
    "So now that we’ve double-checked, let’s sum using the sum() function. If we don’t have\n",
    "any duplicate values, we should get a 0 back.\n",
    "\n",
    "`sum(data_cleaned.duplicated()) `\n",
    "\n"
   ]
  },
  {
   "cell_type": "markdown",
      "metadata": {
      "deletable": false,
      "editable": false,
    "id": "Cy2n8ofnSTfl"
   },
   "source": [
    "**Step 3 - Run the code**\n",
    "\n",
    "Hit ‘control’ and ‘enter’ at the same time to run the code!\n",
    "\n",
    "<details>\n",
    "    <summary>Click to see the answer...</summary>\n",
    "\n",
    "![](https://pbs.twimg.com/media/GZZJ4IZXYAAG-U9?format=png&name=360x360)\n",
    "\n",
    "</details>"
   ]
  },
  {
   "cell_type": "markdown",
      "metadata": {
      "deletable": false,
      "editable": false,
    "id": "TgWVpVxZlMTK"
   },
   "source": [
    "**Your Turn**: Now it’s your turn! Use the code above to identify any duplicate rows in your dataset. If duplicates exist, remove them and verify that your dataset is clean and ready for analysis.\n",
    "\n"
   ]
  },
  {
   "cell_type": "code",
   "execution_count": 16,
   "metadata": {
    "colab": {
     "base_uri": "https://localhost:8080/"
    },
    "id": "OKRA8x2wllFl",
    "outputId": "c12b9705-f4e9-41c9-b232-c3667120f310"
   },
   "outputs": [
    {
     "data": {
      "text/plain": [
       "0"
      ]
     },
     "execution_count": 16,
     "metadata": {},
     "output_type": "execute_result"
    }
   ],
   "source": [
    "#freehand code \n"
   ]
  },
  {
   "cell_type": "markdown",
      "metadata": {
      "deletable": false,
      "editable": false,
    "id": "1UiB1WTplldZ"
   },
   "source": [
    "**Explanation**: *Just like before, you’ve looked at all the columns and rows looking for any extras in the dataset. As duplicates are removed, you now have a cleaner, more reliable dataset for your analysis. You can now move forward with your analysis, knowing your data is free of duplication.*\n",
    "\n",
    "*The result being 0 indicates that there are no duplicate rows in the data_cleaned dataset. This means all duplicate entries have been successfully removed, ensuring that each row of data is unique and ready for accurate analysis.*"
   ]
  },
  {
   "cell_type": "markdown",
      "metadata": {
      "deletable": false,
      "editable": false,
    "id": "aH2khzfElz1E"
   },
   "source": [
    "## WHAT DID YOU LEARN?\n",
    "\n"
   ]
  },
  {
   "cell_type": "markdown",
      "metadata": {
      "deletable": false,
      "editable": false,
    "id": "vtfAkT02mBNZ"
   },
   "source": [
    "In this lesson, we focused on understanding the basics of variables and their impact on data analysis, which can help solve Angelina’s problem.  We explored different types of variables [nominal](## \"A nominal variable is kind of like the ‘name’ of categories. Nominal variables aren’t ordered like numbers are.\"), [ordinal](## \"One way to think of ordinal variables is the ‘order’ of something you are measuring. You can think of it as nominal data but with an ordering from first to last or smallest to largest. Because of that, the order matters.\"), [interval](## \"Intervals can be a bit wonky. These variables follow an order, but the distance between 1, 2, and so on are all the same. To add another fun twist, 0 does not necessarily mean ‘nothing’.\"), and [ratio](## \"Ratio variables are like interval variables, but the 0 means ‘nothing’. Age and height are good examples because 0 age means you have no age. Also, 0 height means you have no height.\"), each with unique characteristics that influence how we interpret the data we collect.  Remember Angelina’s after school project, we saw how these concepts apply in practical situations, such as analyzing vehicle emissions and advocating for eco-friendly transportation solutions.\n",
    "\n",
    "To make sure she was on the right track, we imported a library in Python using pandas, we handled any null values using the isnull() function and the .sum() method, and lastly, we detected and handled any remaining outliers using the describe(), boxplot() and others.  Let’s continue learning!\n",
    "\n"
   ]
  },
  {
   "cell_type": "markdown",
      "metadata": {
      "deletable": false,
      "editable": false,
    "id": "7lA1Q588lz37"
   },
   "source": [
    "## WHAT’S NEXT?\n"
   ]
  },
  {
   "cell_type": "markdown",
      "metadata": {
      "deletable": false,
      "editable": false,
    "id": "zWxlJALbmH98"
   },
   "source": [
    "[Plotting](Plotting.ipynb)"
   ]
  },
  {
   "cell_type": "markdown",
      "metadata": {
      "deletable": false,
      "editable": false,
    "id": "O9rjsIDFlz6f"
   },
   "source": [
    "## TELL ME MORE:"
   ]
  },
  {
   "cell_type": "markdown",
      "metadata": {
      "deletable": false,
      "editable": false,
    "id": "KPh27kZIkfDi"
   },
   "source": [
    "\n",
    "- [Datawhys Data Science and the Nature od Data - Notebook](https://github.com/memphis-iis/datawhys-content-notebooks-python/blob/master/Data-science-and-the-nature-of-data.ipynb)\n",
    "- [Datawhys Data Science and the Nature od Data - Problem Solving Notebook](https://github.com/memphis-iis/datawhys-content-notebooks-python/blob/master/Data-science-and-the-nature-of-data-PS.ipynb)\n",
    "- **Art**: Data storytelling is an art! Visualize real-world issues like population growth or pollution using charts and graphs from real data on Kaggle.\n",
    "  - ***Link***: [Kaggle Datasets](https://www.kaggle.com/)\n",
    "- **Math**: If you are interested in diving deeper into the Math concepts that underlie Data Science, Math is Fun offers additional activities that cover handling data, covering topics such as types of data, methods for displaying data (like graphs and charts), conducting surveys, and understanding probability and statistics.\n",
    "  - ***Resource***: [Math is Fun - Data](https://www.mathsisfun.com/data/index.html)\n",
    "- **Computer Science**: You can dive deeper into data manipulation and visualization using programming languages like Python.\n",
    "  - ***Link***:  [Code.org Data Science](https://studio.code.org/s/explore-data-1-2021)\n",
    "- **Career Connections**: Interested in a career as a data scientist? Explore how skills learned through analyzing and categorizing data could lead to opportunities in data science and beyond.\n",
    "  - ***Link***: [Simplilearn: Data Science in 5 Minutes](https://youtu.be/X3paOmcrTjQ?si=u5IrG1na-JlZI33q)\n",
    "\n",
    "\n",
    "\n"
   ]
  }
 ],
 "metadata": {
  "colab": {
   "provenance": []
  },
  "kernelspec": {
   "display_name": "Python 3 (ipykernel)",
   "language": "python",
   "name": "python3"
  },
  "language_info": {
   "codemirror_mode": {
    "name": "ipython",
    "version": 3
   },
   "file_extension": ".py",
   "mimetype": "text/x-python",
   "name": "python",
   "nbconvert_exporter": "python",
   "pygments_lexer": "ipython3",
   "version": "3.10.6"
  }
 },
 "nbformat": 4,
 "nbformat_minor": 4
}
