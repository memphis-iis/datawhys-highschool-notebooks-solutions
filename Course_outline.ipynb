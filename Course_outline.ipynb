{
 "cells": [
  {
   "cell_type": "markdown",
   "metadata": {
    "id": "jfpeioY9HuwC"
   },
   "source": [
    "# Datawhys High School content Notebooks (Python)\n",
    "\n",
    "-\tGetting around\n",
    "-\t[Data science and the nature of data](Datascience_and_the_Nature_of_Data.ipynb)\n",
    "-\t[Plotting](Plotting.ipynb)\n",
    "-\t[Descriptive stats](Descriptive_Statistics.ipynb)\n",
    "-\t[Measures of association](Measures_of_Association.ipynb)\n",
    "-\t[Clustering](Clustering.ipynb)\n",
    "-\t[KNN classification](KNN_Classification.ipynb)\n",
    "-\t[KNN regression](KNN_Regression.ipynb) \n",
    "-\t[Simple linear regression](Simple_Linear_Regression.ipynb)\n",
    "-\t[Multiple linear regression](Multiple_Linear_Regression.ipynb)\n",
    "-\t[Logistic regression](Logistic_Regression.ipynb)\n",
    "-\tN/A: Lasso\n",
    "-\tDecision trees\n",
    "-\tRegression trees\n",
    "-\tRandom forests\n",
    "-\tN/A: Gradient boosting\n",
    "-\tN/A: Support vector machines\n",
    "-\tN/A: Naive Bayes\n",
    "-\tCrossvalidation   \n",
    "-\tData cleaning"
   ]
  }
 ],
 "metadata": {
  "colab": {
   "provenance": []
  },
  "kernelspec": {
   "display_name": "Python 3 (ipykernel)",
   "language": "python",
   "name": "python3"
  },
  "language_info": {
   "codemirror_mode": {
    "name": "ipython",
    "version": 3
   },
   "file_extension": ".py",
   "mimetype": "text/x-python",
   "name": "python",
   "nbconvert_exporter": "python",
   "pygments_lexer": "ipython3",
   "version": "3.10.6"
  }
 },
 "nbformat": 4,
 "nbformat_minor": 4
}
