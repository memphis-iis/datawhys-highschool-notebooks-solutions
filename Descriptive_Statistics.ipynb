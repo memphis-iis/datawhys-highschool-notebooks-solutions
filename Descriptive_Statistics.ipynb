{
 "cells": [
  {
   "cell_type": "markdown",
   "metadata": {
    "id": "sGmpnDYiJAya"
   },
   "source": [
    "# Descriptive Statistics"
   ]
  },
  {
   "cell_type": "markdown",
   "metadata": {
    "id": "bjjszogsJA01"
   },
   "source": [
    "\n",
    "## ANTICIPATED LESSON TIME\n",
    "\n"
   ]
  },
  {
   "cell_type": "markdown",
   "metadata": {
    "id": "WBVbWLVnJA3e"
   },
   "source": [
    "2 hour"
   ]
  },
  {
   "cell_type": "markdown",
   "metadata": {
    "id": "WtHzwfUmJA5-"
   },
   "source": [
    "## BEFORE YOU BEGIN"
   ]
  },
  {
   "cell_type": "markdown",
   "metadata": {
    "id": "07iASP9VJA8s"
   },
   "source": [
    "[Plotting](Plotting.ipynb)"
   ]
  },
  {
   "cell_type": "markdown",
   "metadata": {
    "id": "UsZqmHwiJA_K"
   },
   "source": [
    "## WHAT YOU WILL LEARN"
   ]
  },
  {
   "cell_type": "markdown",
   "metadata": {
    "id": "JRXyO4Z5JomX"
   },
   "source": [
    "\n",
    "- How to identify the different levels of measurement (nominal, ordinal, interval, ratio).\n",
    "- How are measures of central tendency (mean, median, mode) calculated?\n",
    "- How are measures of dispersion (spread) computed?\n",
    "- What is the importance of sampling in data analysis, and what methods are used for sampling?\n"
   ]
  },
  {
   "cell_type": "markdown",
   "metadata": {
    "id": "BkAAVmf_JBCC"
   },
   "source": [
    "## DEFINITIONS YOU’LL NEED TO KNOW"
   ]
  },
  {
   "cell_type": "markdown",
   "metadata": {
    "id": "1AOnKdtdJBFj"
   },
   "source": [
    "\n",
    "- Exploratory Data Analysis (EDA) - refers to examining data using descriptive statistics.\n",
    "- Graphical EDA - involves plotting the features (variables) in the data to look for symmetry, skewness, and the shape of the distribution, including multiple modalities.\n",
    "- Numerical EDA - involves calculating measures such as central tendency (mean, median, mode), and dispersion (range, variance, standard deviation).\n",
    "- Level of Measure - There are four levels of measure: nominal, ordinal, interval, and ratio.\n",
    "- Descriptive Measures - measuring central tendencies of a variable or measuring the spread of a variable.\n",
    "- Central Tendencies - most commonly used to describe data are mean, median, and mode.\n",
    "- Mean - the numerical average of the variables.\n",
    "- Median - the number in the middle of the data.\n",
    "- Mode - the value in the data that shows up the most.\n",
    "- Outlier - extreme values in a dataset\n",
    "- Measures of Dispersion (Spread) - how the data are spread out around a center value. There are multiple ways of defining spread, including range and variance.\n",
    "- Range - the maximum value minus the minimum.\n",
    "- Interquartile Range - This is a measure of spread that is less sensitive to outliers. It is calculated as the difference between the third quartile (75th percentile) and the first quartile (25th percentile).\n",
    "- Variance - measures the sum of squared differences of the data about the mean.\n",
    "- Sampling - involves selecting a subset of individuals or observations from a larger population to estimate and make inferences about that population.\n"
   ]
  },
  {
   "cell_type": "markdown",
   "metadata": {
    "id": "D77MD3nbJ9MQ"
   },
   "source": [
    "## SCENARIO:\n"
   ]
  },
  {
   "cell_type": "markdown",
   "metadata": {
    "deletable": false,
    "editable": false,
    "html": "<iframe class='metadata-html' width='560' height='315' src='https://video.olney.ai/3-descriptive.mp4' title='YouTube video player' frameborder='0' allow='accelerometer; autoplay; clipboard-write; encrypted-media; gyroscope; picture-in-picture; web-share' referrerpolicy='strict-origin-when-cross-origin' allowfullscreen></iframe>",
    "id": "npqY6ZiSbavX",
    "slideshow": {
     "slide_type": ""
    },
    "tags": []
   },
   "source": [
    "\n",
    "\n",
    "Diego is a new member of Angelina’s after-school program. He lives close to school and is really passionate about trying to help reduce traffic and pollution.\n",
    "\n",
    "Diego needs to figure out how to measure the data while also trying to determine tendencies within the data set. There’s lots of data to look at, like car emissions, usage of cars, and the number of people per vehicle, to better understand the cause of pollution within his city. Other data he’s considering are different categories of the types of cars.\n",
    "\n",
    "Although he’s plotted and looked at different data visualizations, he wants to better think about the data. Angela and Diego talk about how thinking about the middle point of all the data together might be better than thinking about each data point. They want to test out different ideas, so they thought it might be a good idea to gather a little bit of information, sometimes called a sample, to think about the best step to move forward for the after-school club.\n"
   ]
  },
  {
   "cell_type": "markdown",
   "metadata": {
    "id": "-J4PwvRaL_KN"
   },
   "source": [
    "## WHAT DO I NEED TO KNOW?\n"
   ]
  },
  {
   "cell_type": "markdown",
   "metadata": {
    "id": "fOjVWsEcMaP8"
   },
   "source": [
    "\n",
    "To help Diego understand and analyze the data the club collects, we need to learn about **Exploratory Data Analysis (EDA)**, which helps us understand the data. **Graphical EDA** plots features for things like symmetry, skewness, and multiple modalities. **Numerical EDA** measures the center of all the data (mean, median, mode) and its spread (range, variance, standard deviation). Let’s break it down!\n",
    "\n",
    "*How do I think about the center of my dataset?*\n",
    "\n",
    "Let’s think about the ‘center’ of all the data a bit. We can use mean, median, and mode to think about the **central tendencies** for all the data points. Let’s try and break down the difference.\n",
    "\n",
    "- **Mean** is the numerical average of a data set where we add up everything and divide it by the number of measurements.  You are probably used to seeing this as the average number of points per game from a basketball player.\n",
    "- **Median** is the number in the middle of the data set. So we line up all the numbers and find the middle - it’s just that easy.\n",
    "- **Mode** is the value in the dataset that shows up the most. Let’s say the most common grade on the end of semester final was 92%, so that would be the mode.\n",
    "\n",
    "Sometimes, the mean, median, and mode are the same, but not always!\n",
    "\n",
    "*How do I think about how spread out my dataset is?*\n",
    "\n",
    "While the middle is one way to think about our data, we can also think about **measures of dispersion** to understand how spread out the data might be. To do that, we need to understand the **range** and **variance**\n",
    "\n",
    "- **Range** is easy because all we do is subtract the biggest number from the smallest number in a dataset. Although this doesn’t require a lot of math, if we have a few extremely big or small values (**outliers**), the range can be thrown off by them and become bigger than it should be.\n",
    "\n",
    "So, what do we do when we run into outliers that could mess up our range? When we measure the **interquartile range**, we break up the data set into four equal ‘quarters’. From there, we just subtract the first quartile from the third quartile.\n",
    "\n",
    "- **Variance** - takes all the data points from the mean and tries to square the difference from the mean. Makes it a little easier to understand because you don’t have any negative numbers\n",
    "\n",
    "- **Standard deviation** -just take variance and get the square root of it.\n",
    "\n",
    "Refer to the chart below for a quick reference about EDA:\n",
    "\n",
    "![](https://pbs.twimg.com/media/Gejo9s3WcAAMn8g?format=png&name=small\n",
    ")\n",
    "\n",
    "\n",
    "*So, how much data should we look at?*\n",
    "\n",
    "So where should the afterschool even start? Because it’s not practical for the group to collect data on every single vehicle in their hometown, instead they will take a **sample** where we take a smaller portion of the data from the larger population. Analyzing this smaller dataset will help us to estimate and understand the population\n",
    "\n",
    "So, let’s dive in!\n"
   ]
  },
  {
   "cell_type": "markdown",
   "metadata": {
    "id": "DVKpc22tNUmx"
   },
   "source": [
    "## YOUR TURN\n"
   ]
  },
  {
   "cell_type": "markdown",
   "metadata": {
    "id": "xss5OrD3NU5G"
   },
   "source": [
    "Now that you understand different ways to measure and examine data, it’s time to practice applying this concept! As you go through this, pay close attention to the different levels of measurement and how tendency is measured. These tools will help us understand how spread out the data is while still letting us know what the central point looks like.\n"
   ]
  },
  {
   "cell_type": "markdown",
   "metadata": {
    "id": "uPZqofbaNeM1"
   },
   "source": [
    "## Finding the Average"
   ]
  },
  {
   "cell_type": "markdown",
   "metadata": {
    "id": "pZ5wizf_Nfv7"
   },
   "source": [
    "### Goal 1: Importing the Pandas Library\n",
    "\n",
    "Need extra tools to help solve this problem?  Well, we can bring in extra ‘libraries’ to help us do extra data science stuff. You can think of it as an ‘add-on’. In this case, we bring in pandas, which is a popular library for doing data science stuff."
   ]
  },
  {
   "cell_type": "markdown",
   "metadata": {
    "id": "3mNQfgNwNgTq"
   },
   "source": [
    "\n",
    "**Step 1 - Starting the import **\n",
    "\n",
    "First, we need to set up a “command” to tell the computer what to do. In this case, the “command” is used to “import” to bring the add-on package in.\n",
    "\n",
    "Bring in the IMPORT menu, which can be helpful to bring in other data tools. In this case, we're bringing in the **import** block.\n"
   ]
  },
  {
   "cell_type": "markdown",
   "metadata": {
    "id": "qIkqk9nPNqro"
   },
   "source": [
    "\n",
    "**Step 2 - Telling what library to import**\n",
    "\n",
    "In the text area, we type the name of the library we want to import. A library is like an extra thing we bring in to give us more coding abilities. In our case, we will type out **pandas**, which will bring in some cool data manipulation features.\n"
   ]
  },
  {
   "cell_type": "markdown",
   "metadata": {
    "id": "mcK8mMSkNgWL"
   },
   "source": [
    "\n",
    "**Step 3 - Renaming the library so it’s easy to remember**\n",
    "\n",
    "Once you are done, put the **import** and **package** together in a single variable. This handy feature helps cut down on all the typing later on. You can call it whatever is easiest for you to remember. In the example below, we’ve put everything into **pd**, and we type it in the open area.\n"
   ]
  },
  {
   "cell_type": "markdown",
   "metadata": {
    "id": "ziGTJp2PN32T"
   },
   "source": [
    "\n",
    "**Step 4 - Connect the blocks to run the code**\n",
    "\n",
    "Connect the blocks and run the code!\n",
    "\n",
    "![](https://pbs.twimg.com/media/GcxNkjYXkAAlpKD?format=png&name=240x240)"
   ]
  },
  {
   "cell_type": "code",
   "execution_count": 19,
   "metadata": {},
   "outputs": [],
   "source": [
    "import pandas as pd\n",
    "\n",
    "#<xml xmlns=\"https://developers.google.com/blockly/xml\"><variables><variable id=\"uJ10cIu{kim/TJ.v0[oE\">pd</variable></variables><block type=\"importAs_Python\" id=\"{4fxdp~KOy0gu=!gY,Q9\" x=\"48\" y=\"61\"><field name=\"libraryName\">pandas</field><field name=\"libraryAlias\" id=\"uJ10cIu{kim/TJ.v0[oE\">pd</field></block></xml>"
   ]
  },
  {
   "cell_type": "markdown",
   "metadata": {
    "id": "KzxWHYxtN9Q0"
   },
   "source": [
    "#### Freehand"
   ]
  },
  {
   "cell_type": "markdown",
   "metadata": {
    "id": "9Iro5GBDN_ip"
   },
   "source": [
    "**Step 1 - Starting the import**\n",
    "\n",
    "First, we need to set up a “command” to tell the computer what to do. In this case, the “command” is used to “import” to bring the add-on package in."
   ]
  },
  {
   "cell_type": "markdown",
   "metadata": {
    "id": "FaOJ8YiwN_k9"
   },
   "source": [
    "\n",
    "**Step 2 - Telling what library to import**\n",
    "\n",
    "In the text area, we type the name of the library we want to import. A library is like an extra thing we bring in to give us more coding abilities. In our case, we will type out **pandas**, which will bring in some cool data manipulation features.\n"
   ]
  },
  {
   "cell_type": "markdown",
   "metadata": {
    "id": "kRTZFNsWOHTH"
   },
   "source": [
    "\n",
    "**Step 3 - Renaming the library so it’s easy to remember**\n",
    "\n",
    "Once you are done, put the ‘import’ and ‘package’ together in a single variable. This handy feature helps cut down on all the typing later on. Feel free to use whatever name you want that will help you remember it later on. In the example below, we’ve put everything into ‘pd’."
   ]
  },
  {
   "cell_type": "markdown",
   "metadata": {
    "id": "IHcF6M3YN_nF"
   },
   "source": [
    "\n",
    "**Step 4 - Run the code**\n",
    "\n",
    "Hit ‘control’ and ‘enter’ at the same time to run the code!\n",
    "\n",
    "\n",
    "![](https://pbs.twimg.com/media/GZmkVCYWEA4oGso?format=jpg&name=small)"
   ]
  },
  {
   "cell_type": "markdown",
   "metadata": {
    "id": "SWe-P6RwN_pX"
   },
   "source": [
    "**Your Turn**: Now it’s your turn! We’re going to dive into the pandas package, which helps us with some really cool data science things. First, let’s import the package and assign it to the variable “pd” to make it easier to use throughout our notebook."
   ]
  },
  {
   "cell_type": "code",
   "execution_count": 2,
   "metadata": {
    "id": "3aKSA8JlcEeR"
   },
   "outputs": [],
   "source": [
    "import pandas as pd"
   ]
  },
  {
   "cell_type": "markdown",
   "metadata": {
    "id": "ZBdBI-r0N_r2"
   },
   "source": [
    "**Explanation**: *Congrats!  Your attempts finally made it!  Now you have successfully imported the \"pandas\" package as the variable \"pd\".*"
   ]
  },
  {
   "cell_type": "markdown",
   "metadata": {
    "id": "fR6DB1mQN_ut"
   },
   "source": [
    "### Goal 2: Bringing in the Dataframe  \n",
    "\n",
    "Load data into a dataframe in Python, use the pd.read_csv command to read a CSV file and store it in a variable for easy data manipulation and analysis."
   ]
  },
  {
   "cell_type": "markdown",
   "metadata": {
    "id": "B48jRyNEcYT0"
   },
   "source": [
    "#### Blockly"
   ]
  },
  {
   "cell_type": "markdown",
   "metadata": {
    "id": "mm2A9ZRZcgIe"
   },
   "source": [
    "\n",
    "**Step 1 - Write out the variable name you want to use**\n",
    "\n",
    "Now that we’re all set with our new package to help us do cool things, let’s bring the data into a variable and call it **dataframe**.\n",
    "\n",
    "In Blockly, bring in the VARIABLES menu.\n"
   ]
  },
  {
   "cell_type": "markdown",
   "metadata": {
    "id": "gcGJL_IDcix4"
   },
   "source": [
    "\n",
    "**Step 2 - Assign the dataframe to the variable you created**\n",
    "\n",
    "Just like we did before, let’s type out a variable name. Rather than type out the full file name for our data, this easy to remember name will hold the data we bring in.\n",
    "\n",
    "In Blockly, go to the Variables and drag the Set block for the **dataframe** variable. This will allow us to assign the result of a function call to the variable.\n"
   ]
  },
  {
   "cell_type": "markdown",
   "metadata": {
    "id": "6DL3R-LRclEr"
   },
   "source": [
    "\n",
    "**Step 3 - Bring in the data**\n",
    "\n",
    "Now, we need to look at the file that has all our data. To load our dataframe, we’ll use a simple command to bring in the file we need (CSV….Comma Separated Values). Let’s say we have a file called \"datasets/AirQualityNum.csv\" in the folder **‘datasets’**. We’re telling Python to read the CSV file and store it in a variable called **dataframe**.\n",
    "\n",
    "From the Variable menu, drag a DO block using the **pd** variable, and go ahead with the do operation **read_csv**. The read_csv function reads a CSV file and returns a DataFrame object.\n",
    "\n",
    "In our case, let’s bring in the \"datasets/AirQualityNum.csv\" (use the Quotes from the TEXT menu) because that is what Diego is working with.\n"
   ]
  },
  {
   "cell_type": "markdown",
   "metadata": {
    "id": "fNuA2m79cmhQ"
   },
   "source": [
    "\n",
    "**Step 4 - Display the variable**\n",
    "\n",
    "Drag the **dataframe** variable to the workspace, making it available for further use in our program. This step is more of a visualization step, as it allows us to see the variable in the Blockly workspace.\n"
   ]
  },
  {
   "cell_type": "markdown",
   "metadata": {
    "id": "8a--NjbJcnaa"
   },
   "source": [
    "\n",
    "**Step 5 - Connect the blocks to run the code**\n",
    "\n",
    "Connect the blocks and run the code!\n",
    "\n",
    "![](https://pbs.twimg.com/media/GaNCQLXW8AAVywW?format=png&name=small)"
   ]
  },
  {
   "cell_type": "code",
   "execution_count": 20,
   "metadata": {},
   "outputs": [
    {
     "data": {
      "text/html": [
       "<div>\n",
       "<style scoped>\n",
       "    .dataframe tbody tr th:only-of-type {\n",
       "        vertical-align: middle;\n",
       "    }\n",
       "\n",
       "    .dataframe tbody tr th {\n",
       "        vertical-align: top;\n",
       "    }\n",
       "\n",
       "    .dataframe thead th {\n",
       "        text-align: right;\n",
       "    }\n",
       "</style>\n",
       "<table border=\"1\" class=\"dataframe\">\n",
       "  <thead>\n",
       "    <tr style=\"text-align: right;\">\n",
       "      <th></th>\n",
       "      <th>Engine Size</th>\n",
       "      <th>Age of Vehicle</th>\n",
       "      <th>Speed</th>\n",
       "      <th>Acceleration</th>\n",
       "      <th>CO2Emissions</th>\n",
       "    </tr>\n",
       "  </thead>\n",
       "  <tbody>\n",
       "    <tr>\n",
       "      <th>0</th>\n",
       "      <td>2.747609</td>\n",
       "      <td>22</td>\n",
       "      <td>49.083255</td>\n",
       "      <td>1.887738</td>\n",
       "      <td>179.930088</td>\n",
       "    </tr>\n",
       "    <tr>\n",
       "      <th>1</th>\n",
       "      <td>5.743714</td>\n",
       "      <td>3</td>\n",
       "      <td>23.460311</td>\n",
       "      <td>3.544147</td>\n",
       "      <td>250.505219</td>\n",
       "    </tr>\n",
       "    <tr>\n",
       "      <th>2</th>\n",
       "      <td>4.606368</td>\n",
       "      <td>17</td>\n",
       "      <td>115.508351</td>\n",
       "      <td>4.646886</td>\n",
       "      <td>404.979103</td>\n",
       "    </tr>\n",
       "    <tr>\n",
       "      <th>3</th>\n",
       "      <td>3.913024</td>\n",
       "      <td>4</td>\n",
       "      <td>18.540217</td>\n",
       "      <td>3.581004</td>\n",
       "      <td>463.568608</td>\n",
       "    </tr>\n",
       "    <tr>\n",
       "      <th>4</th>\n",
       "      <td>1.611297</td>\n",
       "      <td>15</td>\n",
       "      <td>109.596566</td>\n",
       "      <td>3.879303</td>\n",
       "      <td>79.514604</td>\n",
       "    </tr>\n",
       "    <tr>\n",
       "      <th>...</th>\n",
       "      <td>...</td>\n",
       "      <td>...</td>\n",
       "      <td>...</td>\n",
       "      <td>...</td>\n",
       "      <td>...</td>\n",
       "    </tr>\n",
       "    <tr>\n",
       "      <th>9995</th>\n",
       "      <td>5.259811</td>\n",
       "      <td>1</td>\n",
       "      <td>60.526870</td>\n",
       "      <td>1.665292</td>\n",
       "      <td>380.616106</td>\n",
       "    </tr>\n",
       "    <tr>\n",
       "      <th>9996</th>\n",
       "      <td>5.467046</td>\n",
       "      <td>5</td>\n",
       "      <td>114.120190</td>\n",
       "      <td>1.174369</td>\n",
       "      <td>135.691599</td>\n",
       "    </tr>\n",
       "    <tr>\n",
       "      <th>9997</th>\n",
       "      <td>5.722881</td>\n",
       "      <td>8</td>\n",
       "      <td>11.987215</td>\n",
       "      <td>0.598791</td>\n",
       "      <td>315.706170</td>\n",
       "    </tr>\n",
       "    <tr>\n",
       "      <th>9998</th>\n",
       "      <td>2.866938</td>\n",
       "      <td>2</td>\n",
       "      <td>95.832661</td>\n",
       "      <td>1.475712</td>\n",
       "      <td>210.794670</td>\n",
       "    </tr>\n",
       "    <tr>\n",
       "      <th>9999</th>\n",
       "      <td>1.929130</td>\n",
       "      <td>15</td>\n",
       "      <td>40.137971</td>\n",
       "      <td>2.292448</td>\n",
       "      <td>422.860000</td>\n",
       "    </tr>\n",
       "  </tbody>\n",
       "</table>\n",
       "<p>10000 rows × 5 columns</p>\n",
       "</div>"
      ],
      "text/plain": [
       "      Engine Size  Age of Vehicle       Speed  Acceleration  CO2Emissions\n",
       "0        2.747609              22   49.083255      1.887738    179.930088\n",
       "1        5.743714               3   23.460311      3.544147    250.505219\n",
       "2        4.606368              17  115.508351      4.646886    404.979103\n",
       "3        3.913024               4   18.540217      3.581004    463.568608\n",
       "4        1.611297              15  109.596566      3.879303     79.514604\n",
       "...           ...             ...         ...           ...           ...\n",
       "9995     5.259811               1   60.526870      1.665292    380.616106\n",
       "9996     5.467046               5  114.120190      1.174369    135.691599\n",
       "9997     5.722881               8   11.987215      0.598791    315.706170\n",
       "9998     2.866938               2   95.832661      1.475712    210.794670\n",
       "9999     1.929130              15   40.137971      2.292448    422.860000\n",
       "\n",
       "[10000 rows x 5 columns]"
      ]
     },
     "execution_count": 20,
     "metadata": {},
     "output_type": "execute_result"
    }
   ],
   "source": [
    "dataframe = pd.read_csv('datasets/AirQualityNum.csv')\n",
    "\n",
    "dataframe\n",
    "\n",
    "#<xml xmlns=\"https://developers.google.com/blockly/xml\"><variables><variable id=\"[:-5-Qj.5G=s^b$;A-g6\">dataframe</variable><variable id=\"uJ10cIu{kim/TJ.v0[oE\">pd</variable></variables><block type=\"variables_set\" id=\"GJ,_LcsuS:${4squwnVc\" x=\"15\" y=\"98\"><field name=\"VAR\" id=\"[:-5-Qj.5G=s^b$;A-g6\">dataframe</field><value name=\"VALUE\"><block type=\"varDoMethod_Python\" id=\"5U`lAA-i/?U.qb.`,dH;\"><mutation items=\"1\"></mutation><field name=\"VAR\" id=\"uJ10cIu{kim/TJ.v0[oE\">pd</field><field name=\"MEMBER\">read_csv</field><data>pd:read_csv</data><value name=\"ADD0\"><block type=\"text\" id=\"IkcrRMle4*4T5EPc*SwI\"><field name=\"TEXT\">datasets/AirQualityNum.csv</field></block></value></block></value></block><block type=\"variables_get\" id=\"cxY0)2`+.`)(Vp2/`4}{\" x=\"26\" y=\"186\"><field name=\"VAR\" id=\"[:-5-Qj.5G=s^b$;A-g6\">dataframe</field></block></xml>"
   ]
  },
  {
   "cell_type": "markdown",
   "metadata": {
    "id": "GkbBMXDfdRXX"
   },
   "source": [
    "#### Freehand"
   ]
  },
  {
   "cell_type": "markdown",
   "metadata": {
    "id": "OnW2utm9dRZ2"
   },
   "source": [
    "\n",
    "**Step 1 - Write out the variable name you want to use**\n",
    "\n",
    "Now that we’re all set with our new package to help us to do cool things, let’s bring the data into a variable called **dataframe**. Think of it as a digital spreadsheet with much more power to analyze and manipulate the data!\n",
    "\n",
    "Just like we did before, let’s type out a variable name. Rather than type out the full file name for our data, this easy to remember name will hold the data we bring in.\n"
   ]
  },
  {
   "cell_type": "markdown",
   "metadata": {
    "id": "jh6snMr7dRb6"
   },
   "source": [
    "\n",
    "**Step 2 - Bring in the data**\n",
    "\n",
    "Now we need to look at the file that has all our data.\n",
    "\n",
    "To load our dataframe, we’ll use a simple command to bring in the file we need (CSV….Comma Separated Values). Let’s say we have a file called “datasets/AirQualityNum.csv” in the folder **‘datasets’**. We’re telling Python to read the CSV file and store it in a variable called **dataframe**. For this function, we need to specify the code as “pd.read_csv”, which makes the code read the csv file. This variable is now our dataframe!\n",
    "\n",
    "In our case, let’s bring in the “datasets/AirQualityNum.csv” (use the Quotes from the TEXT menu) because that is what Diego is working with.\n"
   ]
  },
  {
   "cell_type": "markdown",
   "metadata": {
    "id": "3og36V8edReQ"
   },
   "source": [
    "\n",
    "**Step 3 - Assign the dataframe to the variable you created**\n",
    "\n",
    "Just like we did before, let’s type out a variable name. Rather than type out the full file name for our data, this easy to remember name will hold the data we bring in.\n"
   ]
  },
  {
   "cell_type": "markdown",
   "metadata": {
    "id": "3-C5GYmzdRgj"
   },
   "source": [
    "\n",
    "**Step 4 - Print the variable**\n",
    "\n",
    "Let’s see it now by ‘printing’ and showing our work.\n"
   ]
  },
  {
   "cell_type": "markdown",
   "metadata": {
    "id": "N2ECSiZVdRjE"
   },
   "source": [
    "\n",
    "**Step 5 - Run the code**\n",
    "\n",
    "Hit ‘control’ and ‘enter’ at the same time to run the code!\n",
    "\n",
    "![](https://pbs.twimg.com/media/GaNH7RVXUAAAtFG?format=png&name=small)\n"
   ]
  },
  {
   "cell_type": "markdown",
   "metadata": {
    "id": "ib6kgV_TdRlg"
   },
   "source": [
    "**Your Turn**: Let’s dive in and start working with the data! We’ll begin by loading it into a dataframe, which will allow us to interact with and analyze the dataset easily."
   ]
  },
  {
   "cell_type": "code",
   "execution_count": 4,
   "metadata": {
    "colab": {
     "base_uri": "https://localhost:8080/",
     "height": 423
    },
    "id": "a5ecKfDrdxyI",
    "outputId": "fc3e23fe-1cdc-4d87-cfec-3a652db3acfd"
   },
   "outputs": [
    {
     "data": {
      "text/html": [
       "<div>\n",
       "<style scoped>\n",
       "    .dataframe tbody tr th:only-of-type {\n",
       "        vertical-align: middle;\n",
       "    }\n",
       "\n",
       "    .dataframe tbody tr th {\n",
       "        vertical-align: top;\n",
       "    }\n",
       "\n",
       "    .dataframe thead th {\n",
       "        text-align: right;\n",
       "    }\n",
       "</style>\n",
       "<table border=\"1\" class=\"dataframe\">\n",
       "  <thead>\n",
       "    <tr style=\"text-align: right;\">\n",
       "      <th></th>\n",
       "      <th>Engine Size</th>\n",
       "      <th>Age of Vehicle</th>\n",
       "      <th>Speed</th>\n",
       "      <th>Acceleration</th>\n",
       "      <th>CO2Emissions</th>\n",
       "    </tr>\n",
       "  </thead>\n",
       "  <tbody>\n",
       "    <tr>\n",
       "      <th>0</th>\n",
       "      <td>2.747609</td>\n",
       "      <td>22</td>\n",
       "      <td>49.083255</td>\n",
       "      <td>1.887738</td>\n",
       "      <td>179.930088</td>\n",
       "    </tr>\n",
       "    <tr>\n",
       "      <th>1</th>\n",
       "      <td>5.743714</td>\n",
       "      <td>3</td>\n",
       "      <td>23.460311</td>\n",
       "      <td>3.544147</td>\n",
       "      <td>250.505219</td>\n",
       "    </tr>\n",
       "    <tr>\n",
       "      <th>2</th>\n",
       "      <td>4.606368</td>\n",
       "      <td>17</td>\n",
       "      <td>115.508351</td>\n",
       "      <td>4.646886</td>\n",
       "      <td>404.979103</td>\n",
       "    </tr>\n",
       "    <tr>\n",
       "      <th>3</th>\n",
       "      <td>3.913024</td>\n",
       "      <td>4</td>\n",
       "      <td>18.540217</td>\n",
       "      <td>3.581004</td>\n",
       "      <td>463.568608</td>\n",
       "    </tr>\n",
       "    <tr>\n",
       "      <th>4</th>\n",
       "      <td>1.611297</td>\n",
       "      <td>15</td>\n",
       "      <td>109.596566</td>\n",
       "      <td>3.879303</td>\n",
       "      <td>79.514604</td>\n",
       "    </tr>\n",
       "    <tr>\n",
       "      <th>...</th>\n",
       "      <td>...</td>\n",
       "      <td>...</td>\n",
       "      <td>...</td>\n",
       "      <td>...</td>\n",
       "      <td>...</td>\n",
       "    </tr>\n",
       "    <tr>\n",
       "      <th>9995</th>\n",
       "      <td>5.259811</td>\n",
       "      <td>1</td>\n",
       "      <td>60.526870</td>\n",
       "      <td>1.665292</td>\n",
       "      <td>380.616106</td>\n",
       "    </tr>\n",
       "    <tr>\n",
       "      <th>9996</th>\n",
       "      <td>5.467046</td>\n",
       "      <td>5</td>\n",
       "      <td>114.120190</td>\n",
       "      <td>1.174369</td>\n",
       "      <td>135.691599</td>\n",
       "    </tr>\n",
       "    <tr>\n",
       "      <th>9997</th>\n",
       "      <td>5.722881</td>\n",
       "      <td>8</td>\n",
       "      <td>11.987215</td>\n",
       "      <td>0.598791</td>\n",
       "      <td>315.706170</td>\n",
       "    </tr>\n",
       "    <tr>\n",
       "      <th>9998</th>\n",
       "      <td>2.866938</td>\n",
       "      <td>2</td>\n",
       "      <td>95.832661</td>\n",
       "      <td>1.475712</td>\n",
       "      <td>210.794670</td>\n",
       "    </tr>\n",
       "    <tr>\n",
       "      <th>9999</th>\n",
       "      <td>1.929130</td>\n",
       "      <td>15</td>\n",
       "      <td>40.137971</td>\n",
       "      <td>2.292448</td>\n",
       "      <td>422.860000</td>\n",
       "    </tr>\n",
       "  </tbody>\n",
       "</table>\n",
       "<p>10000 rows × 5 columns</p>\n",
       "</div>"
      ],
      "text/plain": [
       "      Engine Size  Age of Vehicle       Speed  Acceleration  CO2Emissions\n",
       "0        2.747609              22   49.083255      1.887738    179.930088\n",
       "1        5.743714               3   23.460311      3.544147    250.505219\n",
       "2        4.606368              17  115.508351      4.646886    404.979103\n",
       "3        3.913024               4   18.540217      3.581004    463.568608\n",
       "4        1.611297              15  109.596566      3.879303     79.514604\n",
       "...           ...             ...         ...           ...           ...\n",
       "9995     5.259811               1   60.526870      1.665292    380.616106\n",
       "9996     5.467046               5  114.120190      1.174369    135.691599\n",
       "9997     5.722881               8   11.987215      0.598791    315.706170\n",
       "9998     2.866938               2   95.832661      1.475712    210.794670\n",
       "9999     1.929130              15   40.137971      2.292448    422.860000\n",
       "\n",
       "[10000 rows x 5 columns]"
      ]
     },
     "execution_count": 4,
     "metadata": {},
     "output_type": "execute_result"
    }
   ],
   "source": [
    "dataframe = pd.read_csv('datasets/AirQualityNum.csv')\n",
    "dataframe"
   ]
  },
  {
   "cell_type": "markdown",
   "metadata": {
    "id": "3FuVhATydx4J"
   },
   "source": [
    "**Explanation**: *The dataset contains air quality measurements from various locations, with columns including date, time, location, and concentrations of pollutants like NOx, NO, NO2, O3, CO, and SO2, as well as temperature, humidity, wind speed, wind direction, pressure, and rain indicators. The dataset appears to be a time series, with regular hourly measurements and has no missing values. It can be used to analyze the relationship between air quality and weather, identify patterns and trends, develop predictive models, and compare air quality across locations.*"
   ]
  },
  {
   "cell_type": "markdown",
   "metadata": {
    "id": "9eB5gFDdd3aA"
   },
   "source": [
    "### Goal 3: Finding the Average (Mean) of the Data\n",
    "\n",
    "Calculate the average, or mean, of our data using Blockly and Freehand methods."
   ]
  },
  {
   "cell_type": "markdown",
   "metadata": {
    "id": "PswxLmwbd3cc"
   },
   "source": [
    "#### Blockly"
   ]
  },
  {
   "cell_type": "markdown",
   "metadata": {
    "id": "ADv7SFxAd3e2"
   },
   "source": [
    "**Step 1 - Saying what data to use for the mean**\n",
    "\n",
    "To calculate the mean, we first need to select the numeric data to calculate the mean. In this case, our data is the whole data dataframe.\n",
    "\n",
    "From the \"VARIABLES\" menu, drag a DO block WITH **dataframe** variable.  First, we need to select the numeric data to calculate the mean.  In this case, our data is the whole data “dataframe”.  \n"
   ]
  },
  {
   "cell_type": "markdown",
   "metadata": {
    "id": "0xEZWs4od3v0"
   },
   "source": [
    "\n",
    "**Step 2 - Call the mean method of the dataframe**\n",
    "\n",
    "In the next step, we apply the **mean**() method to calculate the mean of all the numeric columns in our dataframe.\n"
   ]
  },
  {
   "cell_type": "markdown",
   "metadata": {
    "id": "z-EIpK3qd3yK"
   },
   "source": [
    "\n",
    "**Step 3 - Connect the blocks to run the code**\n",
    "\n",
    "Connect the blocks and run the code!\n",
    "\n",
    "![](https://pbs.twimg.com/media/GZZ0keDXwAA9nE1?format=png&name=360x360\n",
    ")\n"
   ]
  },
  {
   "cell_type": "code",
   "execution_count": 21,
   "metadata": {},
   "outputs": [
    {
     "data": {
      "text/plain": [
       "Engine Size         3.369630\n",
       "Age of Vehicle     14.490000\n",
       "Speed              59.448818\n",
       "Acceleration        2.491924\n",
       "CO2Emissions      273.747254\n",
       "dtype: float64"
      ]
     },
     "execution_count": 21,
     "metadata": {},
     "output_type": "execute_result"
    }
   ],
   "source": [
    "dataframe.mean()\n",
    "\n",
    "#<xml xmlns=\"https://developers.google.com/blockly/xml\"><variables><variable id=\"[:-5-Qj.5G=s^b$;A-g6\">dataframe</variable></variables><block type=\"varDoMethod_Python\" id=\"e1?.xzO6#g[:^9]CouV#\" x=\"25\" y=\"173\"><mutation items=\"1\"></mutation><field name=\"VAR\" id=\"[:-5-Qj.5G=s^b$;A-g6\">dataframe</field><field name=\"MEMBER\">mean</field><data>dataframe:mean</data></block></xml>"
   ]
  },
  {
   "cell_type": "markdown",
   "metadata": {
    "id": "a_-9sqd7d30l"
   },
   "source": [
    "#### Freehand"
   ]
  },
  {
   "cell_type": "markdown",
   "metadata": {
    "id": "tppLY5sTeVaf"
   },
   "source": [
    "**Step 1 - Select the data you want to use**\n",
    "\n",
    "To calculate the mean, we first need to select the numeric data to calculate the mean. In this case, our data is the whole data we put into **dataframe**.\n",
    "\n",
    "`dataframe`"
   ]
  },
  {
   "cell_type": "markdown",
   "metadata": {
    "id": "O5VbWP5aeVdA"
   },
   "source": [
    "\n",
    "**Step 2 - Call the mean method for the dataframe**\n",
    "\n",
    "In the next step, we apply the **mean**() method to calculate the mean of all the numeric columns in our dataframe.\n",
    "\n",
    "`dataframe.mean()`"
   ]
  },
  {
   "cell_type": "markdown",
   "metadata": {
    "id": "dl8f3-vseVfW"
   },
   "source": [
    "\n",
    "**Step 3 - Run the code**\n",
    "\n",
    "Hit ‘control’ and ‘enter’ at the same time to run the code!\n",
    "\n",
    "![](\n",
    "https://pbs.twimg.com/media/GZZ0m3JXcAAyymQ?format=png&name=360x360\n",
    ")\n"
   ]
  },
  {
   "cell_type": "markdown",
   "metadata": {
    "id": "yro0Uwe2eVh5"
   },
   "source": [
    "**Your Turn**: Your turn! Let’s start by selecting the data you want to use so that we can calculate the average."
   ]
  },
  {
   "cell_type": "code",
   "execution_count": 6,
   "metadata": {
    "colab": {
     "base_uri": "https://localhost:8080/",
     "height": 241
    },
    "id": "QuEUhQfjeo_6",
    "outputId": "aaf3c567-7480-4af6-dafd-b7fc875ed81f"
   },
   "outputs": [
    {
     "data": {
      "text/plain": [
       "Engine Size         3.369630\n",
       "Age of Vehicle     14.490000\n",
       "Speed              59.448818\n",
       "Acceleration        2.491924\n",
       "CO2Emissions      273.747254\n",
       "dtype: float64"
      ]
     },
     "execution_count": 6,
     "metadata": {},
     "output_type": "execute_result"
    }
   ],
   "source": [
    "dataframe.mean()"
   ]
  },
  {
   "cell_type": "markdown",
   "metadata": {
    "id": "_1fQnaqIeVkO"
   },
   "source": [
    "**Explanation**: *As we can observe from the calculated averages, the average engine size is 3.37 liters, indicating small to medium-sized engines. The average vehicle age is 14.49 years, suggesting a mix of old and new vehicles. The average speed is 59.45 km/h, which is moderate. The average acceleration is 2.49 m/s², also moderate. Finally, the average CO2 emissions are 273.75 g/km, which is relatively high*."
   ]
  },
  {
   "cell_type": "markdown",
   "metadata": {
    "id": "XDWCN2D4euBP"
   },
   "source": [
    "**Goal 4: Finding the Middle Point (Median) of the Data**\n",
    "\n",
    "We got the average (mean) of all the data. How about let’s try the median() method to find the middle point (median) of all numeric columns?"
   ]
  },
  {
   "cell_type": "markdown",
   "metadata": {
    "id": "W0n4eFFNe_Qp"
   },
   "source": [
    "#### Blockly"
   ]
  },
  {
   "cell_type": "markdown",
   "metadata": {
    "id": "YunfifxFfAcV"
   },
   "source": [
    "\n",
    "**Step 1 - Select the data you want to use**\n",
    "\n",
    "To calculate the median, we first need to select the numeric data to calculate the median. In this case, our data is the whole data **dataframe**.\n",
    "\n",
    "From the \"VARIABLES\" menu, drag a DO block WITH **dataframe** variable.  First, we need to select the numeric data to calculate the median.  In this case, our data is the whole data “dataframe”.  \n"
   ]
  },
  {
   "cell_type": "markdown",
   "metadata": {
    "id": "1AmHFoJOfAe2"
   },
   "source": [
    "\n",
    "**Step 2 - Call the median method for the dataframe**\n",
    "\n",
    "In the next step, we apply the **median**() method to calculate the median of all the numeric columns in our dataframe.\n"
   ]
  },
  {
   "cell_type": "markdown",
   "metadata": {
    "id": "Udch_FYvfAhN"
   },
   "source": [
    "\n",
    "**Step 3 - Connect the blocks to run the code**\n",
    "\n",
    "Connect the blocks and run the code!\n",
    "\n",
    "![](https://pbs.twimg.com/media/GZZ1cbUXoAAOmM8?format=png&name=360x360)"
   ]
  },
  {
   "cell_type": "code",
   "execution_count": 22,
   "metadata": {},
   "outputs": [
    {
     "data": {
      "text/plain": [
       "Engine Size         3.361149\n",
       "Age of Vehicle     15.000000\n",
       "Speed              59.701114\n",
       "Acceleration        2.482625\n",
       "CO2Emissions      274.734257\n",
       "dtype: float64"
      ]
     },
     "execution_count": 22,
     "metadata": {},
     "output_type": "execute_result"
    }
   ],
   "source": [
    "dataframe.median()\n",
    "\n",
    "#<xml xmlns=\"https://developers.google.com/blockly/xml\"><variables><variable id=\"[:-5-Qj.5G=s^b$;A-g6\">dataframe</variable></variables><block type=\"varDoMethod_Python\" id=\"Uwi%:97-0v;~[u;1u#B(\" x=\"34\" y=\"190\"><mutation items=\"1\"></mutation><field name=\"VAR\" id=\"[:-5-Qj.5G=s^b$;A-g6\">dataframe</field><field name=\"MEMBER\">median</field><data>dataframe:median</data></block></xml>"
   ]
  },
  {
   "cell_type": "markdown",
   "metadata": {
    "id": "zH5SQCFHfAkH"
   },
   "source": [
    "#### Freehand"
   ]
  },
  {
   "cell_type": "markdown",
   "metadata": {
    "id": "BIYIz-8pfAmr"
   },
   "source": [
    "**Step 1 - Select the data you want to use**\n",
    "\n",
    "To calculate the median, we first need to select the numeric data to calculate the median. In this case, our data is **dataframe**.\n",
    "\n",
    "`dataframe`"
   ]
  },
  {
   "cell_type": "markdown",
   "metadata": {
    "id": "-GRIypOefWUE"
   },
   "source": [
    "\n",
    "**Step 2 - Call the median method for the dataframe**\n",
    "\n",
    "In the next step, we apply the **median**() method to calculate the median of all the numeric columns in our dataframe.\n",
    "\n",
    "`dataframe.median()`"
   ]
  },
  {
   "cell_type": "markdown",
   "metadata": {
    "id": "V4KKJqupfhjH"
   },
   "source": [
    "\n",
    "**Step 3 - Run the code**\n",
    "\n",
    "Hit ‘control’ and ‘enter’ at the same time to run the code!\n",
    "\n",
    "![](https://pbs.twimg.com/media/GZZ1aGSXYAAKxFx?format=png&name=360x360)"
   ]
  },
  {
   "cell_type": "markdown",
   "metadata": {
    "id": "_uxaQusGfnTs"
   },
   "source": [
    "**Your Turn**: Your Turn! We’re looking at the median this time, so make sure to select the data before you apply the median method."
   ]
  },
  {
   "cell_type": "code",
   "execution_count": 8,
   "metadata": {
    "colab": {
     "base_uri": "https://localhost:8080/",
     "height": 241
    },
    "id": "43ydLEDrfpnQ",
    "outputId": "929b61bf-b41a-4a06-d72d-23c834a26995"
   },
   "outputs": [
    {
     "data": {
      "text/plain": [
       "Engine Size         3.361149\n",
       "Age of Vehicle     15.000000\n",
       "Speed              59.701114\n",
       "Acceleration        2.482625\n",
       "CO2Emissions      274.734257\n",
       "dtype: float64"
      ]
     },
     "execution_count": 8,
     "metadata": {},
     "output_type": "execute_result"
    }
   ],
   "source": [
    "dataframe.median()"
   ]
  },
  {
   "cell_type": "markdown",
   "metadata": {
    "id": "gq0tvUfbfroF"
   },
   "source": [
    "**Explanation**: *The median values are similar to the mean values, indicating symmetric data with no extreme outliers. The median age of vehicles is slightly higher than the mean, suggesting some older vehicles in the dataset. Overall, the median and mean values are close, indicating stable and consistent data*."
   ]
  },
  {
   "cell_type": "markdown",
   "metadata": {
    "id": "Fz8qAANyfv5V"
   },
   "source": [
    "**Goal 5: Calculating the Most Frequent Data (Mode)**\n",
    "\n",
    "What about the ‘most’ of a certain number? For that, let’s use the mode() method to calculate the most frequent data points we find in the columns."
   ]
  },
  {
   "cell_type": "markdown",
   "metadata": {
    "id": "58mwB_Syfwbx"
   },
   "source": [
    "#### Blockly"
   ]
  },
  {
   "cell_type": "markdown",
   "metadata": {
    "id": "TvZPblltfwgk"
   },
   "source": [
    "**Step 1 - Select the data you want to use**\n",
    "\n",
    "To calculate the mode, we first need to select the numeric data to calculate the mode. In this case, our data is the whole data **dataframe**.\n",
    "\n",
    "From the \"VARIABLES\" menu, drag a DO block WITH **dataframe** variable.  First, we need to select the numeric data to calculate the mode.  In this case, our data is the whole data dataframe.  \n"
   ]
  },
  {
   "cell_type": "markdown",
   "metadata": {
    "id": "xgNuyzLXfwjP"
   },
   "source": [
    "\n",
    "**Step 2 - Call the mode method for the dataframe**\n",
    "\n",
    "In the next step, we apply the **mode**() method to calculate the mode of all the numeric columns in our dataframe.\n"
   ]
  },
  {
   "cell_type": "markdown",
   "metadata": {
    "id": "t9FD5Wi8fwoc"
   },
   "source": [
    "\n",
    "**Step 3 - Connect the blocks to run the code**\n",
    "\n",
    "Connect the blocks and run the code!\n",
    "\n",
    "![](https://pbs.twimg.com/media/GZZ2jUiXoAAraIy?format=png&name=360x360)"
   ]
  },
  {
   "cell_type": "code",
   "execution_count": 23,
   "metadata": {},
   "outputs": [
    {
     "data": {
      "text/html": [
       "<div>\n",
       "<style scoped>\n",
       "    .dataframe tbody tr th:only-of-type {\n",
       "        vertical-align: middle;\n",
       "    }\n",
       "\n",
       "    .dataframe tbody tr th {\n",
       "        vertical-align: top;\n",
       "    }\n",
       "\n",
       "    .dataframe thead th {\n",
       "        text-align: right;\n",
       "    }\n",
       "</style>\n",
       "<table border=\"1\" class=\"dataframe\">\n",
       "  <thead>\n",
       "    <tr style=\"text-align: right;\">\n",
       "      <th></th>\n",
       "      <th>Engine Size</th>\n",
       "      <th>Age of Vehicle</th>\n",
       "      <th>Speed</th>\n",
       "      <th>Acceleration</th>\n",
       "      <th>CO2Emissions</th>\n",
       "    </tr>\n",
       "  </thead>\n",
       "  <tbody>\n",
       "    <tr>\n",
       "      <th>0</th>\n",
       "      <td>0.800061</td>\n",
       "      <td>14.0</td>\n",
       "      <td>0.000664</td>\n",
       "      <td>0.000084</td>\n",
       "      <td>50.045412</td>\n",
       "    </tr>\n",
       "    <tr>\n",
       "      <th>1</th>\n",
       "      <td>0.800160</td>\n",
       "      <td>NaN</td>\n",
       "      <td>0.008100</td>\n",
       "      <td>0.000488</td>\n",
       "      <td>50.057971</td>\n",
       "    </tr>\n",
       "    <tr>\n",
       "      <th>2</th>\n",
       "      <td>0.800275</td>\n",
       "      <td>NaN</td>\n",
       "      <td>0.013228</td>\n",
       "      <td>0.000900</td>\n",
       "      <td>50.063238</td>\n",
       "    </tr>\n",
       "    <tr>\n",
       "      <th>3</th>\n",
       "      <td>0.800700</td>\n",
       "      <td>NaN</td>\n",
       "      <td>0.015017</td>\n",
       "      <td>0.002974</td>\n",
       "      <td>50.073321</td>\n",
       "    </tr>\n",
       "    <tr>\n",
       "      <th>4</th>\n",
       "      <td>0.801181</td>\n",
       "      <td>NaN</td>\n",
       "      <td>0.023383</td>\n",
       "      <td>0.003064</td>\n",
       "      <td>50.081136</td>\n",
       "    </tr>\n",
       "    <tr>\n",
       "      <th>...</th>\n",
       "      <td>...</td>\n",
       "      <td>...</td>\n",
       "      <td>...</td>\n",
       "      <td>...</td>\n",
       "      <td>...</td>\n",
       "    </tr>\n",
       "    <tr>\n",
       "      <th>9995</th>\n",
       "      <td>5.996951</td>\n",
       "      <td>NaN</td>\n",
       "      <td>119.951806</td>\n",
       "      <td>4.995894</td>\n",
       "      <td>499.850505</td>\n",
       "    </tr>\n",
       "    <tr>\n",
       "      <th>9996</th>\n",
       "      <td>5.997196</td>\n",
       "      <td>NaN</td>\n",
       "      <td>119.963473</td>\n",
       "      <td>4.996203</td>\n",
       "      <td>499.866582</td>\n",
       "    </tr>\n",
       "    <tr>\n",
       "      <th>9997</th>\n",
       "      <td>5.997427</td>\n",
       "      <td>NaN</td>\n",
       "      <td>119.963665</td>\n",
       "      <td>4.996343</td>\n",
       "      <td>499.889400</td>\n",
       "    </tr>\n",
       "    <tr>\n",
       "      <th>9998</th>\n",
       "      <td>5.997700</td>\n",
       "      <td>NaN</td>\n",
       "      <td>119.967850</td>\n",
       "      <td>4.999453</td>\n",
       "      <td>499.908230</td>\n",
       "    </tr>\n",
       "    <tr>\n",
       "      <th>9999</th>\n",
       "      <td>5.998532</td>\n",
       "      <td>NaN</td>\n",
       "      <td>119.974725</td>\n",
       "      <td>4.999861</td>\n",
       "      <td>499.996419</td>\n",
       "    </tr>\n",
       "  </tbody>\n",
       "</table>\n",
       "<p>10000 rows × 5 columns</p>\n",
       "</div>"
      ],
      "text/plain": [
       "      Engine Size  Age of Vehicle       Speed  Acceleration  CO2Emissions\n",
       "0        0.800061            14.0    0.000664      0.000084     50.045412\n",
       "1        0.800160             NaN    0.008100      0.000488     50.057971\n",
       "2        0.800275             NaN    0.013228      0.000900     50.063238\n",
       "3        0.800700             NaN    0.015017      0.002974     50.073321\n",
       "4        0.801181             NaN    0.023383      0.003064     50.081136\n",
       "...           ...             ...         ...           ...           ...\n",
       "9995     5.996951             NaN  119.951806      4.995894    499.850505\n",
       "9996     5.997196             NaN  119.963473      4.996203    499.866582\n",
       "9997     5.997427             NaN  119.963665      4.996343    499.889400\n",
       "9998     5.997700             NaN  119.967850      4.999453    499.908230\n",
       "9999     5.998532             NaN  119.974725      4.999861    499.996419\n",
       "\n",
       "[10000 rows x 5 columns]"
      ]
     },
     "execution_count": 23,
     "metadata": {},
     "output_type": "execute_result"
    }
   ],
   "source": [
    "dataframe.mode()\n",
    "\n",
    "#<xml xmlns=\"https://developers.google.com/blockly/xml\"><variables><variable id=\"[:-5-Qj.5G=s^b$;A-g6\">dataframe</variable></variables><block type=\"varDoMethod_Python\" id=\"f:_KQv;%h{7g7|1,ATTc\" x=\"66\" y=\"182\"><mutation items=\"1\"></mutation><field name=\"VAR\" id=\"[:-5-Qj.5G=s^b$;A-g6\">dataframe</field><field name=\"MEMBER\">mode</field><data>dataframe:mode</data></block></xml>"
   ]
  },
  {
   "cell_type": "markdown",
   "metadata": {
    "id": "AJti318BgKEZ"
   },
   "source": [
    "#### Freehand"
   ]
  },
  {
   "cell_type": "markdown",
   "metadata": {
    "id": "mkUtQTg0gKeA"
   },
   "source": [
    "**Step 1 - Select the data you want to use**\n",
    "\n",
    "To calculate the mode, we first need to select the numeric data to calculate the mode.  In this case, our data is “dataframe”.\n",
    "\n",
    "`dataframe`"
   ]
  },
  {
   "cell_type": "markdown",
   "metadata": {
    "id": "QM1RVjtigKgP"
   },
   "source": [
    "\n",
    "**Step 2 - Call the mode method for the dataframe**\n",
    "\n",
    "In the next step, we apply the mode() method to calculate the mode of all the numeric columns in our dataframe.\n",
    "\n",
    "`dataframe.mode()`"
   ]
  },
  {
   "cell_type": "markdown",
   "metadata": {
    "id": "dujCtOWtgKi8"
   },
   "source": [
    "\n",
    "**Step 3 - Run the code**\n",
    "\n",
    "Hit ‘control’ and ‘enter’ at the same time to run the code!\n",
    "\n",
    "![](https://pbs.twimg.com/media/GZZ2g-YXcAAk5vt?format=png&name=360x360)"
   ]
  },
  {
   "cell_type": "markdown",
   "metadata": {
    "id": "wAUTNNlugKlh"
   },
   "source": [
    "**Your Turn**: Now you try! After the data is selected, call in the mode function to calculate the most frequent number in the dataset."
   ]
  },
  {
   "cell_type": "code",
   "execution_count": 10,
   "metadata": {
    "colab": {
     "base_uri": "https://localhost:8080/",
     "height": 423
    },
    "id": "PdERvIV7giwV",
    "outputId": "dd9b5fb9-2de5-4da5-e749-87fcb3a2a043"
   },
   "outputs": [
    {
     "data": {
      "text/html": [
       "<div>\n",
       "<style scoped>\n",
       "    .dataframe tbody tr th:only-of-type {\n",
       "        vertical-align: middle;\n",
       "    }\n",
       "\n",
       "    .dataframe tbody tr th {\n",
       "        vertical-align: top;\n",
       "    }\n",
       "\n",
       "    .dataframe thead th {\n",
       "        text-align: right;\n",
       "    }\n",
       "</style>\n",
       "<table border=\"1\" class=\"dataframe\">\n",
       "  <thead>\n",
       "    <tr style=\"text-align: right;\">\n",
       "      <th></th>\n",
       "      <th>Engine Size</th>\n",
       "      <th>Age of Vehicle</th>\n",
       "      <th>Speed</th>\n",
       "      <th>Acceleration</th>\n",
       "      <th>CO2Emissions</th>\n",
       "    </tr>\n",
       "  </thead>\n",
       "  <tbody>\n",
       "    <tr>\n",
       "      <th>0</th>\n",
       "      <td>0.800061</td>\n",
       "      <td>14.0</td>\n",
       "      <td>0.000664</td>\n",
       "      <td>0.000084</td>\n",
       "      <td>50.045412</td>\n",
       "    </tr>\n",
       "    <tr>\n",
       "      <th>1</th>\n",
       "      <td>0.800160</td>\n",
       "      <td>NaN</td>\n",
       "      <td>0.008100</td>\n",
       "      <td>0.000488</td>\n",
       "      <td>50.057971</td>\n",
       "    </tr>\n",
       "    <tr>\n",
       "      <th>2</th>\n",
       "      <td>0.800275</td>\n",
       "      <td>NaN</td>\n",
       "      <td>0.013228</td>\n",
       "      <td>0.000900</td>\n",
       "      <td>50.063238</td>\n",
       "    </tr>\n",
       "    <tr>\n",
       "      <th>3</th>\n",
       "      <td>0.800700</td>\n",
       "      <td>NaN</td>\n",
       "      <td>0.015017</td>\n",
       "      <td>0.002974</td>\n",
       "      <td>50.073321</td>\n",
       "    </tr>\n",
       "    <tr>\n",
       "      <th>4</th>\n",
       "      <td>0.801181</td>\n",
       "      <td>NaN</td>\n",
       "      <td>0.023383</td>\n",
       "      <td>0.003064</td>\n",
       "      <td>50.081136</td>\n",
       "    </tr>\n",
       "    <tr>\n",
       "      <th>...</th>\n",
       "      <td>...</td>\n",
       "      <td>...</td>\n",
       "      <td>...</td>\n",
       "      <td>...</td>\n",
       "      <td>...</td>\n",
       "    </tr>\n",
       "    <tr>\n",
       "      <th>9995</th>\n",
       "      <td>5.996951</td>\n",
       "      <td>NaN</td>\n",
       "      <td>119.951806</td>\n",
       "      <td>4.995894</td>\n",
       "      <td>499.850505</td>\n",
       "    </tr>\n",
       "    <tr>\n",
       "      <th>9996</th>\n",
       "      <td>5.997196</td>\n",
       "      <td>NaN</td>\n",
       "      <td>119.963473</td>\n",
       "      <td>4.996203</td>\n",
       "      <td>499.866582</td>\n",
       "    </tr>\n",
       "    <tr>\n",
       "      <th>9997</th>\n",
       "      <td>5.997427</td>\n",
       "      <td>NaN</td>\n",
       "      <td>119.963665</td>\n",
       "      <td>4.996343</td>\n",
       "      <td>499.889400</td>\n",
       "    </tr>\n",
       "    <tr>\n",
       "      <th>9998</th>\n",
       "      <td>5.997700</td>\n",
       "      <td>NaN</td>\n",
       "      <td>119.967850</td>\n",
       "      <td>4.999453</td>\n",
       "      <td>499.908230</td>\n",
       "    </tr>\n",
       "    <tr>\n",
       "      <th>9999</th>\n",
       "      <td>5.998532</td>\n",
       "      <td>NaN</td>\n",
       "      <td>119.974725</td>\n",
       "      <td>4.999861</td>\n",
       "      <td>499.996419</td>\n",
       "    </tr>\n",
       "  </tbody>\n",
       "</table>\n",
       "<p>10000 rows × 5 columns</p>\n",
       "</div>"
      ],
      "text/plain": [
       "      Engine Size  Age of Vehicle       Speed  Acceleration  CO2Emissions\n",
       "0        0.800061            14.0    0.000664      0.000084     50.045412\n",
       "1        0.800160             NaN    0.008100      0.000488     50.057971\n",
       "2        0.800275             NaN    0.013228      0.000900     50.063238\n",
       "3        0.800700             NaN    0.015017      0.002974     50.073321\n",
       "4        0.801181             NaN    0.023383      0.003064     50.081136\n",
       "...           ...             ...         ...           ...           ...\n",
       "9995     5.996951             NaN  119.951806      4.995894    499.850505\n",
       "9996     5.997196             NaN  119.963473      4.996203    499.866582\n",
       "9997     5.997427             NaN  119.963665      4.996343    499.889400\n",
       "9998     5.997700             NaN  119.967850      4.999453    499.908230\n",
       "9999     5.998532             NaN  119.974725      4.999861    499.996419\n",
       "\n",
       "[10000 rows x 5 columns]"
      ]
     },
     "execution_count": 10,
     "metadata": {},
     "output_type": "execute_result"
    }
   ],
   "source": [
    "dataframe.mode()"
   ]
  },
  {
   "cell_type": "markdown",
   "metadata": {
    "id": "rQFoypTXgKob"
   },
   "source": [
    "**Explanation**: *The mode values are quite different from the mean and median values. The mode values for Engine Size, Speed, Acceleration, and CO2 emissions are scattered and do not form a clear pattern, suggesting that there is no single dominant value in these columns. The Age of Vehicle column has a mode value of 14.0, but it is only present in one row, and the rest of the rows have NaN values, indicating that the age of vehicle is not a well-represented feature in the dataset. Overall, the mode values do not provide a clear summary of the central tendency of the data*."
   ]
  },
  {
   "cell_type": "markdown",
   "metadata": {
    "id": "QoaigPQFgKsH"
   },
   "source": [
    "## Finding the Spread"
   ]
  },
  {
   "cell_type": "markdown",
   "metadata": {
    "id": "bc0Tdzi9grXy"
   },
   "source": [
    "### Goal 6: Finding the Spread\n",
    "\n",
    "So we’ve got the middle point, but how spread out is our data? Let’s calculate the quartiles of a dataset to understand the distribution of the data. This involves selecting the numeric data from the dataframe and applying the describe() method.\n",
    "\n",
    "**Calculate Quartiles**: Let’s break up our data that looks at anything below 25% of our data (first quartile) and anything above 75% (third quartile) of our data.\n"
   ]
  },
  {
   "cell_type": "markdown",
   "metadata": {
    "id": "8MO40qp7hEvV"
   },
   "source": [
    "#### Blockly"
   ]
  },
  {
   "cell_type": "markdown",
   "metadata": {
    "id": "1lXxCqoLhF6Z"
   },
   "source": [
    "**Step 1 - Saying what data to look at for the quartiles calculation**\n",
    "\n",
    "To describe the data, we first need to select the numeric data to explore. In this case, our data is the whole data dataframe\n",
    "\n",
    "From the \"VARIABLES\" menu, drag a DO block WITH dataframe variable. First, we first need to select the numeric data to describe. In this case, our data is the whole data **“dataframe”**  \n"
   ]
  },
  {
   "cell_type": "markdown",
   "metadata": {
    "id": "Vawav7xrhF81"
   },
   "source": [
    "\n",
    "**Step 2 - Call the describe method for the dataframe**\n",
    "\n",
    "In the next step, we apply the **describe**() to calculate the mean of all the numeric columns in our dataframe.\n"
   ]
  },
  {
   "cell_type": "markdown",
   "metadata": {
    "id": "8jWtxVn3hF_E"
   },
   "source": [
    "\n",
    "**Step 3 - Connect the blocks to run the code**\n",
    "\n",
    "Connect the blocks and run the code!\n",
    "\n",
    "![](https://pbs.twimg.com/media/GZaDSdeXAAAx3n7?format=png&name=360x360)"
   ]
  },
  {
   "cell_type": "code",
   "execution_count": 24,
   "metadata": {},
   "outputs": [
    {
     "data": {
      "text/html": [
       "<div>\n",
       "<style scoped>\n",
       "    .dataframe tbody tr th:only-of-type {\n",
       "        vertical-align: middle;\n",
       "    }\n",
       "\n",
       "    .dataframe tbody tr th {\n",
       "        vertical-align: top;\n",
       "    }\n",
       "\n",
       "    .dataframe thead th {\n",
       "        text-align: right;\n",
       "    }\n",
       "</style>\n",
       "<table border=\"1\" class=\"dataframe\">\n",
       "  <thead>\n",
       "    <tr style=\"text-align: right;\">\n",
       "      <th></th>\n",
       "      <th>Engine Size</th>\n",
       "      <th>Age of Vehicle</th>\n",
       "      <th>Speed</th>\n",
       "      <th>Acceleration</th>\n",
       "      <th>CO2Emissions</th>\n",
       "    </tr>\n",
       "  </thead>\n",
       "  <tbody>\n",
       "    <tr>\n",
       "      <th>count</th>\n",
       "      <td>10000.000000</td>\n",
       "      <td>10000.000000</td>\n",
       "      <td>10000.000000</td>\n",
       "      <td>10000.000000</td>\n",
       "      <td>10000.000000</td>\n",
       "    </tr>\n",
       "    <tr>\n",
       "      <th>mean</th>\n",
       "      <td>3.369630</td>\n",
       "      <td>14.490000</td>\n",
       "      <td>59.448818</td>\n",
       "      <td>2.491924</td>\n",
       "      <td>273.747254</td>\n",
       "    </tr>\n",
       "    <tr>\n",
       "      <th>std</th>\n",
       "      <td>1.495677</td>\n",
       "      <td>8.584339</td>\n",
       "      <td>34.437175</td>\n",
       "      <td>1.446130</td>\n",
       "      <td>130.789943</td>\n",
       "    </tr>\n",
       "    <tr>\n",
       "      <th>min</th>\n",
       "      <td>0.800061</td>\n",
       "      <td>0.000000</td>\n",
       "      <td>0.000664</td>\n",
       "      <td>0.000084</td>\n",
       "      <td>50.045412</td>\n",
       "    </tr>\n",
       "    <tr>\n",
       "      <th>25%</th>\n",
       "      <td>2.080910</td>\n",
       "      <td>7.000000</td>\n",
       "      <td>29.502708</td>\n",
       "      <td>1.245908</td>\n",
       "      <td>158.448360</td>\n",
       "    </tr>\n",
       "    <tr>\n",
       "      <th>50%</th>\n",
       "      <td>3.361149</td>\n",
       "      <td>15.000000</td>\n",
       "      <td>59.701114</td>\n",
       "      <td>2.482625</td>\n",
       "      <td>274.734257</td>\n",
       "    </tr>\n",
       "    <tr>\n",
       "      <th>75%</th>\n",
       "      <td>4.648033</td>\n",
       "      <td>22.000000</td>\n",
       "      <td>88.499982</td>\n",
       "      <td>3.747481</td>\n",
       "      <td>387.958329</td>\n",
       "    </tr>\n",
       "    <tr>\n",
       "      <th>max</th>\n",
       "      <td>5.998532</td>\n",
       "      <td>29.000000</td>\n",
       "      <td>119.974725</td>\n",
       "      <td>4.999861</td>\n",
       "      <td>499.996419</td>\n",
       "    </tr>\n",
       "  </tbody>\n",
       "</table>\n",
       "</div>"
      ],
      "text/plain": [
       "        Engine Size  Age of Vehicle         Speed  Acceleration  CO2Emissions\n",
       "count  10000.000000    10000.000000  10000.000000  10000.000000  10000.000000\n",
       "mean       3.369630       14.490000     59.448818      2.491924    273.747254\n",
       "std        1.495677        8.584339     34.437175      1.446130    130.789943\n",
       "min        0.800061        0.000000      0.000664      0.000084     50.045412\n",
       "25%        2.080910        7.000000     29.502708      1.245908    158.448360\n",
       "50%        3.361149       15.000000     59.701114      2.482625    274.734257\n",
       "75%        4.648033       22.000000     88.499982      3.747481    387.958329\n",
       "max        5.998532       29.000000    119.974725      4.999861    499.996419"
      ]
     },
     "execution_count": 24,
     "metadata": {},
     "output_type": "execute_result"
    }
   ],
   "source": [
    "dataframe.describe()\n",
    "\n",
    "#<xml xmlns=\"https://developers.google.com/blockly/xml\"><variables><variable id=\"[:-5-Qj.5G=s^b$;A-g6\">dataframe</variable></variables><block type=\"varDoMethod_Python\" id=\"`vwXG5{3s=vptL?8X^-F\" x=\"16\" y=\"191\"><mutation items=\"1\"></mutation><field name=\"VAR\" id=\"[:-5-Qj.5G=s^b$;A-g6\">dataframe</field><field name=\"MEMBER\">describe</field><data>dataframe:describe</data></block></xml>"
   ]
  },
  {
   "cell_type": "markdown",
   "metadata": {
    "id": "lkdVqpgphGBa"
   },
   "source": [
    "#### Freehand"
   ]
  },
  {
   "cell_type": "markdown",
   "metadata": {
    "id": "4o8HJAZ7hGDw"
   },
   "source": [
    "**Step 1 - Saying what data to look at for the quartiles calculation**\n",
    "\n",
    "To describe the data, we first need to select the numeric data to explore. In this case, our data is the whole data dataframe.\n",
    "\n",
    "`dataframe`"
   ]
  },
  {
   "cell_type": "markdown",
   "metadata": {
    "id": "_G77aKRFhGGe"
   },
   "source": [
    "\n",
    "\n",
    "**Step 2 - Call the describe method for the dataframe**\n",
    "\n",
    "In the next step, we apply the describe() method to describe all the numeric columns in our dataframe.\n",
    "\n",
    "`dataframe.describe()`\n"
   ]
  },
  {
   "cell_type": "markdown",
   "metadata": {
    "id": "FSZ16piEhvCQ"
   },
   "source": [
    "\n",
    "**Step 3 - Run the code**\n",
    "\n",
    "Hit ‘control’ and ‘enter’ at the same time to run the code!\n",
    "\n",
    "![](https://pbs.twimg.com/media/GZaDQXpWMAAuD0i?format=png&name=360x360\n",
    ")"
   ]
  },
  {
   "cell_type": "markdown",
   "metadata": {
    "id": "wVKCIk1ihzUG"
   },
   "source": [
    "**Your Turn**: Your turn! Give the describe() method a try and see what it tells you about your data."
   ]
  },
  {
   "cell_type": "code",
   "execution_count": 12,
   "metadata": {
    "colab": {
     "base_uri": "https://localhost:8080/",
     "height": 300
    },
    "id": "p8ckmsz0h1pI",
    "outputId": "95ad78c9-a708-4531-c883-cb909fa95937"
   },
   "outputs": [
    {
     "data": {
      "text/html": [
       "<div>\n",
       "<style scoped>\n",
       "    .dataframe tbody tr th:only-of-type {\n",
       "        vertical-align: middle;\n",
       "    }\n",
       "\n",
       "    .dataframe tbody tr th {\n",
       "        vertical-align: top;\n",
       "    }\n",
       "\n",
       "    .dataframe thead th {\n",
       "        text-align: right;\n",
       "    }\n",
       "</style>\n",
       "<table border=\"1\" class=\"dataframe\">\n",
       "  <thead>\n",
       "    <tr style=\"text-align: right;\">\n",
       "      <th></th>\n",
       "      <th>Engine Size</th>\n",
       "      <th>Age of Vehicle</th>\n",
       "      <th>Speed</th>\n",
       "      <th>Acceleration</th>\n",
       "      <th>CO2Emissions</th>\n",
       "    </tr>\n",
       "  </thead>\n",
       "  <tbody>\n",
       "    <tr>\n",
       "      <th>count</th>\n",
       "      <td>10000.000000</td>\n",
       "      <td>10000.000000</td>\n",
       "      <td>10000.000000</td>\n",
       "      <td>10000.000000</td>\n",
       "      <td>10000.000000</td>\n",
       "    </tr>\n",
       "    <tr>\n",
       "      <th>mean</th>\n",
       "      <td>3.369630</td>\n",
       "      <td>14.490000</td>\n",
       "      <td>59.448818</td>\n",
       "      <td>2.491924</td>\n",
       "      <td>273.747254</td>\n",
       "    </tr>\n",
       "    <tr>\n",
       "      <th>std</th>\n",
       "      <td>1.495677</td>\n",
       "      <td>8.584339</td>\n",
       "      <td>34.437175</td>\n",
       "      <td>1.446130</td>\n",
       "      <td>130.789943</td>\n",
       "    </tr>\n",
       "    <tr>\n",
       "      <th>min</th>\n",
       "      <td>0.800061</td>\n",
       "      <td>0.000000</td>\n",
       "      <td>0.000664</td>\n",
       "      <td>0.000084</td>\n",
       "      <td>50.045412</td>\n",
       "    </tr>\n",
       "    <tr>\n",
       "      <th>25%</th>\n",
       "      <td>2.080910</td>\n",
       "      <td>7.000000</td>\n",
       "      <td>29.502708</td>\n",
       "      <td>1.245908</td>\n",
       "      <td>158.448360</td>\n",
       "    </tr>\n",
       "    <tr>\n",
       "      <th>50%</th>\n",
       "      <td>3.361149</td>\n",
       "      <td>15.000000</td>\n",
       "      <td>59.701114</td>\n",
       "      <td>2.482625</td>\n",
       "      <td>274.734257</td>\n",
       "    </tr>\n",
       "    <tr>\n",
       "      <th>75%</th>\n",
       "      <td>4.648033</td>\n",
       "      <td>22.000000</td>\n",
       "      <td>88.499982</td>\n",
       "      <td>3.747481</td>\n",
       "      <td>387.958329</td>\n",
       "    </tr>\n",
       "    <tr>\n",
       "      <th>max</th>\n",
       "      <td>5.998532</td>\n",
       "      <td>29.000000</td>\n",
       "      <td>119.974725</td>\n",
       "      <td>4.999861</td>\n",
       "      <td>499.996419</td>\n",
       "    </tr>\n",
       "  </tbody>\n",
       "</table>\n",
       "</div>"
      ],
      "text/plain": [
       "        Engine Size  Age of Vehicle         Speed  Acceleration  CO2Emissions\n",
       "count  10000.000000    10000.000000  10000.000000  10000.000000  10000.000000\n",
       "mean       3.369630       14.490000     59.448818      2.491924    273.747254\n",
       "std        1.495677        8.584339     34.437175      1.446130    130.789943\n",
       "min        0.800061        0.000000      0.000664      0.000084     50.045412\n",
       "25%        2.080910        7.000000     29.502708      1.245908    158.448360\n",
       "50%        3.361149       15.000000     59.701114      2.482625    274.734257\n",
       "75%        4.648033       22.000000     88.499982      3.747481    387.958329\n",
       "max        5.998532       29.000000    119.974725      4.999861    499.996419"
      ]
     },
     "execution_count": 12,
     "metadata": {},
     "output_type": "execute_result"
    }
   ],
   "source": [
    "dataframe.describe()"
   ]
  },
  {
   "cell_type": "markdown",
   "metadata": {
    "id": "AiKBN7qah3cw"
   },
   "source": [
    "**Explanation**: *The quartiles provide a more detailed picture of the distribution of each variable. The interquartile range (IQR) shows the spread of the middle 50% of the data. For example, the IQR for Engine Size is 2.57 liters, indicating that the middle 50% of engine sizes range from approximately 2.08 to 4.65 liters. Similarly, the IQR for Age of Vehicle is 15 years, Speed is 58.99 km/h, Acceleration is 2.50 m/s², and CO2 Emissions is 229.51 g/km. These quartiles provide a better understanding of the distribution of each variable, highlighting the range of values encompassing the majority of the data*."
   ]
  },
  {
   "cell_type": "markdown",
   "metadata": {
    "id": "dHhqMK5zh7U0"
   },
   "source": [
    "### Goal 7: Describe the Boxplot\n",
    "\n",
    "Now that we’ve described it, let’s see if we can get a data visualization to help see things like the median, outliers, and quartiles for the numerical features."
   ]
  },
  {
   "cell_type": "markdown",
   "metadata": {
    "id": "TPjEGq61iFzs"
   },
   "source": [
    "#### Blockly"
   ]
  },
  {
   "cell_type": "markdown",
   "metadata": {
    "id": "57MmG1fFiHhQ"
   },
   "source": [
    "**Step 1 -  Saying what data to use for the boxplot plot**\n",
    "\n",
    "In order to make a plot, we need to choose the source from which data we want to plot from.\n",
    "In this case, our dataset is stored in the dataframe we called **dataframe**."
   ]
  },
  {
   "cell_type": "markdown",
   "metadata": {
    "id": "At2AShmKiQ4Z"
   },
   "source": [
    "\n",
    "\n",
    "**Step 2 - Calling the boxplot method of the dataframe**\n",
    "\n",
    "To make a boxplot, we first need to call the boxplot function.\n",
    "\n",
    "From the \"VARIABLES\" menu, drag a DO block WITH **dataframe** variable, and select the boxplot function. This specifies the function we want to call on the \"dataframe\" variable, which will present the boxplot graph, reflecting the quartiles calculations.\n"
   ]
  },
  {
   "cell_type": "markdown",
   "metadata": {
    "id": "Iy4B3-VliaAW"
   },
   "source": [
    "\n",
    "**Step 3 - Run the code**\n",
    "\n",
    "Hit ‘control’ and ‘enter’ at the same time to run the code!\n",
    "\n",
    "![](https://pbs.twimg.com/media/GZaEKpHW4AEsuk0?format=png&name=240x240)"
   ]
  },
  {
   "cell_type": "code",
   "execution_count": 28,
   "metadata": {},
   "outputs": [
    {
     "data": {
      "text/plain": [
       "<Axes: >"
      ]
     },
     "execution_count": 28,
     "metadata": {},
     "output_type": "execute_result"
    }
   ],
   "source": [
    "dataframe.boxplot()\n",
    "\n",
    "#<xml xmlns=\"https://developers.google.com/blockly/xml\"><variables><variable id=\"[:-5-Qj.5G=s^b$;A-g6\">dataframe</variable></variables><block type=\"varDoMethod_Python\" id=\"KN}x+k8h)p04.rM/etbs\" x=\"39\" y=\"182\"><mutation items=\"1\"></mutation><field name=\"VAR\" id=\"[:-5-Qj.5G=s^b$;A-g6\">dataframe</field><field name=\"MEMBER\">boxplot</field><data>dataframe:boxplot</data></block></xml>"
   ]
  },
  {
   "cell_type": "markdown",
   "metadata": {
    "id": "aZXcs9GrifsW"
   },
   "source": [
    "#### Freehand"
   ]
  },
  {
   "cell_type": "markdown",
   "metadata": {
    "id": "GgEC1OKXihBl"
   },
   "source": [
    "**Step 1 - Saying what data to use for the boxplot plot**\n",
    "\n",
    "To generate a boxplot, we first need to select the data. In this case, our data is dataframe\n",
    "\n",
    "`dataframe`"
   ]
  },
  {
   "cell_type": "markdown",
   "metadata": {
    "id": "P9Ix7DgSihD7"
   },
   "source": [
    "\n",
    "**Step 2 - Calling the boxplot method for the dataframe**\n",
    "\n",
    "In the next step, we apply the boxplot() method to get the boxplot. The dataframe has 5 numerical features(Engine size, Age of vehicle, Speed, Acceleration, CO2emission). So, the  boxplot() method will create separate boxplots for each of these features.\n",
    "\n",
    "`dataframe.boxplot()`\n"
   ]
  },
  {
   "cell_type": "markdown",
   "metadata": {
    "id": "LG5pef-iihGh"
   },
   "source": [
    "\n",
    "**Step 3 - Run the code**\n",
    "\n",
    "Hit ‘control’ and ‘enter’ at the same time to run the code!\n",
    "\n",
    "![](https://pbs.twimg.com/media/GZaEIfEW8AAl4u8?format=png&name=360x360)"
   ]
  },
  {
   "cell_type": "markdown",
   "metadata": {
    "id": "1wPK8vFKihJc"
   },
   "source": [
    "**Your Turn:** Your turn! We’ll use the boxplot to see the variables, median, outliers, and quartiles."
   ]
  },
  {
   "cell_type": "code",
   "execution_count": 14,
   "metadata": {
    "colab": {
     "base_uri": "https://localhost:8080/",
     "height": 447
    },
    "id": "1ejaMxPNixrG",
    "outputId": "bd3bfb00-17cd-4f4b-d232-fab199611af6"
   },
   "outputs": [
    {
     "data": {
      "text/plain": [
       "<Axes: >"
      ]
     },
     "execution_count": 14,
     "metadata": {},
     "output_type": "execute_result"
    },
    {
     "data": {
      "image/png": "[encoded data removed]",
      "text/plain": [
       "<Figure size 640x480 with 1 Axes>"
      ]
     },
     "metadata": {},
     "output_type": "display_data"
    }
   ],
   "source": [
    "dataframe.boxplot()"
   ]
  },
  {
   "cell_type": "markdown",
   "metadata": {
    "id": "w0P2UMLPiy67"
   },
   "source": [
    "**Explanation**: *The boxplot provides a visual representation of the distribution of each variable, showing the median, quartiles, and outliers. It helps identify skewness, outliers, and patterns in the data. In this case, the boxplot would likely show a mix of symmetric and skewed distributions, with some outliers and long tails, particularly for Age of Vehicle and CO2 Emissions*."
   ]
  },
  {
   "cell_type": "markdown",
   "metadata": {
    "id": "cyh6KCWNi2Cf"
   },
   "source": [
    "## Getting a Sample\n"
   ]
  },
  {
   "cell_type": "markdown",
   "metadata": {
    "id": "vNIw_yAOi47J"
   },
   "source": [
    "### Goal 8: Sampling data from a dataset\n",
    "\n",
    "Maybe we just want to look at a smaller part of our dataset. Let’s use 10 as an example. How about we use the sample() method to select a sample of 10 data points from a dataframe, store this sample in a variable, and visualize the sample data?"
   ]
  },
  {
   "cell_type": "markdown",
   "metadata": {},
   "source": [
    "#### Blockly "
   ]
  },
  {
   "cell_type": "markdown",
   "metadata": {
    "id": "1joMBmcmjEe5"
   },
   "source": [
    "\n",
    "**Step 1 - Select the dataframe**\n",
    "\n",
    "To get a sample of the data, we first need to select the data. In this case, our data is a dataframe.\n",
    "\n",
    "From the Variables, get a DO block WITH the **dataframe** variable.\n",
    "\n",
    "\n",
    "\n",
    "\n"
   ]
  },
  {
   "cell_type": "markdown",
   "metadata": {
    "id": "46wGOimpjOdK"
   },
   "source": [
    "\n",
    "**Step 2 - Call the sample method for the dataframe**\n",
    "\n",
    "After selecting the data, we apply the **sample**() method to get a sample of our data. But how many? In this case, we select 10 samples from our data and put them in parentheses.\n",
    "\n",
    "After selecting the data, we select the DO function sample() to get a sample of our data. The number of samples is defined inside the sample() method. From the Math menu, drag a number block (123), change it to 10, and connect it on the Using end of the block. This will give us 10 randomly generated numbers from our bigger dataset.\n"
   ]
  },
  {
   "cell_type": "markdown",
   "metadata": {
    "id": "MpiPVIrojEhJ"
   },
   "source": [
    "\n",
    "**Step 3 - Assign the sample to the variable you created**\n",
    "\n",
    "After creating the sample data, we need to store it in a variable that we can get later on.. So, we store the sample data in a variable **sample**.\n"
   ]
  },
  {
   "cell_type": "markdown",
   "metadata": {
    "id": "eQD3iGRIjEjT"
   },
   "source": [
    "\n",
    "**Step 4 - Display the variable**\n",
    "\n",
    "Let’s see it now by ‘displaying’ and showing our work.\n"
   ]
  },
  {
   "cell_type": "markdown",
   "metadata": {
    "id": "EGB-VMS8jElv"
   },
   "source": [
    "\n",
    "**Step 5 - Connect the blocks to run the code**\n",
    "\n",
    "Connect the blocks and run the code!\n",
    "\n",
    "We view the stored sample data by accessing the variable **sample**.  Drag the sample variable to the workspace. This step is more of a visualization step, allowing us to see the variable content on the screen.\n",
    "\n",
    "![](https://pbs.twimg.com/media/GZaHIhlW4AASmZW?format=png&name=small)"
   ]
  },
  {
   "cell_type": "code",
   "execution_count": 29,
   "metadata": {},
   "outputs": [
    {
     "data": {
      "text/html": [
       "<div>\n",
       "<style scoped>\n",
       "    .dataframe tbody tr th:only-of-type {\n",
       "        vertical-align: middle;\n",
       "    }\n",
       "\n",
       "    .dataframe tbody tr th {\n",
       "        vertical-align: top;\n",
       "    }\n",
       "\n",
       "    .dataframe thead th {\n",
       "        text-align: right;\n",
       "    }\n",
       "</style>\n",
       "<table border=\"1\" class=\"dataframe\">\n",
       "  <thead>\n",
       "    <tr style=\"text-align: right;\">\n",
       "      <th></th>\n",
       "      <th>Engine Size</th>\n",
       "      <th>Age of Vehicle</th>\n",
       "      <th>Speed</th>\n",
       "      <th>Acceleration</th>\n",
       "      <th>CO2Emissions</th>\n",
       "    </tr>\n",
       "  </thead>\n",
       "  <tbody>\n",
       "    <tr>\n",
       "      <th>2213</th>\n",
       "      <td>5.806614</td>\n",
       "      <td>20</td>\n",
       "      <td>76.066967</td>\n",
       "      <td>1.139375</td>\n",
       "      <td>63.349258</td>\n",
       "    </tr>\n",
       "    <tr>\n",
       "      <th>3556</th>\n",
       "      <td>2.222930</td>\n",
       "      <td>23</td>\n",
       "      <td>67.047272</td>\n",
       "      <td>1.394510</td>\n",
       "      <td>320.608407</td>\n",
       "    </tr>\n",
       "    <tr>\n",
       "      <th>3</th>\n",
       "      <td>3.913024</td>\n",
       "      <td>4</td>\n",
       "      <td>18.540217</td>\n",
       "      <td>3.581004</td>\n",
       "      <td>463.568608</td>\n",
       "    </tr>\n",
       "    <tr>\n",
       "      <th>6831</th>\n",
       "      <td>1.262851</td>\n",
       "      <td>27</td>\n",
       "      <td>22.350022</td>\n",
       "      <td>2.464185</td>\n",
       "      <td>223.430841</td>\n",
       "    </tr>\n",
       "    <tr>\n",
       "      <th>2180</th>\n",
       "      <td>2.387616</td>\n",
       "      <td>9</td>\n",
       "      <td>22.312127</td>\n",
       "      <td>1.891250</td>\n",
       "      <td>131.734464</td>\n",
       "    </tr>\n",
       "    <tr>\n",
       "      <th>3163</th>\n",
       "      <td>3.413682</td>\n",
       "      <td>15</td>\n",
       "      <td>47.485544</td>\n",
       "      <td>2.007938</td>\n",
       "      <td>212.631867</td>\n",
       "    </tr>\n",
       "    <tr>\n",
       "      <th>7793</th>\n",
       "      <td>4.191773</td>\n",
       "      <td>16</td>\n",
       "      <td>65.245232</td>\n",
       "      <td>2.849786</td>\n",
       "      <td>313.832563</td>\n",
       "    </tr>\n",
       "    <tr>\n",
       "      <th>1306</th>\n",
       "      <td>4.513252</td>\n",
       "      <td>27</td>\n",
       "      <td>25.090104</td>\n",
       "      <td>4.508050</td>\n",
       "      <td>394.897975</td>\n",
       "    </tr>\n",
       "    <tr>\n",
       "      <th>432</th>\n",
       "      <td>4.014734</td>\n",
       "      <td>0</td>\n",
       "      <td>94.424432</td>\n",
       "      <td>3.492445</td>\n",
       "      <td>311.691401</td>\n",
       "    </tr>\n",
       "    <tr>\n",
       "      <th>9164</th>\n",
       "      <td>5.792062</td>\n",
       "      <td>12</td>\n",
       "      <td>39.143902</td>\n",
       "      <td>4.982098</td>\n",
       "      <td>81.281714</td>\n",
       "    </tr>\n",
       "  </tbody>\n",
       "</table>\n",
       "</div>"
      ],
      "text/plain": [
       "      Engine Size  Age of Vehicle      Speed  Acceleration  CO2Emissions\n",
       "2213     5.806614              20  76.066967      1.139375     63.349258\n",
       "3556     2.222930              23  67.047272      1.394510    320.608407\n",
       "3        3.913024               4  18.540217      3.581004    463.568608\n",
       "6831     1.262851              27  22.350022      2.464185    223.430841\n",
       "2180     2.387616               9  22.312127      1.891250    131.734464\n",
       "3163     3.413682              15  47.485544      2.007938    212.631867\n",
       "7793     4.191773              16  65.245232      2.849786    313.832563\n",
       "1306     4.513252              27  25.090104      4.508050    394.897975\n",
       "432      4.014734               0  94.424432      3.492445    311.691401\n",
       "9164     5.792062              12  39.143902      4.982098     81.281714"
      ]
     },
     "execution_count": 29,
     "metadata": {},
     "output_type": "execute_result"
    }
   ],
   "source": [
    "sample = dataframe.sample(10)\n",
    "\n",
    "sample\n",
    "\n",
    "#<xml xmlns=\"https://developers.google.com/blockly/xml\"><variables><variable id=\"Z+:v*t`[0Bd}KB}nkCxP\">sample</variable><variable id=\"[:-5-Qj.5G=s^b$;A-g6\">dataframe</variable></variables><block type=\"variables_set\" id=\"3zHv)a5hD+!R[[@qMlut\" x=\"16\" y=\"105\"><field name=\"VAR\" id=\"Z+:v*t`[0Bd}KB}nkCxP\">sample</field><value name=\"VALUE\"><block type=\"varDoMethod_Python\" id=\"|twLyN~kdg9jW5u$AHkM\"><mutation items=\"1\"></mutation><field name=\"VAR\" id=\"[:-5-Qj.5G=s^b$;A-g6\">dataframe</field><field name=\"MEMBER\">sample</field><data>dataframe:sample</data><value name=\"ADD0\"><block type=\"math_number\" id=\"~B4*F:HA:oz6E+K0}NU6\"><field name=\"NUM\">10</field></block></value></block></value></block><block type=\"variables_get\" id=\"1BgjKQ5A}QaVh|5jR{E~\" x=\"47\" y=\"198\"><field name=\"VAR\" id=\"Z+:v*t`[0Bd}KB}nkCxP\">sample</field></block></xml>"
   ]
  },
  {
   "cell_type": "markdown",
   "metadata": {},
   "source": [
    "#### Freehand"
   ]
  },
  {
   "cell_type": "markdown",
   "metadata": {},
   "source": [
    "\n",
    "**Step 1 - Select the dataframe**  \n",
    "\n",
    "To get a sample of the data, we first need to select the data. In this case, our data is a dataframe \n",
    "\n",
    "`dataframe`"
   ]
  },
  {
   "cell_type": "markdown",
   "metadata": {},
   "source": [
    "\n",
    "**Step 2 - Call the sample method for the dataframe**  \n",
    "\n",
    "After selecting the data, we apply the sample() method to get a sample of our data. But how many? In this case, we select 10 samples from our data and put them in parentheses.\n",
    "\n",
    "`dataframe.sample(10)`"
   ]
  },
  {
   "cell_type": "markdown",
   "metadata": {},
   "source": [
    "\n",
    "**Step 3 - Assign the sample to the variable you created**\n",
    "\n",
    "After creating the sample data, we need to store it in a variable that we can get later on.. So, we store the sample data in a variable “sample”\n",
    "\n",
    "`sample= dataframe.sample(10)`"
   ]
  },
  {
   "cell_type": "markdown",
   "metadata": {},
   "source": [
    "\n",
    "\n",
    "**Step 4 - View the sample data**\n",
    "Let’s see it now by ‘printing’ and showing our work. \n",
    "\n",
    "We view the stored sample data by accessing the variable ‘sample’."
   ]
  },
  {
   "cell_type": "markdown",
   "metadata": {},
   "source": [
    "\n",
    "\n",
    "**Step 5 - Run the code**\n",
    "\n",
    "Hit ‘control’ and ‘enter’ at the same time to run the code!\n",
    "\n",
    "![](https://pbs.twimg.com/media/GZaHGTlWoAAzWTZ?format=png&name=small)\n",
    " "
   ]
  },
  {
   "cell_type": "markdown",
   "metadata": {
    "id": "cWUdoRyFjEoM"
   },
   "source": [
    "**Your Turn**: We’ve jumped into all our data. What does the smaller sample tell us?\n"
   ]
  },
  {
   "cell_type": "code",
   "execution_count": 16,
   "metadata": {
    "colab": {
     "base_uri": "https://localhost:8080/",
     "height": 363
    },
    "id": "8I_PcdpLjzCY",
    "outputId": "65aa7f3c-d29b-4172-fcba-9bd246acfedd"
   },
   "outputs": [
    {
     "data": {
      "text/html": [
       "<div>\n",
       "<style scoped>\n",
       "    .dataframe tbody tr th:only-of-type {\n",
       "        vertical-align: middle;\n",
       "    }\n",
       "\n",
       "    .dataframe tbody tr th {\n",
       "        vertical-align: top;\n",
       "    }\n",
       "\n",
       "    .dataframe thead th {\n",
       "        text-align: right;\n",
       "    }\n",
       "</style>\n",
       "<table border=\"1\" class=\"dataframe\">\n",
       "  <thead>\n",
       "    <tr style=\"text-align: right;\">\n",
       "      <th></th>\n",
       "      <th>Engine Size</th>\n",
       "      <th>Age of Vehicle</th>\n",
       "      <th>Speed</th>\n",
       "      <th>Acceleration</th>\n",
       "      <th>CO2Emissions</th>\n",
       "    </tr>\n",
       "  </thead>\n",
       "  <tbody>\n",
       "    <tr>\n",
       "      <th>1993</th>\n",
       "      <td>1.503841</td>\n",
       "      <td>21</td>\n",
       "      <td>115.127234</td>\n",
       "      <td>3.809346</td>\n",
       "      <td>202.295836</td>\n",
       "    </tr>\n",
       "    <tr>\n",
       "      <th>6311</th>\n",
       "      <td>3.526125</td>\n",
       "      <td>15</td>\n",
       "      <td>26.437312</td>\n",
       "      <td>3.069740</td>\n",
       "      <td>115.706658</td>\n",
       "    </tr>\n",
       "    <tr>\n",
       "      <th>862</th>\n",
       "      <td>3.526829</td>\n",
       "      <td>29</td>\n",
       "      <td>66.388425</td>\n",
       "      <td>2.782379</td>\n",
       "      <td>356.852088</td>\n",
       "    </tr>\n",
       "    <tr>\n",
       "      <th>5344</th>\n",
       "      <td>5.795881</td>\n",
       "      <td>6</td>\n",
       "      <td>43.102506</td>\n",
       "      <td>3.325938</td>\n",
       "      <td>238.035985</td>\n",
       "    </tr>\n",
       "    <tr>\n",
       "      <th>7502</th>\n",
       "      <td>1.450462</td>\n",
       "      <td>11</td>\n",
       "      <td>2.562350</td>\n",
       "      <td>3.548335</td>\n",
       "      <td>230.900773</td>\n",
       "    </tr>\n",
       "    <tr>\n",
       "      <th>4350</th>\n",
       "      <td>4.878908</td>\n",
       "      <td>7</td>\n",
       "      <td>73.217165</td>\n",
       "      <td>4.766544</td>\n",
       "      <td>200.485120</td>\n",
       "    </tr>\n",
       "    <tr>\n",
       "      <th>8875</th>\n",
       "      <td>1.385021</td>\n",
       "      <td>17</td>\n",
       "      <td>42.202620</td>\n",
       "      <td>4.075362</td>\n",
       "      <td>251.136115</td>\n",
       "    </tr>\n",
       "    <tr>\n",
       "      <th>5748</th>\n",
       "      <td>5.925124</td>\n",
       "      <td>3</td>\n",
       "      <td>59.221936</td>\n",
       "      <td>4.230441</td>\n",
       "      <td>160.761358</td>\n",
       "    </tr>\n",
       "    <tr>\n",
       "      <th>6415</th>\n",
       "      <td>3.008930</td>\n",
       "      <td>26</td>\n",
       "      <td>25.622302</td>\n",
       "      <td>3.851369</td>\n",
       "      <td>381.192210</td>\n",
       "    </tr>\n",
       "    <tr>\n",
       "      <th>1128</th>\n",
       "      <td>2.737980</td>\n",
       "      <td>27</td>\n",
       "      <td>45.242670</td>\n",
       "      <td>0.255589</td>\n",
       "      <td>150.153261</td>\n",
       "    </tr>\n",
       "  </tbody>\n",
       "</table>\n",
       "</div>"
      ],
      "text/plain": [
       "      Engine Size  Age of Vehicle       Speed  Acceleration  CO2Emissions\n",
       "1993     1.503841              21  115.127234      3.809346    202.295836\n",
       "6311     3.526125              15   26.437312      3.069740    115.706658\n",
       "862      3.526829              29   66.388425      2.782379    356.852088\n",
       "5344     5.795881               6   43.102506      3.325938    238.035985\n",
       "7502     1.450462              11    2.562350      3.548335    230.900773\n",
       "4350     4.878908               7   73.217165      4.766544    200.485120\n",
       "8875     1.385021              17   42.202620      4.075362    251.136115\n",
       "5748     5.925124               3   59.221936      4.230441    160.761358\n",
       "6415     3.008930              26   25.622302      3.851369    381.192210\n",
       "1128     2.737980              27   45.242670      0.255589    150.153261"
      ]
     },
     "execution_count": 16,
     "metadata": {},
     "output_type": "execute_result"
    }
   ],
   "source": [
    "sample = dataframe.sample(10)\n",
    "sample"
   ]
  },
  {
   "cell_type": "markdown",
   "metadata": {
    "id": "EdOnwi9jjEqp"
   },
   "source": [
    "**Explanation**: *The sample variable contains a random subset of 10 rows from the original dataframe, providing a small, representative sample of the data*."
   ]
  },
  {
   "cell_type": "markdown",
   "metadata": {
    "id": "-E65-NdnkDY9"
   },
   "source": [
    "### Goal 9: Find the sample mean.\n",
    "\n",
    "Remember we looked at the mean for everything earlier? What if we want to get the average for the smaller set that we just got?"
   ]
  },
  {
   "cell_type": "markdown",
   "metadata": {
    "id": "6jOTaRtekF0C"
   },
   "source": [
    "#### Blockly"
   ]
  },
  {
   "cell_type": "markdown",
   "metadata": {
    "id": "bWN30-tVkItQ"
   },
   "source": [
    "**Step 1 - Saying what data to use for the mean**\n",
    "\n",
    "To calculate the mean, we first need to select the numeric data to calculate the mean. In this case, our data is the whole data **sample**.\n",
    "\n",
    "From the \"VARIABLES\" menu, drag a DO block WITH **sample** variable.  First, we need to select the numeric data to calculate the mean.  In this case, our data is the whole data “dataframe”.  \n"
   ]
  },
  {
   "cell_type": "markdown",
   "metadata": {
    "id": "-QGQsPZskM9E"
   },
   "source": [
    "\n",
    "**Step 2 - Call the mean method for the dataframe **\n",
    "\n",
    "In the next step, we apply the **mean**() method to calculate the mean of all the numeric columns in our dataframe.\n"
   ]
  },
  {
   "cell_type": "markdown",
   "metadata": {
    "id": "n7W6sn9dkPno"
   },
   "source": [
    "\n",
    "**Step 3 - Connect the blocks to run the code**\n",
    "\n",
    "Connect the blocks and run the code!\n",
    "\n",
    "![](https://pbs.twimg.com/media/GZaHxPrWIAAEo1D?format=png&name=240x240)"
   ]
  },
  {
   "cell_type": "code",
   "execution_count": 30,
   "metadata": {},
   "outputs": [
    {
     "data": {
      "text/plain": [
       "Engine Size         3.751854\n",
       "Age of Vehicle     15.300000\n",
       "Speed              47.770582\n",
       "Acceleration        2.831064\n",
       "CO2Emissions      251.702710\n",
       "dtype: float64"
      ]
     },
     "execution_count": 30,
     "metadata": {},
     "output_type": "execute_result"
    }
   ],
   "source": [
    "sample.mean()\n",
    "\n",
    "#<xml xmlns=\"https://developers.google.com/blockly/xml\"><variables><variable id=\"Z+:v*t`[0Bd}KB}nkCxP\">sample</variable></variables><block type=\"varDoMethod_Python\" id=\"W1a=]27@[zd`e#o3w?FZ\" x=\"40\" y=\"181\"><mutation items=\"1\"></mutation><field name=\"VAR\" id=\"Z+:v*t`[0Bd}KB}nkCxP\">sample</field><field name=\"MEMBER\">mean</field><data>sample:mean</data></block></xml>"
   ]
  },
  {
   "cell_type": "markdown",
   "metadata": {
    "id": "umMCo8zukVaU"
   },
   "source": [
    "#### Freehand"
   ]
  },
  {
   "cell_type": "markdown",
   "metadata": {
    "id": "K-VI3ZP-kW_d"
   },
   "source": [
    "**Step 1 - Select the data you want to use**\n",
    "\n",
    "To calculate the mean, we first need to select the numeric data to calculate the mean. In this case, our data is the whole data we put into **sample**.\n",
    "\n",
    "`sample`"
   ]
  },
  {
   "cell_type": "markdown",
   "metadata": {
    "id": "OivzXt2LkXCG"
   },
   "source": [
    "\n",
    "**Step 2 - Call the mean method for the dataframe**\n",
    "\n",
    "In the next step, we apply the **mean**() method to calculate the mean of all the numeric columns in our dataframe.\n",
    "\n",
    "`sample.mean()`\n"
   ]
  },
  {
   "cell_type": "markdown",
   "metadata": {
    "id": "kFu3xLY9kXE2"
   },
   "source": [
    "\n",
    "**Step 3 - Run the code**\n",
    "\n",
    "Hit ‘control’ and ‘enter’ at the same time to run the code!\n",
    "\n",
    "![](https://pbs.twimg.com/media/GZaHzQ6XQAEyPOb?format=png&name=360x360)"
   ]
  },
  {
   "cell_type": "markdown",
   "metadata": {
    "id": "m9cCgMaVkXHc"
   },
   "source": [
    "**Your Turn**: Your turn! We will use this function to find the average of the sample data.\n"
   ]
  },
  {
   "cell_type": "code",
   "execution_count": 18,
   "metadata": {
    "colab": {
     "base_uri": "https://localhost:8080/",
     "height": 241
    },
    "id": "RHJJnx9nksAo",
    "outputId": "ec259ad8-5a27-4751-8bed-c0b688eee07b"
   },
   "outputs": [
    {
     "data": {
      "text/plain": [
       "Engine Size         3.373910\n",
       "Age of Vehicle     16.200000\n",
       "Speed              49.912452\n",
       "Acceleration        3.371504\n",
       "CO2Emissions      228.751940\n",
       "dtype: float64"
      ]
     },
     "execution_count": 18,
     "metadata": {},
     "output_type": "execute_result"
    }
   ],
   "source": [
    "sample.mean()"
   ]
  },
  {
   "cell_type": "markdown",
   "metadata": {
    "id": "Ggw84VxJkXKM"
   },
   "source": [
    "**Explanation**: *The sample.mean() calculation returns the mean values for each column in the random sample of 10 rows, which are slightly different from the original mean values due to the random selection of rows*."
   ]
  },
  {
   "cell_type": "markdown",
   "metadata": {
    "id": "hUFAOZ6GkzAk"
   },
   "source": [
    "## WHAT DID YOU LEARN?\n"
   ]
  },
  {
   "cell_type": "markdown",
   "metadata": {
    "id": "bjpcWpKAkzc1"
   },
   "source": [
    "In this lesson, we've explored different measures of data using Python’s pandas like finding the [central tendencies](## \"most commonly used to describe data are mean, median, and mode\") like average ([mean](## \"the numerical average of the variables\")), the middle number ([median](## \"the number in the middle of the data\")), or the most common number ([mode](## \"the value in the data that shows up the most\")). We also thought about the [measures of dispersion](## \"how the data are spread out around a center value\") of our data, which is a measure of how spread out the numbers in a data set are.\n",
    "\n",
    "We also thought about how much data to look at. So we looked at the concept of [sampling](## \"involves selecting a subset of individuals or observations from a larger population to estimate and make inferences about that population\"), which looks at a smaller small portion of a larger group. Just like Diego, we put these concepts into practice, we've worked with a real-world data set about cars and pollution in a city.\n"
   ]
  },
  {
   "cell_type": "markdown",
   "metadata": {
    "id": "b0hn2-Kokzfa"
   },
   "source": [
    "## WHAT’S NEXT?\n"
   ]
  },
  {
   "cell_type": "markdown",
   "metadata": {
    "id": "gMz6GpErk4-q"
   },
   "source": [
    "[Measures of Association](Measures_of_Association.ipynb)\n"
   ]
  },
  {
   "cell_type": "markdown",
   "metadata": {
    "id": "WvBWY3Q8k-w6"
   },
   "source": [
    "## TELL ME MORE\n"
   ]
  },
  {
   "cell_type": "markdown",
   "metadata": {
    "id": "G70YQ_mhk-y3"
   },
   "source": [
    "\n",
    "- [Datawhys Descriptives Notebook](https://github.com/memphis-iis/datawhys-content-notebooks-python/blob/master/Descriptive-statistics.ipynb)\n",
    "- [Datawhys Descriptives Problem-Solving Notebook](https://github.com/memphis-iis/datawhys-content-notebooks-python/blob/master/Descriptive-statistics-PS.ipynb)\n",
    "- [Exploratory Data Analysis (EDA) Using Python Data Analysis](https://www.youtube.com/watch?v=-o3AxdVcUtQ&pp=ygU-RXhwbG9yYXRvcnkgRGF0YSBBbmFseXNpcyAoRURBKSBVc2luZyBQeXRob24iIGJ5IFRlY2ggV2l0aCBUaW0%3D) - Edureka (video)"
   ]
  }
 ],
 "metadata": {
  "colab": {
   "provenance": []
  },
  "kernelspec": {
   "display_name": "Python 3 (ipykernel)",
   "language": "python",
   "name": "python3"
  },
  "language_info": {
   "codemirror_mode": {
    "name": "ipython",
    "version": 3
   },
   "file_extension": ".py",
   "mimetype": "text/x-python",
   "name": "python",
   "nbconvert_exporter": "python",
   "pygments_lexer": "ipython3",
   "version": "3.10.6"
  }
 },
 "nbformat": 4,
 "nbformat_minor": 4
}
