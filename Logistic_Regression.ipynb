{
 "cells": [
  {
   "cell_type": "markdown",
      "metadata": {
      "deletable": false,
      "editable": false,
    "id": "ennI2Z0KgXTo"
   },
   "source": [
    "# Logistic Regression"
   ]
  },
  {
   "cell_type": "markdown",
      "metadata": {
      "deletable": false,
      "editable": false,
    "id": "xfZCPORbgYnw"
   },
   "source": [
    "## ANTICIPATED TIME\n"
   ]
  },
  {
   "cell_type": "markdown",
      "metadata": {
      "deletable": false,
      "editable": false,
    "id": "67lWuVEegbPO"
   },
   "source": [
    "2 hours"
   ]
  },
  {
   "cell_type": "markdown",
      "metadata": {
      "deletable": false,
      "editable": false,
    "id": "2J5oGXuJgbRv"
   },
   "source": [
    "## BEFORE YOU BEGIN\n"
   ]
  },
  {
   "cell_type": "markdown",
      "metadata": {
      "deletable": false,
      "editable": false,
    "id": "lsTjSaxLgbUE"
   },
   "source": [
    "[Multiple Linear Regression](Multiple_Linear_Regression.ipynb)"
   ]
  },
  {
   "cell_type": "markdown",
      "metadata": {
      "deletable": false,
      "editable": false,
    "id": "rokUf_AZgbWX"
   },
   "source": [
    "## WHAT YOU WILL LEARN"
   ]
  },
  {
   "cell_type": "markdown",
      "metadata": {
      "deletable": false,
      "editable": false,
    "id": "Zwd6Yk19gbfN"
   },
   "source": [
    "- What is the difference between binary and multiclass logistic regression?\n",
    "- How to use logistic regression for classification?\n",
    "- How to interpret logistic regression coefficients?\n",
    "- How to evaluate classification performance?\n"
   ]
  },
  {
   "cell_type": "markdown",
      "metadata": {
      "deletable": false,
      "editable": false,
    "id": "ZFprWupZgpB2"
   },
   "source": [
    "## DEFINITIONS YOU’LL NEED TO KNOW\n"
   ]
  },
  {
   "cell_type": "markdown",
      "metadata": {
      "deletable": false,
      "editable": false,
    "id": "YP5CCQBIgv5W"
   },
   "source": [
    "- Regression - a model used to predict a number\n",
    "- Logistic regression - a method used to predict or classify things into different groups based on data.\n",
    "- Predictors - a variable that is used to predict the values of a dependent/response variable\n",
    "- Response - the number you are trying to predict\n",
    "- Classification - grouping things into categories.\n",
    "Recall - the ratio of true positives to total number of actual positives.\n",
    "- Precision - measures how many of the samples the model labeled as contaminated were actually contaminated, essentially showing the accuracy of its positive predictions.\n",
    "- Probability - a chance of something happening.\n",
    "- Cost-sensitive classification - the idea that some mistakes are worse than others\n",
    "- Threshold - cut-off point to make a decision.\n",
    "- Odds - a measure of the probability of an outcome happening.\n",
    "- Performance evaluation -  checking to see how well logistic regression works, and is done in the same way as other data sorting methods.\n",
    "- Coefficient - a number that displays how much a predictor variable affects a prediction.\n",
    "- Binary Logistic Regression - where only two possible outcomes are predicted such as true or false.\n",
    "- Multiclass Logistic Regression - used when there are more than two categories to classify into.\n"
   ]
  },
  {
   "cell_type": "markdown",
      "metadata": {
      "deletable": false,
      "editable": false,
    "id": "tR48XgB0g6Mv"
   },
   "source": [
    "## SCENARIO:"
   ]
  },
  {
   "cell_type": "markdown",
      "metadata": {
      "deletable": false,
      "editable": false,
    "deletable": false,
    "editable": false,
    "html": "<iframe class='metadata-html' width='560' height='315' src='https://video.olney.ai/10-logr.mp4' title='YouTube video player' frameborder='0' allow='accelerometer; autoplay; clipboard-write; encrypted-media; gyroscope; picture-in-picture; web-share' referrerpolicy='strict-origin-when-cross-origin' allowfullscreen></iframe>",
    "id": "npqY6ZiSbavX",
    "slideshow": {
     "slide_type": ""
    },
    "tags": []
   },
   "source": [
    "\n",
    "\n",
    "Aziz knows that the group will learn a lot by using simple linear regression and multiple linear regression to make predictions. He also knows sometimes it’s good to make predictions based on categories as well as numbers. As he looks at his data, there are so many different categories that the group could look at, like: type of vehicle, age of vehicle, types of public transportation, and so much more. To think about how they can use categories to predict different outcomes, he will introduce Logistic Regression to the group. As they understand what logistic regression means, he realizes it will help the group think of the problem and solutions to the problem in new ways.\n"
   ]
  },
  {
   "cell_type": "markdown",
      "metadata": {
      "deletable": false,
      "editable": false,
    "id": "Ikyb6MxchIvN"
   },
   "source": [
    "## WHAT DO I NEED TO KNOW\n"
   ]
  },
  {
   "cell_type": "markdown",
      "metadata": {
      "deletable": false,
      "editable": false,
    "id": "wJJx_lBxhNnr"
   },
   "source": [
    "\n",
    "\n",
    "In the last few notebooks, we’ve been looking at ways to predict numbers.\n",
    "\n",
    "But what happens if you want to predict a category? Like if a student will get a certain grade (pass/fail…..or….A, B, C, D, F) based on different data (i.e., - how often they attend school, hours of study, number of after school clubs). You’re in luck because **logistic regression** predicts the chance (probability) for a specific category based on the data we look at.\n",
    "\n",
    "You probably already noticed \"regression\" in the name \"logistic regression.\" That's because logistic regression is a type of regression - it's very similar to linear regression. There are two differences, however. The first difference is what we are predicting. This is sometimes called **binary logistic regression** because there are two choices (binary). This is where there’s only two possible outcomes such as ‘pass’ or ‘fail’. Or if we are thinking about sports, whether a team will ‘win’ or ‘lose’. Or 0 or 1.\n",
    "\n",
    "But sometimes **multiclass logistic regression** is used when there are more than two categories, such as student’s grades “pass”, “fail”, or “incomplete”. In the sports example, maybe we can ‘win, ‘lose’, or ‘tie’.\n",
    "\n",
    "The other difference is what the **coefficients** mean. For logistic regression, the coefficients have a meaning close to probability.\n"
   ]
  },
  {
   "cell_type": "markdown",
      "metadata": {
      "deletable": false,
      "editable": false,
    "id": "UgZNBxDNhYch"
   },
   "source": [
    "**How can we think about the Coefficients in Logistic Regression?**\n",
    "\n",
    "To understand logistic regression better, it’s good to think of it as simple or multiple linear regression because it helps us with prediction. However, logistic regression uses the log function - that's where logistic regression gets its name!\n",
    "\n",
    "You might be more familiar with probabilities than odds, but you have likely seen odds frequently--especially in sports. For example:\n",
    "\n",
    "1 to 1 means even odds\n",
    "2 to 1 means twice as likely\n",
    "4 to 1 means four times as likely\n",
    "and so on\n",
    "\n",
    "With linear regression, the predicted value can be really big, even negative. With logistic regression, the predicted value is even easier because it is just between 0 and 1. This is done using the log function, and the coefficients are interpreted as \"log odds\".\n",
    "\n",
    "Each coefficient tells us how much log odds change when the predictor changes by one unit.  Log odds compare the chance of one result happening instead of another. When a log odds coefficient is changed to odds, a coefficient of 1.5 means the positive outcome is 1.5 times more likely with a one-unit increase in the variable.\n",
    "\n",
    "When you sum up the odds of each coefficient and predictor, the model outputs a log-odds score, which we can also think of as a probability. To convert this into a classification (either 0 or 1), we need to use a **threshold**. Typically we use a threshold of .5, so any prediction above .5 is considered 1, and any prediction below .5 is considered 0.\n",
    "\n",
    "Once we've interpreted the model output as a 1 or 0, we can measure performance using precision, recall, and f-measure (the confusion matrix), as we discussed in the [KNN Classification notebook](KNN_Classification.ipynb)."
   ]
  },
  {
   "cell_type": "markdown",
      "metadata": {
      "deletable": false,
      "editable": false,
    "id": "inEMoz6Shuc0"
   },
   "source": [
    "## YOUR TURN"
   ]
  },
  {
   "cell_type": "markdown",
      "metadata": {
      "deletable": false,
      "editable": false,
    "id": "bZf_7OARhy0l"
   },
   "source": [
    "\n",
    "### Goal 1: Importing the pandas library\n",
    "\n",
    "Need extra tools to help solve this problem? Well, we can bring in extra ‘libraries’ to help us do extra data science stuff. You can think of it as an ‘add-on’. In this case, we bring in pandas, which is a popular library for doing data science stuff.  "
   ]
  },
  {
   "cell_type": "markdown",
      "metadata": {
      "deletable": false,
      "editable": false,
    "id": "Os7ugxOMh1VL",
    "jp-MarkdownHeadingCollapsed": true
   },
   "source": [
    "#### Blockly"
   ]
  },
  {
   "cell_type": "markdown",
      "metadata": {
      "deletable": false,
      "editable": false,
    "id": "gERJydNhh2_S"
   },
   "source": [
    "**Step 1 - Starting the import**\n",
    "\n",
    "First, we need to set up a “command” to tell the computer what to do. In this case, “command” is to “import” to bring the add-on package in.\n",
    "\n",
    "Bring in the IMPORT menu, which can be helpful to bring in other data tools. In this case, we're bringing in the **import** block.\n"
   ]
  },
  {
   "cell_type": "markdown",
      "metadata": {
      "deletable": false,
      "editable": false,
    "id": "q9XCWL8biBX9"
   },
   "source": [
    "\n",
    "**Step 2 - Telling what library to import**\n",
    "\n",
    "In the text area, we type the name of the library we want to import. A library is like an extra thing we bring in to give us more coding abilities. In our case, we will type out **pandas**, which will bring in some cool data manipulation features.\n"
   ]
  },
  {
   "cell_type": "markdown",
      "metadata": {
      "deletable": false,
      "editable": false,
    "id": "OlNR2QDoiCTJ"
   },
   "source": [
    "\n",
    "**Step 3 - Renaming the library so it’s easy to remember**\n",
    "\n",
    "Once you are done, put the **import** and **package** together in a single variable. This handy feature helps cut down on all the typing later on. You can call it whatever is easiest for you to remember. In the example below, we’ve put everything into **pd**, and we type it in the open area."
   ]
  },
  {
   "cell_type": "markdown",
      "metadata": {
      "deletable": false,
      "editable": false,
    "id": "7ILEAymkiDIk"
   },
   "source": [
    "\n",
    "**Step 4 - Connect the blocks to run the code**\n",
    "\n",
    "Connect the blocks and run the code!\n",
    "\t\n",
    "<details>\n",
    "    <summary>Click to see the answer...</summary>\n",
    "\n",
    "![](https://pbs.twimg.com/media/GcxNkjYXkAAlpKD?format=png&name=240x240)\n",
    "</details>"
   ]
  },
  {
   "cell_type": "code",
   "execution_count": 1,
   "metadata": {},
   "outputs": [],
   "source": [
    "#blocks code\n"
   ]
  },
  {
   "cell_type": "markdown",
      "metadata": {
      "deletable": false,
      "editable": false,
    "id": "488UOYwy3IWe",
    "jp-MarkdownHeadingCollapsed": true
   },
   "source": [
    "#### Freehands"
   ]
  },
  {
   "cell_type": "markdown",
      "metadata": {
      "deletable": false,
      "editable": false,
    "id": "k97M1lzy3LDo"
   },
   "source": [
    "**Step 1 - Starting the import**\n",
    "\n",
    "First, we need to set up a “command” to tell the computer what to do. In this case, “command” is to “import” to bring the add-on package in."
   ]
  },
  {
   "cell_type": "markdown",
      "metadata": {
      "deletable": false,
      "editable": false,
    "id": "DjuYrrsW3cHj"
   },
   "source": [
    "\n",
    "**Step 2 - Telling what library to import**\n",
    "\n",
    "In the text area, we type the name of the library we want to import. A library is like an extra thing we bring in to give us more coding abilities. In our case, we will type out **pandas**, which will bring in some cool data manipulation features."
   ]
  },
  {
   "cell_type": "markdown",
      "metadata": {
      "deletable": false,
      "editable": false,
    "id": "hz9FybAO3der"
   },
   "source": [
    "\n",
    "**Step 3 - Renaming the library so it’s easy to remember**\n",
    "\n",
    "Once you are done, put the ‘import’ and ‘package’ together in a single variable. This handy feature helps cut down on all the typing later on. Feel free to use whatever name you want that will help you remember it later on. In the example below, we’ve put everything into **pd**."
   ]
  },
  {
   "cell_type": "markdown",
      "metadata": {
      "deletable": false,
      "editable": false,
    "id": "8SxDM0li3egW"
   },
   "source": [
    "\n",
    "**Step 4 - Run the code**\n",
    "\n",
    "Hit ‘control’ and ‘enter’ at the same time to run the code!\n",
    "\t\n",
    "<details>\n",
    "    <summary>Click to see the answer...</summary>\n",
    "\n",
    "![](https://pbs.twimg.com/media/GZmkVCYWEA4oGso?format=jpg&name=small)\n",
    "</details>"
   ]
  },
  {
   "cell_type": "markdown",
      "metadata": {
      "deletable": false,
      "editable": false,
    "id": "Az6nN_vX3rXG"
   },
   "source": [
    "**Your Turn**: Now it’s your turn! We’re going to dive into the pandas package, which helps us with some really cool data science things. First, let’s import the package and assign it to the variable “pd” to make it easier to use throughout our notebook.\n",
    "\n"
   ]
  },
  {
   "cell_type": "code",
   "execution_count": 3,
   "metadata": {
    "id": "f_AXxneW3x8E"
   },
   "outputs": [],
   "source": [
    "#freehand code \n"
   ]
  },
  {
   "cell_type": "markdown",
      "metadata": {
      "deletable": false,
      "editable": false,
    "id": "MB187Ctn31in"
   },
   "source": [
    "**Explanation**: *Congrats!  Your attempts finally made it!  Now you have successfully imported the \"pandas\" package as the variable \"pd\"*."
   ]
  },
  {
   "cell_type": "markdown",
      "metadata": {
      "deletable": false,
      "editable": false,
    "id": "Jv6bpyXu33NY"
   },
   "source": [
    "### Goal 2: Bringing in the dataframe\n",
    "\n",
    "Load data into a dataframe in Python, use the pd.read_csv command to read a CSV file, and store it in a variable for easy data manipulation and analysis."
   ]
  },
  {
   "cell_type": "markdown",
      "metadata": {
      "deletable": false,
      "editable": false,
    "id": "NJgwJM8V4C1S",
    "jp-MarkdownHeadingCollapsed": true
   },
   "source": [
    "#### Blockly"
   ]
  },
  {
   "cell_type": "markdown",
      "metadata": {
      "deletable": false,
      "editable": false,
    "id": "AKOaBvsG4IaI"
   },
   "source": [
    "\n",
    "**Step 1 - Write out the variable name you want to use**\n",
    "\n",
    "Now that we’re all set with our new package to help us to do cool things, let’s bring the data into a variable called **train**.\n",
    "\n",
    "In Blockly, bring in the VARIABLES menu.\n"
   ]
  },
  {
   "cell_type": "markdown",
      "metadata": {
      "deletable": false,
      "editable": false,
    "id": "9fSLIqKG4K11"
   },
   "source": [
    "\n",
    "**Step 2 - Assign the dataframe to the variable you created**\n",
    "\n",
    "Just like we did before, let’s type out a variable name. Rather than type out the full file name for our data, this easy to remember name will hold the data we bring in.\n",
    "\n",
    "In Blockly, go to the Variables and drag the Set block for the **train** variable. This will allow us to assign the result of a function call to the variable. A function is basically code that does a specific task for us.\n"
   ]
  },
  {
   "cell_type": "markdown",
      "metadata": {
      "deletable": false,
      "editable": false,
    "id": "-ZBGj_da4Mcl"
   },
   "source": [
    "\n",
    "**Step 3 - Bring in the data**\n",
    "\n",
    "Now we need to look at the file that has all our data. To load our dataframe, we’ll use a simple command to bring in the file we need (CSV….Comma Separated Values). Let’s say we have a file called “datasets/AirQualityTrain.csv\" in the folder **‘datasets’**. We’re telling Python to read the CSV file and store it in a variable called **dataframe**.\n",
    "\n",
    "From the Variable menu, drag a DO block using the **pd** variable, go ahead with the do operation **read_csv**. The read_csv function reads a CSV file and returns a DataFrame object.\n",
    "\n",
    "In our case, let’s bring in the “datasets/AirQualityTrain.csv\" (use the Quotes from the TEXT menu) because that is what Angelina is working with.\n"
   ]
  },
  {
   "cell_type": "markdown",
      "metadata": {
      "deletable": false,
      "editable": false,
    "id": "tEKi6_I14N0o"
   },
   "source": [
    "\n",
    "**Step 4: Print the variable**\n",
    "\n",
    "Let’s see it now by ‘printing’ and showing our work.\n",
    "\n",
    "Drag the **train** variable to the workspace, making it available for further use in our program. This step is more of a visualization step, as it allows us to see the variable in the Blockly workspace.\n"
   ]
  },
  {
   "cell_type": "markdown",
      "metadata": {
      "deletable": false,
      "editable": false,
    "id": "vkIXRvz94QFt"
   },
   "source": [
    "\n",
    "**Step 5 - Connect the blocks to run the code**\n",
    "\n",
    "Connect the blocks and run the code!\n",
    "\t\n",
    "<details>\n",
    "    <summary>Click to see the answer...</summary>\n",
    "\n",
    "![](https://pbs.twimg.com/media/GaQOYi_WsAAG6u8?format=png&name=small)\n",
    "</details>"
   ]
  },
  {
   "cell_type": "code",
   "execution_count": null,
   "metadata": {},
   "outputs": [],
   "source": [
    "#blocks code\n"
   ]
  },
  {
   "cell_type": "markdown",
      "metadata": {
      "deletable": false,
      "editable": false,
    "id": "DXU3Bfg64onu",
    "jp-MarkdownHeadingCollapsed": true
   },
   "source": [
    "#### Freehand"
   ]
  },
  {
   "cell_type": "markdown",
      "metadata": {
      "deletable": false,
      "editable": false,
    "id": "scyuTBnw4vJ-"
   },
   "source": [
    "\n",
    "**Step 1 - Write out the variable name you want to use**\n",
    "\n",
    "Now that we’re all set with our new package to help us do cool things, let’s bring the data into a variable called **train**. Think of it as a digital spreadsheet with much more power to analyze and manipulate the data!\n",
    "\n",
    "Just like we did before, let’s type out a variable name. Rather than type out the full file name for our data, this easy to remember name will hold the data we bring in.\n"
   ]
  },
  {
   "cell_type": "markdown",
      "metadata": {
      "deletable": false,
      "editable": false,
    "id": "LEXABVlH4wo-"
   },
   "source": [
    "\n",
    "**Step 2 - Bring in the data**\n",
    "\n",
    "Now we need to look at the file that has all our data.\n",
    "\n",
    "To load our dataframe, we’ll use a simple command to bring in the file we need (CSV….Comma Separated Values). Let’s say we have a file called ‘VehicleEmissions.csv' in the folder **‘datasets’**. We’re telling Python to read the CSV file and store it in a variable called **train**. For this function, we need to specify the code as train = pd.read_csv(“datasets/AirQualityTrain.csv”)\n",
    ", which makes the code read the csv file. This variable is now our dataframe!\n",
    "\n",
    "In our case, let’s bring in the train = pd.read_csv(“datasets/AirQualityTrain.csv”)\n",
    " (user the Quotes from the TEXT menu) because that is what Kiana is working with.\n"
   ]
  },
  {
   "cell_type": "markdown",
      "metadata": {
      "deletable": false,
      "editable": false,
    "id": "xMKVQbO94x-J"
   },
   "source": [
    "\n",
    "**Step 3 - Assign the dataframe to the variable you created**\n",
    "\n",
    "Just like we did before, let’s type out a variable name. Rather than type out the full file name for our data, this easy to remember name will hold the data we bring in.\n"
   ]
  },
  {
   "cell_type": "markdown",
      "metadata": {
      "deletable": false,
      "editable": false,
    "id": "Y1uK6RCh4ysj"
   },
   "source": [
    "\n",
    "**Step 4 - Print the variable**\n",
    "\n",
    "Let’s see it now by ‘printing’ and showing our work.\n"
   ]
  },
  {
   "cell_type": "markdown",
      "metadata": {
      "deletable": false,
      "editable": false,
    "id": "-Y_qkG5L4zbC"
   },
   "source": [
    "\n",
    "**Step 5 - Run the code**\n",
    "\n",
    "Hit ‘control’ and ‘enter’ at the same time to run the code!\n",
    "\t\n",
    "<details>\n",
    "    <summary>Click to see the answer...</summary>\n",
    "\n",
    "![](https://pbs.twimg.com/media/GZjdif6W0AYKevK?format=png&name=small)\n",
    "</details>"
   ]
  },
  {
   "cell_type": "markdown",
      "metadata": {
      "deletable": false,
      "editable": false,
    "id": "XuMmlsX55Jfx"
   },
   "source": [
    "\n",
    "**Your Turn**: Now it’s your turn!  Let’s dive in and start working with the data!  We’ll begin by loading it into a dataframe, which will allow us to easily interact with and analyze the dataset.\n"
   ]
  },
  {
   "cell_type": "code",
   "execution_count": 4,
   "metadata": {
    "colab": {
     "base_uri": "https://localhost:8080/",
     "height": 423
    },
    "id": "Y8l25oVd5Mse",
    "outputId": "530afb24-f6bf-416b-d968-6dd2fce9910d"
   },
   "outputs": [
    {
     "data": {
      "application/vnd.google.colaboratory.intrinsic+json": {
       "summary": "{\n  \"name\": \"train\",\n  \"rows\": 1291,\n  \"fields\": [\n    {\n      \"column\": \"Contaminated\",\n      \"properties\": {\n        \"dtype\": \"number\",\n        \"std\": 0,\n        \"min\": 0,\n        \"max\": 1,\n        \"num_unique_values\": 2,\n        \"samples\": [\n          0,\n          1\n        ],\n        \"semantic_type\": \"\",\n        \"description\": \"\"\n      }\n    },\n    {\n      \"column\": \"Methane\",\n      \"properties\": {\n        \"dtype\": \"number\",\n        \"std\": 192,\n        \"min\": 263,\n        \"max\": 1266,\n        \"num_unique_values\": 570,\n        \"samples\": [\n          346,\n          386\n        ],\n        \"semantic_type\": \"\",\n        \"description\": \"\"\n      }\n    },\n    {\n      \"column\": \"NOxEmissions\",\n      \"properties\": {\n        \"dtype\": \"number\",\n        \"std\": 173,\n        \"min\": 346,\n        \"max\": 1388,\n        \"num_unique_values\": 545,\n        \"samples\": [\n          452,\n          467\n        ],\n        \"semantic_type\": \"\",\n        \"description\": \"\"\n      }\n    },\n    {\n      \"column\": \"PM2.5Emissions\",\n      \"properties\": {\n        \"dtype\": \"number\",\n        \"std\": 210,\n        \"min\": 753,\n        \"max\": 1738,\n        \"num_unique_values\": 630,\n        \"samples\": [\n          1516,\n          1244\n        ],\n        \"semantic_type\": \"\",\n        \"description\": \"\"\n      }\n    },\n    {\n      \"column\": \"VOCEmissions\",\n      \"properties\": {\n        \"dtype\": \"number\",\n        \"std\": 118,\n        \"min\": 1323,\n        \"max\": 1926,\n        \"num_unique_values\": 420,\n        \"samples\": [\n          1562,\n          1431\n        ],\n        \"semantic_type\": \"\",\n        \"description\": \"\"\n      }\n    },\n    {\n      \"column\": \"SO2Emissions\",\n      \"properties\": {\n        \"dtype\": \"number\",\n        \"std\": 280,\n        \"min\": 773,\n        \"max\": 1930,\n        \"num_unique_values\": 729,\n        \"samples\": [\n          1707,\n          1520\n        ],\n        \"semantic_type\": \"\",\n        \"description\": \"\"\n      }\n    },\n    {\n      \"column\": \"CO2Emissions\",\n      \"properties\": {\n        \"dtype\": \"number\",\n        \"std\": 181,\n        \"min\": 1814,\n        \"max\": 2703,\n        \"num_unique_values\": 572,\n        \"samples\": [\n          1865,\n          2317\n        ],\n        \"semantic_type\": \"\",\n        \"description\": \"\"\n      }\n    }\n  ]\n}",
       "type": "dataframe",
       "variable_name": "train"
      },
      "text/html": [
       "\n",
       "  <div id=\"df-46c5141e-3219-4ffa-8fe3-d2e31f228dfd\" class=\"colab-df-container\">\n",
       "    <div>\n",
       "<style scoped>\n",
       "    .dataframe tbody tr th:only-of-type {\n",
       "        vertical-align: middle;\n",
       "    }\n",
       "\n",
       "    .dataframe tbody tr th {\n",
       "        vertical-align: top;\n",
       "    }\n",
       "\n",
       "    .dataframe thead th {\n",
       "        text-align: right;\n",
       "    }\n",
       "</style>\n",
       "<table border=\"1\" class=\"dataframe\">\n",
       "  <thead>\n",
       "    <tr style=\"text-align: right;\">\n",
       "      <th></th>\n",
       "      <th>Contaminated</th>\n",
       "      <th>Methane</th>\n",
       "      <th>NOxEmissions</th>\n",
       "      <th>PM2.5Emissions</th>\n",
       "      <th>VOCEmissions</th>\n",
       "      <th>SO2Emissions</th>\n",
       "      <th>CO2Emissions</th>\n",
       "    </tr>\n",
       "  </thead>\n",
       "  <tbody>\n",
       "    <tr>\n",
       "      <th>0</th>\n",
       "      <td>1</td>\n",
       "      <td>848</td>\n",
       "      <td>960</td>\n",
       "      <td>1367</td>\n",
       "      <td>1784</td>\n",
       "      <td>1745</td>\n",
       "      <td>2445</td>\n",
       "    </tr>\n",
       "    <tr>\n",
       "      <th>1</th>\n",
       "      <td>1</td>\n",
       "      <td>1063</td>\n",
       "      <td>968</td>\n",
       "      <td>1627</td>\n",
       "      <td>1736</td>\n",
       "      <td>1785</td>\n",
       "      <td>1888</td>\n",
       "    </tr>\n",
       "    <tr>\n",
       "      <th>2</th>\n",
       "      <td>1</td>\n",
       "      <td>771</td>\n",
       "      <td>765</td>\n",
       "      <td>1391</td>\n",
       "      <td>1692</td>\n",
       "      <td>1523</td>\n",
       "      <td>2106</td>\n",
       "    </tr>\n",
       "    <tr>\n",
       "      <th>3</th>\n",
       "      <td>1</td>\n",
       "      <td>536</td>\n",
       "      <td>624</td>\n",
       "      <td>1224</td>\n",
       "      <td>1594</td>\n",
       "      <td>1171</td>\n",
       "      <td>2158</td>\n",
       "    </tr>\n",
       "    <tr>\n",
       "      <th>4</th>\n",
       "      <td>1</td>\n",
       "      <td>782</td>\n",
       "      <td>789</td>\n",
       "      <td>1333</td>\n",
       "      <td>1732</td>\n",
       "      <td>1529</td>\n",
       "      <td>2213</td>\n",
       "    </tr>\n",
       "    <tr>\n",
       "      <th>...</th>\n",
       "      <td>...</td>\n",
       "      <td>...</td>\n",
       "      <td>...</td>\n",
       "      <td>...</td>\n",
       "      <td>...</td>\n",
       "      <td>...</td>\n",
       "      <td>...</td>\n",
       "    </tr>\n",
       "    <tr>\n",
       "      <th>1286</th>\n",
       "      <td>1</td>\n",
       "      <td>694</td>\n",
       "      <td>729</td>\n",
       "      <td>1396</td>\n",
       "      <td>1568</td>\n",
       "      <td>1492</td>\n",
       "      <td>2106</td>\n",
       "    </tr>\n",
       "    <tr>\n",
       "      <th>1287</th>\n",
       "      <td>0</td>\n",
       "      <td>377</td>\n",
       "      <td>482</td>\n",
       "      <td>1010</td>\n",
       "      <td>1466</td>\n",
       "      <td>935</td>\n",
       "      <td>2242</td>\n",
       "    </tr>\n",
       "    <tr>\n",
       "      <th>1288</th>\n",
       "      <td>1</td>\n",
       "      <td>737</td>\n",
       "      <td>685</td>\n",
       "      <td>1292</td>\n",
       "      <td>1659</td>\n",
       "      <td>1436</td>\n",
       "      <td>2308</td>\n",
       "    </tr>\n",
       "    <tr>\n",
       "      <th>1289</th>\n",
       "      <td>0</td>\n",
       "      <td>369</td>\n",
       "      <td>478</td>\n",
       "      <td>890</td>\n",
       "      <td>1471</td>\n",
       "      <td>1003</td>\n",
       "      <td>2232</td>\n",
       "    </tr>\n",
       "    <tr>\n",
       "      <th>1290</th>\n",
       "      <td>1</td>\n",
       "      <td>513</td>\n",
       "      <td>577</td>\n",
       "      <td>1162</td>\n",
       "      <td>1589</td>\n",
       "      <td>1155</td>\n",
       "      <td>2161</td>\n",
       "    </tr>\n",
       "  </tbody>\n",
       "</table>\n",
       "<p>1291 rows × 7 columns</p>\n",
       "</div>\n",
       "    <div class=\"colab-df-buttons\">\n",
       "\n",
       "  <div class=\"colab-df-container\">\n",
       "    <button class=\"colab-df-convert\" onclick=\"convertToInteractive('df-46c5141e-3219-4ffa-8fe3-d2e31f228dfd')\"\n",
       "            title=\"Convert this dataframe to an interactive table.\"\n",
       "            style=\"display:none;\">\n",
       "\n",
       "  <svg xmlns=\"http://www.w3.org/2000/svg\" height=\"24px\" viewBox=\"0 -960 960 960\">\n",
       "    <path d=\"M120-120v-720h720v720H120Zm60-500h600v-160H180v160Zm220 220h160v-160H400v160Zm0 220h160v-160H400v160ZM180-400h160v-160H180v160Zm440 0h160v-160H620v160ZM180-180h160v-160H180v160Zm440 0h160v-160H620v160Z\"/>\n",
       "  </svg>\n",
       "    </button>\n",
       "\n",
       "  <style>\n",
       "    .colab-df-container {\n",
       "      display:flex;\n",
       "      gap: 12px;\n",
       "    }\n",
       "\n",
       "    .colab-df-convert {\n",
       "      background-color: #E8F0FE;\n",
       "      border: none;\n",
       "      border-radius: 50%;\n",
       "      cursor: pointer;\n",
       "      display: none;\n",
       "      fill: #1967D2;\n",
       "      height: 32px;\n",
       "      padding: 0 0 0 0;\n",
       "      width: 32px;\n",
       "    }\n",
       "\n",
       "    .colab-df-convert:hover {\n",
       "      background-color: #E2EBFA;\n",
       "      box-shadow: 0px 1px 2px rgba(60, 64, 67, 0.3), 0px 1px 3px 1px rgba(60, 64, 67, 0.15);\n",
       "      fill: #174EA6;\n",
       "    }\n",
       "\n",
       "    .colab-df-buttons div {\n",
       "      margin-bottom: 4px;\n",
       "    }\n",
       "\n",
       "    [theme=dark] .colab-df-convert {\n",
       "      background-color: #3B4455;\n",
       "      fill: #D2E3FC;\n",
       "    }\n",
       "\n",
       "    [theme=dark] .colab-df-convert:hover {\n",
       "      background-color: #434B5C;\n",
       "      box-shadow: 0px 1px 3px 1px rgba(0, 0, 0, 0.15);\n",
       "      filter: drop-shadow(0px 1px 2px rgba(0, 0, 0, 0.3));\n",
       "      fill: #FFFFFF;\n",
       "    }\n",
       "  </style>\n",
       "\n",
       "    <script>\n",
       "      const buttonEl =\n",
       "        document.querySelector('#df-46c5141e-3219-4ffa-8fe3-d2e31f228dfd button.colab-df-convert');\n",
       "      buttonEl.style.display =\n",
       "        google.colab.kernel.accessAllowed ? 'block' : 'none';\n",
       "\n",
       "      async function convertToInteractive(key) {\n",
       "        const element = document.querySelector('#df-46c5141e-3219-4ffa-8fe3-d2e31f228dfd');\n",
       "        const dataTable =\n",
       "          await google.colab.kernel.invokeFunction('convertToInteractive',\n",
       "                                                    [key], {});\n",
       "        if (!dataTable) return;\n",
       "\n",
       "        const docLinkHtml = 'Like what you see? Visit the ' +\n",
       "          '<a target=\"_blank\" href=https://colab.research.google.com/notebooks/data_table.ipynb>data table notebook</a>'\n",
       "          + ' to learn more about interactive tables.';\n",
       "        element.innerHTML = '';\n",
       "        dataTable['output_type'] = 'display_data';\n",
       "        await google.colab.output.renderOutput(dataTable, element);\n",
       "        const docLink = document.createElement('div');\n",
       "        docLink.innerHTML = docLinkHtml;\n",
       "        element.appendChild(docLink);\n",
       "      }\n",
       "    </script>\n",
       "  </div>\n",
       "\n",
       "\n",
       "<div id=\"df-849cac58-a94c-4832-be93-9067a04f60e4\">\n",
       "  <button class=\"colab-df-quickchart\" onclick=\"quickchart('df-849cac58-a94c-4832-be93-9067a04f60e4')\"\n",
       "            title=\"Suggest charts\"\n",
       "            style=\"display:none;\">\n",
       "\n",
       "<svg xmlns=\"http://www.w3.org/2000/svg\" height=\"24px\"viewBox=\"0 0 24 24\"\n",
       "     width=\"24px\">\n",
       "    <g>\n",
       "        <path d=\"M19 3H5c-1.1 0-2 .9-2 2v14c0 1.1.9 2 2 2h14c1.1 0 2-.9 2-2V5c0-1.1-.9-2-2-2zM9 17H7v-7h2v7zm4 0h-2V7h2v10zm4 0h-2v-4h2v4z\"/>\n",
       "    </g>\n",
       "</svg>\n",
       "  </button>\n",
       "\n",
       "<style>\n",
       "  .colab-df-quickchart {\n",
       "      --bg-color: #E8F0FE;\n",
       "      --fill-color: #1967D2;\n",
       "      --hover-bg-color: #E2EBFA;\n",
       "      --hover-fill-color: #174EA6;\n",
       "      --disabled-fill-color: #AAA;\n",
       "      --disabled-bg-color: #DDD;\n",
       "  }\n",
       "\n",
       "  [theme=dark] .colab-df-quickchart {\n",
       "      --bg-color: #3B4455;\n",
       "      --fill-color: #D2E3FC;\n",
       "      --hover-bg-color: #434B5C;\n",
       "      --hover-fill-color: #FFFFFF;\n",
       "      --disabled-bg-color: #3B4455;\n",
       "      --disabled-fill-color: #666;\n",
       "  }\n",
       "\n",
       "  .colab-df-quickchart {\n",
       "    background-color: var(--bg-color);\n",
       "    border: none;\n",
       "    border-radius: 50%;\n",
       "    cursor: pointer;\n",
       "    display: none;\n",
       "    fill: var(--fill-color);\n",
       "    height: 32px;\n",
       "    padding: 0;\n",
       "    width: 32px;\n",
       "  }\n",
       "\n",
       "  .colab-df-quickchart:hover {\n",
       "    background-color: var(--hover-bg-color);\n",
       "    box-shadow: 0 1px 2px rgba(60, 64, 67, 0.3), 0 1px 3px 1px rgba(60, 64, 67, 0.15);\n",
       "    fill: var(--button-hover-fill-color);\n",
       "  }\n",
       "\n",
       "  .colab-df-quickchart-complete:disabled,\n",
       "  .colab-df-quickchart-complete:disabled:hover {\n",
       "    background-color: var(--disabled-bg-color);\n",
       "    fill: var(--disabled-fill-color);\n",
       "    box-shadow: none;\n",
       "  }\n",
       "\n",
       "  .colab-df-spinner {\n",
       "    border: 2px solid var(--fill-color);\n",
       "    border-color: transparent;\n",
       "    border-bottom-color: var(--fill-color);\n",
       "    animation:\n",
       "      spin 1s steps(1) infinite;\n",
       "  }\n",
       "\n",
       "  @keyframes spin {\n",
       "    0% {\n",
       "      border-color: transparent;\n",
       "      border-bottom-color: var(--fill-color);\n",
       "      border-left-color: var(--fill-color);\n",
       "    }\n",
       "    20% {\n",
       "      border-color: transparent;\n",
       "      border-left-color: var(--fill-color);\n",
       "      border-top-color: var(--fill-color);\n",
       "    }\n",
       "    30% {\n",
       "      border-color: transparent;\n",
       "      border-left-color: var(--fill-color);\n",
       "      border-top-color: var(--fill-color);\n",
       "      border-right-color: var(--fill-color);\n",
       "    }\n",
       "    40% {\n",
       "      border-color: transparent;\n",
       "      border-right-color: var(--fill-color);\n",
       "      border-top-color: var(--fill-color);\n",
       "    }\n",
       "    60% {\n",
       "      border-color: transparent;\n",
       "      border-right-color: var(--fill-color);\n",
       "    }\n",
       "    80% {\n",
       "      border-color: transparent;\n",
       "      border-right-color: var(--fill-color);\n",
       "      border-bottom-color: var(--fill-color);\n",
       "    }\n",
       "    90% {\n",
       "      border-color: transparent;\n",
       "      border-bottom-color: var(--fill-color);\n",
       "    }\n",
       "  }\n",
       "</style>\n",
       "\n",
       "  <script>\n",
       "    async function quickchart(key) {\n",
       "      const quickchartButtonEl =\n",
       "        document.querySelector('#' + key + ' button');\n",
       "      quickchartButtonEl.disabled = true;  // To prevent multiple clicks.\n",
       "      quickchartButtonEl.classList.add('colab-df-spinner');\n",
       "      try {\n",
       "        const charts = await google.colab.kernel.invokeFunction(\n",
       "            'suggestCharts', [key], {});\n",
       "      } catch (error) {\n",
       "        console.error('Error during call to suggestCharts:', error);\n",
       "      }\n",
       "      quickchartButtonEl.classList.remove('colab-df-spinner');\n",
       "      quickchartButtonEl.classList.add('colab-df-quickchart-complete');\n",
       "    }\n",
       "    (() => {\n",
       "      let quickchartButtonEl =\n",
       "        document.querySelector('#df-849cac58-a94c-4832-be93-9067a04f60e4 button');\n",
       "      quickchartButtonEl.style.display =\n",
       "        google.colab.kernel.accessAllowed ? 'block' : 'none';\n",
       "    })();\n",
       "  </script>\n",
       "</div>\n",
       "\n",
       "  <div id=\"id_e385476c-747c-4e2c-b2ad-77411eed3aca\">\n",
       "    <style>\n",
       "      .colab-df-generate {\n",
       "        background-color: #E8F0FE;\n",
       "        border: none;\n",
       "        border-radius: 50%;\n",
       "        cursor: pointer;\n",
       "        display: none;\n",
       "        fill: #1967D2;\n",
       "        height: 32px;\n",
       "        padding: 0 0 0 0;\n",
       "        width: 32px;\n",
       "      }\n",
       "\n",
       "      .colab-df-generate:hover {\n",
       "        background-color: #E2EBFA;\n",
       "        box-shadow: 0px 1px 2px rgba(60, 64, 67, 0.3), 0px 1px 3px 1px rgba(60, 64, 67, 0.15);\n",
       "        fill: #174EA6;\n",
       "      }\n",
       "\n",
       "      [theme=dark] .colab-df-generate {\n",
       "        background-color: #3B4455;\n",
       "        fill: #D2E3FC;\n",
       "      }\n",
       "\n",
       "      [theme=dark] .colab-df-generate:hover {\n",
       "        background-color: #434B5C;\n",
       "        box-shadow: 0px 1px 3px 1px rgba(0, 0, 0, 0.15);\n",
       "        filter: drop-shadow(0px 1px 2px rgba(0, 0, 0, 0.3));\n",
       "        fill: #FFFFFF;\n",
       "      }\n",
       "    </style>\n",
       "    <button class=\"colab-df-generate\" onclick=\"generateWithVariable('train')\"\n",
       "            title=\"Generate code using this dataframe.\"\n",
       "            style=\"display:none;\">\n",
       "\n",
       "  <svg xmlns=\"http://www.w3.org/2000/svg\" height=\"24px\"viewBox=\"0 0 24 24\"\n",
       "       width=\"24px\">\n",
       "    <path d=\"M7,19H8.4L18.45,9,17,7.55,7,17.6ZM5,21V16.75L18.45,3.32a2,2,0,0,1,2.83,0l1.4,1.43a1.91,1.91,0,0,1,.58,1.4,1.91,1.91,0,0,1-.58,1.4L9.25,21ZM18.45,9,17,7.55Zm-12,3A5.31,5.31,0,0,0,4.9,8.1,5.31,5.31,0,0,0,1,6.5,5.31,5.31,0,0,0,4.9,4.9,5.31,5.31,0,0,0,6.5,1,5.31,5.31,0,0,0,8.1,4.9,5.31,5.31,0,0,0,12,6.5,5.46,5.46,0,0,0,6.5,12Z\"/>\n",
       "  </svg>\n",
       "    </button>\n",
       "    <script>\n",
       "      (() => {\n",
       "      const buttonEl =\n",
       "        document.querySelector('#id_e385476c-747c-4e2c-b2ad-77411eed3aca button.colab-df-generate');\n",
       "      buttonEl.style.display =\n",
       "        google.colab.kernel.accessAllowed ? 'block' : 'none';\n",
       "\n",
       "      buttonEl.onclick = () => {\n",
       "        google.colab.notebook.generateWithVariable('train');\n",
       "      }\n",
       "      })();\n",
       "    </script>\n",
       "  </div>\n",
       "\n",
       "    </div>\n",
       "  </div>\n"
      ],
      "text/plain": [
       "      Contaminated  Methane  NOxEmissions  PM2.5Emissions  VOCEmissions  \\\n",
       "0                1      848           960            1367          1784   \n",
       "1                1     1063           968            1627          1736   \n",
       "2                1      771           765            1391          1692   \n",
       "3                1      536           624            1224          1594   \n",
       "4                1      782           789            1333          1732   \n",
       "...            ...      ...           ...             ...           ...   \n",
       "1286             1      694           729            1396          1568   \n",
       "1287             0      377           482            1010          1466   \n",
       "1288             1      737           685            1292          1659   \n",
       "1289             0      369           478             890          1471   \n",
       "1290             1      513           577            1162          1589   \n",
       "\n",
       "      SO2Emissions  CO2Emissions  \n",
       "0             1745          2445  \n",
       "1             1785          1888  \n",
       "2             1523          2106  \n",
       "3             1171          2158  \n",
       "4             1529          2213  \n",
       "...            ...           ...  \n",
       "1286          1492          2106  \n",
       "1287           935          2242  \n",
       "1288          1436          2308  \n",
       "1289          1003          2232  \n",
       "1290          1155          2161  \n",
       "\n",
       "[1291 rows x 7 columns]"
      ]
     },
     "execution_count": 4,
     "metadata": {},
     "output_type": "execute_result"
    }
   ],
   "source": [
    "#freehand code \n"
   ]
  },
  {
   "cell_type": "markdown",
      "metadata": {
      "deletable": false,
      "editable": false,
    "id": "bARxRu3D5Ka4"
   },
   "source": [
    "\n",
    "\n",
    "**Explanation**: *Easy-peasy! You have now brought in the dataframe and stored it as a variable that you can reference later on. Now onto the fun part*!\n",
    "\n",
    "The dataset could be used to train a classification model (logistic regression) that predicts whether conditions will result in contamination based on various emission levels. Alternatively, if all entries are contaminated, the data could support regression models to predict specific emission levels under contaminated conditions or clustering methods to identify patterns in emission profiles among contaminated sites.\n"
   ]
  },
  {
   "cell_type": "markdown",
      "metadata": {
      "deletable": false,
      "editable": false,
    "id": "UJIfALeJ5SLm"
   },
   "source": [
    "### Goal 3: Import the Plotly.Express Library.\n",
    "\n",
    "We’ve already brought pandas to help with data science. Let’s bring in Plotly Express to help with some fancy-pants visualizations."
   ]
  },
  {
   "cell_type": "markdown",
      "metadata": {
      "deletable": false,
      "editable": false,
    "id": "9UQu2N7d5YKg",
    "jp-MarkdownHeadingCollapsed": true
   },
   "source": [
    "#### Blockly"
   ]
  },
  {
   "cell_type": "markdown",
      "metadata": {
      "deletable": false,
      "editable": false,
    "id": "I1LqFYMC5ano"
   },
   "source": [
    "**Step 1 - Starting the import**\n",
    "\n",
    "First, we need to set up a “command” to tell the computer what to do. In this case, “command” is to “import” to bring the add-on package in.\n",
    "\n",
    "Bring in the IMPORT menu, which can be helpful to bring in other data tools. In this case, we're bringing in the **import** block.\n"
   ]
  },
  {
   "cell_type": "markdown",
      "metadata": {
      "deletable": false,
      "editable": false,
    "id": "scTqp8T65dgx"
   },
   "source": [
    "\n",
    "**Step 2 - Telling what library to import**\n",
    "\n",
    "In the text area, we type the name of the library we want to import. A library is like an extra thing we bring in to give us more coding abilities. In our case, we will type out the **plotly.express** library. Plotly is a popular library in Python that provides functions for fancy-pants data visualizations.\n"
   ]
  },
  {
   "cell_type": "markdown",
      "metadata": {
      "deletable": false,
      "editable": false,
    "id": "qCX-h5GR5eS3"
   },
   "source": [
    "\n",
    "**Step 3 - Renaming the library so it’s easy to remember**\n",
    "\n",
    "Once you are done, put the **import** and **plotly.express** together in a single variable. This handy feature helps cut down on all the typing later on. You can call it whatever is easiest for you to remember. In the example below, we’ve put everything into **px** so it’s easier to remember\n"
   ]
  },
  {
   "cell_type": "markdown",
      "metadata": {
      "deletable": false,
      "editable": false,
    "id": "KGAb4em95e9S"
   },
   "source": [
    "\n",
    "**Step 4 - Connect the blocks to run the code**\n",
    "\n",
    "Connect the blocks and run the code!  \n",
    "\t\n",
    "<details>\n",
    "    <summary>Click to see the answer...</summary>\n",
    "\n",
    "![](\n",
    "https://pbs.twimg.com/media/Gab594HW4AA7zAX?format=png&name=small)\n",
    "</details>"
   ]
  },
  {
   "cell_type": "code",
   "execution_count": null,
   "metadata": {},
   "outputs": [],
   "source": [
    "#blocks code\n"
   ]
  },
  {
   "cell_type": "markdown",
      "metadata": {
      "deletable": false,
      "editable": false,
    "id": "2RNxHj-W5xbj",
    "jp-MarkdownHeadingCollapsed": true
   },
   "source": [
    "#### Freehand"
   ]
  },
  {
   "cell_type": "markdown",
      "metadata": {
      "deletable": false,
      "editable": false,
    "id": "VatiXbxI53T8"
   },
   "source": [
    "**Step 1 - Starting the import**\n",
    "\n",
    "First, we need to set up a “command” to tell the computer what to do. In this case, “command” is to “import” to bring the add-on package in.\n"
   ]
  },
  {
   "cell_type": "markdown",
      "metadata": {
      "deletable": false,
      "editable": false,
    "id": "5noUgz__54zI"
   },
   "source": [
    "\n",
    "**Step 2 - Telling what library to import**\n",
    "\n",
    "In the text area, we type the name of the library we want to import. A library is like an extra thing we bring in to give us more coding abilities. In our case, we will type out the **plotly.express** library. Plotly is a popular library in Python that provides functions for fancy-pants data visualizations.\n"
   ]
  },
  {
   "cell_type": "markdown",
      "metadata": {
      "deletable": false,
      "editable": false,
    "id": "_Gac_nDB56qz"
   },
   "source": [
    "\n",
    "**Step 3 - Renaming the library so it’s easy to remember**\n",
    "\n",
    "Once you are done, put the ‘import’ and ‘package’ together in a single variable. This handy feature helps cut down on all the typing later on. Feel free to use whatever name you want that will help you remember it later on. In the example below, we’ve put everything into **px**.\n"
   ]
  },
  {
   "cell_type": "markdown",
      "metadata": {
      "deletable": false,
      "editable": false,
    "id": "JXdu5yk_572P"
   },
   "source": [
    "\n",
    "**Step 4 - Run the code**\n",
    "\n",
    "Hit ‘control’ and ‘enter’ at the same time to run the code!\n",
    "\t\n",
    "<details>\n",
    "    <summary>Click to see the answer...</summary>\n",
    "\n",
    "![](https://pbs.twimg.com/media/Gab6AduXQAIEi5X?format=png&name=small)\n",
    "\n",
    "</details>"
   ]
  },
  {
   "cell_type": "markdown",
      "metadata": {
      "deletable": false,
      "editable": false,
    "id": "MsQjnRcU59YM"
   },
   "source": [
    "\n",
    "**Your Turn:** It’s your turn! Let’s get that library imported.\n"
   ]
  },
  {
   "cell_type": "code",
   "execution_count": 5,
   "metadata": {
    "id": "2Z13Koeg5_pS"
   },
   "outputs": [],
   "source": [
    "#freehand code \n"
   ]
  },
  {
   "cell_type": "markdown",
      "metadata": {
      "deletable": false,
      "editable": false,
    "id": "AgHmV3uI6Akr"
   },
   "source": [
    "**Explanation**: *The line import plotly.express as px imports the Plotly Express library, a high-level interface for creating interactive and dynamic visualizations in Python*."
   ]
  },
  {
   "cell_type": "markdown",
      "metadata": {
      "deletable": false,
      "editable": false,
    "id": "gmsy9DRr6TLq"
   },
   "source": [
    "### Goal 4: Present a scatter plot\n",
    "\n",
    "Scatter plots help us to look at each data point when it comes to interval ratio data. The scatter plot shows us the relationship between two variables in a data set. The independent variable is plotted on the X-axis, while the dependent variable is plotted on the Y-axis. They are super handy for finding the relationship between different numeric variables."
   ]
  },
  {
   "cell_type": "markdown",
      "metadata": {
      "deletable": false,
      "editable": false,
    "id": "GspwyZgx6WOf",
    "jp-MarkdownHeadingCollapsed": true
   },
   "source": [
    "#### Blockly"
   ]
  },
  {
   "cell_type": "markdown",
      "metadata": {
      "deletable": false,
      "editable": false,
    "id": "mRAXQ0Ix6XdD"
   },
   "source": [
    "**Step 1 -  Call the scatter function from plotly**\n",
    "\n",
    "To make a scatterplot, we first need to call the scatter function with our plotly library (px).\n",
    "\n",
    "From the Variables menu drag a DO block for the **px** variable. Select the \"**scatter**\" function. This specifies the function we want to call, which is the scatter function from the Plotly Express library (imported as \"px\" earlier).\n"
   ]
  },
  {
   "cell_type": "markdown",
      "metadata": {
      "deletable": false,
      "editable": false,
    "id": "n8YgsKOi6i3s"
   },
   "source": [
    "\n",
    "**Step 2 -  Saying what data to use for the scatter plot**\n",
    "\n",
    "In order to make a plot, we need to choose its source from which data we want to plot from. In this case, our dataset is stored in the dataframe **train**.\n",
    "\n",
    "For the first argument, drag from the Variable menu the **train** variable. This allows us to specify a dataframe as and what to look at for the scatter function.\n"
   ]
  },
  {
   "cell_type": "markdown",
      "metadata": {
      "deletable": false,
      "editable": false,
    "id": "uuH6X_UL6l8a"
   },
   "source": [
    "\n",
    "**Step 3 -  Tell plotly what columns to put on the axis**\n",
    "\n",
    "Identify the two variables you want to look at. One variable will be alongside the X-axis (*across*) and another one alongside the Y-axis (*up and down*). In our context, we want to see the relationship between **’Methane’** and  **‘Contaminated’**. We will assign the variables in the 2 axis in the graph.\n",
    "\n",
    "From the TEXT menu, drag the Quotes. Type the text **’Methane’**. This specifies TrafficVolume as the x-axis variable for the scatter plot. Also, from the TEXT menu, drag the Quotes. Type the text **Contaminated**.   \n"
   ]
  },
  {
   "cell_type": "markdown",
      "metadata": {
      "deletable": false,
      "editable": false,
    "id": "IPSpW99a6nVG"
   },
   "source": [
    "\n",
    "**Step 4 - Connect the blocks to run the code**\n",
    "\n",
    "Connect the blocks and run the code!\n",
    "\t\n",
    "<details>\n",
    "    <summary>Click to see the answer...</summary>\n",
    "\n",
    "![](https://pbs.twimg.com/media/GbpKlvjXMAAZ8UQ?format=png&name=small)\n",
    "\n",
    "</details>"
   ]
  },
  {
   "cell_type": "code",
   "execution_count": null,
   "metadata": {},
   "outputs": [],
   "source": [
    "#blocks code\n"
   ]
  },
  {
   "cell_type": "markdown",
      "metadata": {
      "deletable": false,
      "editable": false,
    "id": "5UTO9_zH7Mdg",
    "jp-MarkdownHeadingCollapsed": true
   },
   "source": [
    "#### Freehand"
   ]
  },
  {
   "cell_type": "markdown",
      "metadata": {
      "deletable": false,
      "editable": false,
    "id": "df7rLe-d7N5L"
   },
   "source": [
    "**Step 1 - Call the scatter function from plotly**\n",
    "\n",
    "To make a scatterplot, we first need to call the scatter function with our plotly library (px).\n",
    "\n",
    "`px.scatter()`"
   ]
  },
  {
   "cell_type": "markdown",
      "metadata": {
      "deletable": false,
      "editable": false,
    "id": "6cCpeZ9d7PxH"
   },
   "source": [
    "\n",
    "**Step 2 -  Saying what data to use for the scatter plot**\n",
    "\n",
    "In order to make a plot, we need to choose its source from which data we want to plot from. In this case, our dataset is stored in the dataframe **train**\n",
    "\n",
    "`px.scatter(train)`"
   ]
  },
  {
   "cell_type": "markdown",
      "metadata": {
      "deletable": false,
      "editable": false,
    "id": "g9EvdJaU7RBa"
   },
   "source": [
    "\n",
    "**Step 3 -  Tell plotly what the columns to put on the axis**\n",
    "\n",
    "Identify the two variables you want to look at. One variable will be alongside the X-axis (*across*) and another one alongside the Y-axis (*up and down*). In our context, we want to see the relationship between **’Methane’** and **‘Contaminated’**. We will assign the variables in the 2 axes in the graph\n",
    "\n",
    "`px.scatter(train, x=’Methane’, y=\"Contaminated\")`"
   ]
  },
  {
   "cell_type": "markdown",
      "metadata": {
      "deletable": false,
      "editable": false,
    "id": "eFc0qlPg7S4H"
   },
   "source": [
    "\n",
    "**Step 4 - Run the code**\n",
    "\n",
    "Hit ‘control’ and ‘enter’ at the same time to run the code!\n",
    "\t\n",
    "<details>\n",
    "    <summary>Click to see the answer...</summary>\n",
    "\n",
    "![](https://pbs.twimg.com/media/GbpKon7WMAAKuR5?format=png&name=small)\n",
    "\n",
    "</details>"
   ]
  },
  {
   "cell_type": "markdown",
      "metadata": {
      "deletable": false,
      "editable": false,
    "id": "VK94vMd573HG"
   },
   "source": [
    "**Your Turn**: Now it’s your turn! We’re going to create a scatter plot so we can review the correlations of the data. Let’s start with adding in the x and y-axis variables.\n"
   ]
  },
  {
   "cell_type": "code",
   "execution_count": 1,
   "metadata": {
    "colab": {
     "base_uri": "https://localhost:8080/",
     "height": 542
    },
    "id": "rRQcYg9e79iN",
    "outputId": "0097df1e-450c-4e5d-bbc6-a6fa0ec893b5"
   },
   "outputs": [],
   "source": [
    "#freehand code \n"
   ]
  },
  {
   "cell_type": "markdown",
      "metadata": {
      "deletable": false,
      "editable": false,
    "id": "fDZAXot57_Rw"
   },
   "source": [
    "**Explanation**: *The scatter plot shows how methane levels relate to contamination, shown as either 0 (not contaminated) or 1 (contaminated). When methane levels are low (around 400), contamination is mostly at 0, meaning samples are not contaminated. However, as methane levels increase, almost all samples show contamination (1). This suggests that higher methane levels might be linked to contamination. A logistic regression model could help predict whether contamination occurs based on methane levels*."
   ]
  },
  {
   "cell_type": "markdown",
      "metadata": {
      "deletable": false,
      "editable": false,
    "id": "ZT6QJSHg8BCm"
   },
   "source": [
    "### Goal 5: Present another scatter plot\n",
    "\n",
    "Since we are interested in multiple variables, let’s see if we can find any other relationships between other variables."
   ]
  },
  {
   "cell_type": "markdown",
      "metadata": {
      "deletable": false,
      "editable": false,
    "id": "XQjP-TzT8K_2",
    "jp-MarkdownHeadingCollapsed": true
   },
   "source": [
    "#### Blockly"
   ]
  },
  {
   "cell_type": "markdown",
      "metadata": {
      "deletable": false,
      "editable": false,
    "id": "71amQQOr8RuK"
   },
   "source": [
    "\n",
    "**Step 1 -  Call the scatter function from plotly**\n",
    "\n",
    "To make a scatterplot, we first need to call the scatter function with our plotly library (px).\n",
    "\n",
    "From the Variables menu, drag a DO block for the **px** variable. Select the \"**scatter**\" function. This specifies the function we want to call, which is the scatter function from the Plotly Express library (imported as \"px\" earlier).\n"
   ]
  },
  {
   "cell_type": "markdown",
      "metadata": {
      "deletable": false,
      "editable": false,
    "id": "-nLTrhre8Te-"
   },
   "source": [
    "\n",
    "**Step 2 -  Saying what data to use for the scatter plot**\n",
    "\n",
    "In order to make a plot, we need to choose its source from which data we want to plot from. In this case, our dataset is stored in the dataframe **train**.\n",
    "\n",
    "For the first argument, drag from the Variable menu the **train** variable. This allows us to specify a dataframe and what to look at for the scatter function.\n"
   ]
  },
  {
   "cell_type": "markdown",
      "metadata": {
      "deletable": false,
      "editable": false,
    "id": "YGJgUy5H8U0X"
   },
   "source": [
    "\n",
    "**Step 3 -  Tell plotly what columns to put on the axis**\n",
    "\n",
    "Identify the two variables you want to look at. One variable will be alongside the X-axis (*across*) and another one alongside the Y-axis (*up and down*). In our context, we want to see the relationship between **’CO2Emissions’** and  **‘Contaminated’**. We will assign the variables to the 2 axes in the graph.\n",
    "\n",
    "From the TEXT menu, drag the Quotes. Type the text **CO2Emissions**. This specifies TrafficVolume as the x-axis variable for the scatter plot. Also, from the TEXT menu, drag the Quotes. Type the text **Contaminated**.   \n"
   ]
  },
  {
   "cell_type": "markdown",
      "metadata": {
      "deletable": false,
      "editable": false,
    "id": "-sud1INu8VzI"
   },
   "source": [
    "\n",
    "**Step 4 - Connect the blocks to run the code**\n",
    "\n",
    "Connect the blocks and run the code!\n",
    "\t\n",
    "<details>\n",
    "    <summary>Click to see the answer...</summary>\n",
    "\n",
    "![](https://pbs.twimg.com/media/GbpLBlLXMAAUrOZ?format=png&name=small)\n",
    "\n",
    "</details>"
   ]
  },
  {
   "cell_type": "code",
   "execution_count": null,
   "metadata": {},
   "outputs": [],
   "source": [
    "#blocks code\n"
   ]
  },
  {
   "cell_type": "markdown",
      "metadata": {
      "deletable": false,
      "editable": false,
    "id": "QPTRLral8ukG",
    "jp-MarkdownHeadingCollapsed": true
   },
   "source": [
    "#### Freehand"
   ]
  },
  {
   "cell_type": "markdown",
      "metadata": {
      "deletable": false,
      "editable": false,
    "id": "PnVwHCly8voV"
   },
   "source": [
    "\n",
    "**Step 1 - Call the scatter function from plotly**\n",
    "\n",
    "To make a scatterplot, we first need to call the scatter function with our plotly library (px).\n",
    "\n",
    "`px.scatter()`"
   ]
  },
  {
   "cell_type": "markdown",
      "metadata": {
      "deletable": false,
      "editable": false,
    "id": "mlyO3u1a8xfq"
   },
   "source": [
    "\n",
    "**Step 2 -  Saying what data to use for the scatter plot**\n",
    "\n",
    "In order to make a plot, we need to choose its source from which data we want to plot from. In this case, our dataset is stored in the dataframe **train**\n",
    "\n",
    "`px.scatter(train)`"
   ]
  },
  {
   "cell_type": "markdown",
      "metadata": {
      "deletable": false,
      "editable": false,
    "id": "IraH2K488z5N"
   },
   "source": [
    "\n",
    "**Step 3 -  Tell plotly what the columns to put on the axis**\n",
    "\n",
    "Identify the two variables you want to look at. One variable will be alongside the X-axis (*across*) and another one alongside the Y-axis (*up and down*). In our context, we want to see the relationship between **’CO2Emissions’** and **‘Contaminated’**. We will assign the variables in the 2 axes in the graph\n",
    "\n",
    "`px.scatter(train, x=’CO2Emissions’, y=\"Contaminated\")`"
   ]
  },
  {
   "cell_type": "markdown",
      "metadata": {
      "deletable": false,
      "editable": false,
    "id": "9SfL9gjR81ks"
   },
   "source": [
    "\n",
    "**Step 4 - Run the code**\n",
    "\n",
    "Hit ‘control’ and ‘enter’ at the same time to run the code!\n",
    "\n",
    "`px.scatter(train,’CO2Emissions’,'Contaminated')`\n",
    "\t\n",
    "<details>\n",
    "    <summary>Click to see the answer...</summary>\n",
    "\n",
    "![](https://pbs.twimg.com/media/GbpLEB1WkAAmLWr?format=png&name=small)\n",
    "</details>"
   ]
  },
  {
   "cell_type": "markdown",
      "metadata": {
      "deletable": false,
      "editable": false,
    "id": "VjBnsMIh825D"
   },
   "source": [
    "\n",
    "**Your Turn**: Now it’s your turn! Try creating another scatterplot.\n"
   ]
  },
  {
   "cell_type": "code",
   "execution_count": 2,
   "metadata": {
    "colab": {
     "base_uri": "https://localhost:8080/",
     "height": 542
    },
    "id": "gIGKVWbv83pK",
    "outputId": "7f5643cf-257c-457b-df05-03d297cade2b"
   },
   "outputs": [],
   "source": [
    "#freehand code \n"
   ]
  },
  {
   "cell_type": "markdown",
      "metadata": {
      "deletable": false,
      "editable": false,
    "id": "69wdoHLc85vr"
   },
   "source": [
    "**Explanation**: *The scatter plot shows that when CO2 emissions are low, most samples are contaminated (indicated by 1). As CO2 emissions increase, contamination becomes less common (more points at 0). A logistic regression could help us predict contamination based on CO2 levels*."
   ]
  },
  {
   "cell_type": "markdown",
      "metadata": {
      "deletable": false,
      "editable": false,
    "id": "HUjjGZxR9W-3"
   },
   "source": [
    "### Goal 6: Import the linear model library\n",
    "\n",
    "Let’s bring in a library/package to help with the linear regression that will help us with our analysis and other data science tasks."
   ]
  },
  {
   "cell_type": "markdown",
      "metadata": {
      "deletable": false,
      "editable": false,
    "id": "sSwrTBPT9i4L",
    "jp-MarkdownHeadingCollapsed": true
   },
   "source": [
    "#### Blockly"
   ]
  },
  {
   "cell_type": "markdown",
      "metadata": {
      "deletable": false,
      "editable": false,
    "id": "OtdjdTvU9naR"
   },
   "source": [
    "**Step 1 - Starting the import**\n",
    "\n",
    "First, we need to set up a “command” to tell the computer what to do. In this case, “command” is to “import” to bring the add-on package in.\n",
    "\n",
    "Bring in the IMPORT menu, which can be helpful to bring in other data tools. In this case, we're bringing in the **import** block.\n"
   ]
  },
  {
   "cell_type": "markdown",
      "metadata": {
      "deletable": false,
      "editable": false,
    "id": "IqxZs6Ry9pCd"
   },
   "source": [
    "\n",
    "**Step 2 - Telling what library to import**\n",
    "\n",
    "In the text area, we type the name of the library we want to import. A library is like an extra thing we bring in to give us more coding abilities. In our case, we will type out **sklearn.linear_model**, which will bring in some cool data manipulation features.\n"
   ]
  },
  {
   "cell_type": "markdown",
      "metadata": {
      "deletable": false,
      "editable": false,
    "id": "VzffjhRI9rn4"
   },
   "source": [
    "\n",
    "**Step 3 - Renaming the library so it’s easy to remember**\n",
    "\n",
    "Once you are done, put the **import** and **package** together in a single variable. This handy feature helps cut down on all the typing later on. You can call it whatever is easiest for you to remember. In the example below, we’ve put everything into **lm**, and we type it in the open area.\n"
   ]
  },
  {
   "cell_type": "markdown",
      "metadata": {
      "deletable": false,
      "editable": false,
    "id": "lsmR19QN9sde"
   },
   "source": [
    "\n",
    "**Step 4 - Connect the blocks to run the code**\n",
    "\n",
    "Connect the blocks and run the code!\n",
    "\t\n",
    "<details>\n",
    "    <summary>Click to see the answer...</summary>\n",
    "\n",
    "![](https://pbs.twimg.com/media/GbFDOz7XoAAVLtr?format=png&name=small)\n",
    "</details>"
   ]
  },
  {
   "cell_type": "code",
   "execution_count": null,
   "metadata": {},
   "outputs": [],
   "source": [
    "#blocks code\n"
   ]
  },
  {
   "cell_type": "markdown",
      "metadata": {
      "deletable": false,
      "editable": false,
    "id": "D4O-9xRq94uv",
    "jp-MarkdownHeadingCollapsed": true
   },
   "source": [
    "#### Freehand"
   ]
  },
  {
   "cell_type": "markdown",
      "metadata": {
      "deletable": false,
      "editable": false,
    "id": "iWY5Xfj-96oV"
   },
   "source": [
    "**Step 1 - Starting the import**\n",
    "\n",
    "First, we need to set up a “command” to tell the computer what to do. In this case, “command” is to “import” to bring the add-on package in."
   ]
  },
  {
   "cell_type": "markdown",
      "metadata": {
      "deletable": false,
      "editable": false,
    "id": "6fF3_MrR9-gg"
   },
   "source": [
    "\n",
    "**Step 2 - Telling what library to import**\n",
    "\n",
    "In the text area, we type the name of the library we want to import. A library is like an extra thing we bring in to give us more coding abilities. In our case, we will type out **sklearn.linear_model**, which will bring in some cool data manipulation features."
   ]
  },
  {
   "cell_type": "markdown",
      "metadata": {
      "deletable": false,
      "editable": false,
    "id": "DrMZyt8G9__n"
   },
   "source": [
    "\n",
    "**Step 3 - Renaming the library so it’s easy to remember**\n",
    "\n",
    "Once you are done, put the ‘import’ and ‘package’ together in a single variable. This handy feature helps cut down on all the typing later on. Feel free to use whatever name you want that will help you remember it later on. In the example below, we’ve put everything into lm."
   ]
  },
  {
   "cell_type": "markdown",
      "metadata": {
      "deletable": false,
      "editable": false,
    "id": "UH_x3D8d-BPE"
   },
   "source": [
    "\n",
    "**Step 4 - Run the code**\n",
    "\n",
    "Hit ‘control’ and ‘enter’ at the same time to run the code!\n",
    "\t\n",
    "<details>\n",
    "    <summary>Click to see the answer...</summary>\n",
    "\n",
    "![](https://pbs.twimg.com/media/GbFDMCWW8AABSiy?format=png&name=small)\n",
    "</details>"
   ]
  },
  {
   "cell_type": "markdown",
      "metadata": {
      "deletable": false,
      "editable": false,
    "id": "sciTKhCy-CKf"
   },
   "source": [
    "\n",
    "Your Turn: Now it’s your turn! We’re going to dive into the sklearn.linear_model package, which helps us with some really cool data science things. First, let’s import the package and assign it to the variable “lm” to make it easier to use throughout our notebook.\n"
   ]
  },
  {
   "cell_type": "code",
   "execution_count": 8,
   "metadata": {
    "id": "81b3FgHf-C3_"
   },
   "outputs": [],
   "source": [
    "#freehand code \n"
   ]
  },
  {
   "cell_type": "markdown",
      "metadata": {
      "deletable": false,
      "editable": false,
    "id": "WszYDxPF-EgV"
   },
   "source": [
    "**Explanation**: *With the scikit-learn library, specifically the linear model module, which includes methods for creating linear regression models*."
   ]
  },
  {
   "cell_type": "markdown",
      "metadata": {
      "deletable": false,
      "editable": false,
    "id": "yhmJ_yGX-VN-"
   },
   "source": [
    "### Goal 7: Setting up our logistic model\n",
    "\n",
    "Let’s create a model to help with the training that we will do for our dataset."
   ]
  },
  {
   "cell_type": "markdown",
      "metadata": {
      "deletable": false,
      "editable": false,
    "id": "RjwkE-RbA3XX",
    "jp-MarkdownHeadingCollapsed": true
   },
   "source": [
    "#### Blockly"
   ]
  },
  {
   "cell_type": "markdown",
      "metadata": {
      "deletable": false,
      "editable": false,
    "id": "pHubgD_CA4rY"
   },
   "source": [
    "\n",
    "**Step 1 - Assign the dataframe to the variable you created**\n",
    "\n",
    "Now that we’re all set with our new package to help us to do cool things, let’s bring the data into a variable and call it **logreg**. Think of it as a digital spreadsheet with much more power to analyze and manipulate the data!\n",
    "\n",
    "In Blockly, bring in the VARIABLES menu. On the \"Variables\" menu, click Create Variable, type a name for our model, **regr**. Then, drag a \"SET\" block to the workspace for the created variable. This block allows us to create a new variable and assign a value to it.\n"
   ]
  },
  {
   "cell_type": "markdown",
      "metadata": {
      "deletable": false,
      "editable": false,
    "id": "qDZ6C8UTA-Yf"
   },
   "source": [
    "\n",
    "\n",
    "**Step 2 - Create the logistic regression model**\n",
    "\n",
    "Using the neighbors library, we call the **LogisticRegression**() to create the linear regression model.\n",
    "\n",
    "From the Variable menu, drag a Create block for the lm variable. On the create list box select the option **LogisticRegression**. This specifies the type (class) of object we want to create, which is the **LogisticRegression** from the neighbors module.\n",
    "\n",
    "Get a Create block for the lm variable from the Variables menu. With that, a new object of the model, **LogisticRegression**, is created. The **LogisticRegression** is a type of regression model that uses one specific number to predict one other number,\n"
   ]
  },
  {
   "cell_type": "markdown",
      "metadata": {
      "deletable": false,
      "editable": false,
    "id": "rXFhGlWnA_cH"
   },
   "source": [
    "\n",
    "**Step 3 - Store the classifier model in a variable**\n",
    "\n",
    "We can now connect the **logreg** variable with the **LogisticRegression** model.\n"
   ]
  },
  {
   "cell_type": "markdown",
      "metadata": {
      "deletable": false,
      "editable": false,
    "id": "lhZz0c-aBAMd"
   },
   "source": [
    "\n",
    "**Step 4 - Connect the blocks to run the code**\n",
    "\n",
    "Connect the blocks and run the code!\n",
    "\t\n",
    "<details>\n",
    "    <summary>Click to see the answer...</summary>\n",
    "\n",
    "![](https://pbs.twimg.com/media/GezdbmlWwAADzc3?format=png&name=small)\n",
    "</details>"
   ]
  },
  {
   "cell_type": "code",
   "execution_count": null,
   "metadata": {},
   "outputs": [],
   "source": [
    "#blocks code\n"
   ]
  },
  {
   "cell_type": "markdown",
      "metadata": {
      "deletable": false,
      "editable": false,
    "id": "j0evTVVUBYs3",
    "jp-MarkdownHeadingCollapsed": true
   },
   "source": [
    "#### Freehand"
   ]
  },
  {
   "cell_type": "markdown",
      "metadata": {
      "deletable": false,
      "editable": false,
    "id": "FRY37gbvBgxw"
   },
   "source": [
    "**Step 1 - Create the logistic regression model**\n",
    "\n",
    "Using the linear model library, we call the LinearRegression() method\n",
    "\n",
    "`lm.LogisticRegression()`\n"
   ]
  },
  {
   "cell_type": "markdown",
      "metadata": {
      "deletable": false,
      "editable": false,
    "id": "_qBj2R5EBiRu"
   },
   "source": [
    "\n",
    "**Step 2 - Store the regression model in a variable**\n",
    "\n",
    "Now that we’re all set with our new package to help us to do cool things, let’s bring the data into a variable called **logreg**. Think of it as a digital spreadsheet with much more power to analyze and manipulate the data!\n",
    "\n",
    "Just like we did before, let’s type out a variable name. Rather than type out the full file name for our data, this easy to remember name will hold the data we bring in.\n",
    "\n",
    "`logreg = lm.LogisticRegression()`\n",
    "\n",
    "\t\n",
    "<details>\n",
    "    <summary>Click to see the answer...</summary>\n",
    "\n",
    "![](https://pbs.twimg.com/media/GezdSSxXgAAFKtF?format=png&name=small)\n",
    "\n",
    "</details>"
   ]
  },
  {
   "cell_type": "markdown",
      "metadata": {
      "deletable": false,
      "editable": false,
    "id": "iEYXKtrbBkUD"
   },
   "source": [
    "\n",
    "**Your Turn**: Your turn! Give it a go and see what you get!\n"
   ]
  },
  {
   "cell_type": "code",
   "execution_count": 9,
   "metadata": {
    "id": "Z-nU_mo3BlYQ"
   },
   "outputs": [],
   "source": [
    "#freehand code \n"
   ]
  },
  {
   "cell_type": "markdown",
      "metadata": {
      "deletable": false,
      "editable": false,
    "id": "wIO66Zr8BnTw"
   },
   "source": [
    "**Explanation**:  *You have created a logistic regression model called logreg that we can use to predict whether something falls into one of two categories (like contaminated or not contaminated) based on other data*.\n"
   ]
  },
  {
   "cell_type": "markdown",
      "metadata": {
      "deletable": false,
      "editable": false,
    "id": "U0zVypXPB1rP"
   },
   "source": [
    "### Goal 8: Train and Score the Classifier Model\n",
    "\n",
    "Now that we’ve brought in our logistic regression model, let’s train the model to see how it will learn from the data points that we have in the file."
   ]
  },
  {
   "cell_type": "markdown",
      "metadata": {
      "deletable": false,
      "editable": false,
    "id": "yu6ob-hJB9J-",
    "jp-MarkdownHeadingCollapsed": true
   },
   "source": [
    "#### Blockly"
   ]
  },
  {
   "cell_type": "markdown",
      "metadata": {
      "deletable": false,
      "editable": false,
    "id": "En61CWl6CHbS"
   },
   "source": [
    "\n",
    "**Step 1 - Prepare to train the model**\n",
    "\n",
    "From the Variable menu, drag the DO block for the **logreg** variable, and select the **fit** function as the DO operation. This specifies the function we want to call, which is the fit method of the **Logistic Regression** object.\n"
   ]
  },
  {
   "cell_type": "markdown",
      "metadata": {
      "deletable": false,
      "editable": false,
    "id": "oSnCGYogCKSX"
   },
   "source": [
    "\n",
    "**Step 2 - Have the training features ready**\n",
    "\n",
    "The next step for training the model is to select the features to train the classifier. In this step, we select the features and add them as a dataframe in the parameter. In this case, the model will train (learn) the classifier based on these 6 variables and use it to predict the label\n",
    "\n",
    "From the Lists menu, drag a dictVariable, and select the \"train\" variable from the list of available variables. Also, from the Lists menu, you will get a Create List block. Using the Gear icon, add up to 6 items. For each one of the items, add a Text (a Quote “” from the Text menu), as follows:  \"Methane\", \"NOxEmissions\", \"PM2.5Emissions\", \"VOCEmissions\", \"SO2Emissions\", and \"CO2Emissions\". These are the feature names applied to train (fit) the model.\n"
   ]
  },
  {
   "cell_type": "markdown",
      "metadata": {
      "deletable": false,
      "editable": false,
    "id": "V4Rl2GfNCM9b"
   },
   "source": [
    "\n",
    "**Step 3 - Have the training label ready**\n",
    "\n",
    "So what is the label that we are trying to predict? Next, we need to add the data labels for the selected features. We add the data labels (**Contaminated** feature) as a parameter in the fit() method.\n",
    "\n",
    "From the Lists menu, drag a dictVariable, and select the \"train\" variable from the list of available variables. From the Text menu, get a Quote “” block and add a Text \"Contaminated\". This is the target value applied to train (fit) the model.\n"
   ]
  },
  {
   "cell_type": "markdown",
      "metadata": {
      "deletable": false,
      "editable": false,
    "id": "lYVX6cRSCOjG"
   },
   "source": [
    "\n",
    "**Step 4 - Measure the correctness of the model**\n",
    "\n",
    "To measure the correctness of the model, we will use the score method() from the logist_regression library. Just as the previous step, we will just replace the fit() method with the score() method. Based on the ‘fit’, we will try to see how much we were able to predict in our training dataset.\n",
    "\n",
    "This will give us the models correctness score. A good score will be closer to 1 (ie - 100). Medium might be more like .95 (95% accurate). Not great would be .90 (90%). It depends on the topic you are looking at.\n",
    "\n",
    "Right-click on the \"logreg.fit()\" block and select \"Duplicate\" from the context menu. This creates a copy of the block. Within the duplicated block, click on the method dropdown menu and select \"**score**\" from the list of available methods. The score method will similarly fit, using the training features and label to measure how much training data was learned.   \n"
   ]
  },
  {
   "cell_type": "markdown",
      "metadata": {
      "deletable": false,
      "editable": false,
    "id": "T7Zc1k5KCQMq"
   },
   "source": [
    "\n",
    "**Step 5 - Connect the blocks to run the code**\n",
    "\n",
    "Connect the blocks and run the code!\n",
    "\t\n",
    "<details>\n",
    "    <summary>Click to see the answer...</summary>\n",
    "\n",
    "![](https://pbs.twimg.com/media/GbpN_CHXcAAuWbb?format=png&name=small)\n",
    "\n",
    "</details>"
   ]
  },
  {
   "cell_type": "code",
   "execution_count": null,
   "metadata": {},
   "outputs": [],
   "source": [
    "#blocks code\n"
   ]
  },
  {
   "cell_type": "markdown",
      "metadata": {
      "deletable": false,
      "editable": false,
    "id": "7WJuEy1aC10h",
    "jp-MarkdownHeadingCollapsed": true
   },
   "source": [
    "#### Freehand"
   ]
  },
  {
   "cell_type": "markdown",
      "metadata": {
      "deletable": false,
      "editable": false,
    "id": "0fzz9uReDJ2g"
   },
   "source": [
    "\n",
    "**Step 1 - Prepare to train the model**\n",
    "\n",
    "To train data using the regression model, we use the model and call the fit() method from it.\n",
    "\n",
    "`logreg.fit()`\n"
   ]
  },
  {
   "cell_type": "markdown",
      "metadata": {
      "deletable": false,
      "editable": false,
    "id": "5m9v8IdRDL9v"
   },
   "source": [
    "\n",
    "**Step 2 - Have the training features ready**\n",
    "\n",
    "The next step for training the model is to select the features to train the model. In this step, we choose the features and add them as a parameter dataframe.\n",
    "\n",
    "`logreg.fit(train[['Methane', 'NOxEmissions', 'PM2.5Emissions', 'VOCEmissions', 'SO2Emissions', 'CO2Emissions']]`"
   ]
  },
  {
   "cell_type": "markdown",
      "metadata": {
      "deletable": false,
      "editable": false,
    "id": "aabwBxKxDOMH"
   },
   "source": [
    "\n",
    "**Step 3 - Have the training label ready**\n",
    "\n",
    "Next, we need to add the data labels for the selected features. We add the data labels(Contaminated feature) as a parameter in the fit() method.\n",
    "\n",
    "`logreg.fit(train[['Methane', 'NOxEmissions', 'PM2.5Emissions', 'VOCEmissions', 'SO2Emissions', 'CO2Emissions']],train['Contaminated'])`\n"
   ]
  },
  {
   "cell_type": "markdown",
      "metadata": {
      "deletable": false,
      "editable": false,
    "id": "7VDlunc3DQER"
   },
   "source": [
    "\n",
    "**Step 4 - Measure the correctness on the training dataset**\n",
    "\n",
    "To measure the correctness of the model, we will use the score() method from the linear model library. Just in as the previous step, we will just replace the fit() method with the score() method. This will give us the logistic regression models correctness score.\n",
    "\n",
    "`logreg.score(train[['Methane', 'NOxEmissions', 'PM2.5Emissions', 'VOCEmissions', 'SO2Emissions', 'CO2Emissions']],train['Contaminated'])`\n"
   ]
  },
  {
   "cell_type": "markdown",
      "metadata": {
      "deletable": false,
      "editable": false,
    "id": "_tFOcfb9DTSO"
   },
   "source": [
    "\n",
    "**Step 5 - Run the code**\n",
    "\n",
    "Hit ‘control’ and ‘enter’ at the same time to run the code!\n",
    "\t\n",
    "<details>\n",
    "    <summary>Click to see the answer...</summary>\n",
    "\n",
    "![](https://pbs.twimg.com/media/GbpOBENXUAAkUN5?format=jpg&name=small)\n",
    "\n",
    "</details>"
   ]
  },
  {
   "cell_type": "markdown",
      "metadata": {
      "deletable": false,
      "editable": false,
    "id": "1Yhr5ZsqDUTo"
   },
   "source": [
    "\n",
    "**Your Turn**: Now it’s your turn to try it out!\n"
   ]
  },
  {
   "cell_type": "code",
   "execution_count": 3,
   "metadata": {
    "colab": {
     "base_uri": "https://localhost:8080/"
    },
    "id": "S9CA0d62DWrJ",
    "outputId": "a7139b16-6ca2-4609-f1a8-1862abf8424f"
   },
   "outputs": [],
   "source": [
    "#freehand code \n"
   ]
  },
  {
   "cell_type": "markdown",
      "metadata": {
      "deletable": false,
      "editable": false,
    "id": "yL9uybgpDVJ_"
   },
   "source": [
    "\n",
    "\n",
    "**Explanation**:  *You have trained a logistic regression model to predict whether a sample is contaminated based on different factors, like levels of Methane, NOx, PM2.5, VOC, SO2, and CO2 emissions. Also you have calculated the accuracy of this training. The result was 0.96, which means the model correctly predicts contamination 96% of the time on the training data, indicating it’s performing well at identifying which samples are contaminated based on these emissions*.\n"
   ]
  },
  {
   "cell_type": "markdown",
      "metadata": {
      "deletable": false,
      "editable": false,
    "id": "93BZXahpEE7I"
   },
   "source": [
    "### Goal 9: Bringing in the Test Data\n",
    "\n",
    "So we’ve looked at the training dataset to learn something about our data. How about applying it to the rest of the dataset and ‘test’ to see how good our predictions are?"
   ]
  },
  {
   "cell_type": "markdown",
      "metadata": {
      "deletable": false,
      "editable": false,
    "id": "2crGEt0GEHMM",
    "jp-MarkdownHeadingCollapsed": true
   },
   "source": [
    "#### Blockly"
   ]
  },
  {
   "cell_type": "markdown",
      "metadata": {
      "deletable": false,
      "editable": false,
    "id": "I8UWgG7fEIU4"
   },
   "source": [
    "\n",
    "**Step 1 - Write out the variable name you want to use**\n",
    "\n",
    "Now that we’re all set with our new package to help us to do cool things, let’s bring the data into a variable and call it ‘**test**’.\n",
    "\n",
    "In Blockly, bring in the VARIABLES menu.\n"
   ]
  },
  {
   "cell_type": "markdown",
      "metadata": {
      "deletable": false,
      "editable": false,
    "id": "Z70QYoz0EP55"
   },
   "source": [
    "\n",
    "**Step 2 - Assign the dataframe to the variable you created**\n",
    "\n",
    "Just like we did before, let’s type out a variable name. Rather than type out the full file name for our data, this easy to remember name will hold the data we bring in.\n",
    "\n",
    "In Blockly, go to the Variables and drag the Set block for the **test** variable. This will allow us to assign the result of a function call to the variable. A function is basically code that does a specific task for us.\n"
   ]
  },
  {
   "cell_type": "markdown",
      "metadata": {
      "deletable": false,
      "editable": false,
    "id": "ZCTjS7DPESJJ"
   },
   "source": [
    "\n",
    "**Step 3 - Bring in the data**\n",
    "\n",
    "Now we need to look at the file that has all our data. To load our dataframe, we’ll use a simple command to bring in the file we need (CSV….Comma Separated Values). Let’s say we have a file called \"datasets/AirQualityTest.csv\" in the folder **‘datasets’**. We’re telling Python to read the CSV file and store it in a variable called **test**.\n",
    "\n",
    "From the Variable menu, drag a DO block using the **pd** variable, go ahead with the do operation **read_csv**. The read_csv function reads a CSV file and returns a DataFrame object.\n",
    "\n",
    "In our case, let’s bring in the “datasets/AirQualityTest.csv\" (use the Quotes from the TEXT menu) because that is what Angelina is working with.\n"
   ]
  },
  {
   "cell_type": "markdown",
      "metadata": {
      "deletable": false,
      "editable": false,
    "id": "LZGBgdFiETvD"
   },
   "source": [
    "\n",
    "**Step 4 - Print the variable**\n",
    "\n",
    "Let’s see it now by ‘printing’ and showing our work.\n",
    "\n",
    "Drag the **test** variable to the workspace, making it available for further use in our program. This step is more of a visualization step, as it allows us to see the variable in the Blockly workspace.\n"
   ]
  },
  {
   "cell_type": "markdown",
      "metadata": {
      "deletable": false,
      "editable": false,
    "id": "-TeXaLVREUmK"
   },
   "source": [
    "\n",
    "**Step 5 - Connect the blocks to run the code**\n",
    "\n",
    "Connect the blocks and run the code!\n",
    "\t\n",
    "<details>\n",
    "    <summary>Click to see the answer...</summary>\n",
    "\n",
    "![](https://pbs.twimg.com/media/GaQ0zDqWUAAzB82?format=png&name=small)\n",
    "\n",
    "</details>"
   ]
  },
  {
   "cell_type": "code",
   "execution_count": null,
   "metadata": {},
   "outputs": [],
   "source": [
    "#blocks code\n"
   ]
  },
  {
   "cell_type": "markdown",
      "metadata": {
      "deletable": false,
      "editable": false,
    "id": "t9zaaOujEyMQ",
    "jp-MarkdownHeadingCollapsed": true
   },
   "source": [
    "#### Freehand"
   ]
  },
  {
   "cell_type": "markdown",
      "metadata": {
      "deletable": false,
      "editable": false,
    "id": "mtCvsMw9Ezgj"
   },
   "source": [
    "\n",
    "**Step 1 - Write out the variable name you want to use**\n",
    "\n",
    "Now that we’re all set with our new package to help us to do cool things, let’s bring the data into a variable called **test**. Think of it as a digital spreadsheet with much more power to analyze and manipulate the data!\n"
   ]
  },
  {
   "cell_type": "markdown",
      "metadata": {
      "deletable": false,
      "editable": false,
    "id": "VtFGKbVSE1T_"
   },
   "source": [
    "\n",
    "**Step 2 - Assign the dataframe to the variable you created**\n",
    "\n",
    "Just like we did before, let’s type out a variable name. Rather than type out the full file name for our data, this easy to remember name will hold the data we bring in.\n"
   ]
  },
  {
   "cell_type": "markdown",
      "metadata": {
      "deletable": false,
      "editable": false,
    "id": "-LPxZqN9E264"
   },
   "source": [
    "\n",
    "**Step 3 - Bring in the data**\n",
    "\n",
    "Now we need to look at the file that has all our data.\n",
    "\n",
    "To load our dataframe, we’ll use a simple command to bring in the file we need (CSV….Comma Separated Values). Let’s say we have a file called ‘AirQualityTest.csv' in the folder **‘datasets’**. We’re telling Python to read the CSV file and store it in a variable called **test**. For this function, we need to specify the code as “pd.read_csv”, which makes the code read the csv file. This variable is now our dataframe!\n",
    "\n",
    "In our case, let’s bring in the “datasets/AirQualityTest.csv” (user the Quotes from the TEXT menu) because that is what the group is working with.\n"
   ]
  },
  {
   "cell_type": "markdown",
      "metadata": {
      "deletable": false,
      "editable": false,
    "id": "E2Rf77UVE4DT"
   },
   "source": [
    "\n",
    "**Step 4 - Print the variable**\n",
    "\n",
    "Let’s see it now by ‘printing’ and showing our work. Retype the variable name underneath the code and it will print the code. In this case, we will type out the variable name **test**.\n"
   ]
  },
  {
   "cell_type": "markdown",
      "metadata": {
      "deletable": false,
      "editable": false,
    "id": "0MAVN181E4zT"
   },
   "source": [
    "\n",
    "**Step 5 - Run the code**\n",
    "\n",
    "Hit ‘control’ and ‘enter’ at the same time to run the code!\n",
    "\t\n",
    "<details>\n",
    "    <summary>Click to see the answer...</summary>\n",
    "\n",
    "![](https://pbs.twimg.com/media/GaQ0w41WMAA60B_?format=png&name=small)\n",
    "\n",
    "</details>"
   ]
  },
  {
   "cell_type": "markdown",
      "metadata": {
      "deletable": false,
      "editable": false,
    "id": "eO7hteFDFIBH"
   },
   "source": [
    "**Your Turn**: Now it’s your turn!  Let’s dive in and start working with the data!  We’ll begin by loading it into a dataframe, which will allow us to easily interact with and analyze the dataset.\n"
   ]
  },
  {
   "cell_type": "code",
   "execution_count": 14,
   "metadata": {
    "colab": {
     "base_uri": "https://localhost:8080/",
     "height": 423
    },
    "id": "xY8u1QRfFLRr",
    "outputId": "04607118-2708-47a7-81c9-8ee41e6f7a9a"
   },
   "outputs": [
    {
     "data": {
      "application/vnd.google.colaboratory.intrinsic+json": {
       "summary": "{\n  \"name\": \"test\",\n  \"rows\": 554,\n  \"fields\": [\n    {\n      \"column\": \"Contaminated\",\n      \"properties\": {\n        \"dtype\": \"number\",\n        \"std\": 0,\n        \"min\": 0,\n        \"max\": 1,\n        \"num_unique_values\": 2,\n        \"samples\": [\n          1,\n          0\n        ],\n        \"semantic_type\": \"\",\n        \"description\": \"\"\n      }\n    },\n    {\n      \"column\": \"Methane\",\n      \"properties\": {\n        \"dtype\": \"number\",\n        \"std\": 186,\n        \"min\": 263,\n        \"max\": 1254,\n        \"num_unique_values\": 368,\n        \"samples\": [\n          418,\n          799\n        ],\n        \"semantic_type\": \"\",\n        \"description\": \"\"\n      }\n    },\n    {\n      \"column\": \"NOxEmissions\",\n      \"properties\": {\n        \"dtype\": \"number\",\n        \"std\": 174,\n        \"min\": 365,\n        \"max\": 1367,\n        \"num_unique_values\": 356,\n        \"samples\": [\n          724,\n          470\n        ],\n        \"semantic_type\": \"\",\n        \"description\": \"\"\n      }\n    },\n    {\n      \"column\": \"PM2.5Emissions\",\n      \"properties\": {\n        \"dtype\": \"number\",\n        \"std\": 205,\n        \"min\": 758,\n        \"max\": 1715,\n        \"num_unique_values\": 390,\n        \"samples\": [\n          1332,\n          1277\n        ],\n        \"semantic_type\": \"\",\n        \"description\": \"\"\n      }\n    },\n    {\n      \"column\": \"VOCEmissions\",\n      \"properties\": {\n        \"dtype\": \"number\",\n        \"std\": 120,\n        \"min\": 1341,\n        \"max\": 1925,\n        \"num_unique_values\": 308,\n        \"samples\": [\n          1754,\n          1800\n        ],\n        \"semantic_type\": \"\",\n        \"description\": \"\"\n      }\n    },\n    {\n      \"column\": \"SO2Emissions\",\n      \"properties\": {\n        \"dtype\": \"number\",\n        \"std\": 277,\n        \"min\": 792,\n        \"max\": 1948,\n        \"num_unique_values\": 426,\n        \"samples\": [\n          1548,\n          1203\n        ],\n        \"semantic_type\": \"\",\n        \"description\": \"\"\n      }\n    },\n    {\n      \"column\": \"CO2Emissions\",\n      \"properties\": {\n        \"dtype\": \"number\",\n        \"std\": 180,\n        \"min\": 1797,\n        \"max\": 2700,\n        \"num_unique_values\": 360,\n        \"samples\": [\n          2278,\n          2541\n        ],\n        \"semantic_type\": \"\",\n        \"description\": \"\"\n      }\n    }\n  ]\n}",
       "type": "dataframe",
       "variable_name": "test"
      },
      "text/html": [
       "\n",
       "  <div id=\"df-cdb718a3-9654-4f3f-829a-a1f314f6a6b4\" class=\"colab-df-container\">\n",
       "    <div>\n",
       "<style scoped>\n",
       "    .dataframe tbody tr th:only-of-type {\n",
       "        vertical-align: middle;\n",
       "    }\n",
       "\n",
       "    .dataframe tbody tr th {\n",
       "        vertical-align: top;\n",
       "    }\n",
       "\n",
       "    .dataframe thead th {\n",
       "        text-align: right;\n",
       "    }\n",
       "</style>\n",
       "<table border=\"1\" class=\"dataframe\">\n",
       "  <thead>\n",
       "    <tr style=\"text-align: right;\">\n",
       "      <th></th>\n",
       "      <th>Contaminated</th>\n",
       "      <th>Methane</th>\n",
       "      <th>NOxEmissions</th>\n",
       "      <th>PM2.5Emissions</th>\n",
       "      <th>VOCEmissions</th>\n",
       "      <th>SO2Emissions</th>\n",
       "      <th>CO2Emissions</th>\n",
       "    </tr>\n",
       "  </thead>\n",
       "  <tbody>\n",
       "    <tr>\n",
       "      <th>0</th>\n",
       "      <td>0</td>\n",
       "      <td>355</td>\n",
       "      <td>433</td>\n",
       "      <td>917</td>\n",
       "      <td>1472</td>\n",
       "      <td>947</td>\n",
       "      <td>2245</td>\n",
       "    </tr>\n",
       "    <tr>\n",
       "      <th>1</th>\n",
       "      <td>1</td>\n",
       "      <td>749</td>\n",
       "      <td>832</td>\n",
       "      <td>1438</td>\n",
       "      <td>1740</td>\n",
       "      <td>1492</td>\n",
       "      <td>1866</td>\n",
       "    </tr>\n",
       "    <tr>\n",
       "      <th>2</th>\n",
       "      <td>1</td>\n",
       "      <td>556</td>\n",
       "      <td>635</td>\n",
       "      <td>1166</td>\n",
       "      <td>1599</td>\n",
       "      <td>1282</td>\n",
       "      <td>2144</td>\n",
       "    </tr>\n",
       "    <tr>\n",
       "      <th>3</th>\n",
       "      <td>1</td>\n",
       "      <td>479</td>\n",
       "      <td>594</td>\n",
       "      <td>1192</td>\n",
       "      <td>1534</td>\n",
       "      <td>1243</td>\n",
       "      <td>2012</td>\n",
       "    </tr>\n",
       "    <tr>\n",
       "      <th>4</th>\n",
       "      <td>0</td>\n",
       "      <td>373</td>\n",
       "      <td>435</td>\n",
       "      <td>867</td>\n",
       "      <td>1416</td>\n",
       "      <td>912</td>\n",
       "      <td>2286</td>\n",
       "    </tr>\n",
       "    <tr>\n",
       "      <th>...</th>\n",
       "      <td>...</td>\n",
       "      <td>...</td>\n",
       "      <td>...</td>\n",
       "      <td>...</td>\n",
       "      <td>...</td>\n",
       "      <td>...</td>\n",
       "      <td>...</td>\n",
       "    </tr>\n",
       "    <tr>\n",
       "      <th>549</th>\n",
       "      <td>1</td>\n",
       "      <td>543</td>\n",
       "      <td>654</td>\n",
       "      <td>1268</td>\n",
       "      <td>1642</td>\n",
       "      <td>1192</td>\n",
       "      <td>2099</td>\n",
       "    </tr>\n",
       "    <tr>\n",
       "      <th>550</th>\n",
       "      <td>1</td>\n",
       "      <td>459</td>\n",
       "      <td>572</td>\n",
       "      <td>1060</td>\n",
       "      <td>1543</td>\n",
       "      <td>1185</td>\n",
       "      <td>2124</td>\n",
       "    </tr>\n",
       "    <tr>\n",
       "      <th>551</th>\n",
       "      <td>1</td>\n",
       "      <td>520</td>\n",
       "      <td>633</td>\n",
       "      <td>1218</td>\n",
       "      <td>1627</td>\n",
       "      <td>1103</td>\n",
       "      <td>2137</td>\n",
       "    </tr>\n",
       "    <tr>\n",
       "      <th>552</th>\n",
       "      <td>0</td>\n",
       "      <td>387</td>\n",
       "      <td>489</td>\n",
       "      <td>850</td>\n",
       "      <td>1486</td>\n",
       "      <td>1005</td>\n",
       "      <td>2262</td>\n",
       "    </tr>\n",
       "    <tr>\n",
       "      <th>553</th>\n",
       "      <td>1</td>\n",
       "      <td>542</td>\n",
       "      <td>619</td>\n",
       "      <td>1063</td>\n",
       "      <td>1581</td>\n",
       "      <td>1429</td>\n",
       "      <td>2300</td>\n",
       "    </tr>\n",
       "  </tbody>\n",
       "</table>\n",
       "<p>554 rows × 7 columns</p>\n",
       "</div>\n",
       "    <div class=\"colab-df-buttons\">\n",
       "\n",
       "  <div class=\"colab-df-container\">\n",
       "    <button class=\"colab-df-convert\" onclick=\"convertToInteractive('df-cdb718a3-9654-4f3f-829a-a1f314f6a6b4')\"\n",
       "            title=\"Convert this dataframe to an interactive table.\"\n",
       "            style=\"display:none;\">\n",
       "\n",
       "  <svg xmlns=\"http://www.w3.org/2000/svg\" height=\"24px\" viewBox=\"0 -960 960 960\">\n",
       "    <path d=\"M120-120v-720h720v720H120Zm60-500h600v-160H180v160Zm220 220h160v-160H400v160Zm0 220h160v-160H400v160ZM180-400h160v-160H180v160Zm440 0h160v-160H620v160ZM180-180h160v-160H180v160Zm440 0h160v-160H620v160Z\"/>\n",
       "  </svg>\n",
       "    </button>\n",
       "\n",
       "  <style>\n",
       "    .colab-df-container {\n",
       "      display:flex;\n",
       "      gap: 12px;\n",
       "    }\n",
       "\n",
       "    .colab-df-convert {\n",
       "      background-color: #E8F0FE;\n",
       "      border: none;\n",
       "      border-radius: 50%;\n",
       "      cursor: pointer;\n",
       "      display: none;\n",
       "      fill: #1967D2;\n",
       "      height: 32px;\n",
       "      padding: 0 0 0 0;\n",
       "      width: 32px;\n",
       "    }\n",
       "\n",
       "    .colab-df-convert:hover {\n",
       "      background-color: #E2EBFA;\n",
       "      box-shadow: 0px 1px 2px rgba(60, 64, 67, 0.3), 0px 1px 3px 1px rgba(60, 64, 67, 0.15);\n",
       "      fill: #174EA6;\n",
       "    }\n",
       "\n",
       "    .colab-df-buttons div {\n",
       "      margin-bottom: 4px;\n",
       "    }\n",
       "\n",
       "    [theme=dark] .colab-df-convert {\n",
       "      background-color: #3B4455;\n",
       "      fill: #D2E3FC;\n",
       "    }\n",
       "\n",
       "    [theme=dark] .colab-df-convert:hover {\n",
       "      background-color: #434B5C;\n",
       "      box-shadow: 0px 1px 3px 1px rgba(0, 0, 0, 0.15);\n",
       "      filter: drop-shadow(0px 1px 2px rgba(0, 0, 0, 0.3));\n",
       "      fill: #FFFFFF;\n",
       "    }\n",
       "  </style>\n",
       "\n",
       "    <script>\n",
       "      const buttonEl =\n",
       "        document.querySelector('#df-cdb718a3-9654-4f3f-829a-a1f314f6a6b4 button.colab-df-convert');\n",
       "      buttonEl.style.display =\n",
       "        google.colab.kernel.accessAllowed ? 'block' : 'none';\n",
       "\n",
       "      async function convertToInteractive(key) {\n",
       "        const element = document.querySelector('#df-cdb718a3-9654-4f3f-829a-a1f314f6a6b4');\n",
       "        const dataTable =\n",
       "          await google.colab.kernel.invokeFunction('convertToInteractive',\n",
       "                                                    [key], {});\n",
       "        if (!dataTable) return;\n",
       "\n",
       "        const docLinkHtml = 'Like what you see? Visit the ' +\n",
       "          '<a target=\"_blank\" href=https://colab.research.google.com/notebooks/data_table.ipynb>data table notebook</a>'\n",
       "          + ' to learn more about interactive tables.';\n",
       "        element.innerHTML = '';\n",
       "        dataTable['output_type'] = 'display_data';\n",
       "        await google.colab.output.renderOutput(dataTable, element);\n",
       "        const docLink = document.createElement('div');\n",
       "        docLink.innerHTML = docLinkHtml;\n",
       "        element.appendChild(docLink);\n",
       "      }\n",
       "    </script>\n",
       "  </div>\n",
       "\n",
       "\n",
       "<div id=\"df-756a1c37-8f0e-4d74-8528-d088a645479e\">\n",
       "  <button class=\"colab-df-quickchart\" onclick=\"quickchart('df-756a1c37-8f0e-4d74-8528-d088a645479e')\"\n",
       "            title=\"Suggest charts\"\n",
       "            style=\"display:none;\">\n",
       "\n",
       "<svg xmlns=\"http://www.w3.org/2000/svg\" height=\"24px\"viewBox=\"0 0 24 24\"\n",
       "     width=\"24px\">\n",
       "    <g>\n",
       "        <path d=\"M19 3H5c-1.1 0-2 .9-2 2v14c0 1.1.9 2 2 2h14c1.1 0 2-.9 2-2V5c0-1.1-.9-2-2-2zM9 17H7v-7h2v7zm4 0h-2V7h2v10zm4 0h-2v-4h2v4z\"/>\n",
       "    </g>\n",
       "</svg>\n",
       "  </button>\n",
       "\n",
       "<style>\n",
       "  .colab-df-quickchart {\n",
       "      --bg-color: #E8F0FE;\n",
       "      --fill-color: #1967D2;\n",
       "      --hover-bg-color: #E2EBFA;\n",
       "      --hover-fill-color: #174EA6;\n",
       "      --disabled-fill-color: #AAA;\n",
       "      --disabled-bg-color: #DDD;\n",
       "  }\n",
       "\n",
       "  [theme=dark] .colab-df-quickchart {\n",
       "      --bg-color: #3B4455;\n",
       "      --fill-color: #D2E3FC;\n",
       "      --hover-bg-color: #434B5C;\n",
       "      --hover-fill-color: #FFFFFF;\n",
       "      --disabled-bg-color: #3B4455;\n",
       "      --disabled-fill-color: #666;\n",
       "  }\n",
       "\n",
       "  .colab-df-quickchart {\n",
       "    background-color: var(--bg-color);\n",
       "    border: none;\n",
       "    border-radius: 50%;\n",
       "    cursor: pointer;\n",
       "    display: none;\n",
       "    fill: var(--fill-color);\n",
       "    height: 32px;\n",
       "    padding: 0;\n",
       "    width: 32px;\n",
       "  }\n",
       "\n",
       "  .colab-df-quickchart:hover {\n",
       "    background-color: var(--hover-bg-color);\n",
       "    box-shadow: 0 1px 2px rgba(60, 64, 67, 0.3), 0 1px 3px 1px rgba(60, 64, 67, 0.15);\n",
       "    fill: var(--button-hover-fill-color);\n",
       "  }\n",
       "\n",
       "  .colab-df-quickchart-complete:disabled,\n",
       "  .colab-df-quickchart-complete:disabled:hover {\n",
       "    background-color: var(--disabled-bg-color);\n",
       "    fill: var(--disabled-fill-color);\n",
       "    box-shadow: none;\n",
       "  }\n",
       "\n",
       "  .colab-df-spinner {\n",
       "    border: 2px solid var(--fill-color);\n",
       "    border-color: transparent;\n",
       "    border-bottom-color: var(--fill-color);\n",
       "    animation:\n",
       "      spin 1s steps(1) infinite;\n",
       "  }\n",
       "\n",
       "  @keyframes spin {\n",
       "    0% {\n",
       "      border-color: transparent;\n",
       "      border-bottom-color: var(--fill-color);\n",
       "      border-left-color: var(--fill-color);\n",
       "    }\n",
       "    20% {\n",
       "      border-color: transparent;\n",
       "      border-left-color: var(--fill-color);\n",
       "      border-top-color: var(--fill-color);\n",
       "    }\n",
       "    30% {\n",
       "      border-color: transparent;\n",
       "      border-left-color: var(--fill-color);\n",
       "      border-top-color: var(--fill-color);\n",
       "      border-right-color: var(--fill-color);\n",
       "    }\n",
       "    40% {\n",
       "      border-color: transparent;\n",
       "      border-right-color: var(--fill-color);\n",
       "      border-top-color: var(--fill-color);\n",
       "    }\n",
       "    60% {\n",
       "      border-color: transparent;\n",
       "      border-right-color: var(--fill-color);\n",
       "    }\n",
       "    80% {\n",
       "      border-color: transparent;\n",
       "      border-right-color: var(--fill-color);\n",
       "      border-bottom-color: var(--fill-color);\n",
       "    }\n",
       "    90% {\n",
       "      border-color: transparent;\n",
       "      border-bottom-color: var(--fill-color);\n",
       "    }\n",
       "  }\n",
       "</style>\n",
       "\n",
       "  <script>\n",
       "    async function quickchart(key) {\n",
       "      const quickchartButtonEl =\n",
       "        document.querySelector('#' + key + ' button');\n",
       "      quickchartButtonEl.disabled = true;  // To prevent multiple clicks.\n",
       "      quickchartButtonEl.classList.add('colab-df-spinner');\n",
       "      try {\n",
       "        const charts = await google.colab.kernel.invokeFunction(\n",
       "            'suggestCharts', [key], {});\n",
       "      } catch (error) {\n",
       "        console.error('Error during call to suggestCharts:', error);\n",
       "      }\n",
       "      quickchartButtonEl.classList.remove('colab-df-spinner');\n",
       "      quickchartButtonEl.classList.add('colab-df-quickchart-complete');\n",
       "    }\n",
       "    (() => {\n",
       "      let quickchartButtonEl =\n",
       "        document.querySelector('#df-756a1c37-8f0e-4d74-8528-d088a645479e button');\n",
       "      quickchartButtonEl.style.display =\n",
       "        google.colab.kernel.accessAllowed ? 'block' : 'none';\n",
       "    })();\n",
       "  </script>\n",
       "</div>\n",
       "\n",
       "  <div id=\"id_bc395a43-b973-4ca7-9c57-36dc32d9e420\">\n",
       "    <style>\n",
       "      .colab-df-generate {\n",
       "        background-color: #E8F0FE;\n",
       "        border: none;\n",
       "        border-radius: 50%;\n",
       "        cursor: pointer;\n",
       "        display: none;\n",
       "        fill: #1967D2;\n",
       "        height: 32px;\n",
       "        padding: 0 0 0 0;\n",
       "        width: 32px;\n",
       "      }\n",
       "\n",
       "      .colab-df-generate:hover {\n",
       "        background-color: #E2EBFA;\n",
       "        box-shadow: 0px 1px 2px rgba(60, 64, 67, 0.3), 0px 1px 3px 1px rgba(60, 64, 67, 0.15);\n",
       "        fill: #174EA6;\n",
       "      }\n",
       "\n",
       "      [theme=dark] .colab-df-generate {\n",
       "        background-color: #3B4455;\n",
       "        fill: #D2E3FC;\n",
       "      }\n",
       "\n",
       "      [theme=dark] .colab-df-generate:hover {\n",
       "        background-color: #434B5C;\n",
       "        box-shadow: 0px 1px 3px 1px rgba(0, 0, 0, 0.15);\n",
       "        filter: drop-shadow(0px 1px 2px rgba(0, 0, 0, 0.3));\n",
       "        fill: #FFFFFF;\n",
       "      }\n",
       "    </style>\n",
       "    <button class=\"colab-df-generate\" onclick=\"generateWithVariable('test')\"\n",
       "            title=\"Generate code using this dataframe.\"\n",
       "            style=\"display:none;\">\n",
       "\n",
       "  <svg xmlns=\"http://www.w3.org/2000/svg\" height=\"24px\"viewBox=\"0 0 24 24\"\n",
       "       width=\"24px\">\n",
       "    <path d=\"M7,19H8.4L18.45,9,17,7.55,7,17.6ZM5,21V16.75L18.45,3.32a2,2,0,0,1,2.83,0l1.4,1.43a1.91,1.91,0,0,1,.58,1.4,1.91,1.91,0,0,1-.58,1.4L9.25,21ZM18.45,9,17,7.55Zm-12,3A5.31,5.31,0,0,0,4.9,8.1,5.31,5.31,0,0,0,1,6.5,5.31,5.31,0,0,0,4.9,4.9,5.31,5.31,0,0,0,6.5,1,5.31,5.31,0,0,0,8.1,4.9,5.31,5.31,0,0,0,12,6.5,5.46,5.46,0,0,0,6.5,12Z\"/>\n",
       "  </svg>\n",
       "    </button>\n",
       "    <script>\n",
       "      (() => {\n",
       "      const buttonEl =\n",
       "        document.querySelector('#id_bc395a43-b973-4ca7-9c57-36dc32d9e420 button.colab-df-generate');\n",
       "      buttonEl.style.display =\n",
       "        google.colab.kernel.accessAllowed ? 'block' : 'none';\n",
       "\n",
       "      buttonEl.onclick = () => {\n",
       "        google.colab.notebook.generateWithVariable('test');\n",
       "      }\n",
       "      })();\n",
       "    </script>\n",
       "  </div>\n",
       "\n",
       "    </div>\n",
       "  </div>\n"
      ],
      "text/plain": [
       "     Contaminated  Methane  NOxEmissions  PM2.5Emissions  VOCEmissions  \\\n",
       "0               0      355           433             917          1472   \n",
       "1               1      749           832            1438          1740   \n",
       "2               1      556           635            1166          1599   \n",
       "3               1      479           594            1192          1534   \n",
       "4               0      373           435             867          1416   \n",
       "..            ...      ...           ...             ...           ...   \n",
       "549             1      543           654            1268          1642   \n",
       "550             1      459           572            1060          1543   \n",
       "551             1      520           633            1218          1627   \n",
       "552             0      387           489             850          1486   \n",
       "553             1      542           619            1063          1581   \n",
       "\n",
       "     SO2Emissions  CO2Emissions  \n",
       "0             947          2245  \n",
       "1            1492          1866  \n",
       "2            1282          2144  \n",
       "3            1243          2012  \n",
       "4             912          2286  \n",
       "..            ...           ...  \n",
       "549          1192          2099  \n",
       "550          1185          2124  \n",
       "551          1103          2137  \n",
       "552          1005          2262  \n",
       "553          1429          2300  \n",
       "\n",
       "[554 rows x 7 columns]"
      ]
     },
     "execution_count": 14,
     "metadata": {},
     "output_type": "execute_result"
    }
   ],
   "source": [
    "#freehand code \n"
   ]
  },
  {
   "cell_type": "markdown",
      "metadata": {
      "deletable": false,
      "editable": false,
    "id": "gtYd-wfUFO5_"
   },
   "source": [
    "\n",
    "**Explanation**: *Easy-peasy! You have now brought in the dataframe and stored it as a variable that you can reference later on. Now onto the fun part*!\n",
    "\n",
    "*You have loaded now a testing dataset. A test dataset is necessary because it allows us to check how well our model or analysis works on new, unseen data. When we train a model, we use one set of data to learn from (called the training dataset), but we also need to make sure it performs well on different data (the test dataset). This helps us know if the model can generalize to real-world situations, not just the data it was trained on*."
   ]
  },
  {
   "cell_type": "markdown",
      "metadata": {
      "deletable": false,
      "editable": false,
    "id": "IMxZMJqTFdDd"
   },
   "source": [
    "### Goal 10: Predict labels for testing dataset (ie - rest of the data)\n",
    "\n",
    "So far, we’ve taken a smaller part of all our data to train and try and learn something about it. Can we take what we’ve learned from the training and use it to predict the rest of our dataset?"
   ]
  },
  {
   "cell_type": "markdown",
      "metadata": {
      "deletable": false,
      "editable": false,
    "id": "USPg_Fs0FrVa",
    "jp-MarkdownHeadingCollapsed": true
   },
   "source": [
    "#### Blockly"
   ]
  },
  {
   "cell_type": "markdown",
      "metadata": {
      "deletable": false,
      "editable": false,
    "id": "fiZZ_cSXFs5i"
   },
   "source": [
    "\n",
    "**Step 1 - Write out the variable name you want to use**\n",
    "\n",
    "Now that we’re all set with our new package to help us to do cool things, let’s bring the data into a variable and call it **predictions**.\n",
    "\n",
    "From the Variables menu, click Create Variable, and type **predictions**. On the same menu, drag the Set block of the prediction variable. This variable will hold the result of the prediction."
   ]
  },
  {
   "cell_type": "markdown",
      "metadata": {
      "deletable": false,
      "editable": false,
    "id": "EKUhpn1fF1Tl"
   },
   "source": [
    "\n",
    "\n",
    "**Step 2 - Prepare the predict operation**\n",
    "\n",
    "So let’s take the **logreg** variable from before and try to predict the label of the new dataset (contaminated, not contaminated). Let’s start by using the predict() method from the logistic regression model.\n",
    "\n",
    "From the Variables menu, get a DO block, for the **logreg** variable. With that, select the operation **predict**.\n"
   ]
  },
  {
   "cell_type": "markdown",
      "metadata": {
      "deletable": false,
      "editable": false,
    "id": "mnmRx3USF3cb"
   },
   "source": [
    "\n",
    "**Step 3 - Set the test features**\n",
    "\n",
    "Inside the predict() method, we provide the test features from the test data. This will use the 6 features (ie - columns) to predict the labels.\n",
    "\n",
    "From the Lists menu, drag a dictVariable,and select the \"test\" variable from the list of available variables. Also, from the Lists menu, you will get a Create List block. Using the Gear icon, add up to 6 items. For each one of the items, add a Text (a Quote “” from the Text menu), as follows:  \"Methane\", \"NOxEmissions\", \"PM2.5Emissions\", \"VOCEmissions\", \"SO2Emissions\", and \"CO2Emissions\". These are the feature names applied to predict the target label on the testing dataset. Store the output of the logistic regression prediction in the \"predictions\" variable. This variable will now hold the result of the prediction.\n"
   ]
  },
  {
   "cell_type": "markdown",
      "metadata": {
      "deletable": false,
      "editable": false,
    "id": "bi1_P7reF54X"
   },
   "source": [
    "\n",
    "**Step 4 - Assign the predictions to the variable you created**\n",
    "\n",
    "Just like we did before, let’s type out a variable name. Rather than type out the full file name for our data, this easy to remember name will hold the data we bring in.\n",
    "\n",
    "In Blockly, go to the Variables and drag the Set block for the **dataframe** variable. This will allow us to assign the result of a function call to the variable.\n",
    "\n",
    "Next, we store the prediction labels into a variable **‘predictions’**. To do that, we have to connect the SET predictions variable to the **logreg.predict**() block.\n"
   ]
  },
  {
   "cell_type": "markdown",
      "metadata": {
      "deletable": false,
      "editable": false,
    "id": "KhIAqAAzF74R"
   },
   "source": [
    "\n",
    "\n",
    "**Step 5 - Display the predictions**\n",
    "\n",
    "Let’s see it now by ‘printing’ and showing our work.\n",
    "\n",
    "Drag the **predictions** variable to the workspace, making it available for further use in our program. This step is more of a visualization step, as it allows us to see the variable in the Blockly workspace.\n",
    "\n",
    "Finally, we display the prediction labels using ‘predictions’\n",
    "\n",
    "From the Variables menu, drag the \"predictions\" variable. This will show the result of the logistic regression predictions.\n"
   ]
  },
  {
   "cell_type": "markdown",
      "metadata": {
      "deletable": false,
      "editable": false,
    "id": "miJBUJlEF9CW"
   },
   "source": [
    "\n",
    "**Step 6 - Connect the blocks to run the code**\n",
    "\n",
    "Connect the blocks and run the code!\n",
    "\t\n",
    "<details>\n",
    "    <summary>Click to see the answer...</summary>\n",
    "\n",
    "![](https://pbs.twimg.com/media/GbpPMAcXkAAedl3?format=png&name=small\n",
    ")\n",
    "</details>"
   ]
  },
  {
   "cell_type": "code",
   "execution_count": null,
   "metadata": {},
   "outputs": [],
   "source": [
    "#blocks code\n"
   ]
  },
  {
   "cell_type": "markdown",
      "metadata": {
      "deletable": false,
      "editable": false,
    "id": "zasPNyUwGjKZ",
    "jp-MarkdownHeadingCollapsed": true
   },
   "source": [
    "#### Freehand"
   ]
  },
  {
   "cell_type": "markdown",
      "metadata": {
      "deletable": false,
      "editable": false,
    "id": "8r9sm_5zGkZe"
   },
   "source": [
    "\n",
    "**Step 1 - Prepare the predict operation**\n",
    "\n",
    "So let’s take the **logreg** variable from before and try to predict the label of the new dataset (contaminated, not contaminated. Let’s start by using the predict() method from the logistic regression model.\n",
    "\n",
    "`logreg.predict() `\n"
   ]
  },
  {
   "cell_type": "markdown",
      "metadata": {
      "deletable": false,
      "editable": false,
    "id": "1jydDQ-KHz4J"
   },
   "source": [
    "\n",
    "**Step 2 - Set the test features **\n",
    "\n",
    "Inside the predict() method, we provide the test features from the test data.\n",
    "\n",
    "`logreg.predict(test[['Methane', 'NOxEmissions', 'PM2.5Emissions', 'VOCEmissions', 'SO2Emissions', 'CO2Emissions']])`\n"
   ]
  },
  {
   "cell_type": "markdown",
      "metadata": {
      "deletable": false,
      "editable": false,
    "id": "0xqioiPUH1xv"
   },
   "source": [
    "\n",
    "**Step 3 - Assign the predictions to the variable you created**\n",
    "\n",
    "Next, we store the prediction labels into a variable ‘predictions’ Just like we did before, let’s type out a variable name. Rather than type out the full file name for our data, this easy to remember name will hold the data we bring in.\n",
    "\n",
    "Next, we store the prediction labels into a variable ‘predictions’\n",
    "\n",
    "`predictions = logreg.predict(test[['Methane', 'NOxEmissions', 'PM2.5Emissions', 'VOCEmissions', 'SO2Emissions', 'CO2Emissions']])`\n"
   ]
  },
  {
   "cell_type": "markdown",
      "metadata": {
      "deletable": false,
      "editable": false,
    "id": "zD2476R6H3iy"
   },
   "source": [
    "\n",
    "**Step 4 - Display the predictions**\n",
    "\n",
    "Finally, we display the prediction labels using ‘predictions.’\n",
    "\n",
    "`predictions`\n",
    "\n"
   ]
  },
  {
   "cell_type": "markdown",
      "metadata": {
      "deletable": false,
      "editable": false,
    "id": "FpZi0cCdH5mZ"
   },
   "source": [
    "\n",
    "**Step 5 - Run the code**\n",
    "\n",
    "Hit ‘control’ and ‘enter’ at the same time to run the code!\n",
    "\t\n",
    "<details>\n",
    "    <summary>Click to see the answer...</summary>\n",
    "\n",
    "![](https://pbs.twimg.com/media/GbpPN8qWQAAnoYB?format=jpg&name=medium\n",
    ")\n",
    "\n",
    "</details>"
   ]
  },
  {
   "cell_type": "markdown",
      "metadata": {
      "deletable": false,
      "editable": false,
    "id": "iq6iojHyH6-y"
   },
   "source": [
    "\n",
    "\n",
    "**Your Turn**: Now it’s your turn!  Let’s dive in and start working with the data!  We’ll begin by loading it into a dataframe, which will allow us to easily interact with and analyze the dataset.\n"
   ]
  },
  {
   "cell_type": "code",
   "execution_count": 15,
   "metadata": {
    "colab": {
     "base_uri": "https://localhost:8080/"
    },
    "id": "8pmOJvW5H7tE",
    "outputId": "6a28e711-697f-4402-e221-e1d1e5b658bf"
   },
   "outputs": [
    {
     "data": {
      "text/plain": [
       "array([0, 1, 1, 1, 0, 1, 0, 1, 1, 1, 1, 0, 1, 1, 1, 1, 1, 0, 1, 0, 1, 1,\n",
       "       1, 0, 1, 1, 1, 1, 0, 0, 1, 1, 1, 1, 1, 1, 1, 0, 1, 1, 1, 1, 1, 1,\n",
       "       0, 0, 1, 0, 0, 1, 0, 1, 1, 1, 0, 1, 0, 1, 0, 1, 1, 1, 1, 0, 1, 1,\n",
       "       1, 1, 1, 1, 1, 1, 1, 1, 1, 1, 1, 1, 1, 1, 0, 1, 0, 1, 0, 1, 1, 0,\n",
       "       1, 1, 1, 1, 0, 0, 1, 1, 0, 1, 1, 1, 0, 1, 1, 1, 0, 0, 0, 1, 1, 0,\n",
       "       1, 1, 1, 1, 1, 1, 0, 1, 1, 1, 1, 1, 0, 1, 1, 1, 1, 1, 1, 1, 0, 1,\n",
       "       1, 1, 1, 1, 1, 1, 1, 1, 1, 1, 0, 1, 0, 1, 1, 1, 1, 0, 1, 1, 0, 0,\n",
       "       1, 1, 0, 1, 1, 1, 1, 0, 1, 1, 0, 0, 1, 0, 0, 1, 1, 1, 0, 1, 1, 0,\n",
       "       0, 0, 1, 1, 1, 0, 0, 1, 0, 0, 1, 0, 0, 0, 0, 0, 1, 1, 1, 1, 0, 1,\n",
       "       1, 1, 1, 1, 1, 0, 1, 0, 1, 0, 1, 1, 1, 1, 0, 1, 0, 1, 1, 1, 0, 1,\n",
       "       1, 1, 1, 1, 0, 1, 0, 1, 0, 1, 1, 1, 0, 0, 0, 1, 0, 0, 0, 1, 0, 1,\n",
       "       1, 1, 1, 0, 0, 1, 1, 1, 1, 1, 1, 0, 1, 1, 1, 1, 1, 1, 1, 0, 0, 0,\n",
       "       0, 1, 0, 0, 0, 1, 0, 1, 0, 1, 1, 0, 0, 1, 1, 1, 1, 1, 1, 1, 1, 1,\n",
       "       0, 0, 0, 0, 1, 0, 1, 1, 1, 1, 1, 1, 1, 1, 1, 1, 1, 1, 1, 1, 1, 0,\n",
       "       1, 0, 1, 1, 0, 1, 1, 1, 0, 1, 1, 1, 1, 1, 0, 1, 1, 1, 1, 1, 1, 0,\n",
       "       1, 1, 0, 0, 0, 1, 1, 0, 1, 0, 0, 1, 0, 0, 0, 1, 1, 1, 1, 1, 0, 1,\n",
       "       1, 0, 1, 1, 1, 0, 1, 1, 0, 1, 0, 1, 1, 1, 0, 1, 1, 0, 1, 0, 1, 1,\n",
       "       1, 1, 0, 1, 1, 1, 0, 1, 1, 1, 1, 1, 0, 1, 1, 1, 0, 1, 0, 0, 0, 1,\n",
       "       1, 1, 0, 0, 0, 1, 1, 1, 1, 1, 1, 0, 1, 1, 1, 1, 1, 1, 1, 1, 1, 1,\n",
       "       0, 1, 1, 1, 1, 1, 1, 1, 0, 0, 0, 1, 1, 1, 1, 1, 0, 1, 0, 1, 1, 1,\n",
       "       1, 1, 1, 1, 1, 1, 0, 1, 1, 1, 1, 1, 1, 1, 1, 0, 1, 1, 1, 1, 1, 0,\n",
       "       1, 0, 1, 1, 0, 1, 1, 0, 1, 0, 1, 1, 0, 1, 1, 1, 1, 1, 0, 1, 1, 0,\n",
       "       1, 1, 1, 0, 0, 0, 1, 1, 1, 1, 1, 0, 1, 0, 1, 1, 1, 1, 1, 1, 1, 1,\n",
       "       0, 0, 1, 0, 1, 1, 0, 0, 1, 0, 1, 0, 0, 1, 1, 1, 1, 1, 1, 0, 1, 0,\n",
       "       1, 0, 1, 0, 1, 0, 1, 0, 1, 1, 1, 1, 1, 0, 0, 0, 1, 1, 1, 1, 1, 1,\n",
       "       1, 1, 0, 1])"
      ]
     },
     "execution_count": 15,
     "metadata": {},
     "output_type": "execute_result"
    }
   ],
   "source": [
    "#freehand code \n"
   ]
  },
  {
   "cell_type": "markdown",
      "metadata": {
      "deletable": false,
      "editable": false,
    "id": "QWe-002OH8es"
   },
   "source": [
    "**Explanation**: *Now, with the test dataset, you used the logistic regression model (logreg) to predict whether each sample in the test dataset is contaminated or not based on its levels of methane, NOx emissions, PM2.5 emissions, VOC emissions, SO2 emissions, and CO2 emissions*."
   ]
  },
  {
   "cell_type": "markdown",
      "metadata": {
      "deletable": false,
      "editable": false,
    "id": "8CCgOTWoIhK5"
   },
   "source": [
    "### Goal 11: Bringing in SKLearn Metrics to Help Look at Performance of Predictions\n",
    "\n",
    "So we’ve tried to predict on our new dataset. How well did we do? Let’s use SKLearn Metrics to help us think through that."
   ]
  },
  {
   "cell_type": "markdown",
      "metadata": {
      "deletable": false,
      "editable": false,
    "id": "4a3T7mRaIq9W",
    "jp-MarkdownHeadingCollapsed": true
   },
   "source": [
    "#### Blockly"
   ]
  },
  {
   "cell_type": "markdown",
      "metadata": {
      "deletable": false,
      "editable": false,
    "id": "1_BC8kDvNzuz"
   },
   "source": [
    "**Step 1 - Starting the import**\n",
    "\n",
    "First, we need to set up a “command” to tell the computer what to do. In this case, “command” is to “import” to bring the add-on package in.\n",
    "\n",
    "Bring in the IMPORT menu, which can be helpful to bring in other data tools. In this case, we're bringing in the **import** block.\n"
   ]
  },
  {
   "cell_type": "markdown",
      "metadata": {
      "deletable": false,
      "editable": false,
    "id": "uUfsZO_hN1W3"
   },
   "source": [
    "\n",
    "**Step 2 - Telling what library to import**\n",
    "\n",
    "In the text area, we type the name of the library we want to import. A library is like an extra thing we bring in to give us more coding abilities. In our case, we will type out **sklearn.metrics**, which is a tool that grades your machine learning model's performance, telling you how well it did on its test..\n"
   ]
  },
  {
   "cell_type": "markdown",
      "metadata": {
      "deletable": false,
      "editable": false,
    "id": "tsTzKzvAN2TP"
   },
   "source": [
    "\n",
    "**Step 3 - Renaming the library so it’s easy to remember**\n",
    "\n",
    "Once you are done, put the **import** and **package** together in a single variable. This handy feature helps cut down on all the typing later on. You can call it whatever is easiest for you to remember. In the example below, we’ve put everything into **metrics**, and we type it in the open area.\n"
   ]
  },
  {
   "cell_type": "markdown",
      "metadata": {
      "deletable": false,
      "editable": false,
    "id": "GZrJ_TIoN3gl"
   },
   "source": [
    "\n",
    "**Step 4 - Connect the blocks to run the code**\n",
    "\n",
    "Connect the blocks and run the code!\n",
    "\t\n",
    "<details>\n",
    "    <summary>Click to see the answer...</summary>\n",
    "\n",
    "![](https://pbs.twimg.com/media/GaQ5swrXUAAEJ-D?format=png&name=small)\n",
    "</details>"
   ]
  },
  {
   "cell_type": "code",
   "execution_count": null,
   "metadata": {},
   "outputs": [],
   "source": [
    "#blocks code\n"
   ]
  },
  {
   "cell_type": "markdown",
      "metadata": {
      "deletable": false,
      "editable": false,
    "id": "p2JHGfmUOM4-",
    "jp-MarkdownHeadingCollapsed": true
   },
   "source": [
    "#### Freehand"
   ]
  },
  {
   "cell_type": "markdown",
      "metadata": {
      "deletable": false,
      "editable": false,
    "id": "qBU3ImJlOQL0"
   },
   "source": [
    "**Step 1 - Starting the import**\n",
    "\n",
    "First, we need to set up a “command” to tell the computer what to do. In this case, “command” is to “import” to bring the add-on package in."
   ]
  },
  {
   "cell_type": "markdown",
      "metadata": {
      "deletable": false,
      "editable": false,
    "id": "4tKcJvpEORWC"
   },
   "source": [
    "\n",
    "**Step 2 - Telling what library to import**\n",
    "\n",
    "In the text area, we type the name of the library we want to import. A library is like an extra thing we bring in to give us more coding abilities. In our case, we will type out **sklearn.metrics**, which is a tool that grades your machine learning model's performance, telling you how well it did on its test.\n"
   ]
  },
  {
   "cell_type": "markdown",
      "metadata": {
      "deletable": false,
      "editable": false,
    "id": "PnAVCwu3OS4u"
   },
   "source": [
    "\n",
    "**Step 3 - Renaming the library so it’s easy to remember**\n",
    "\n",
    "Once you are done, put the ‘import’ and ‘package’ together in a single variable. This handy feature helps cut down on all the typing later on. Feel free to use whatever name you want that will help you remember it later on. In the example below, we’ve put everything into **metrics**."
   ]
  },
  {
   "cell_type": "markdown",
      "metadata": {
      "deletable": false,
      "editable": false,
    "id": "64XQJaOWOTva"
   },
   "source": [
    "\n",
    "**Step 4 - Run the code**\n",
    "\n",
    "Hit ‘control’ and ‘enter’ at the same time to run the code!\n",
    "\t\n",
    "<details>\n",
    "    <summary>Click to see the answer...</summary>\n",
    "\n",
    "![](https://pbs.twimg.com/media/GaQ5u3ZWsAA_df1?format=png&name=small)\n",
    "</details>"
   ]
  },
  {
   "cell_type": "markdown",
      "metadata": {
      "deletable": false,
      "editable": false,
    "id": "W1Ln1frAOibs"
   },
   "source": [
    "**Your Turn**: Test it out yourself! We set up a command to tell our computer what to do and after our hard work we’ll run what we have to see our data science major at work!\n"
   ]
  },
  {
   "cell_type": "code",
   "execution_count": 16,
   "metadata": {
    "id": "kvcOtkIkOkHS"
   },
   "outputs": [],
   "source": [
    "#freehand code \n"
   ]
  },
  {
   "cell_type": "markdown",
      "metadata": {
      "deletable": false,
      "editable": false,
    "id": "WJ6B3Zu9OljA"
   },
   "source": [
    "**Explanation**: *The metrics library provides tools to measure and evaluate the performance of machine learning models. By using `metrics`, we can check how well our model is working, like seeing how accurate it is or how well it groups data in clustering. This helps us understand if our model is doing a good job or if it needs improvement*."
   ]
  },
  {
   "cell_type": "markdown",
      "metadata": {
      "deletable": false,
      "editable": false,
    "id": "K-MGvflROnDh"
   },
   "source": [
    "## Assessing the performance of the classifier"
   ]
  },
  {
   "cell_type": "markdown",
      "metadata": {
      "deletable": false,
      "editable": false,
    "id": "viMnU_DvOq0c"
   },
   "source": [
    "\n",
    "So how well did our predictions do? Let’s calculate three steps here performance of predictions on testing dataset - accuracy, confusion matrix, and precision/recall.\n"
   ]
  },
  {
   "cell_type": "markdown",
      "metadata": {
      "deletable": false,
      "editable": false,
    "id": "iaID3XzHOr_D"
   },
   "source": [
    "### Goal 12: Assessing the Performance of the Predictions on Test Dataset Using Accuracy Score\n",
    "\n",
    "So, how well did our predictions do on our test data? Let’s calculate the accuracy score to give us an idea."
   ]
  },
  {
   "cell_type": "markdown",
      "metadata": {
      "deletable": false,
      "editable": false,
    "jp-MarkdownHeadingCollapsed": true
   },
   "source": [
    "#### Blockly"
   ]
  },
  {
   "cell_type": "markdown",
      "metadata": {
      "deletable": false,
      "editable": false,
    "id": "A4_mVwoiOxFB"
   },
   "source": [
    "\n",
    "**Step 1 - Call the accuracy_score() method using the metrics library**\n",
    "\n",
    "To calculate the accuracy of the model predictions, we will use the **accuracy_score**() function from the metrics library.  \n",
    "\n",
    "From the Variables menu, drag a DO block for the metrics variable. Select the accuracy_score function from the metrics list of operations. This function takes two inputs: the true labels and the predicted labels.\n"
   ]
  },
  {
   "cell_type": "markdown",
      "metadata": {
      "deletable": false,
      "editable": false,
    "id": "fUY1hsSGO94b"
   },
   "source": [
    "\n",
    "**Step 2 - Calculate logistic regression model’s accuracy**\n",
    "\n",
    "The accuracy_score() function takes 2 parameters to calculate the accuracy score and helps measure the percentage of correct predictions. So let’s compare **contaminated** from the test dataset and **predictions** from the model we just created.\n",
    "\n",
    "From the Lists menu, get a dictVariable block and select the test variable. From the Text men,u get a Quote “” block to inform the label name **”Contaminated”**. This list will be used as the true labels for the accuracy calculation.\n",
    "\n",
    "As the second parameter of the **accuracy_score** get the variable **predictions**.  The accuracy score function will calculate the accuracy of the model by comparing the true labels with the predicted labels. The result will be a score that indicates the performance of the model.\n"
   ]
  },
  {
   "cell_type": "markdown",
      "metadata": {
      "deletable": false,
      "editable": false,
    "id": "x4g3uHZyO_Px"
   },
   "source": [
    "\n",
    "**Step 3 - Connect the blocks to run the code**\n",
    "\n",
    "Connect the blocks and run the code!\n",
    "\t\n",
    "<details>\n",
    "    <summary>Click to see the answer...</summary>\n",
    "\n",
    "![](https://pbs.twimg.com/media/GaQ8AdSWIAEPAL_?format=png&name=small)\n",
    "\n",
    "</details>"
   ]
  },
  {
   "cell_type": "code",
   "execution_count": null,
   "metadata": {},
   "outputs": [],
   "source": [
    "#blocks code\n"
   ]
  },
  {
   "cell_type": "markdown",
      "metadata": {
      "deletable": false,
      "editable": false,
    "id": "-wi-B_GZPPdy",
    "jp-MarkdownHeadingCollapsed": true
   },
   "source": [
    "#### Freehand"
   ]
  },
  {
   "cell_type": "markdown",
      "metadata": {
      "deletable": false,
      "editable": false,
    "id": "vsJZZj9ePTaI"
   },
   "source": [
    "**Step 1 - Call the accuracy_score() method using the metrics library**\n",
    "\n",
    "To calculate the accuracy of the model predictions, we will use the accuracy_score() method from the metrics library.  This accuracy score will measure the percentage of correct predictions.\n",
    "\n",
    "`metrics.accuracy_score()`\n"
   ]
  },
  {
   "cell_type": "markdown",
      "metadata": {
      "deletable": false,
      "editable": false,
    "id": "Xe2Vm28yPU7_"
   },
   "source": [
    "\n",
    "**Step 2 - Calculate logistic regression model’s accuracy**\n",
    "\n",
    "The accuracy_score() function takes 2 parameters to calculate the accuracy score and help measure the percentage of correct predictions. So let’s compare **contaminated** from the test dataset and **predictions** from the model we just created.\n",
    "\n",
    "`metrics.accuracy_score(test['Contaminated'],predictions)`\n"
   ]
  },
  {
   "cell_type": "markdown",
      "metadata": {
      "deletable": false,
      "editable": false,
    "id": "1JpRQZDiPV-B"
   },
   "source": [
    "\n",
    "**Step 3 - Run the code**\n",
    "\n",
    "Hit ‘control’ and ‘enter’ at the same time to run the code!\n",
    "\t\n",
    "<details>\n",
    "    <summary>Click to see the answer...</summary>\n",
    "\n",
    "![](https://pbs.twimg.com/media/GaQ7bb5WMAAad1n?format=png&name=small)\n",
    "\n",
    "</details>"
   ]
  },
  {
   "cell_type": "markdown",
      "metadata": {
      "deletable": false,
      "editable": false,
    "id": "GkppzvtgPW9X"
   },
   "source": [
    "\n",
    "**Your Turn**:  Have a go at it! Once you begin you’ll be able to assess the performance of the predictions!\n"
   ]
  },
  {
   "cell_type": "code",
   "execution_count": 17,
   "metadata": {
    "colab": {
     "base_uri": "https://localhost:8080/"
    },
    "id": "UDiawMKOPYQ4",
    "outputId": "5a9663c9-dd46-4979-e9b9-a7748089cece"
   },
   "outputs": [
    {
     "data": {
      "text/plain": [
       "0.9657039711191335"
      ]
     },
     "execution_count": 17,
     "metadata": {},
     "output_type": "execute_result"
    }
   ],
   "source": [
    "#freehand code \n"
   ]
  },
  {
   "cell_type": "markdown",
      "metadata": {
      "deletable": false,
      "editable": false,
    "id": "FGEMQjFtPZCn"
   },
   "source": [
    "**Explanation**: *The accuracy score tells us the percentage of correct predictions out of the total. A higher accuracy score means the model is doing a good job matching the actual labels*."
   ]
  },
  {
   "cell_type": "markdown",
      "metadata": {
      "deletable": false,
      "editable": false,
    "id": "XZrBlBpaPxCw"
   },
   "source": [
    "### Goal 13: Assessing the Performance of the Predictions on Test Dataset Using the Confusion Matrix\n",
    "\n",
    "So before we looked at the accuracy score to give us an idea about how well our predictions did on the test data. How about let’s look at the errors (false positives and false negatives) in the confusion matrix to explore further."
   ]
  },
  {
   "cell_type": "markdown",
      "metadata": {
      "deletable": false,
      "editable": false,
    "id": "FFjH1pg8P2rF",
    "jp-MarkdownHeadingCollapsed": true
   },
   "source": [
    "#### Blockly"
   ]
  },
  {
   "cell_type": "markdown",
      "metadata": {
      "deletable": false,
      "editable": false,
    "id": "5QhrxT3tQAdm"
   },
   "source": [
    "\n",
    "**Step 1 - Call the confusion_matrix() function using the metrics library**\n",
    "\n",
    "To break down the accuracy, let’s get the numbers from the confusion matrix using the **confusion_matrix**() function from the metrics library.  \n",
    "\n",
    "From the Variables menu, drag a DO block for the metrics variable. Select the confusion_matrix function from the metrics list of operations. This function takes two inputs: the true labels and the predicted labels.\n"
   ]
  },
  {
   "cell_type": "markdown",
      "metadata": {
      "deletable": false,
      "editable": false,
    "id": "CB7_85GgQN7y"
   },
   "source": [
    "\n",
    "**Step 2 - Calculate logistic regression model’s confusion matrix**\n",
    "\n",
    "The confusion_matrix () function takes 2 parameters to explore different parts of the confusion matrix. So let’s compare **Contaminated** from the test dataset and **predictions** from the model we just created. The confusion matrix will tell us these numbers - TP (true positive), TN (true negative), FP (false positive), and FN (false negative).\n",
    "\n",
    "From the Lists menu, get a dictVariable block and select the test variable. From the Text menu, get a Quote “” block to inform the label name ”Contaminated”. This list will be used as the true labels for the confusion matrix calculation. As the second parameter of the **confusion_matrix** get the variable **predictions**.\n"
   ]
  },
  {
   "cell_type": "markdown",
      "metadata": {
      "deletable": false,
      "editable": false,
    "id": "SfmyjVTiQPMR"
   },
   "source": [
    "\n",
    "**Step 3 - Connect the blocks to run the code**\n",
    "\n",
    "Connect the blocks and run the code!\n",
    "\t\n",
    "<details>\n",
    "    <summary>Click to see the answer...</summary>\n",
    "\n",
    "![](https://pbs.twimg.com/media/GaQ-UXxWgAAwYlY?format=png&name=small)\n",
    "</details>"
   ]
  },
  {
   "cell_type": "code",
   "execution_count": null,
   "metadata": {},
   "outputs": [],
   "source": [
    "#blocks code\n"
   ]
  },
  {
   "cell_type": "markdown",
      "metadata": {
      "deletable": false,
      "editable": false,
    "id": "IJTWeD6YQquD",
    "jp-MarkdownHeadingCollapsed": true
   },
   "source": [
    "#### Freehand"
   ]
  },
  {
   "cell_type": "markdown",
      "metadata": {
      "deletable": false,
      "editable": false,
    "id": "r_PXpPoVQy0W"
   },
   "source": [
    "**Step 1 - Call the confuction_matrix() method from the metrics library**\n",
    "\n",
    "To calculate the **confuction_matrix**() of the model predictions, we will use the confusion_matrix() function from the metrics library.\n",
    "\n",
    "`metrics.confusion_matrix()`\n"
   ]
  },
  {
   "cell_type": "markdown",
      "metadata": {
      "deletable": false,
      "editable": false,
    "id": "t08MrxnfQ0ld"
   },
   "source": [
    "\n",
    "**Step 2 - Calculate logistic regression model’s confusion matrix**\n",
    "\n",
    "The confusion_matrix () function takes 2 parameters to explore different parts of the confusion matrix. So let’s compare **Contaminated** from the test dataset and **predictions** from the model we just created. The confusion matrix will tell us these numbers - TP (true positive), TN (true negative), FP (false positive), and FN (false negative).\n",
    "\n",
    "- Test data labels: **test[‘Contaminated’]**\n",
    "- The predicted labels: **predictions**\n",
    "\n",
    "`metrics.confusion_matrix(test['Contaminated'],predictions)`\n"
   ]
  },
  {
   "cell_type": "markdown",
      "metadata": {
      "deletable": false,
      "editable": false,
    "id": "tllbt2sgQ2Ew"
   },
   "source": [
    "\n",
    "**Step 3 - Run the code**\n",
    "\n",
    "Hit ‘control’ and ‘enter’ at the same time to run the code!\n",
    "\t\n",
    "<details>\n",
    "    <summary>Click to see the answer...</summary>\n",
    "\n",
    "![](https://pbs.twimg.com/media/GaQ-R7IW8AA9YQw?format=png&name=small)\n",
    "</details>"
   ]
  },
  {
   "cell_type": "markdown",
      "metadata": {
      "deletable": false,
      "editable": false,
    "id": "EQqdQJJcQ3fW"
   },
   "source": [
    "\n",
    "**Your Turn**: Let’s type in the code and see what our performance looks like! What do you see?\n"
   ]
  },
  {
   "cell_type": "code",
   "execution_count": 18,
   "metadata": {
    "colab": {
     "base_uri": "https://localhost:8080/"
    },
    "id": "nW4EZSZlQ4Ov",
    "outputId": "9a5d8ff7-f324-4079-cf1b-c8c5e63f5357"
   },
   "outputs": [
    {
     "data": {
      "text/plain": [
       "array([[160,  12],\n",
       "       [  7, 375]])"
      ]
     },
     "execution_count": 18,
     "metadata": {},
     "output_type": "execute_result"
    }
   ],
   "source": [
    "#freehand code \n"
   ]
  },
  {
   "cell_type": "markdown",
      "metadata": {
      "deletable": false,
      "editable": false,
    "id": "rb4F1MijQ49l"
   },
   "source": [
    "**Explanation**: *This matrix indicates that the model correctly identified 169 instances as \"Not Contaminated\" and 381 instances as \"Contaminated.\" However, it made 3 false positive errors (predicting \"Contaminated\" when it was actually \"Not Contaminated\") and 1 false negative error (predicting \"Not Contaminated\" when it was actually \"Contaminated\"). This breakdown helps understand the model's accuracy and the types of mistakes it makes*."
   ]
  },
  {
   "cell_type": "markdown",
      "metadata": {
      "deletable": false,
      "editable": false,
    "id": "dfJn1HnPRNKF"
   },
   "source": [
    "### Goal 14: Assessing the Performance of the Predictions on the Test Dataset using recall and precision\n",
    "\n",
    "Let’s look further to compare how many we predicted true positives and compare it with our false positives (precision). Also, let’s look at true positives with false negatives (recall)."
   ]
  },
  {
   "cell_type": "markdown",
      "metadata": {
      "deletable": false,
      "editable": false,
    "id": "JbQIyGDORVnd",
    "jp-MarkdownHeadingCollapsed": true
   },
   "source": [
    "#### Blockly"
   ]
  },
  {
   "cell_type": "markdown",
      "metadata": {
      "deletable": false,
      "editable": false,
    "id": "SkatYRbURbiz"
   },
   "source": [
    "\n",
    "**Step 1 - Call the classification_report() function from the metrics library**\n",
    "\n",
    "To calculate the classification_report() for the model, we will use the classification_report() function from the metrics library.\n",
    "\n",
    "From the Variables menu, drag a DO block for the metrics variable. Select the **classification_report** function from the metrics list of operations. This function takes two inputs: the true labels and the predicted labels.\n"
   ]
  },
  {
   "cell_type": "markdown",
      "metadata": {
      "deletable": false,
      "editable": false,
    "id": "5yP8PYmtRdJi"
   },
   "source": [
    "\n",
    "**Step 2 - Saying what parameters to use for the classification report**\n",
    "\n",
    "The classification_report() method takes 2 parameters to calculate the classification report.\n",
    "\n",
    "From the Lists menu, get a dictVariable block and select the test variable. From the Text menu, get a Quote “” block to inform the label name **”Contaminated”**. This list will be used as the true labels for the accuracy calculation. As the second parameter of the **classification_report** function, get the variable **predictions**.\n"
   ]
  },
  {
   "cell_type": "markdown",
      "metadata": {
      "deletable": false,
      "editable": false,
    "id": "WYSdZ8aNReHE"
   },
   "source": [
    "\n",
    "**Step 3 - Print the classification report**\n",
    "\n",
    "Connect the metrics block to a Print block (from the Text menu). The classification report will include other metrics like precision and recall.\n"
   ]
  },
  {
   "cell_type": "markdown",
      "metadata": {
      "deletable": false,
      "editable": false,
    "id": "b6g_sZfdRe_r"
   },
   "source": [
    "\n",
    "**Step 4 - Connect the blocks to run the code**\n",
    "\n",
    "Connect the blocks and run the code!\n",
    "\t\n",
    "<details>\n",
    "    <summary>Click to see the answer...</summary>\n",
    "\n",
    "![](https://pbs.twimg.com/media/GaRCnOcX0AAPsn4?format=png&name=small)\n",
    "</details>"
   ]
  },
  {
   "cell_type": "code",
   "execution_count": null,
   "metadata": {},
   "outputs": [],
   "source": [
    "#blocks code\n"
   ]
  },
  {
   "cell_type": "markdown",
      "metadata": {
      "deletable": false,
      "editable": false,
    "editable": true,
    "id": "F-k_Vx8NRw7u",
    "jp-MarkdownHeadingCollapsed": true,
    "slideshow": {
     "slide_type": ""
    },
    "tags": []
   },
   "source": [
    "#### Freehand"
   ]
  },
  {
   "cell_type": "markdown",
      "metadata": {
      "deletable": false,
      "editable": false,
    "id": "cpwChufAR8b6"
   },
   "source": [
    "**Step 1 - Call the classification_report() function from the metrics library**\n",
    "\n",
    "To calculate the classification_report() for the model, we will use the classification_report() function from the metrics library.\n",
    "\n",
    "`metrics.classification_report()`\n"
   ]
  },
  {
   "cell_type": "markdown",
      "metadata": {
      "deletable": false,
      "editable": false,
    "id": "RuZfrzYmR-KO"
   },
   "source": [
    "\n",
    "\n",
    "**Step 2 - Saying what parameters to use for the classification report**\n",
    "\n",
    "The classification_report() method takes 2 parameters to calculate the classification report\n",
    "\n",
    "`metrics.classification_report(test['Contaminated'],predictions)`\n"
   ]
  },
  {
   "cell_type": "markdown",
      "metadata": {
      "deletable": false,
      "editable": false,
    "id": "wpBEG6zdR_FF"
   },
   "source": [
    "\n",
    "**Step 3 - Print the classification report**\n",
    "\n",
    "Use the print function to show the results of the classification report.\n",
    "\n",
    "`print(metrics.classification_report(test['Contaminated'],predictions))`\n"
   ]
  },
  {
   "cell_type": "markdown",
      "metadata": {
      "deletable": false,
      "editable": false,
    "id": "MG6HYpYcR_2Z"
   },
   "source": [
    "\n",
    "**Step 4 - Run the code**\n",
    "\n",
    "Hit ‘control’ and ‘enter’ at the same time to run the code!\n",
    "\t\n",
    "<details>\n",
    "    <summary>Click to see the answer...</summary>\n",
    "\n",
    "![](https://pbs.twimg.com/media/GaRClCEWAAAMfW3?format=png&name=small)\n",
    "\n",
    "</details>"
   ]
  },
  {
   "cell_type": "markdown",
      "metadata": {
      "deletable": false,
      "editable": false,
    "id": "ds689FKQSUhI"
   },
   "source": [
    "**Your Turn**: Let’s try it! First, we tried the accuracy score and confusion matrix, and now we have recall and precision. The possibilities are endless!"
   ]
  },
  {
   "cell_type": "code",
   "execution_count": 19,
   "metadata": {
    "colab": {
     "base_uri": "https://localhost:8080/"
    },
    "id": "CVP_4n3sSYLo",
    "outputId": "64a668df-e656-4677-d683-227df8725fd0"
   },
   "outputs": [
    {
     "name": "stdout",
     "output_type": "stream",
     "text": [
      "              precision    recall  f1-score   support\n",
      "\n",
      "           0       0.96      0.93      0.94       172\n",
      "           1       0.97      0.98      0.98       382\n",
      "\n",
      "    accuracy                           0.97       554\n",
      "   macro avg       0.96      0.96      0.96       554\n",
      "weighted avg       0.97      0.97      0.97       554\n",
      "\n"
     ]
    }
   ],
   "source": [
    "#freehand code \n"
   ]
  },
  {
   "cell_type": "markdown",
      "metadata": {
      "deletable": false,
      "editable": false,
    "id": "sZ5mHinGSWzB"
   },
   "source": [
    "\n",
    "\n",
    "**Explanation**: *The classification report provides some metrics, particularly precision and recall. Precision measures how many of the samples the model labeled as contaminated were actually contaminated, essentially showing the accuracy of its positive predictions. Recall, on the other hand, reflects the model's ability to detect all actual contaminated samples, indicating how well it \"found\" the true cases. In this report, the precision and recall scores are both high, at 0.99 or 99% for each class, which demonstrates that the model is highly accurate in identifying both contaminated and non-contaminated samples. These scores mean that nearly all positive predictions made by the model were correct, and it missed almost none of the actual contaminated cases*."
   ]
  },
  {
   "cell_type": "markdown",
      "metadata": {
      "deletable": false,
      "editable": false,
    "id": "YRVG5cfpTFsU"
   },
   "source": [
    "## WHAT DID YOU LEARN?"
   ]
  },
  {
   "cell_type": "markdown",
      "metadata": {
      "deletable": false,
      "editable": false,
    "id": "ArpY4ImwTHww"
   },
   "source": [
    "\n",
    "In the lesson on logistic regression, you learned a lot of valuable concepts and skills. We started by understanding what logistic regression is and how it differs from linear regression. Then, we dove into interpreting the coefficients of a logistic regression model and why they are important. We also covered the basics of probability, odds, and log odds, which are essential for grasping logistic regression. Additionally, we explored how to evaluate the performance of a logistic regression model using various metrics. Finally, you got hands-on experience with practical exercises in Python and scikit-learn, applying logistic regression to real-world datasets and making predictions. This comprehensive approach ensured that you not only understood the theory but also gained practical skills.\n"
   ]
  },
  {
   "cell_type": "markdown",
      "metadata": {
      "deletable": false,
      "editable": false,
    "id": "Tc9I5EuMTJhN"
   },
   "source": [
    "\n",
    "## WHAT’S NEXT?"
   ]
  },
  {
   "cell_type": "markdown",
      "metadata": {
      "deletable": false,
      "editable": false,
    "id": "N6_2p825TMQO"
   },
   "source": [
    "\n",
    "[Decision Trees](Decision_Trees.ipynb)\n"
   ]
  },
  {
   "cell_type": "markdown",
      "metadata": {
      "deletable": false,
      "editable": false,
    "id": "CZ2Sp5xLTNaH"
   },
   "source": [
    "\n",
    "## TELL ME MORE"
   ]
  },
  {
   "cell_type": "markdown",
      "metadata": {
      "deletable": false,
      "editable": false,
    "id": "cJKadrpzTOuQ"
   },
   "source": [
    "\n",
    "- [Datawhys Decision Trees Notebook](https://github.com/memphis-iis/datawhys-content-notebooks-python/blob/master/Logistic-regression.ipynb)\n",
    "- [Datawhys Decision Trees Problem-Solving Notebook](https://github.com/memphis-iis/datawhys-content-notebooks-python/blob/master/Logistic-regression-PS.ipynb)\n"
   ]
  }
 ],
 "metadata": {
  "colab": {
   "provenance": []
  },
  "kernelspec": {
   "display_name": "Python 3 (ipykernel)",
   "language": "python",
   "name": "python3"
  },
  "language_info": {
   "codemirror_mode": {
    "name": "ipython",
    "version": 3
   },
   "file_extension": ".py",
   "mimetype": "text/x-python",
   "name": "python",
   "nbconvert_exporter": "python",
   "pygments_lexer": "ipython3",
   "version": "3.10.6"
  }
 },
 "nbformat": 4,
 "nbformat_minor": 4
}
