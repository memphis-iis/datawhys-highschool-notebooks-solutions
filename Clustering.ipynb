{
 "cells": [
  {
   "cell_type": "markdown",
      "metadata": {
      "deletable": false,
      "editable": false,
    "editable": true,
    "id": "zCAy0QpKz59Z",
    "slideshow": {
     "slide_type": ""
    },
    "tags": []
   },
   "source": [
    "# Clustering"
   ]
  },
  {
   "cell_type": "markdown",
      "metadata": {
      "deletable": false,
      "editable": false,
    "id": "yeZeS7tCz-F7"
   },
   "source": [
    "## ANTICIPATED TIME"
   ]
  },
  {
   "cell_type": "markdown",
      "metadata": {
      "deletable": false,
      "editable": false,
    "id": "rC3p1Qt90HHW"
   },
   "source": [
    "2 hours."
   ]
  },
  {
   "cell_type": "markdown",
      "metadata": {
      "deletable": false,
      "editable": false,
    "id": "o08I57Al0JkF"
   },
   "source": [
    "## WHAT YOU WILL LEARN\n"
   ]
  },
  {
   "cell_type": "markdown",
      "metadata": {
      "deletable": false,
      "editable": false,
    "id": "6Y7efbam0LUN"
   },
   "source": [
    "- What is a cluster?\n",
    "- When do I use clustering?\n",
    "- What are the different types of clustering methods?\n",
    "- What do I use to find patterns within a cluster?\n",
    "- How do I evaluate the effectiveness of clustering?\n"
   ]
  },
  {
   "cell_type": "markdown",
      "metadata": {
      "deletable": false,
      "editable": false,
    "id": "kBHPGru00SN7"
   },
   "source": [
    "\n",
    "## DEFINITIONS YOU’LL NEED TO KNOW"
   ]
  },
  {
   "cell_type": "markdown",
      "metadata": {
      "deletable": false,
      "editable": false,
    "id": "yl8SsrIk0bEQ"
   },
   "source": [
    "\n",
    "- Cluster - a group of data points that are similar to each other than to points in other clusters.\n",
    "- Seeds - the initial centroids or centers of the clusters in k-means clustering.\n",
    "- Hierarchical clustering - dividing clustering in a way that makes a tree of clusters inside the clusters.\n",
    "- Agglomerative clustering - small clusters being combined until a big cluster is formed.\n",
    "- Divisive clustering - a big cluster is split up into smaller clusters until all pieces of info are alone.\n",
    "- Partitioning - a method of clustering that groups data based on certain rules; sometimes we call this optimization.\n",
    "- K-means Clustering - a common method of partitioning.\n",
    "- Centroid - the average of data in each cluster.\n",
    "- Feature - something unique about the data that helps describe a data point.\n"
   ]
  },
  {
   "cell_type": "markdown",
      "metadata": {
      "deletable": false,
      "editable": false,
    "id": "BMOe4mPw0gOW"
   },
   "source": [
    "## SCENARIO"
   ]
  },
  {
   "cell_type": "markdown",
      "metadata": {
      "deletable": false,
      "editable": false,
    "deletable": false,
    "editable": false,
    "html": "<iframe class='metadata-html' class='metadata-html' width='560' height='315' src='https://video.olney.ai/5-clustering.mp4' title='YouTube video player' frameborder='0' allow='accelerometer; autoplay; clipboard-write; encrypted-media; gyroscope; picture-in-picture; web-share' referrerpolicy='strict-origin-when-cross-origin' allowfullscreen></iframe>",
    "id": "npqY6ZiSbavX",
    "slideshow": {
     "slide_type": ""
    },
    "tags": []
   },
   "source": [
    "\n",
    "Ethan, Angelina, Diego, and Kiana have been trying to solve the problems of CO2 emissions in their city. They have collected data on CO2 levels from neighborhoods, cars, factories, and parks in different areas. Diego suggested for the team to use clustering, which will allow them to group neighborhoods that have similar levels of CO2 together. They were wondering if maybe neighbors that have high levels of CO2 could based on the areas people lived or the cars they drove? They got thinking more and started thinking about how many clusters to look at based on the type of data they had. So thought that clustering based on the data would really help them discover which areas need the most attention to help reduce pollution and make cleaner air for their city.\n"
   ]
  },
  {
   "cell_type": "markdown",
      "metadata": {
      "deletable": false,
      "editable": false,
    "deletable": false,
    "editable": false,
    "id": "7SCeUuq61g6t"
   },
   "source": [
    "## WHAT DO I NEED TO KNOW?\n"
   ]
  },
  {
   "cell_type": "markdown",
      "metadata": {
      "deletable": false,
      "editable": false,
    "id": "lI-cMDtr1HK7"
   },
   "source": [
    "\n",
    "\n",
    "**Grouping similar data types into clusters**\n",
    "\n",
    "Have you ever wondered if there are any hidden patterns that you might not recognize at first? Well, you are in luck because data science can help with clustering that puts the data into different kinds of groups.\n",
    "\n",
    "Imagine having a forest that has a bunch of fallen leaves. We could group them together based on size, color, and other things. We could create “clusters” for types of tree (oak, pecan, etc) and then within those maybe leaves for specific oak trees, pecan trees, etc.\n",
    "\n",
    "**Variables as features**\n",
    "\n",
    "While analyzing data, each variable in a data set can be viewed as a feature. Features are considered to be something unique about the data that helps describe a data point. Once we start to look at all the data points, they become helpful because they can help us think through how similar or different they are. Better yet, they can calculate the distances between data points.\n",
    "\n",
    "Smaller distance between data points? Probably should be grouped together\n",
    "Bigger distance between data points? Probably should not be grouped together\n",
    "\n",
    "**Hierarchical clustering**\n",
    "\n",
    "*So how do we get started with clustering?*\n",
    "\n",
    "In the **agglomerative clustering** way, it says “Hey, we are starting to seem similar. Let’s combine”. We start where each separate data point is considered it’s own cluster on the bottom and then merges with similar ones to make new clusters. It would then do this until there is one large cluster at the top. So it’s like you were working from the bottom to the top to find the cluster.\n",
    "\n",
    "**Divisive clustering** way is kinda the opposite and says “Hey, maybe we aren’t so similar. Let’s split”. It’s the top-down way where you start with one big cluster and then starts to split when the data clusters become different enough.\n",
    "\n",
    "Over time, we’ll create a tree-like structure that has all these different clusters. This helps analyze the relationship and thinking through how all the data points are related to each.\n",
    "\n"
   ]
  },
  {
   "cell_type": "markdown",
      "metadata": {
      "deletable": false,
      "editable": false,
    "id": "H2GIK-cQ17vu"
   },
   "source": [
    "\n",
    "**Nonhierarchical methods**\n",
    "\n",
    "Not all clustering methods work like a tree, where we start with all data points as individuals and slowly group them (hierarchical). Some methods jump right into creating groups based on simple rules.\n",
    "\n",
    "One popular method for this is **partitioning**. **Partitioning**, also called **optimization**, clusters data based on certain rules. Think of it as dividing your data into sections based on specific guidelines, like sorting your closet by color, size, or even favorite items. Using partitioning, you could group the items in the closet based on certain characteristics, each of which items may have some similar or different characteristics from each other.\n",
    "There are different partitioning methods that help divide a lot of data into clear groups quickly. One common technique in partitioning is **k-means clustering**. How does it work? It works in a few main steps.\n",
    "\n",
    "We start by picking a few random points, called **“seeds**,” around which the clusters will form.\n",
    "The number of seeds equals the number of clusters we want. If you choose three seeds, you’re aiming for three clusters. The seeds are usually spread out from each other to capture different types of data points.\n",
    "\n",
    "Then, how could you decide the number of clusters? Deciding on the number of clusters is a key part of K-means clustering. If there are too few clusters, you might combine things that aren’t very similar. If there are too many clusters, you might end up with some that don’t have a clear purpose. Ideally, you want to find a balance where items within each cluster are close to each other, and clusters themselves are well-separated.\n",
    "\n",
    "Once you have your chosen number of clusters, assign each data point to the closest cluster based on its features. For instance, a photo showing a large, gray animal might get grouped with other large, gray animals.\n",
    "\n",
    "After grouping the data points, we calculate the **centroid**. The centroid is like the average point, showing the general center of each group based on all items in it. This represents the “heart” of each group and is recalculated each time we adjust the clusters. So new clusters = new centroid. Makes sense if you think about it.\n",
    "\n",
    "With new centroids, we might begin to wonder if some data points fit better in other clusters. So, we need to reassign them and recalculate the centroids until each cluster has the closest possible items, making the clusters well-defined.\n"
   ]
  },
  {
   "cell_type": "markdown",
      "metadata": {
      "deletable": false,
      "editable": false,
    "id": "Xlu9SkQL2Jks"
   },
   "source": [
    "## YOUR TURN\n",
    "\n"
   ]
  },
  {
   "cell_type": "markdown",
      "metadata": {
      "deletable": false,
      "editable": false,
    "id": "RsbnrI1O2RT_"
   },
   "source": [
    "Now that you understand what a cluster is and when to use it, it’s time to practice applying this concept! As you go through this, pay close attention to the different tools that you can use to identify patterns within a cluster and how the tools help us group data by it’s features."
   ]
  },
  {
   "cell_type": "markdown",
      "metadata": {
      "deletable": false,
      "editable": false,
    "id": "Kgtlgv_p2UbT"
   },
   "source": [
    "### Goal 1: Importing the Pandas Library\n",
    "\n",
    "Need extra tools to help solve this problem? Well, we can bring in extra ‘libraries’ to help us do extra data science stuff. You can think of it like an ‘add-on’. In this case, we bring in pandas, which is a popular library for doing data science stuff.  "
   ]
  },
  {
   "cell_type": "markdown",
      "metadata": {
      "deletable": false,
      "editable": false,
    "jp-MarkdownHeadingCollapsed": true
   },
   "source": [
    "#### Blockly"
   ]
  },
  {
   "cell_type": "markdown",
      "metadata": {
      "deletable": false,
      "editable": false,
    "id": "b40eyGqm2k7d"
   },
   "source": [
    "**Step 1 - Starting the import**\n",
    "\n",
    "First, we need to set up a “command” to tell the computer what to do. In this case, “command” is to “import” to bring the add-on package in.\n",
    "\n",
    "Bring in the IMPORT menu, which can be helpful to bring in other data tools. In this case, we're bringing in the **import** block.\n"
   ]
  },
  {
   "cell_type": "markdown",
      "metadata": {
      "deletable": false,
      "editable": false,
    "id": "sE845doo3ue0"
   },
   "source": [
    "\n",
    "**Step 2 - Telling what library to import**\n",
    "\n",
    "In the text area, we type the name of the library we want to import. A library is like an extra thing we bring in to give us more coding abilities. In our case, we will type out **pandas**, which will bring in some cool data manipulation features.\n"
   ]
  },
  {
   "cell_type": "markdown",
      "metadata": {
      "deletable": false,
      "editable": false,
    "id": "3ZdIv94D3vuh"
   },
   "source": [
    "\n",
    "**Step 3 - Renaming the library so it’s easy to remember**\n",
    "\n",
    "Once you are done, put the **import** and **package** together in a single variable. This handy feature helps cut down on all the typing later on. You can call it whatever is easiest for you to remember. In the example below, we’ve put everything into pd, and we type it in the open area.\n"
   ]
  },
  {
   "cell_type": "markdown",
      "metadata": {
      "deletable": false,
      "editable": false,
    "id": "QGZGxdzH3wrn"
   },
   "source": [
    "\n",
    "**Step 4 - Connect the blocks to run the code**\n",
    "\n",
    "Connect the blocks and run the code!\n",
    "\n",
    "<details>\n",
    "    <summary>Click to see the answer...</summary>\n",
    "    \n",
    "![](https://pbs.twimg.com/media/GcxNkjYXkAAlpKD?format=png&name=240x240)\n",
    "\n",
    "</details>"
   ]
  },
  {
   "cell_type": "code",
   "execution_count": null,
   "metadata": {},
   "outputs": [],
   "source": [
    "#blocks code\n"
   ]
  },
  {
   "cell_type": "markdown",
      "metadata": {
      "deletable": false,
      "editable": false,
    "editable": true,
    "id": "2wTWK1Ja3-Ys",
    "jp-MarkdownHeadingCollapsed": true,
    "slideshow": {
     "slide_type": ""
    },
    "tags": []
   },
   "source": [
    "#### Freehand"
   ]
  },
  {
   "cell_type": "markdown",
      "metadata": {
      "deletable": false,
      "editable": false,
    "id": "3R1I6lkP4FWf"
   },
   "source": [
    "\n",
    "**Step 1 - Starting the import**\n",
    "\n",
    "First, we need to set up a “command” to tell the computer what to do. In this case, “command” is to “import” to bring the add-on package in.\n"
   ]
  },
  {
   "cell_type": "markdown",
      "metadata": {
      "deletable": false,
      "editable": false,
    "id": "7fdjydnG4G_T"
   },
   "source": [
    "\n",
    "**Step 2 - Telling what library to import**\n",
    "\n",
    "In the text area, we type the name of the library we want to import. A library is like an extra thing we bring in to give us more coding abilities. In our case, we will type out **pandas**, which will bring in some cool data manipulation features.\n"
   ]
  },
  {
   "cell_type": "markdown",
      "metadata": {
      "deletable": false,
      "editable": false,
    "id": "TLJrSWph4IyD"
   },
   "source": [
    "\n",
    "**Step 3 - Renaming the library so it’s easy to remember**\n",
    "\n",
    "Once you are done, put the ‘import’ and ‘package’ together in a single variable. This handy feature helps cut down on all the typing later on. Feel free to use whatever name you want that will help you remember it later on. In the example below, we’ve put everything into **pd**.\n"
   ]
  },
  {
   "cell_type": "markdown",
      "metadata": {
      "deletable": false,
      "editable": false,
    "id": "DXT9toLg4JsF"
   },
   "source": [
    "\n",
    "**Step 4 - Run the code**\n",
    "\n",
    "Hit ‘control’ and ‘enter’ at the same time to run the code!\n",
    "\n",
    "<details>\n",
    "    <summary>Click to see the answer...</summary>\n",
    "\n",
    "![](https://pbs.twimg.com/media/GZmkVCYWEA4oGso?format=jpg&name=small)\n",
    "\n",
    "</details>"
   ]
  },
  {
   "cell_type": "markdown",
      "metadata": {
      "deletable": false,
      "editable": false,
    "id": "RsBQFdPe4Wf9"
   },
   "source": [
    "**Your Turn**: Now it’s your turn! We’re going to dive into the pandas package, which helps us with some really cool data science things. First, let’s import the package and assign it to the variable “pd” to make it easier to use throughout our notebook."
   ]
  },
  {
   "cell_type": "code",
   "execution_count": 3,
   "metadata": {
    "id": "y8uqnJt34Yog"
   },
   "outputs": [],
   "source": [
    "#freehand code \n"
   ]
  },
  {
   "cell_type": "markdown",
      "metadata": {
      "deletable": false,
      "editable": false,
    "id": "NIZ2Pm6P4ZZ0"
   },
   "source": [
    "**Explanation**: *Congrats!  Your attempts finally made it!  Now you have successfully imported the \"pandas\" package as the variable \"pd\"*."
   ]
  },
  {
   "cell_type": "markdown",
      "metadata": {
      "deletable": false,
      "editable": false,
    "id": "VbjU_Eib4eg_"
   },
   "source": [
    "### Goal 2: Bringing in the Dataframe\n",
    "\n",
    "Let’s bring in the data that we want to look at.\n"
   ]
  },
  {
   "cell_type": "markdown",
      "metadata": {
      "deletable": false,
      "editable": false,
    "id": "bdJptJ5x4h7Z",
    "jp-MarkdownHeadingCollapsed": true
   },
   "source": [
    "#### Blockly"
   ]
  },
  {
   "cell_type": "markdown",
      "metadata": {
      "deletable": false,
      "editable": false,
    "id": "PAVDV5O34zAg"
   },
   "source": [
    "\n",
    "**Step 1 - Write out the variable name you want to use**\n",
    "\n",
    "Now that we’re all set with our new package to help us to do cool things, let’s bring the data into a variable and call it **dataframe**. Think of it as a digital spreadsheet with much more power to analyze and manipulate the data!\n",
    "\n",
    "In Blockly, bring in the VARIABLES menu."
   ]
  },
  {
   "cell_type": "markdown",
      "metadata": {
      "deletable": false,
      "editable": false,
    "id": "FAKJgn1r41rj"
   },
   "source": [
    "\n",
    "\n",
    "**Step 2 - Assign the dataframe to the variable you created**\n",
    "\n",
    "Just like we did before, let’s type out a variable name. Rather than type out the full file name for our data, this easy to remember name will hold the data we bring in.\n",
    "\n",
    "In Blockly, go to the Variables and drag the Set block for the **dataframe** variable. This will allow us to assign the result of a function call to the variable. A function is basically code that does a specific task for us.\n"
   ]
  },
  {
   "cell_type": "markdown",
      "metadata": {
      "deletable": false,
      "editable": false,
    "id": "G3gCSMaX5FrT"
   },
   "source": [
    "\n",
    "**Step 3 - Bring in the data**\n",
    "\n",
    "Now we need to look at the file that has all our data. To load our dataframe, we’ll use a simple command to bring in the file we need (CSV….Comma Separated Values). Let’s say we have a file called ‘datasets/AirQualityEmissions.csv' in the folder **‘datasets’**. We’re telling Python to read the CSV file and store it in a variable called **dataframe**.\n",
    "\n",
    "From the Variable menu, drag a DO block using the **pd** variable, go ahead with the do operation **read_csv**. The read_csv function reads a CSV file and returns a DataFrame object.\n",
    "\n",
    "In our case, let’s bring in the “datasets/AirQualityEmissions.csv\" (use the Quotes from the TEXT menu) because that is what Angelina is working with.\n"
   ]
  },
  {
   "cell_type": "markdown",
      "metadata": {
      "deletable": false,
      "editable": false,
    "id": "mikn49h35HaB"
   },
   "source": [
    "\n",
    "**Step 4 - Display the variable**\n",
    "\n",
    "Let’s see it now by ‘displaying’ and showing our work.\n",
    "\n",
    "Drag the **dataframe** variable to the workspace, making it available for further use in our program. This step is more of a visualization step, as it allows us to see the variable in the Blockly workspace.\n"
   ]
  },
  {
   "cell_type": "markdown",
      "metadata": {
      "deletable": false,
      "editable": false,
    "id": "pvejIdl05Iq4"
   },
   "source": [
    "\n",
    "**Step 5 - Connect the blocks to run the code**\n",
    "\n",
    "Connect the blocks and run the code!\n",
    "\n",
    "<details>\n",
    "    <summary>Click to see the answer...</summary>\n",
    "    \n",
    "![](https://pbs.twimg.com/media/GaNzytBWAAAGX0n?format=png&name=small)\n",
    "\n",
    "</details>"
   ]
  },
  {
   "cell_type": "code",
   "execution_count": null,
   "metadata": {},
   "outputs": [],
   "source": [
    "#blocks code\n"
   ]
  },
  {
   "cell_type": "markdown",
      "metadata": {
      "deletable": false,
      "editable": false,
    "id": "5sOm0xgQ5pEU",
    "jp-MarkdownHeadingCollapsed": true
   },
   "source": [
    "#### Freehand"
   ]
  },
  {
   "cell_type": "markdown",
      "metadata": {
      "deletable": false,
      "editable": false,
    "id": "G_yopwdp5qe8"
   },
   "source": [
    "**Step 1 - Write out the variable name you want to use**\n",
    "\n",
    "Now that we’re all set with our new package to help us to do cool things, let’s bring the data into a variable called **dataframe**. Think of it as a digital spreadsheet with much more power to analyze and manipulate the data!"
   ]
  },
  {
   "cell_type": "markdown",
      "metadata": {
      "deletable": false,
      "editable": false,
    "id": "fVcoNFAA6mRJ"
   },
   "source": [
    "\n",
    "\n",
    "**Step 2 - Assign the dataframe to the variable you created**\n",
    "\n",
    "Just like we did before, let’s type out a variable name. Rather than type out the full file name for our data, this easy to remember name will hold the data we bring in.\n"
   ]
  },
  {
   "cell_type": "markdown",
      "metadata": {
      "deletable": false,
      "editable": false,
    "id": "mj7vW0hm6oog"
   },
   "source": [
    "\n",
    "**Step 3 - Bring in the data**\n",
    "\n",
    "Now we need to look at the file that has all our data.\n",
    "\n",
    "To load our dataframe, we’ll use a simple command to bring in the file we need (CSV….Comma Separated Values). Let’s say we have a file called ‘AirQualityEmissions.csv' in the folder **‘datasets’**. We’re telling Python to read the CSV file and store it in a variable called **dataframe**. For this function, we need to specify the code as “pd.read_csv”, which makes the code read the csv file. This variable is now our dataframe!\n",
    "\n",
    "In our case, let’s bring in the “datasets/AirQualityEmissions.csv\" (user the Quotes from the TEXT menu) because that is what Kiana is working with.\n"
   ]
  },
  {
   "cell_type": "markdown",
      "metadata": {
      "deletable": false,
      "editable": false,
    "id": "FODpdXGW6tTr"
   },
   "source": [
    "\n",
    "**Step 4 - Print the variable**\n",
    "\n",
    "Let’s see it now by ‘printing’ and showing our work.\n"
   ]
  },
  {
   "cell_type": "markdown",
      "metadata": {
      "deletable": false,
      "editable": false,
    "id": "gcgiYVJo6uNx"
   },
   "source": [
    "\n",
    "**Step 5 - Run the code**\n",
    "\n",
    "Hit ‘control’ and ‘enter’ at the same time to run the code!\n",
    "\n",
    "<details>\n",
    "    <summary>Click to see the answer...</summary>\n",
    "\n",
    "![](https://pbs.twimg.com/media/GenW05YW8AA3PMJ?format=png&name=small)\n",
    "\n",
    "</details>"
   ]
  },
  {
   "cell_type": "markdown",
      "metadata": {
      "deletable": false,
      "editable": false,
    "id": "xurrab9x6_b0"
   },
   "source": [
    "**Your Turn**:  Now it’s your turn! We’re going to assign the data to a dataframe and print the name, which will help us categorize the data.\n",
    "\n",
    "\n"
   ]
  },
  {
   "cell_type": "code",
   "execution_count": 4,
   "metadata": {
    "colab": {
     "base_uri": "https://localhost:8080/",
     "height": 423
    },
    "id": "u-n6VfSW7IKy",
    "outputId": "f1866e02-07b8-4fd3-df1c-bf255da26952"
   },
   "outputs": [
    {
     "data": {
      "application/vnd.google.colaboratory.intrinsic+json": {
       "summary": "{\n  \"name\": \"dataframe\",\n  \"rows\": 1845,\n  \"fields\": [\n    {\n      \"column\": \"Methane\",\n      \"properties\": {\n        \"dtype\": \"number\",\n        \"std\": 190,\n        \"min\": 263,\n        \"max\": 1266,\n        \"num_unique_values\": 650,\n        \"samples\": [\n          484,\n          530,\n          839\n        ],\n        \"semantic_type\": \"\",\n        \"description\": \"\"\n      }\n    },\n    {\n      \"column\": \"NOxEmissions\",\n      \"properties\": {\n        \"dtype\": \"number\",\n        \"std\": 173,\n        \"min\": 346,\n        \"max\": 1388,\n        \"num_unique_values\": 610,\n        \"samples\": [\n          623,\n          475,\n          705\n        ],\n        \"semantic_type\": \"\",\n        \"description\": \"\"\n      }\n    },\n    {\n      \"column\": \"PM2.5Emissions\",\n      \"properties\": {\n        \"dtype\": \"number\",\n        \"std\": 208,\n        \"min\": 753,\n        \"max\": 1738,\n        \"num_unique_values\": 718,\n        \"samples\": [\n          915,\n          1508,\n          1417\n        ],\n        \"semantic_type\": \"\",\n        \"description\": \"\"\n      }\n    },\n    {\n      \"column\": \"VOCEmissions\",\n      \"properties\": {\n        \"dtype\": \"number\",\n        \"std\": 118,\n        \"min\": 1323,\n        \"max\": 1926,\n        \"num_unique_values\": 467,\n        \"samples\": [\n          1498,\n          1528,\n          1819\n        ],\n        \"semantic_type\": \"\",\n        \"description\": \"\"\n      }\n    },\n    {\n      \"column\": \"SO2Emissions\",\n      \"properties\": {\n        \"dtype\": \"number\",\n        \"std\": 279,\n        \"min\": 773,\n        \"max\": 1948,\n        \"num_unique_values\": 844,\n        \"samples\": [\n          1204,\n          1281,\n          1023\n        ],\n        \"semantic_type\": \"\",\n        \"description\": \"\"\n      }\n    },\n    {\n      \"column\": \"CO2Emissions\",\n      \"properties\": {\n        \"dtype\": \"number\",\n        \"std\": 181,\n        \"min\": 1797,\n        \"max\": 2703,\n        \"num_unique_values\": 640,\n        \"samples\": [\n          1863,\n          1936,\n          2418\n        ],\n        \"semantic_type\": \"\",\n        \"description\": \"\"\n      }\n    },\n    {\n      \"column\": \"Class\",\n      \"properties\": {\n        \"dtype\": \"number\",\n        \"std\": 1,\n        \"min\": 1,\n        \"max\": 4,\n        \"num_unique_values\": 4,\n        \"samples\": [\n          3,\n          2,\n          4\n        ],\n        \"semantic_type\": \"\",\n        \"description\": \"\"\n      }\n    },\n    {\n      \"column\": \"Contaminated\",\n      \"properties\": {\n        \"dtype\": \"number\",\n        \"std\": 0,\n        \"min\": 0,\n        \"max\": 1,\n        \"num_unique_values\": 2,\n        \"samples\": [\n          0,\n          1\n        ],\n        \"semantic_type\": \"\",\n        \"description\": \"\"\n      }\n    }\n  ]\n}",
       "type": "dataframe",
       "variable_name": "dataframe"
      },
      "text/html": [
       "\n",
       "  <div id=\"df-a7b16477-cc5f-48ba-9c34-76b108070fb7\" class=\"colab-df-container\">\n",
       "    <div>\n",
       "<style scoped>\n",
       "    .dataframe tbody tr th:only-of-type {\n",
       "        vertical-align: middle;\n",
       "    }\n",
       "\n",
       "    .dataframe tbody tr th {\n",
       "        vertical-align: top;\n",
       "    }\n",
       "\n",
       "    .dataframe thead th {\n",
       "        text-align: right;\n",
       "    }\n",
       "</style>\n",
       "<table border=\"1\" class=\"dataframe\">\n",
       "  <thead>\n",
       "    <tr style=\"text-align: right;\">\n",
       "      <th></th>\n",
       "      <th>Methane</th>\n",
       "      <th>NOxEmissions</th>\n",
       "      <th>PM2.5Emissions</th>\n",
       "      <th>VOCEmissions</th>\n",
       "      <th>SO2Emissions</th>\n",
       "      <th>CO2Emissions</th>\n",
       "      <th>Class</th>\n",
       "      <th>Contaminated</th>\n",
       "    </tr>\n",
       "  </thead>\n",
       "  <tbody>\n",
       "    <tr>\n",
       "      <th>0</th>\n",
       "      <td>670</td>\n",
       "      <td>696</td>\n",
       "      <td>1252</td>\n",
       "      <td>1720</td>\n",
       "      <td>1321</td>\n",
       "      <td>2431</td>\n",
       "      <td>4</td>\n",
       "      <td>1</td>\n",
       "    </tr>\n",
       "    <tr>\n",
       "      <th>1</th>\n",
       "      <td>641</td>\n",
       "      <td>674</td>\n",
       "      <td>1156</td>\n",
       "      <td>1652</td>\n",
       "      <td>1410</td>\n",
       "      <td>2433</td>\n",
       "      <td>4</td>\n",
       "      <td>1</td>\n",
       "    </tr>\n",
       "    <tr>\n",
       "      <th>2</th>\n",
       "      <td>642</td>\n",
       "      <td>646</td>\n",
       "      <td>1159</td>\n",
       "      <td>1643</td>\n",
       "      <td>1455</td>\n",
       "      <td>2361</td>\n",
       "      <td>4</td>\n",
       "      <td>1</td>\n",
       "    </tr>\n",
       "    <tr>\n",
       "      <th>3</th>\n",
       "      <td>640</td>\n",
       "      <td>590</td>\n",
       "      <td>1105</td>\n",
       "      <td>1608</td>\n",
       "      <td>1459</td>\n",
       "      <td>2427</td>\n",
       "      <td>4</td>\n",
       "      <td>1</td>\n",
       "    </tr>\n",
       "    <tr>\n",
       "      <th>4</th>\n",
       "      <td>616</td>\n",
       "      <td>627</td>\n",
       "      <td>1192</td>\n",
       "      <td>1637</td>\n",
       "      <td>1466</td>\n",
       "      <td>2447</td>\n",
       "      <td>4</td>\n",
       "      <td>1</td>\n",
       "    </tr>\n",
       "    <tr>\n",
       "      <th>...</th>\n",
       "      <td>...</td>\n",
       "      <td>...</td>\n",
       "      <td>...</td>\n",
       "      <td>...</td>\n",
       "      <td>...</td>\n",
       "      <td>...</td>\n",
       "      <td>...</td>\n",
       "      <td>...</td>\n",
       "    </tr>\n",
       "    <tr>\n",
       "      <th>1840</th>\n",
       "      <td>862</td>\n",
       "      <td>826</td>\n",
       "      <td>1564</td>\n",
       "      <td>1768</td>\n",
       "      <td>1540</td>\n",
       "      <td>2037</td>\n",
       "      <td>4</td>\n",
       "      <td>1</td>\n",
       "    </tr>\n",
       "    <tr>\n",
       "      <th>1841</th>\n",
       "      <td>917</td>\n",
       "      <td>821</td>\n",
       "      <td>1571</td>\n",
       "      <td>1779</td>\n",
       "      <td>1543</td>\n",
       "      <td>2008</td>\n",
       "      <td>4</td>\n",
       "      <td>1</td>\n",
       "    </tr>\n",
       "    <tr>\n",
       "      <th>1842</th>\n",
       "      <td>925</td>\n",
       "      <td>832</td>\n",
       "      <td>1582</td>\n",
       "      <td>1776</td>\n",
       "      <td>1545</td>\n",
       "      <td>1989</td>\n",
       "      <td>4</td>\n",
       "      <td>1</td>\n",
       "    </tr>\n",
       "    <tr>\n",
       "      <th>1843</th>\n",
       "      <td>928</td>\n",
       "      <td>840</td>\n",
       "      <td>1587</td>\n",
       "      <td>1787</td>\n",
       "      <td>1538</td>\n",
       "      <td>1986</td>\n",
       "      <td>4</td>\n",
       "      <td>1</td>\n",
       "    </tr>\n",
       "    <tr>\n",
       "      <th>1844</th>\n",
       "      <td>926</td>\n",
       "      <td>840</td>\n",
       "      <td>1606</td>\n",
       "      <td>1785</td>\n",
       "      <td>1555</td>\n",
       "      <td>1996</td>\n",
       "      <td>4</td>\n",
       "      <td>1</td>\n",
       "    </tr>\n",
       "  </tbody>\n",
       "</table>\n",
       "<p>1845 rows × 8 columns</p>\n",
       "</div>\n",
       "    <div class=\"colab-df-buttons\">\n",
       "\n",
       "  <div class=\"colab-df-container\">\n",
       "    <button class=\"colab-df-convert\" onclick=\"convertToInteractive('df-a7b16477-cc5f-48ba-9c34-76b108070fb7')\"\n",
       "            title=\"Convert this dataframe to an interactive table.\"\n",
       "            style=\"display:none;\">\n",
       "\n",
       "  <svg xmlns=\"http://www.w3.org/2000/svg\" height=\"24px\" viewBox=\"0 -960 960 960\">\n",
       "    <path d=\"M120-120v-720h720v720H120Zm60-500h600v-160H180v160Zm220 220h160v-160H400v160Zm0 220h160v-160H400v160ZM180-400h160v-160H180v160Zm440 0h160v-160H620v160ZM180-180h160v-160H180v160Zm440 0h160v-160H620v160Z\"/>\n",
       "  </svg>\n",
       "    </button>\n",
       "\n",
       "  <style>\n",
       "    .colab-df-container {\n",
       "      display:flex;\n",
       "      gap: 12px;\n",
       "    }\n",
       "\n",
       "    .colab-df-convert {\n",
       "      background-color: #E8F0FE;\n",
       "      border: none;\n",
       "      border-radius: 50%;\n",
       "      cursor: pointer;\n",
       "      display: none;\n",
       "      fill: #1967D2;\n",
       "      height: 32px;\n",
       "      padding: 0 0 0 0;\n",
       "      width: 32px;\n",
       "    }\n",
       "\n",
       "    .colab-df-convert:hover {\n",
       "      background-color: #E2EBFA;\n",
       "      box-shadow: 0px 1px 2px rgba(60, 64, 67, 0.3), 0px 1px 3px 1px rgba(60, 64, 67, 0.15);\n",
       "      fill: #174EA6;\n",
       "    }\n",
       "\n",
       "    .colab-df-buttons div {\n",
       "      margin-bottom: 4px;\n",
       "    }\n",
       "\n",
       "    [theme=dark] .colab-df-convert {\n",
       "      background-color: #3B4455;\n",
       "      fill: #D2E3FC;\n",
       "    }\n",
       "\n",
       "    [theme=dark] .colab-df-convert:hover {\n",
       "      background-color: #434B5C;\n",
       "      box-shadow: 0px 1px 3px 1px rgba(0, 0, 0, 0.15);\n",
       "      filter: drop-shadow(0px 1px 2px rgba(0, 0, 0, 0.3));\n",
       "      fill: #FFFFFF;\n",
       "    }\n",
       "  </style>\n",
       "\n",
       "    <script>\n",
       "      const buttonEl =\n",
       "        document.querySelector('#df-a7b16477-cc5f-48ba-9c34-76b108070fb7 button.colab-df-convert');\n",
       "      buttonEl.style.display =\n",
       "        google.colab.kernel.accessAllowed ? 'block' : 'none';\n",
       "\n",
       "      async function convertToInteractive(key) {\n",
       "        const element = document.querySelector('#df-a7b16477-cc5f-48ba-9c34-76b108070fb7');\n",
       "        const dataTable =\n",
       "          await google.colab.kernel.invokeFunction('convertToInteractive',\n",
       "                                                    [key], {});\n",
       "        if (!dataTable) return;\n",
       "\n",
       "        const docLinkHtml = 'Like what you see? Visit the ' +\n",
       "          '<a target=\"_blank\" href=https://colab.research.google.com/notebooks/data_table.ipynb>data table notebook</a>'\n",
       "          + ' to learn more about interactive tables.';\n",
       "        element.innerHTML = '';\n",
       "        dataTable['output_type'] = 'display_data';\n",
       "        await google.colab.output.renderOutput(dataTable, element);\n",
       "        const docLink = document.createElement('div');\n",
       "        docLink.innerHTML = docLinkHtml;\n",
       "        element.appendChild(docLink);\n",
       "      }\n",
       "    </script>\n",
       "  </div>\n",
       "\n",
       "\n",
       "<div id=\"df-b6b0a69e-ba71-4703-ae70-a115bd1721a5\">\n",
       "  <button class=\"colab-df-quickchart\" onclick=\"quickchart('df-b6b0a69e-ba71-4703-ae70-a115bd1721a5')\"\n",
       "            title=\"Suggest charts\"\n",
       "            style=\"display:none;\">\n",
       "\n",
       "<svg xmlns=\"http://www.w3.org/2000/svg\" height=\"24px\"viewBox=\"0 0 24 24\"\n",
       "     width=\"24px\">\n",
       "    <g>\n",
       "        <path d=\"M19 3H5c-1.1 0-2 .9-2 2v14c0 1.1.9 2 2 2h14c1.1 0 2-.9 2-2V5c0-1.1-.9-2-2-2zM9 17H7v-7h2v7zm4 0h-2V7h2v10zm4 0h-2v-4h2v4z\"/>\n",
       "    </g>\n",
       "</svg>\n",
       "  </button>\n",
       "\n",
       "<style>\n",
       "  .colab-df-quickchart {\n",
       "      --bg-color: #E8F0FE;\n",
       "      --fill-color: #1967D2;\n",
       "      --hover-bg-color: #E2EBFA;\n",
       "      --hover-fill-color: #174EA6;\n",
       "      --disabled-fill-color: #AAA;\n",
       "      --disabled-bg-color: #DDD;\n",
       "  }\n",
       "\n",
       "  [theme=dark] .colab-df-quickchart {\n",
       "      --bg-color: #3B4455;\n",
       "      --fill-color: #D2E3FC;\n",
       "      --hover-bg-color: #434B5C;\n",
       "      --hover-fill-color: #FFFFFF;\n",
       "      --disabled-bg-color: #3B4455;\n",
       "      --disabled-fill-color: #666;\n",
       "  }\n",
       "\n",
       "  .colab-df-quickchart {\n",
       "    background-color: var(--bg-color);\n",
       "    border: none;\n",
       "    border-radius: 50%;\n",
       "    cursor: pointer;\n",
       "    display: none;\n",
       "    fill: var(--fill-color);\n",
       "    height: 32px;\n",
       "    padding: 0;\n",
       "    width: 32px;\n",
       "  }\n",
       "\n",
       "  .colab-df-quickchart:hover {\n",
       "    background-color: var(--hover-bg-color);\n",
       "    box-shadow: 0 1px 2px rgba(60, 64, 67, 0.3), 0 1px 3px 1px rgba(60, 64, 67, 0.15);\n",
       "    fill: var(--button-hover-fill-color);\n",
       "  }\n",
       "\n",
       "  .colab-df-quickchart-complete:disabled,\n",
       "  .colab-df-quickchart-complete:disabled:hover {\n",
       "    background-color: var(--disabled-bg-color);\n",
       "    fill: var(--disabled-fill-color);\n",
       "    box-shadow: none;\n",
       "  }\n",
       "\n",
       "  .colab-df-spinner {\n",
       "    border: 2px solid var(--fill-color);\n",
       "    border-color: transparent;\n",
       "    border-bottom-color: var(--fill-color);\n",
       "    animation:\n",
       "      spin 1s steps(1) infinite;\n",
       "  }\n",
       "\n",
       "  @keyframes spin {\n",
       "    0% {\n",
       "      border-color: transparent;\n",
       "      border-bottom-color: var(--fill-color);\n",
       "      border-left-color: var(--fill-color);\n",
       "    }\n",
       "    20% {\n",
       "      border-color: transparent;\n",
       "      border-left-color: var(--fill-color);\n",
       "      border-top-color: var(--fill-color);\n",
       "    }\n",
       "    30% {\n",
       "      border-color: transparent;\n",
       "      border-left-color: var(--fill-color);\n",
       "      border-top-color: var(--fill-color);\n",
       "      border-right-color: var(--fill-color);\n",
       "    }\n",
       "    40% {\n",
       "      border-color: transparent;\n",
       "      border-right-color: var(--fill-color);\n",
       "      border-top-color: var(--fill-color);\n",
       "    }\n",
       "    60% {\n",
       "      border-color: transparent;\n",
       "      border-right-color: var(--fill-color);\n",
       "    }\n",
       "    80% {\n",
       "      border-color: transparent;\n",
       "      border-right-color: var(--fill-color);\n",
       "      border-bottom-color: var(--fill-color);\n",
       "    }\n",
       "    90% {\n",
       "      border-color: transparent;\n",
       "      border-bottom-color: var(--fill-color);\n",
       "    }\n",
       "  }\n",
       "</style>\n",
       "\n",
       "  <script>\n",
       "    async function quickchart(key) {\n",
       "      const quickchartButtonEl =\n",
       "        document.querySelector('#' + key + ' button');\n",
       "      quickchartButtonEl.disabled = true;  // To prevent multiple clicks.\n",
       "      quickchartButtonEl.classList.add('colab-df-spinner');\n",
       "      try {\n",
       "        const charts = await google.colab.kernel.invokeFunction(\n",
       "            'suggestCharts', [key], {});\n",
       "      } catch (error) {\n",
       "        console.error('Error during call to suggestCharts:', error);\n",
       "      }\n",
       "      quickchartButtonEl.classList.remove('colab-df-spinner');\n",
       "      quickchartButtonEl.classList.add('colab-df-quickchart-complete');\n",
       "    }\n",
       "    (() => {\n",
       "      let quickchartButtonEl =\n",
       "        document.querySelector('#df-b6b0a69e-ba71-4703-ae70-a115bd1721a5 button');\n",
       "      quickchartButtonEl.style.display =\n",
       "        google.colab.kernel.accessAllowed ? 'block' : 'none';\n",
       "    })();\n",
       "  </script>\n",
       "</div>\n",
       "\n",
       "  <div id=\"id_1416b30d-58fa-41ed-a2d4-a937712d8708\">\n",
       "    <style>\n",
       "      .colab-df-generate {\n",
       "        background-color: #E8F0FE;\n",
       "        border: none;\n",
       "        border-radius: 50%;\n",
       "        cursor: pointer;\n",
       "        display: none;\n",
       "        fill: #1967D2;\n",
       "        height: 32px;\n",
       "        padding: 0 0 0 0;\n",
       "        width: 32px;\n",
       "      }\n",
       "\n",
       "      .colab-df-generate:hover {\n",
       "        background-color: #E2EBFA;\n",
       "        box-shadow: 0px 1px 2px rgba(60, 64, 67, 0.3), 0px 1px 3px 1px rgba(60, 64, 67, 0.15);\n",
       "        fill: #174EA6;\n",
       "      }\n",
       "\n",
       "      [theme=dark] .colab-df-generate {\n",
       "        background-color: #3B4455;\n",
       "        fill: #D2E3FC;\n",
       "      }\n",
       "\n",
       "      [theme=dark] .colab-df-generate:hover {\n",
       "        background-color: #434B5C;\n",
       "        box-shadow: 0px 1px 3px 1px rgba(0, 0, 0, 0.15);\n",
       "        filter: drop-shadow(0px 1px 2px rgba(0, 0, 0, 0.3));\n",
       "        fill: #FFFFFF;\n",
       "      }\n",
       "    </style>\n",
       "    <button class=\"colab-df-generate\" onclick=\"generateWithVariable('dataframe')\"\n",
       "            title=\"Generate code using this dataframe.\"\n",
       "            style=\"display:none;\">\n",
       "\n",
       "  <svg xmlns=\"http://www.w3.org/2000/svg\" height=\"24px\"viewBox=\"0 0 24 24\"\n",
       "       width=\"24px\">\n",
       "    <path d=\"M7,19H8.4L18.45,9,17,7.55,7,17.6ZM5,21V16.75L18.45,3.32a2,2,0,0,1,2.83,0l1.4,1.43a1.91,1.91,0,0,1,.58,1.4,1.91,1.91,0,0,1-.58,1.4L9.25,21ZM18.45,9,17,7.55Zm-12,3A5.31,5.31,0,0,0,4.9,8.1,5.31,5.31,0,0,0,1,6.5,5.31,5.31,0,0,0,4.9,4.9,5.31,5.31,0,0,0,6.5,1,5.31,5.31,0,0,0,8.1,4.9,5.31,5.31,0,0,0,12,6.5,5.46,5.46,0,0,0,6.5,12Z\"/>\n",
       "  </svg>\n",
       "    </button>\n",
       "    <script>\n",
       "      (() => {\n",
       "      const buttonEl =\n",
       "        document.querySelector('#id_1416b30d-58fa-41ed-a2d4-a937712d8708 button.colab-df-generate');\n",
       "      buttonEl.style.display =\n",
       "        google.colab.kernel.accessAllowed ? 'block' : 'none';\n",
       "\n",
       "      buttonEl.onclick = () => {\n",
       "        google.colab.notebook.generateWithVariable('dataframe');\n",
       "      }\n",
       "      })();\n",
       "    </script>\n",
       "  </div>\n",
       "\n",
       "    </div>\n",
       "  </div>\n"
      ],
      "text/plain": [
       "      Methane  NOxEmissions  PM2.5Emissions  VOCEmissions  SO2Emissions  \\\n",
       "0         670           696            1252          1720          1321   \n",
       "1         641           674            1156          1652          1410   \n",
       "2         642           646            1159          1643          1455   \n",
       "3         640           590            1105          1608          1459   \n",
       "4         616           627            1192          1637          1466   \n",
       "...       ...           ...             ...           ...           ...   \n",
       "1840      862           826            1564          1768          1540   \n",
       "1841      917           821            1571          1779          1543   \n",
       "1842      925           832            1582          1776          1545   \n",
       "1843      928           840            1587          1787          1538   \n",
       "1844      926           840            1606          1785          1555   \n",
       "\n",
       "      CO2Emissions  Class  Contaminated  \n",
       "0             2431      4             1  \n",
       "1             2433      4             1  \n",
       "2             2361      4             1  \n",
       "3             2427      4             1  \n",
       "4             2447      4             1  \n",
       "...            ...    ...           ...  \n",
       "1840          2037      4             1  \n",
       "1841          2008      4             1  \n",
       "1842          1989      4             1  \n",
       "1843          1986      4             1  \n",
       "1844          1996      4             1  \n",
       "\n",
       "[1845 rows x 8 columns]"
      ]
     },
     "execution_count": 4,
     "metadata": {},
     "output_type": "execute_result"
    }
   ],
   "source": [
    "#freehand code \n"
   ]
  },
  {
   "cell_type": "markdown",
      "metadata": {
      "deletable": false,
      "editable": false,
    "id": "Z33RY48X7JUZ"
   },
   "source": [
    "\n",
    "**Explanation**:  *The dataset contains measurements of various air pollutants and their emissions, including Methane, NOx (Nitrogen Oxides), PM2.5 (Particulate Matter), VOCs (Volatile Organic Compounds), SO2 (Sulfur Dioxide), and CO2 (Carbon Dioxide). Each row represents a different observation with specific values for each pollutant. The “Class” column likely categorizes the data into different types or sources of emissions, while the “Contaminated” column indicates whether the observation is considered contaminated (1) or not (0). This dataset can be used to analyze the levels of different pollutants and their potential sources, as well as to assess the overall air quality and identify contaminated samples*."
   ]
  },
  {
   "cell_type": "markdown",
      "metadata": {
      "deletable": false,
      "editable": false,
    "id": "gtCzIDsk7i5w"
   },
   "source": [
    "### Goal 3: Import the Plotly.Express Library \n",
    "\n",
    "We’ve already brought pandas to help with data science. Let’s bring in Plotly Express to help with some fancy-pants visualizations.\n"
   ]
  },
  {
   "cell_type": "markdown",
      "metadata": {
      "deletable": false,
      "editable": false,
    "id": "x0SRvRkL7oZw",
    "jp-MarkdownHeadingCollapsed": true
   },
   "source": [
    "#### Blockly"
   ]
  },
  {
   "cell_type": "markdown",
      "metadata": {
      "deletable": false,
      "editable": false,
    "id": "uToivzYV7sUM"
   },
   "source": [
    "**Step 1 - Starting the import**\n",
    "\n",
    "First, we need to set up a “command” to tell the computer what to do. In this case, “command” is to “import” to bring the add-on package in.\n",
    "\n",
    "Bring in the IMPORT menu, which can be helpful to bring in other data tools. In this case, we're bringing in the **import** block.\n",
    "\n"
   ]
  },
  {
   "cell_type": "markdown",
      "metadata": {
      "deletable": false,
      "editable": false,
    "id": "AmkYPSh97uZP"
   },
   "source": [
    "\n",
    "**Step 2 - Telling what library to import**\n",
    "\n",
    "In the text area, we type the name of the library we want to import. A library is like an extra thing we bring in to give us more coding abilities. In our case, we will type out the **plotly.express** library. Plotly is a popular library in Python that provides functions for fancy-pants data visualizations.\n"
   ]
  },
  {
   "cell_type": "markdown",
      "metadata": {
      "deletable": false,
      "editable": false,
    "id": "K3yW1pWr7vQi"
   },
   "source": [
    "\n",
    "**Step 3 - Renaming the library so it’s easy to remember**\n",
    "\n",
    "Once you are done, put the **import** and **plotly.express** together in a single variable. This handy feature helps cut down on all the typing later on. You can call it whatever is easiest for you to remember. In the example below, we’ve put everything into px so it’s easier to remember\n"
   ]
  },
  {
   "cell_type": "markdown",
      "metadata": {
      "deletable": false,
      "editable": false,
    "id": "I7556rLY7wAi"
   },
   "source": [
    "\n",
    "**Step 4 - Connect the blocks to run the code**\n",
    "\n",
    "Connect the blocks and run the code!\n",
    "\n",
    "<details>\n",
    "    <summary>Click to see the answer...</summary>\n",
    "\n",
    "![](http://pbs.twimg.com/media/GaON4A9XsAANFz2?format=png&name=240x240)\n",
    "\n",
    "</details>"
   ]
  },
  {
   "cell_type": "code",
   "execution_count": null,
   "metadata": {},
   "outputs": [],
   "source": [
    "#blocks code\n"
   ]
  },
  {
   "cell_type": "markdown",
      "metadata": {
      "deletable": false,
      "editable": false,
    "id": "rOLJgagq8EpF",
    "jp-MarkdownHeadingCollapsed": true
   },
   "source": [
    "#### Freehand"
   ]
  },
  {
   "cell_type": "markdown",
      "metadata": {
      "deletable": false,
      "editable": false,
    "id": "smGYJXl08JeE"
   },
   "source": [
    "\n",
    "**Step 1 - Starting the import**\n",
    "\n",
    "First, we need to set up a “command” to tell the computer what to do. In this case, “command” is to “import” to bring the add-on package in.\n"
   ]
  },
  {
   "cell_type": "markdown",
      "metadata": {
      "deletable": false,
      "editable": false,
    "id": "I_54ry7J8OmU"
   },
   "source": [
    "\n",
    "**Step 2 - Telling what library to import**\n",
    "\n",
    "In the text area, we type the name of the library we want to import. A library is like an extra thing we bring in to give us more coding abilities. In our case, we will type out the **plotly.express** library. Plotly is a popular library in Python that provides functions for fancy-pants data visualizations.\n"
   ]
  },
  {
   "cell_type": "markdown",
      "metadata": {
      "deletable": false,
      "editable": false,
    "id": "mzJS6JlG8RvS"
   },
   "source": [
    "\n",
    "**Step 3 - Renaming the library so it’s easy to remember**\n",
    "\n",
    "Once you are done, put the ‘import’ and ‘package’ together in a single variable. This handy feature helps cut down on all the typing later on. Feel free to use whatever name you want that will help you remember it later on. In the example below, we’ve put everything into **px**.\n"
   ]
  },
  {
   "cell_type": "markdown",
      "metadata": {
      "deletable": false,
      "editable": false,
    "id": "HdrEwHEv8XVd"
   },
   "source": [
    "\n",
    "**Step 4 - Run the code**\n",
    "\n",
    "Hit ‘control’ and ‘enter’ at the same time to run the code!\n",
    "\n",
    "<details>\n",
    "    <summary>Click to see the answer...</summary>\n",
    "    \n",
    "![](https://pbs.twimg.com/media/GaON1ppW0AIrmJh?format=png&name=360x360)\n",
    "\n",
    "</details>"
   ]
  },
  {
   "cell_type": "markdown",
      "metadata": {
      "deletable": false,
      "editable": false,
    "id": "FJPjK-TO8aXW"
   },
   "source": [
    "**Your Turn** Now it’s your turn! We’re going to bring in Plotly Express to help with those visualizations. Let’s start the import making sure to rename it before we run it."
   ]
  },
  {
   "cell_type": "code",
   "execution_count": 6,
   "metadata": {
    "id": "hncDdvyM8ibE"
   },
   "outputs": [],
   "source": [
    "#freehand code \n"
   ]
  },
  {
   "cell_type": "markdown",
      "metadata": {
      "deletable": false,
      "editable": false,
    "id": "WMyUGS6c8pF9"
   },
   "source": [
    "**Explanation**: *Congrats! Your attempts finally made it! Now you have successfully imported the **plotly.express** package as the variable px* **bold text**."
   ]
  },
  {
   "cell_type": "markdown",
      "metadata": {
      "deletable": false,
      "editable": false,
    "id": "yCSwnRce8ski"
   },
   "source": [
    "### Goal 4: Initial visual inspection of correlations using Scatter Plot\n",
    "\n",
    "Scatter plots help us to look at each data point when it comes to interval ratio data. The scatter plot shows us the relationship between two variables in a data set. The independent variable is plotted on the X-axis, while the dependent variable is plotted on the Y-axis. They are super handy for finding the relationship between different numeric variables."
   ]
  },
  {
   "cell_type": "markdown",
      "metadata": {
      "deletable": false,
      "editable": false,
    "id": "os7_Wmnl9IVg",
    "jp-MarkdownHeadingCollapsed": true
   },
   "source": [
    "#### Blockly"
   ]
  },
  {
   "cell_type": "markdown",
      "metadata": {
      "deletable": false,
      "editable": false,
    "id": "1BpY1Tuo9KlZ"
   },
   "source": [
    "\n",
    "**Step 1 -  Call the scatter function from plotly**\n",
    "\n",
    "To make a scatterplot, we first need to call the scatter function with our plotly library (px).\n",
    "\n",
    "From the Variables menu drag a DO block for the **px** variable. Select the \"**scatter**\" function. This specifies the function we want to call, which is the scatter function from the Plotly Express library (imported as \"px\" earlier).\n"
   ]
  },
  {
   "cell_type": "markdown",
      "metadata": {
      "deletable": false,
      "editable": false,
    "id": "eSpzYSpE9Q0x"
   },
   "source": [
    "\n",
    "**Step 2 -  Saying what data to use for the scatter plot**\n",
    "\n",
    "In order to make a plot, we need to choose its source from which data we want to plot from. In this case, our dataset is stored in the dataframe **dataframe**.\n",
    "\n",
    "For the first argument, drag from the Variable menu the **dataframe** variable. This allows us to specify a dataframe as and what to look at for the scatter function.\n"
   ]
  },
  {
   "cell_type": "markdown",
      "metadata": {
      "deletable": false,
      "editable": false,
    "id": "ib8SFZwh9R1F"
   },
   "source": [
    "\n",
    "**Step 3 -  Tell plotly what columns to put on the axis**\n",
    "\n",
    "Identify the two variables you want to look at. One variable will be alongside the X-axis (*across*) and another one alongside the Y-axis (*up and down*). In our context, we want to see the relationship between **CO2Emissions** and **PM2.5Emissions**. We will assign the variables in the 2 axis in the graph.\n",
    "\n",
    "From the TEXT menu, drag the Quotes. Type the text **CO2Emissions**. This specifies TrafficVolume as the x-axis variable for the scatter plot. Also, from the TEXT menu, drag the Quotes. Type the text **PM2.5Emissions**.   \n"
   ]
  },
  {
   "cell_type": "markdown",
      "metadata": {
      "deletable": false,
      "editable": false,
    "id": "3fny3-_k9Tam"
   },
   "source": [
    "\n",
    "**Step 4 - Connect the blocks to run the code**\n",
    "\n",
    "Connect the blocks and run the code!\n",
    "\n",
    "\n",
    "<details>\n",
    "    <summary>Click to see the answer...</summary>\n",
    "    \n",
    "![](https://pbs.twimg.com/media/GbbDb9PbcAAvgvN?format=png&name=900x900)\n",
    "\n",
    "</details>"
   ]
  },
  {
   "cell_type": "code",
   "execution_count": null,
   "metadata": {},
   "outputs": [],
   "source": [
    "#blocks code\n"
   ]
  },
  {
   "cell_type": "markdown",
      "metadata": {
      "deletable": false,
      "editable": false,
    "id": "lp6kC4_C9u57",
    "jp-MarkdownHeadingCollapsed": true
   },
   "source": [
    "#### Freehand"
   ]
  },
  {
   "cell_type": "markdown",
      "metadata": {
      "deletable": false,
      "editable": false,
    "id": "mwAKhoYL9wlZ"
   },
   "source": [
    "**Step 1 - Call the scatter function from plotly**\n",
    "\n",
    "To make a scatterplot, we first need to call the scatter function with our plotly library (px).\n",
    "\n",
    "`px.scatter()`"
   ]
  },
  {
   "cell_type": "markdown",
      "metadata": {
      "deletable": false,
      "editable": false,
    "id": "MHbs0Hv1968v"
   },
   "source": [
    "\n",
    "**Step 2 -  Saying what data to use for the scatter plot**\n",
    "\n",
    "In order to make a plot, we need to choose its source from which data we want to plot from. In this case, our dataset is stored in the dataframe **“dataframe”**\n",
    "\n",
    "`px.scatter(dataframe) `"
   ]
  },
  {
   "cell_type": "markdown",
      "metadata": {
      "deletable": false,
      "editable": false,
    "id": "_2m9Ivwo97wF"
   },
   "source": [
    "\n",
    "**Step 3 -  Tell plotly what the columns to put on the axis**\n",
    "\n",
    "Identify the two variables you want to look at. One variable will be alongside the X-axis (*across*) and another one alongside the Y-axis (*up and down*). In our context, we want to see the relationship between **CO2Emissions** and **PM2.5Emissions**. We will assign the variables in the 2 axis in the graph\n",
    "\n",
    "`px.scatter(dataframe, x=\"CO2Emissions\", y=\"PM2.5Emissions\")`"
   ]
  },
  {
   "cell_type": "markdown",
      "metadata": {
      "deletable": false,
      "editable": false,
    "id": "GuDZonoa98ue"
   },
   "source": [
    "\n",
    "**Step 4 - Run the code**\n",
    "\n",
    "Hit ‘control’ and ‘enter’ at the same time to run the code!\n",
    "\n",
    "<details>\n",
    "    <summary>Click to see the answer...</summary>\n",
    "\n",
    "![](https://pbs.twimg.com/media/GbbDZJYbgAA-gdA?format=jpg&name=medium)\n",
    "\n",
    "</details>"
   ]
  },
  {
   "cell_type": "markdown",
      "metadata": {
      "deletable": false,
      "editable": false,
    "id": "rXj3Q1wW-ZD4"
   },
   "source": [
    "**Your Turn** Now it’s your turn! We’re going to create a scatter plot so we can review the correlations of the data. Let’s start with adding in the x and y-axis variables."
   ]
  },
  {
   "cell_type": "code",
   "execution_count": 3,
   "metadata": {
    "colab": {
     "base_uri": "https://localhost:8080/",
     "height": 542
    },
    "id": "tQWDW0GA-bjm",
    "outputId": "ff1e67b1-b6df-4b03-90e3-f38e4c9c796c"
   },
   "outputs": [],
   "source": [
    "#freehand code \n"
   ]
  },
  {
   "cell_type": "markdown",
      "metadata": {
      "deletable": false,
      "editable": false,
    "id": "wdtE--j9-gFA"
   },
   "source": [
    "**Explanation**: *This scatter plot shows groups of data points that represent different patterns in CO2 and PM2.5 emissions. We can see that most points fall within a few main clusters, indicating that certain levels of CO2 emissions are often associated with specific ranges of PM2.5 emissions. For example, one cluster of points is concentrated around higher PM2.5 levels with lower CO2 emissions, while another cluster shows lower PM2.5 levels as CO2 emissions increase. Identifying these clusters helps us understand how different sources or types of emissions are linked to different pollution patterns*."
   ]
  },
  {
   "cell_type": "markdown",
      "metadata": {
      "deletable": false,
      "editable": false,
    "id": "ovjv8IMF-k3M"
   },
   "source": [
    "### Goal 5: Create a new dataframe with new columns\n",
    "\n",
    "We will create a new dataframe using emissions data that is found in some of the columns found in our dataset. Be warned....creating a new dataframe, we are overwriting it so this becomes the latest and newest version for the dataframe name. (Gulp!)"
   ]
  },
  {
   "cell_type": "markdown",
      "metadata": {
      "deletable": false,
      "editable": false,
    "id": "37HUEhaCAEOo",
    "jp-MarkdownHeadingCollapsed": true
   },
   "source": [
    "#### Blockly"
   ]
  },
  {
   "cell_type": "markdown",
      "metadata": {
      "deletable": false,
      "editable": false,
    "id": "b7ywaEHpAIPB"
   },
   "source": [
    "\n",
    "**Step 1 - Select the dataframe columns**\n",
    "\n",
    "Let’s think through what variables in **dataframe** will help us the prediction.\n",
    "\n",
    "Get the dictVariable from the LISTS menu. Select **dataframe** from the dropdown menu.\n",
    "\n",
    "Create a new list to store the column names. Using the Quotes “” from the Text menu, add the following column names to the list \"Methane\", \"NOxEmissions\", \"PM2.5Emissions\", \"VOCEmissions\", \"SO2Emissions\", and \"CO2Emissions\".\n"
   ]
  },
  {
   "cell_type": "markdown",
      "metadata": {
      "deletable": false,
      "editable": false,
    "id": "J_PSda5nAJ6I"
   },
   "source": [
    "\n",
    "**Step 2 - Store the columns in a new variable**\n",
    "\n",
    "Now that we have all the data we want to look at, let’s assign the resulting **dataframe** to the dataframe variable we used earlier.\n",
    "\n",
    "The new dataset now has only the variables we think will help with our prediction. With that, it would be possible to find patterns as a result of the clustering process.\n"
   ]
  },
  {
   "cell_type": "markdown",
      "metadata": {
      "deletable": false,
      "editable": false,
    "id": "7Vy6ISYNAQBc"
   },
   "source": [
    "\n",
    "**Step 3 - Display the dataframe**\n",
    "\n",
    "Finally, we display the dataframe variable to see what we got.\n"
   ]
  },
  {
   "cell_type": "markdown",
      "metadata": {
      "deletable": false,
      "editable": false,
    "id": "1YhjIS12AQxU"
   },
   "source": [
    "\n",
    "**Step 4 - Connect the blocks to run the code**\n",
    "\n",
    "Connect the blocks and run the code!\n",
    "\n",
    "<details>\n",
    "    <summary>Click to see the answer...</summary>\n",
    "    \n",
    "![](https://pbs.twimg.com/media/GaOHIb4WMAAjl-0?format=png&name=small)\n",
    "\n",
    "</details>"
   ]
  },
  {
   "cell_type": "code",
   "execution_count": null,
   "metadata": {},
   "outputs": [],
   "source": [
    "#blocks code\n"
   ]
  },
  {
   "cell_type": "markdown",
      "metadata": {
      "deletable": false,
      "editable": false,
    "id": "wk_GQxRoAuiS",
    "jp-MarkdownHeadingCollapsed": true
   },
   "source": [
    "#### Freehand"
   ]
  },
  {
   "cell_type": "markdown",
      "metadata": {
      "deletable": false,
      "editable": false,
    "id": "ar7KauJ7Avup"
   },
   "source": [
    "\n",
    "**Step 1 - Select the dataframe columns**\n",
    "\n",
    "Let’s think through what variables in **dataframe** will help us with the prediction.\n",
    "\n",
    "To select the specific columns, to first select the dataframe[ ]. Inside the dataframe, we give the column names as a list.\n",
    "\n",
    "`dataframe[['Methane', 'NOxEmissions', 'PM2.5Emissions', 'VOCEmissions', 'SO2Emissions', 'CO2Emissions']]`\n"
   ]
  },
  {
   "cell_type": "markdown",
      "metadata": {
      "deletable": false,
      "editable": false,
    "id": "TrhHqgDkAzri"
   },
   "source": [
    "\n",
    "**Step 2 - Store the columns in a new variable**\n",
    "\n",
    "Now that we have all the data we want to look at, let’s assign the resulting dataframe to the **dataframe** variable we used earlier.\n",
    "\n",
    "The new dataset now has only the variables we think will help with our prediction. With that, it would be possible to identify patterns as the result of the clustering process.\n",
    "\n",
    "`dataframe = dataframe[['Methane', 'NOxEmissions', 'PM2.5Emissions', 'VOCEmissions', 'SO2Emissions', 'CO2Emissions']]`\n"
   ]
  },
  {
   "cell_type": "markdown",
      "metadata": {
      "deletable": false,
      "editable": false,
    "id": "SjnHspp5A1Df"
   },
   "source": [
    "\n",
    "\n",
    "**Step 3 - Print the dataframe**\n",
    "\n",
    "Finally, we print the dataframe variable to see what we got.\n",
    "\n",
    "`dataframe`"
   ]
  },
  {
   "cell_type": "markdown",
      "metadata": {
      "deletable": false,
      "editable": false,
    "id": "9dINwo0TA1yN"
   },
   "source": [
    "\n",
    "\n",
    "**Step 4 - Run the code**\n",
    "\n",
    "Hit ‘control’ and ‘enter’ at the same time to run the code!\n",
    "\n",
    "<details>\n",
    "    <summary>Click to see the answer...</summary>\n",
    "\n",
    "![](https://pbs.twimg.com/media/GaOHF6LWkAAa5ZH?format=jpg&name=medium)\n",
    "\n",
    "</details>"
   ]
  },
  {
   "cell_type": "markdown",
      "metadata": {
      "deletable": false,
      "editable": false,
    "id": "JgA1AuFjBO-4"
   },
   "source": [
    "**Your Turn** Now it’s your turn!.\n",
    "\n"
   ]
  },
  {
   "cell_type": "code",
   "execution_count": 8,
   "metadata": {
    "colab": {
     "base_uri": "https://localhost:8080/",
     "height": 423
    },
    "id": "Tj1I_ephBQzy",
    "outputId": "dfc9e8ae-709f-401a-aa02-cea9e738e348"
   },
   "outputs": [
    {
     "data": {
      "application/vnd.google.colaboratory.intrinsic+json": {
       "summary": "{\n  \"name\": \"dataframe\",\n  \"rows\": 1845,\n  \"fields\": [\n    {\n      \"column\": \"Methane\",\n      \"properties\": {\n        \"dtype\": \"number\",\n        \"std\": 190,\n        \"min\": 263,\n        \"max\": 1266,\n        \"num_unique_values\": 650,\n        \"samples\": [\n          484,\n          530,\n          839\n        ],\n        \"semantic_type\": \"\",\n        \"description\": \"\"\n      }\n    },\n    {\n      \"column\": \"NOxEmissions\",\n      \"properties\": {\n        \"dtype\": \"number\",\n        \"std\": 173,\n        \"min\": 346,\n        \"max\": 1388,\n        \"num_unique_values\": 610,\n        \"samples\": [\n          623,\n          475,\n          705\n        ],\n        \"semantic_type\": \"\",\n        \"description\": \"\"\n      }\n    },\n    {\n      \"column\": \"PM2.5Emissions\",\n      \"properties\": {\n        \"dtype\": \"number\",\n        \"std\": 208,\n        \"min\": 753,\n        \"max\": 1738,\n        \"num_unique_values\": 718,\n        \"samples\": [\n          915,\n          1508,\n          1417\n        ],\n        \"semantic_type\": \"\",\n        \"description\": \"\"\n      }\n    },\n    {\n      \"column\": \"VOCEmissions\",\n      \"properties\": {\n        \"dtype\": \"number\",\n        \"std\": 118,\n        \"min\": 1323,\n        \"max\": 1926,\n        \"num_unique_values\": 467,\n        \"samples\": [\n          1498,\n          1528,\n          1819\n        ],\n        \"semantic_type\": \"\",\n        \"description\": \"\"\n      }\n    },\n    {\n      \"column\": \"SO2Emissions\",\n      \"properties\": {\n        \"dtype\": \"number\",\n        \"std\": 279,\n        \"min\": 773,\n        \"max\": 1948,\n        \"num_unique_values\": 844,\n        \"samples\": [\n          1204,\n          1281,\n          1023\n        ],\n        \"semantic_type\": \"\",\n        \"description\": \"\"\n      }\n    },\n    {\n      \"column\": \"CO2Emissions\",\n      \"properties\": {\n        \"dtype\": \"number\",\n        \"std\": 181,\n        \"min\": 1797,\n        \"max\": 2703,\n        \"num_unique_values\": 640,\n        \"samples\": [\n          1863,\n          1936,\n          2418\n        ],\n        \"semantic_type\": \"\",\n        \"description\": \"\"\n      }\n    }\n  ]\n}",
       "type": "dataframe",
       "variable_name": "dataframe"
      },
      "text/html": [
       "\n",
       "  <div id=\"df-47d6d748-03b7-4c00-82cf-81ee10974d5c\" class=\"colab-df-container\">\n",
       "    <div>\n",
       "<style scoped>\n",
       "    .dataframe tbody tr th:only-of-type {\n",
       "        vertical-align: middle;\n",
       "    }\n",
       "\n",
       "    .dataframe tbody tr th {\n",
       "        vertical-align: top;\n",
       "    }\n",
       "\n",
       "    .dataframe thead th {\n",
       "        text-align: right;\n",
       "    }\n",
       "</style>\n",
       "<table border=\"1\" class=\"dataframe\">\n",
       "  <thead>\n",
       "    <tr style=\"text-align: right;\">\n",
       "      <th></th>\n",
       "      <th>Methane</th>\n",
       "      <th>NOxEmissions</th>\n",
       "      <th>PM2.5Emissions</th>\n",
       "      <th>VOCEmissions</th>\n",
       "      <th>SO2Emissions</th>\n",
       "      <th>CO2Emissions</th>\n",
       "    </tr>\n",
       "  </thead>\n",
       "  <tbody>\n",
       "    <tr>\n",
       "      <th>0</th>\n",
       "      <td>670</td>\n",
       "      <td>696</td>\n",
       "      <td>1252</td>\n",
       "      <td>1720</td>\n",
       "      <td>1321</td>\n",
       "      <td>2431</td>\n",
       "    </tr>\n",
       "    <tr>\n",
       "      <th>1</th>\n",
       "      <td>641</td>\n",
       "      <td>674</td>\n",
       "      <td>1156</td>\n",
       "      <td>1652</td>\n",
       "      <td>1410</td>\n",
       "      <td>2433</td>\n",
       "    </tr>\n",
       "    <tr>\n",
       "      <th>2</th>\n",
       "      <td>642</td>\n",
       "      <td>646</td>\n",
       "      <td>1159</td>\n",
       "      <td>1643</td>\n",
       "      <td>1455</td>\n",
       "      <td>2361</td>\n",
       "    </tr>\n",
       "    <tr>\n",
       "      <th>3</th>\n",
       "      <td>640</td>\n",
       "      <td>590</td>\n",
       "      <td>1105</td>\n",
       "      <td>1608</td>\n",
       "      <td>1459</td>\n",
       "      <td>2427</td>\n",
       "    </tr>\n",
       "    <tr>\n",
       "      <th>4</th>\n",
       "      <td>616</td>\n",
       "      <td>627</td>\n",
       "      <td>1192</td>\n",
       "      <td>1637</td>\n",
       "      <td>1466</td>\n",
       "      <td>2447</td>\n",
       "    </tr>\n",
       "    <tr>\n",
       "      <th>...</th>\n",
       "      <td>...</td>\n",
       "      <td>...</td>\n",
       "      <td>...</td>\n",
       "      <td>...</td>\n",
       "      <td>...</td>\n",
       "      <td>...</td>\n",
       "    </tr>\n",
       "    <tr>\n",
       "      <th>1840</th>\n",
       "      <td>862</td>\n",
       "      <td>826</td>\n",
       "      <td>1564</td>\n",
       "      <td>1768</td>\n",
       "      <td>1540</td>\n",
       "      <td>2037</td>\n",
       "    </tr>\n",
       "    <tr>\n",
       "      <th>1841</th>\n",
       "      <td>917</td>\n",
       "      <td>821</td>\n",
       "      <td>1571</td>\n",
       "      <td>1779</td>\n",
       "      <td>1543</td>\n",
       "      <td>2008</td>\n",
       "    </tr>\n",
       "    <tr>\n",
       "      <th>1842</th>\n",
       "      <td>925</td>\n",
       "      <td>832</td>\n",
       "      <td>1582</td>\n",
       "      <td>1776</td>\n",
       "      <td>1545</td>\n",
       "      <td>1989</td>\n",
       "    </tr>\n",
       "    <tr>\n",
       "      <th>1843</th>\n",
       "      <td>928</td>\n",
       "      <td>840</td>\n",
       "      <td>1587</td>\n",
       "      <td>1787</td>\n",
       "      <td>1538</td>\n",
       "      <td>1986</td>\n",
       "    </tr>\n",
       "    <tr>\n",
       "      <th>1844</th>\n",
       "      <td>926</td>\n",
       "      <td>840</td>\n",
       "      <td>1606</td>\n",
       "      <td>1785</td>\n",
       "      <td>1555</td>\n",
       "      <td>1996</td>\n",
       "    </tr>\n",
       "  </tbody>\n",
       "</table>\n",
       "<p>1845 rows × 6 columns</p>\n",
       "</div>\n",
       "    <div class=\"colab-df-buttons\">\n",
       "\n",
       "  <div class=\"colab-df-container\">\n",
       "    <button class=\"colab-df-convert\" onclick=\"convertToInteractive('df-47d6d748-03b7-4c00-82cf-81ee10974d5c')\"\n",
       "            title=\"Convert this dataframe to an interactive table.\"\n",
       "            style=\"display:none;\">\n",
       "\n",
       "  <svg xmlns=\"http://www.w3.org/2000/svg\" height=\"24px\" viewBox=\"0 -960 960 960\">\n",
       "    <path d=\"M120-120v-720h720v720H120Zm60-500h600v-160H180v160Zm220 220h160v-160H400v160Zm0 220h160v-160H400v160ZM180-400h160v-160H180v160Zm440 0h160v-160H620v160ZM180-180h160v-160H180v160Zm440 0h160v-160H620v160Z\"/>\n",
       "  </svg>\n",
       "    </button>\n",
       "\n",
       "  <style>\n",
       "    .colab-df-container {\n",
       "      display:flex;\n",
       "      gap: 12px;\n",
       "    }\n",
       "\n",
       "    .colab-df-convert {\n",
       "      background-color: #E8F0FE;\n",
       "      border: none;\n",
       "      border-radius: 50%;\n",
       "      cursor: pointer;\n",
       "      display: none;\n",
       "      fill: #1967D2;\n",
       "      height: 32px;\n",
       "      padding: 0 0 0 0;\n",
       "      width: 32px;\n",
       "    }\n",
       "\n",
       "    .colab-df-convert:hover {\n",
       "      background-color: #E2EBFA;\n",
       "      box-shadow: 0px 1px 2px rgba(60, 64, 67, 0.3), 0px 1px 3px 1px rgba(60, 64, 67, 0.15);\n",
       "      fill: #174EA6;\n",
       "    }\n",
       "\n",
       "    .colab-df-buttons div {\n",
       "      margin-bottom: 4px;\n",
       "    }\n",
       "\n",
       "    [theme=dark] .colab-df-convert {\n",
       "      background-color: #3B4455;\n",
       "      fill: #D2E3FC;\n",
       "    }\n",
       "\n",
       "    [theme=dark] .colab-df-convert:hover {\n",
       "      background-color: #434B5C;\n",
       "      box-shadow: 0px 1px 3px 1px rgba(0, 0, 0, 0.15);\n",
       "      filter: drop-shadow(0px 1px 2px rgba(0, 0, 0, 0.3));\n",
       "      fill: #FFFFFF;\n",
       "    }\n",
       "  </style>\n",
       "\n",
       "    <script>\n",
       "      const buttonEl =\n",
       "        document.querySelector('#df-47d6d748-03b7-4c00-82cf-81ee10974d5c button.colab-df-convert');\n",
       "      buttonEl.style.display =\n",
       "        google.colab.kernel.accessAllowed ? 'block' : 'none';\n",
       "\n",
       "      async function convertToInteractive(key) {\n",
       "        const element = document.querySelector('#df-47d6d748-03b7-4c00-82cf-81ee10974d5c');\n",
       "        const dataTable =\n",
       "          await google.colab.kernel.invokeFunction('convertToInteractive',\n",
       "                                                    [key], {});\n",
       "        if (!dataTable) return;\n",
       "\n",
       "        const docLinkHtml = 'Like what you see? Visit the ' +\n",
       "          '<a target=\"_blank\" href=https://colab.research.google.com/notebooks/data_table.ipynb>data table notebook</a>'\n",
       "          + ' to learn more about interactive tables.';\n",
       "        element.innerHTML = '';\n",
       "        dataTable['output_type'] = 'display_data';\n",
       "        await google.colab.output.renderOutput(dataTable, element);\n",
       "        const docLink = document.createElement('div');\n",
       "        docLink.innerHTML = docLinkHtml;\n",
       "        element.appendChild(docLink);\n",
       "      }\n",
       "    </script>\n",
       "  </div>\n",
       "\n",
       "\n",
       "<div id=\"df-9f2ec92d-c0b0-4b12-8dd4-b87a4fd0648b\">\n",
       "  <button class=\"colab-df-quickchart\" onclick=\"quickchart('df-9f2ec92d-c0b0-4b12-8dd4-b87a4fd0648b')\"\n",
       "            title=\"Suggest charts\"\n",
       "            style=\"display:none;\">\n",
       "\n",
       "<svg xmlns=\"http://www.w3.org/2000/svg\" height=\"24px\"viewBox=\"0 0 24 24\"\n",
       "     width=\"24px\">\n",
       "    <g>\n",
       "        <path d=\"M19 3H5c-1.1 0-2 .9-2 2v14c0 1.1.9 2 2 2h14c1.1 0 2-.9 2-2V5c0-1.1-.9-2-2-2zM9 17H7v-7h2v7zm4 0h-2V7h2v10zm4 0h-2v-4h2v4z\"/>\n",
       "    </g>\n",
       "</svg>\n",
       "  </button>\n",
       "\n",
       "<style>\n",
       "  .colab-df-quickchart {\n",
       "      --bg-color: #E8F0FE;\n",
       "      --fill-color: #1967D2;\n",
       "      --hover-bg-color: #E2EBFA;\n",
       "      --hover-fill-color: #174EA6;\n",
       "      --disabled-fill-color: #AAA;\n",
       "      --disabled-bg-color: #DDD;\n",
       "  }\n",
       "\n",
       "  [theme=dark] .colab-df-quickchart {\n",
       "      --bg-color: #3B4455;\n",
       "      --fill-color: #D2E3FC;\n",
       "      --hover-bg-color: #434B5C;\n",
       "      --hover-fill-color: #FFFFFF;\n",
       "      --disabled-bg-color: #3B4455;\n",
       "      --disabled-fill-color: #666;\n",
       "  }\n",
       "\n",
       "  .colab-df-quickchart {\n",
       "    background-color: var(--bg-color);\n",
       "    border: none;\n",
       "    border-radius: 50%;\n",
       "    cursor: pointer;\n",
       "    display: none;\n",
       "    fill: var(--fill-color);\n",
       "    height: 32px;\n",
       "    padding: 0;\n",
       "    width: 32px;\n",
       "  }\n",
       "\n",
       "  .colab-df-quickchart:hover {\n",
       "    background-color: var(--hover-bg-color);\n",
       "    box-shadow: 0 1px 2px rgba(60, 64, 67, 0.3), 0 1px 3px 1px rgba(60, 64, 67, 0.15);\n",
       "    fill: var(--button-hover-fill-color);\n",
       "  }\n",
       "\n",
       "  .colab-df-quickchart-complete:disabled,\n",
       "  .colab-df-quickchart-complete:disabled:hover {\n",
       "    background-color: var(--disabled-bg-color);\n",
       "    fill: var(--disabled-fill-color);\n",
       "    box-shadow: none;\n",
       "  }\n",
       "\n",
       "  .colab-df-spinner {\n",
       "    border: 2px solid var(--fill-color);\n",
       "    border-color: transparent;\n",
       "    border-bottom-color: var(--fill-color);\n",
       "    animation:\n",
       "      spin 1s steps(1) infinite;\n",
       "  }\n",
       "\n",
       "  @keyframes spin {\n",
       "    0% {\n",
       "      border-color: transparent;\n",
       "      border-bottom-color: var(--fill-color);\n",
       "      border-left-color: var(--fill-color);\n",
       "    }\n",
       "    20% {\n",
       "      border-color: transparent;\n",
       "      border-left-color: var(--fill-color);\n",
       "      border-top-color: var(--fill-color);\n",
       "    }\n",
       "    30% {\n",
       "      border-color: transparent;\n",
       "      border-left-color: var(--fill-color);\n",
       "      border-top-color: var(--fill-color);\n",
       "      border-right-color: var(--fill-color);\n",
       "    }\n",
       "    40% {\n",
       "      border-color: transparent;\n",
       "      border-right-color: var(--fill-color);\n",
       "      border-top-color: var(--fill-color);\n",
       "    }\n",
       "    60% {\n",
       "      border-color: transparent;\n",
       "      border-right-color: var(--fill-color);\n",
       "    }\n",
       "    80% {\n",
       "      border-color: transparent;\n",
       "      border-right-color: var(--fill-color);\n",
       "      border-bottom-color: var(--fill-color);\n",
       "    }\n",
       "    90% {\n",
       "      border-color: transparent;\n",
       "      border-bottom-color: var(--fill-color);\n",
       "    }\n",
       "  }\n",
       "</style>\n",
       "\n",
       "  <script>\n",
       "    async function quickchart(key) {\n",
       "      const quickchartButtonEl =\n",
       "        document.querySelector('#' + key + ' button');\n",
       "      quickchartButtonEl.disabled = true;  // To prevent multiple clicks.\n",
       "      quickchartButtonEl.classList.add('colab-df-spinner');\n",
       "      try {\n",
       "        const charts = await google.colab.kernel.invokeFunction(\n",
       "            'suggestCharts', [key], {});\n",
       "      } catch (error) {\n",
       "        console.error('Error during call to suggestCharts:', error);\n",
       "      }\n",
       "      quickchartButtonEl.classList.remove('colab-df-spinner');\n",
       "      quickchartButtonEl.classList.add('colab-df-quickchart-complete');\n",
       "    }\n",
       "    (() => {\n",
       "      let quickchartButtonEl =\n",
       "        document.querySelector('#df-9f2ec92d-c0b0-4b12-8dd4-b87a4fd0648b button');\n",
       "      quickchartButtonEl.style.display =\n",
       "        google.colab.kernel.accessAllowed ? 'block' : 'none';\n",
       "    })();\n",
       "  </script>\n",
       "</div>\n",
       "\n",
       "  <div id=\"id_b2a880f9-c61d-4047-afb1-2664c7963dc4\">\n",
       "    <style>\n",
       "      .colab-df-generate {\n",
       "        background-color: #E8F0FE;\n",
       "        border: none;\n",
       "        border-radius: 50%;\n",
       "        cursor: pointer;\n",
       "        display: none;\n",
       "        fill: #1967D2;\n",
       "        height: 32px;\n",
       "        padding: 0 0 0 0;\n",
       "        width: 32px;\n",
       "      }\n",
       "\n",
       "      .colab-df-generate:hover {\n",
       "        background-color: #E2EBFA;\n",
       "        box-shadow: 0px 1px 2px rgba(60, 64, 67, 0.3), 0px 1px 3px 1px rgba(60, 64, 67, 0.15);\n",
       "        fill: #174EA6;\n",
       "      }\n",
       "\n",
       "      [theme=dark] .colab-df-generate {\n",
       "        background-color: #3B4455;\n",
       "        fill: #D2E3FC;\n",
       "      }\n",
       "\n",
       "      [theme=dark] .colab-df-generate:hover {\n",
       "        background-color: #434B5C;\n",
       "        box-shadow: 0px 1px 3px 1px rgba(0, 0, 0, 0.15);\n",
       "        filter: drop-shadow(0px 1px 2px rgba(0, 0, 0, 0.3));\n",
       "        fill: #FFFFFF;\n",
       "      }\n",
       "    </style>\n",
       "    <button class=\"colab-df-generate\" onclick=\"generateWithVariable('dataframe')\"\n",
       "            title=\"Generate code using this dataframe.\"\n",
       "            style=\"display:none;\">\n",
       "\n",
       "  <svg xmlns=\"http://www.w3.org/2000/svg\" height=\"24px\"viewBox=\"0 0 24 24\"\n",
       "       width=\"24px\">\n",
       "    <path d=\"M7,19H8.4L18.45,9,17,7.55,7,17.6ZM5,21V16.75L18.45,3.32a2,2,0,0,1,2.83,0l1.4,1.43a1.91,1.91,0,0,1,.58,1.4,1.91,1.91,0,0,1-.58,1.4L9.25,21ZM18.45,9,17,7.55Zm-12,3A5.31,5.31,0,0,0,4.9,8.1,5.31,5.31,0,0,0,1,6.5,5.31,5.31,0,0,0,4.9,4.9,5.31,5.31,0,0,0,6.5,1,5.31,5.31,0,0,0,8.1,4.9,5.31,5.31,0,0,0,12,6.5,5.46,5.46,0,0,0,6.5,12Z\"/>\n",
       "  </svg>\n",
       "    </button>\n",
       "    <script>\n",
       "      (() => {\n",
       "      const buttonEl =\n",
       "        document.querySelector('#id_b2a880f9-c61d-4047-afb1-2664c7963dc4 button.colab-df-generate');\n",
       "      buttonEl.style.display =\n",
       "        google.colab.kernel.accessAllowed ? 'block' : 'none';\n",
       "\n",
       "      buttonEl.onclick = () => {\n",
       "        google.colab.notebook.generateWithVariable('dataframe');\n",
       "      }\n",
       "      })();\n",
       "    </script>\n",
       "  </div>\n",
       "\n",
       "    </div>\n",
       "  </div>\n"
      ],
      "text/plain": [
       "      Methane  NOxEmissions  PM2.5Emissions  VOCEmissions  SO2Emissions  \\\n",
       "0         670           696            1252          1720          1321   \n",
       "1         641           674            1156          1652          1410   \n",
       "2         642           646            1159          1643          1455   \n",
       "3         640           590            1105          1608          1459   \n",
       "4         616           627            1192          1637          1466   \n",
       "...       ...           ...             ...           ...           ...   \n",
       "1840      862           826            1564          1768          1540   \n",
       "1841      917           821            1571          1779          1543   \n",
       "1842      925           832            1582          1776          1545   \n",
       "1843      928           840            1587          1787          1538   \n",
       "1844      926           840            1606          1785          1555   \n",
       "\n",
       "      CO2Emissions  \n",
       "0             2431  \n",
       "1             2433  \n",
       "2             2361  \n",
       "3             2427  \n",
       "4             2447  \n",
       "...            ...  \n",
       "1840          2037  \n",
       "1841          2008  \n",
       "1842          1989  \n",
       "1843          1986  \n",
       "1844          1996  \n",
       "\n",
       "[1845 rows x 6 columns]"
      ]
     },
     "execution_count": 8,
     "metadata": {},
     "output_type": "execute_result"
    }
   ],
   "source": [
    "#freehand code \n"
   ]
  },
  {
   "cell_type": "markdown",
      "metadata": {
      "deletable": false,
      "editable": false,
    "id": "jnp8wo2OBSO0"
   },
   "source": [
    "**Explanation**: *You have created a new dataset containing only specific emissions-related columns, which can then be used to identify patterns through clustering analysis*."
   ]
  },
  {
   "cell_type": "markdown",
      "metadata": {
      "deletable": false,
      "editable": false,
    "id": "QdRi4-YoBX_o"
   },
   "source": [
    "### Goal 6: Import the package to start the K-means cluster\n",
    "\n",
    "We will use the K-means clustering model to predict cluster membership for each datapoint (i.e. a row in our dataframe) then use the fit_predict function to store cluster prediction results."
   ]
  },
  {
   "cell_type": "markdown",
      "metadata": {
      "deletable": false,
      "editable": false,
    "jp-MarkdownHeadingCollapsed": true
   },
   "source": [
    "#### Blockly"
   ]
  },
  {
   "cell_type": "markdown",
      "metadata": {
      "deletable": false,
      "editable": false,
    "id": "BFX0uXvtBjwW"
   },
   "source": [
    "\n",
    "**Step 1 - Starting the import**\n",
    "\n",
    "First, we need to set up a “command” to tell the computer what to do. In this case, “command” is to “import” to bring the add-on package in.\n",
    "\n",
    "Bring in the IMPORT menu, which can be helpful to bring in other data tools. In this case, we're bringing in the **import** block.\n"
   ]
  },
  {
   "cell_type": "markdown",
      "metadata": {
      "deletable": false,
      "editable": false,
    "id": "174I1j_YBlRA"
   },
   "source": [
    "\n",
    "**Step 2 - Telling what library to import**\n",
    "\n",
    "In the text area, we type the name of the library we want to import. A library is like an extra thing we bring in to give us more coding abilities. In our case, we will type out **sklearn.cluster**, which automatically groups similar data points into awesome clusters!"
   ]
  },
  {
   "cell_type": "markdown",
      "metadata": {
      "deletable": false,
      "editable": false,
    "id": "hflaTxiaBmRA"
   },
   "source": [
    "\n",
    "**Step 3 - Renaming the library so it’s easy to remember**\n",
    "\n",
    "Once you are done, put the **import** and **package** together in a single variable. This handy feature helps cut down on all the typing later on. You can call it whatever is easiest for you to remember. In the example below, we’ve put everything into **cluster**, and we type it in the open area.\n"
   ]
  },
  {
   "cell_type": "markdown",
      "metadata": {
      "deletable": false,
      "editable": false,
    "id": "jp0fNBFABnCU"
   },
   "source": [
    "\n",
    "**Step 4 - Connect the blocks to run the code**\n",
    "\n",
    "Connect the blocks and run the code!\n",
    "\n",
    "\n",
    "<details>\n",
    "    <summary>Click to see the answer...</summary>\n",
    "    \n",
    "![](https://pbs.twimg.com/media/GaN02IIWAAA2XDP?format=png&name=360x360\n",
    ")\n",
    "\n",
    "</details>"
   ]
  },
  {
   "cell_type": "code",
   "execution_count": null,
   "metadata": {},
   "outputs": [],
   "source": [
    "#blocks code\n"
   ]
  },
  {
   "cell_type": "markdown",
      "metadata": {
      "deletable": false,
      "editable": false,
    "id": "KXms5aM8B_Uc",
    "jp-MarkdownHeadingCollapsed": true
   },
   "source": [
    "#### Freehand"
   ]
  },
  {
   "cell_type": "markdown",
      "metadata": {
      "deletable": false,
      "editable": false,
    "id": "TUPypE-zCDEY"
   },
   "source": [
    "\n",
    "**Step 1 - Starting the import**\n",
    "\n",
    "First, we need to set up a “command” to tell the computer what to do. In this case, “command” is to “import” to bring the add-on package in."
   ]
  },
  {
   "cell_type": "markdown",
      "metadata": {
      "deletable": false,
      "editable": false,
    "id": "C3h5MWaoCECA"
   },
   "source": [
    "\n",
    "\n",
    "**Step 2 - Telling what library to import**\n",
    "\n",
    "In the text area, we type the name of the library we want to import. A library is like an extra thing we bring in to give us more coding abilities. In our case, we will type out **sklearn.cluster**, which automatically groups similar data points into awesome clusters!\n"
   ]
  },
  {
   "cell_type": "markdown",
      "metadata": {
      "deletable": false,
      "editable": false,
    "id": "2HPlaQ1KCEy4"
   },
   "source": [
    "\n",
    "**Step 3 - Renaming the library so it’s easy to remember**\n",
    "\n",
    "Once you are done, put the ‘import’ and ‘package’ together in a single variable. This handy feature helps cut down on all the typing later on. Feel free to use whatever name you want that will help you remember it later on. In the example below, we’ve put everything into **cluster**.\n"
   ]
  },
  {
   "cell_type": "markdown",
      "metadata": {
      "deletable": false,
      "editable": false,
    "id": "kqYMv770CFe-"
   },
   "source": [
    "\n",
    "**Step 4 - Run the code**\n",
    "\n",
    "Hit ‘control’ and ‘enter’ at the same time to run the code!\n",
    "\n",
    "<details>\n",
    "    <summary>Click to see the answer...</summary>\n",
    "\n",
    "![](https://pbs.twimg.com/media/GaN0z4hWUAA7ExU?format=png&name=360x360)\n",
    "\n",
    "</details>"
   ]
  },
  {
   "cell_type": "markdown",
      "metadata": {
      "deletable": false,
      "editable": false,
    "id": "9d4RSXi9CRZc"
   },
   "source": [
    "**Your Turn**: How about let’s give it a go. See if you can bring in sklearn library to help us do some interesting data science tasks\n"
   ]
  },
  {
   "cell_type": "code",
   "execution_count": 9,
   "metadata": {
    "id": "EEeGl_SNCTwb"
   },
   "outputs": [],
   "source": [
    "#freehand code \n"
   ]
  },
  {
   "cell_type": "markdown",
      "metadata": {
      "deletable": false,
      "editable": false,
    "id": "mmfUFlBYCUf4"
   },
   "source": [
    "**Explanation**: *You have now the library that provides clustering algorithms to group similar data points, helping to find patterns and natural groupings in data*."
   ]
  },
  {
   "cell_type": "markdown",
      "metadata": {
      "deletable": false,
      "editable": false,
    "id": "2WGzbjUAR_TF"
   },
   "source": [
    "### Goal 7: Create the model object Let’s get started with KMeans\n",
    "\n",
    "Clustering and tell how many clusters to look at"
   ]
  },
  {
   "cell_type": "markdown",
      "metadata": {
      "deletable": false,
      "editable": false,
    "id": "vtN1R7hkSDk0",
    "jp-MarkdownHeadingCollapsed": true
   },
   "source": [
    "#### Blockly"
   ]
  },
  {
   "cell_type": "markdown",
      "metadata": {
      "deletable": false,
      "editable": false,
    "id": "CTFY9F74SEnx"
   },
   "source": [
    "**Step 1 Write out the variable name you want to use**\n",
    "\n",
    "On the Variable menu, click Create Variable, and type **kmeansModel**. From the same menu, get a Set block for this newly created variable."
   ]
  },
  {
   "cell_type": "markdown",
      "metadata": {
      "deletable": false,
      "editable": false,
    "id": "qfFLr9r1SGte"
   },
   "source": [
    "\n",
    "**Step 2 - Create the KMeans model**\n",
    "\n",
    "Now we will try to create a KMeans model to find the patterns and put them in groups.\n",
    "\n",
    "From the Variable menu, get a Create block. Select the **cluster** variable, and on the Create menu select the **KMeans** object type (class). Let’s use the **cluster** module to help us create the KMeans model."
   ]
  },
  {
   "cell_type": "markdown",
      "metadata": {
      "deletable": false,
      "editable": false,
    "id": "7KW1gB9USIZN"
   },
   "source": [
    "\n",
    "**Step 3 - Define the hyperparameters**\n",
    "\n",
    "But how many groups? How about 4? For this dataset, we set the number of clusters to 4, meaning the data will be divided into  4 clusters.\n",
    "\n",
    "Get a Freestyle block, type **n_clusters=4**. This will set the number of clusters to 4, meaning the data will be divided into  4 clusters.\n"
   ]
  },
  {
   "cell_type": "markdown",
      "metadata": {
      "deletable": false,
      "editable": false,
    "id": "LTGWoIptSJV5"
   },
   "source": [
    "\n",
    "**Step 4 - Assign the model to the variable you created**\n",
    "\n",
    "Just like we did before, let’s put all that code into a single variable that’s easy to remember.\n",
    "\n",
    "Assign the model to the **kmeansModel** variable.\n"
   ]
  },
  {
   "cell_type": "markdown",
      "metadata": {
      "deletable": false,
      "editable": false,
    "id": "SVu8CabmSKH7"
   },
   "source": [
    "\n",
    "**Step 5 - Connect the blocks to run the code**\n",
    "\n",
    "Connect the blocks and run the code!\n",
    "\n",
    "<details>\n",
    "    <summary>Click to see the answer...</summary>\n",
    "\n",
    "![](https://pbs.twimg.com/media/GaOKGjtWkAALJBf?format=png&name=small)\n",
    "\n",
    "</details>"
   ]
  },
  {
   "cell_type": "code",
   "execution_count": null,
   "metadata": {},
   "outputs": [],
   "source": [
    "#blocks code\n"
   ]
  },
  {
   "cell_type": "markdown",
      "metadata": {
      "deletable": false,
      "editable": false,
    "id": "t4VO5AEBSjS3",
    "jp-MarkdownHeadingCollapsed": true
   },
   "source": [
    "#### Freehand"
   ]
  },
  {
   "cell_type": "markdown",
      "metadata": {
      "deletable": false,
      "editable": false,
    "id": "aEgG8toRSkeX"
   },
   "source": [
    "\n",
    "**Step 1 - Create the KMeans model**\n",
    "\n",
    "Now we will try to create a KMeans model to find the patterns and put them in groups.  Let’s use the cluster module to help us create the KMeans model.\n",
    "\n",
    "`cluster.KMeans()`\n"
   ]
  },
  {
   "cell_type": "markdown",
      "metadata": {
      "deletable": false,
      "editable": false,
    "id": "SUxvAA_YSswO"
   },
   "source": [
    "\n",
    "**Step 2 - Define the hyperparameters**\n",
    "\n",
    "But how many groups? How about 4? For this dataset, we set the number of clusters to 4, meaning the data will be divided into  4 clusters.\n",
    "\n",
    "`cluster.KMeans(n_clusters=4)`\n"
   ]
  },
  {
   "cell_type": "markdown",
      "metadata": {
      "deletable": false,
      "editable": false,
    "id": "7y3somenStj9"
   },
   "source": [
    "\n",
    "**Step 3 - Assign the model to the variable you created**\n",
    "\n",
    "Just like we did before, let’s put all that code into a single variable that’s easy to remember.\n",
    "\n",
    "Finally, we save the clustering result in a variable **‘kmeansModel’**.\n",
    "\n",
    "`kmeansModel = cluster,KMeans(n_clusters=4)`\n"
   ]
  },
  {
   "cell_type": "markdown",
      "metadata": {
      "deletable": false,
      "editable": false,
    "id": "9cCODCbHSuie"
   },
   "source": [
    "\n",
    "**Step 4 - Run the code**\n",
    "\n",
    "Hit ‘control’ and ‘enter’ at the same time to run the code!\n",
    "\n",
    "<details>\n",
    "    <summary>Click to see the answer...</summary>\n",
    "\n",
    "![](https://pbs.twimg.com/media/GaQeFCZXMAA2ywS?format=png&name=small\n",
    ")\n",
    "\n",
    "</details>"
   ]
  },
  {
   "cell_type": "markdown",
      "metadata": {
      "deletable": false,
      "editable": false,
    "id": "ufkBpD__S-1j"
   },
   "source": [
    "**Your Turn**: So let’s try it ourselves! Let’s see if we can run our KMeans with 4 clusters"
   ]
  },
  {
   "cell_type": "code",
   "execution_count": 10,
   "metadata": {
    "id": "VlosmoTeTBpF"
   },
   "outputs": [],
   "source": [
    "#freehand code \n"
   ]
  },
  {
   "cell_type": "markdown",
      "metadata": {
      "deletable": false,
      "editable": false,
    "id": "WfZPGFbpTCXl"
   },
   "source": [
    "**Explanation**: *You now have a KMeans clustering model using, which will group data into 4 clusters. The model will find four distinct groups in the data based on similarities. This can help us see patterns or categorize data points that are alike*."
   ]
  },
  {
   "cell_type": "markdown",
      "metadata": {
      "deletable": false,
      "editable": false,
    "id": "sg1225zsTGpr"
   },
   "source": [
    "### Goal 8: Train (fit) and predict\n",
    "\n",
    "Let’s take part of our data and train it. Once it’s all trained, let’s use it to predict the 4 clusters new data will go into.\n"
   ]
  },
  {
   "cell_type": "markdown",
      "metadata": {
      "deletable": false,
      "editable": false,
    "id": "-Z7dlS-zTIxh",
    "jp-MarkdownHeadingCollapsed": true
   },
   "source": [
    "#### Blockly"
   ]
  },
  {
   "cell_type": "markdown",
      "metadata": {
      "deletable": false,
      "editable": false,
    "id": "zNzo5ii8TNxz"
   },
   "source": [
    "**Step 1 - Write out the name of a variable you want to use**\n",
    "\n",
    "Now that we’re all set with our new package to help us to do cool things, let’s bring the data into a variable and call it **predictions**. Think of it as a digital spreadsheet with much more power to analyze and manipulate the data!\n",
    "\n",
    "In Blockly, bring in the VARIABLES menu.\n"
   ]
  },
  {
   "cell_type": "markdown",
      "metadata": {
      "deletable": false,
      "editable": false,
    "id": "_wF-V9lRTPlj"
   },
   "source": [
    "\n",
    "**Step 2 - Train the model**\n",
    "\n",
    "To make predictions using the cluster model, we use our **kmeansModel** and call the **fit_predict**() method on it. This method will first train our model and then set labels for each datapoint.\n",
    "\n",
    "From the Variable menu, get a DO block for the variable kmeansModel. With that, select fit_predict operation.\n"
   ]
  },
  {
   "cell_type": "markdown",
      "metadata": {
      "deletable": false,
      "editable": false,
    "id": "Wuq03lVLTRAt"
   },
   "source": [
    "\n",
    "**Step 3 - Bring the training dataset**\n",
    "\n",
    "Next, we provide the data for the cluster to do the clustering. Here, we provide the same data **dataframe** we used to do the clustering. We can also provide other data to the cluster to access the model's performance better.\n",
    "\n",
    "From the Variables menu, get the dataframe variable to connect with this operation. This will train the model and predict the values of the 4 clusters.\n"
   ]
  },
  {
   "cell_type": "markdown",
      "metadata": {
      "deletable": false,
      "editable": false,
    "id": "cCd5RduWTSEj"
   },
   "source": [
    "\n",
    "**Step 4 - Assign the predicted results to the variable you created**\n",
    "\n",
    "From the Variables menu, drag the predictions variable. This will predict which one of the four clusters will go for new data the model tries to analyze.\n"
   ]
  },
  {
   "cell_type": "markdown",
      "metadata": {
      "deletable": false,
      "editable": false,
    "id": "BQAvc5tNTS46"
   },
   "source": [
    "\n",
    "**Step 5 - Display the predicted clusters**\n",
    "\n",
    "So let’s try to look at our results. So now we display the predicted results by using variable **predictions**.\n"
   ]
  },
  {
   "cell_type": "markdown",
      "metadata": {
      "deletable": false,
      "editable": false,
    "id": "gAOFkncITTmh"
   },
   "source": [
    "\n",
    "**Step 6 - Connect the blocks to run the code**\n",
    "\n",
    "Connect the blocks and run the code!\n",
    "\n",
    "<details>\n",
    "    <summary>Click to see the answer...</summary>\n",
    "\n",
    "![](https://pbs.twimg.com/media/GaN3kx5XwAAnKSP?format=png&name=small)\n",
    "\n",
    "</details>"
   ]
  },
  {
   "cell_type": "code",
   "execution_count": null,
   "metadata": {},
   "outputs": [],
   "source": [
    "#blocks code\n"
   ]
  },
  {
   "cell_type": "markdown",
      "metadata": {
      "deletable": false,
      "editable": false,
    "id": "hCS_sS00T5xI",
    "jp-MarkdownHeadingCollapsed": true
   },
   "source": [
    "#### Freehand"
   ]
  },
  {
   "cell_type": "markdown",
      "metadata": {
      "deletable": false,
      "editable": false,
    "id": "63yuMj-yT64X"
   },
   "source": [
    "\n",
    "**Step 1 - Train the model**\n",
    "\n",
    "To make predictions using the cluster model, we use our **kmeansModel** and call the fit_predict() method on it. This method will first train our model and then set labels for each datapoint.\n",
    "\n",
    "`kmeansModel.fit_predict()`"
   ]
  },
  {
   "cell_type": "markdown",
      "metadata": {
      "deletable": false,
      "editable": false,
    "id": "laInO7KMUABj"
   },
   "source": [
    "\n",
    "\n",
    "**Step 2 - Bring the training dataset**\n",
    "\n",
    "Next, we provide the data for the cluster to do the clustering. Here, we provide the same data **dataframe** we used to do the clustering. We can also provide other data to the cluster to access the models performance better.\n",
    "\n",
    "`kmeansModel.fit_predict(dataframe)`\n"
   ]
  },
  {
   "cell_type": "markdown",
      "metadata": {
      "deletable": false,
      "editable": false,
    "id": "W5mASCmyUBIp"
   },
   "source": [
    "\n",
    "**Step 3 - Assign the predicted results to the variable you created**\n",
    "\n",
    "Next, we save the prediction results in a variable **predictions**.\n",
    "\n",
    "`predictions= kmeansModel.fit_predict(dataframe)`\n"
   ]
  },
  {
   "cell_type": "markdown",
      "metadata": {
      "deletable": false,
      "editable": false,
    "id": "mE9QL34mUB0e"
   },
   "source": [
    "\n",
    "**Step 4 - Print the predicted clusters**\n",
    "\n",
    "So let’s try to look at our results. Finally, we display the predicted results by using variable **predictions**\n",
    "\n",
    "`predictions`"
   ]
  },
  {
   "cell_type": "markdown",
      "metadata": {
      "deletable": false,
      "editable": false,
    "id": "B1WV8WNiUCcC"
   },
   "source": [
    "\n",
    "\n",
    "**Step 5 - Run the code**\n",
    "\n",
    "Hit ‘control’ and ‘enter’ at the same time to run the code!\n",
    "\n",
    "\n",
    "<details>\n",
    "    <summary>Click to see the answer...</summary>\n",
    "    \n",
    "![](https://pbs.twimg.com/media/GaN3irEW4AIQcrq?format=png&name=small\n",
    ")\n",
    "\n",
    "</details>"
   ]
  },
  {
   "cell_type": "markdown",
      "metadata": {
      "deletable": false,
      "editable": false,
    "id": "wBNmKiDwUaHo"
   },
   "source": [
    "**Your Turn** Now it’s your turn! Let’s try to train (fit) our model and see what we get!\n",
    "\n"
   ]
  },
  {
   "cell_type": "code",
   "execution_count": 11,
   "metadata": {
    "colab": {
     "base_uri": "https://localhost:8080/"
    },
    "id": "XhNummzxUbgw",
    "outputId": "bce5776d-201b-410f-be61-a3f9f535aa81"
   },
   "outputs": [
    {
     "data": {
      "text/plain": [
       "array([0, 0, 0, ..., 1, 1, 1], dtype=int32)"
      ]
     },
     "execution_count": 11,
     "metadata": {},
     "output_type": "execute_result"
    }
   ],
   "source": [
    "#freehand code \n"
   ]
  },
  {
   "cell_type": "markdown",
      "metadata": {
      "deletable": false,
      "editable": false,
    "id": "-a82x-EvUczU"
   },
   "source": [
    "**Explanation**: *At this point you asked the model to look at the data, figure out the clusters, and then assign each data point to a cluster*."
   ]
  },
  {
   "cell_type": "markdown",
      "metadata": {
      "deletable": false,
      "editable": false,
    "id": "YYQRvbKpUex8"
   },
   "source": [
    "### Goal 9: Now that we have our predictions\n",
    "\n",
    "Let’s just add it back into the dataframe we already created\n"
   ]
  },
  {
   "cell_type": "markdown",
      "metadata": {
      "deletable": false,
      "editable": false,
    "id": "lCVi0DrUUnck",
    "jp-MarkdownHeadingCollapsed": true
   },
   "source": [
    "#### Blockly"
   ]
  },
  {
   "cell_type": "markdown",
      "metadata": {
      "deletable": false,
      "editable": false,
    "id": "u72lE2JNUo1-"
   },
   "source": [
    "\n",
    "**Step 1 - Call the insert() method of the dataframe**\n",
    "\n",
    "To see the clustering result of each datapoint, we will add the results into our dataframe. This will let us look at the cluster number, set for each datapoint. To do this, we use the insert() method on the ‘dataframe’.\n",
    "\n",
    "From the Variable menu, get a DO block for the **dataframe** variable. With it, select the **insert** operation. The insert function will add a new column to the dataframe.\n"
   ]
  },
  {
   "cell_type": "markdown",
      "metadata": {
      "deletable": false,
      "editable": false,
    "id": "W4PMD13iUvJA"
   },
   "source": [
    "\n",
    "**Step 2 - Add parameters into the insert() method**\n",
    "\n",
    "Inside the insert method, we need to tell it what to go and what to look at using parameters. In this case, let’s write…\n",
    "- **0** The column index where the new column should be inserted. Here, it specifies the first column position\n",
    "- \"**cluster**\" The name of the new column\n",
    "- **predictions** The data to insert into the new column. predictions should be a list, array, or Series with the same number of elements as the rows in dataframe.\n",
    "\n",
    "From the Math menu, get the number 123 block, change it to 0 (zero), The column index where the new column should be inserted. Here, the 0 specifies the first column position\n",
    "\n",
    "Then get a Quote “” block to type **“cluster”**, that will define the name of the column.\n",
    "\n",
    "Lastly, from the Variables menu, get the block for the **predictions** variable. This is basically bringing in what clusters we just predicted in the last goal\n"
   ]
  },
  {
   "cell_type": "markdown",
      "metadata": {
      "deletable": false,
      "editable": false,
    "id": "JneHTWEzUw6R"
   },
   "source": [
    "\n",
    "**Step 3 - Display the updated dataframe with the new ‘cluster’ column**\n",
    "\n",
    "From the Variables menu, get the block of the **dataframe** variable. This will display the updated dataframe, which now includes the new \"cluster\" column with the predicted cluster labels.\n"
   ]
  },
  {
   "cell_type": "markdown",
      "metadata": {
      "deletable": false,
      "editable": false,
    "id": "CfTIq_wJUzGd"
   },
   "source": [
    "\n",
    "**Step 4 - Connect the blocks to run the code**\n",
    "\n",
    "Connect the blocks and run the code!\n",
    "\n",
    "<details>\n",
    "    <summary>Click to see the answer...</summary>\n",
    "\n",
    "![](https://pbs.twimg.com/media/GaOMK_yWUAANQ78?format=png&name=360x360)\n",
    "\n",
    "</details>"
   ]
  },
  {
   "cell_type": "code",
   "execution_count": null,
   "metadata": {},
   "outputs": [],
   "source": [
    "#blocks code\n"
   ]
  },
  {
   "cell_type": "markdown",
      "metadata": {
      "deletable": false,
      "editable": false,
    "id": "_oRd6aZRVSuc",
    "jp-MarkdownHeadingCollapsed": true
   },
   "source": [
    "#### Freehand"
   ]
  },
  {
   "cell_type": "markdown",
      "metadata": {
      "deletable": false,
      "editable": false,
    "id": "eI0qvCEbVVFY"
   },
   "source": [
    "\n",
    "**Step 1 - Call the insert() method of the dataframe**\n",
    "\n",
    "To see the clustering result of each datapoint, we will add the results into our dataframe. This will let us look at the cluster number, set for each datapoint. To do this, we use the **insert**() method on the ‘dataframe’.\n",
    "\n",
    "`dataframe.insert()`"
   ]
  },
  {
   "cell_type": "markdown",
      "metadata": {
      "deletable": false,
      "editable": false,
    "id": "uP71eaobVZ5F"
   },
   "source": [
    "\n",
    "\n",
    "**Step 2 - Add parameters into the insert() method**\n",
    "\n",
    "Inside the insert method, we need to tell it what to go and what to look at using parameters. In this case, let’s write…\n",
    "\n",
    "- **0** The column index where the new column should be inserted. Here, the 0 specifies the first column position\n",
    "- \"**cluster**\"  Define name of the new column\n",
    "- **predictions** The data to insert into the new column. This is basically bringing in what clusters we just predicted in the last goal\n",
    "\n",
    "`dataframe.insert(0, ”cluster”, predictions)`\n"
   ]
  },
  {
   "cell_type": "markdown",
      "metadata": {
      "deletable": false,
      "editable": false,
    "id": "o5Bc2rh8Vbas"
   },
   "source": [
    "\n",
    "**Step 3 - Print the updated dataframe with the new ‘cluster’ column**\n",
    "\n",
    "Now, we can view the new dataframe that has the cluster column added to it.\n",
    "\n",
    "`dataframe`\n"
   ]
  },
  {
   "cell_type": "markdown",
      "metadata": {
      "deletable": false,
      "editable": false,
    "id": "lSuQRL7WVcS7"
   },
   "source": [
    "\n",
    "**Step 4 - Run the code**\n",
    "\n",
    "Hit ‘control’ and ‘enter’ at the same time to run the code!\n",
    "\n",
    "<details>\n",
    "    <summary>Click to see the answer...</summary>\n",
    "\n",
    "![](https://pbs.twimg.com/media/GaOMNx3XoAAKbZR?format=png&name=small)\n",
    "\n",
    "</details>"
   ]
  },
  {
   "cell_type": "markdown",
      "metadata": {
      "deletable": false,
      "editable": false,
    "id": "vilUkb6-XcPs"
   },
   "source": [
    "**Your Turn** Seems easy enough, right? See if you can type out the code above and try to run it. What do you get?!\n"
   ]
  },
  {
   "cell_type": "code",
   "execution_count": 12,
   "metadata": {
    "colab": {
     "base_uri": "https://localhost:8080/",
     "height": 423
    },
    "id": "EPXV8G43XfU0",
    "outputId": "ccbedbd5-3533-4749-e065-586e9f3efb9c"
   },
   "outputs": [
    {
     "data": {
      "application/vnd.google.colaboratory.intrinsic+json": {
       "summary": "{\n  \"name\": \"dataframe\",\n  \"rows\": 1845,\n  \"fields\": [\n    {\n      \"column\": \"cluster\",\n      \"properties\": {\n        \"dtype\": \"int32\",\n        \"num_unique_values\": 4,\n        \"samples\": [\n          3,\n          2,\n          0\n        ],\n        \"semantic_type\": \"\",\n        \"description\": \"\"\n      }\n    },\n    {\n      \"column\": \"Methane\",\n      \"properties\": {\n        \"dtype\": \"number\",\n        \"std\": 190,\n        \"min\": 263,\n        \"max\": 1266,\n        \"num_unique_values\": 650,\n        \"samples\": [\n          484,\n          530,\n          839\n        ],\n        \"semantic_type\": \"\",\n        \"description\": \"\"\n      }\n    },\n    {\n      \"column\": \"NOxEmissions\",\n      \"properties\": {\n        \"dtype\": \"number\",\n        \"std\": 173,\n        \"min\": 346,\n        \"max\": 1388,\n        \"num_unique_values\": 610,\n        \"samples\": [\n          623,\n          475,\n          705\n        ],\n        \"semantic_type\": \"\",\n        \"description\": \"\"\n      }\n    },\n    {\n      \"column\": \"PM2.5Emissions\",\n      \"properties\": {\n        \"dtype\": \"number\",\n        \"std\": 208,\n        \"min\": 753,\n        \"max\": 1738,\n        \"num_unique_values\": 718,\n        \"samples\": [\n          915,\n          1508,\n          1417\n        ],\n        \"semantic_type\": \"\",\n        \"description\": \"\"\n      }\n    },\n    {\n      \"column\": \"VOCEmissions\",\n      \"properties\": {\n        \"dtype\": \"number\",\n        \"std\": 118,\n        \"min\": 1323,\n        \"max\": 1926,\n        \"num_unique_values\": 467,\n        \"samples\": [\n          1498,\n          1528,\n          1819\n        ],\n        \"semantic_type\": \"\",\n        \"description\": \"\"\n      }\n    },\n    {\n      \"column\": \"SO2Emissions\",\n      \"properties\": {\n        \"dtype\": \"number\",\n        \"std\": 279,\n        \"min\": 773,\n        \"max\": 1948,\n        \"num_unique_values\": 844,\n        \"samples\": [\n          1204,\n          1281,\n          1023\n        ],\n        \"semantic_type\": \"\",\n        \"description\": \"\"\n      }\n    },\n    {\n      \"column\": \"CO2Emissions\",\n      \"properties\": {\n        \"dtype\": \"number\",\n        \"std\": 181,\n        \"min\": 1797,\n        \"max\": 2703,\n        \"num_unique_values\": 640,\n        \"samples\": [\n          1863,\n          1936,\n          2418\n        ],\n        \"semantic_type\": \"\",\n        \"description\": \"\"\n      }\n    }\n  ]\n}",
       "type": "dataframe",
       "variable_name": "dataframe"
      },
      "text/html": [
       "\n",
       "  <div id=\"df-28eebdc5-75b0-4c3d-b8ea-05bf9d11065f\" class=\"colab-df-container\">\n",
       "    <div>\n",
       "<style scoped>\n",
       "    .dataframe tbody tr th:only-of-type {\n",
       "        vertical-align: middle;\n",
       "    }\n",
       "\n",
       "    .dataframe tbody tr th {\n",
       "        vertical-align: top;\n",
       "    }\n",
       "\n",
       "    .dataframe thead th {\n",
       "        text-align: right;\n",
       "    }\n",
       "</style>\n",
       "<table border=\"1\" class=\"dataframe\">\n",
       "  <thead>\n",
       "    <tr style=\"text-align: right;\">\n",
       "      <th></th>\n",
       "      <th>cluster</th>\n",
       "      <th>Methane</th>\n",
       "      <th>NOxEmissions</th>\n",
       "      <th>PM2.5Emissions</th>\n",
       "      <th>VOCEmissions</th>\n",
       "      <th>SO2Emissions</th>\n",
       "      <th>CO2Emissions</th>\n",
       "    </tr>\n",
       "  </thead>\n",
       "  <tbody>\n",
       "    <tr>\n",
       "      <th>0</th>\n",
       "      <td>0</td>\n",
       "      <td>670</td>\n",
       "      <td>696</td>\n",
       "      <td>1252</td>\n",
       "      <td>1720</td>\n",
       "      <td>1321</td>\n",
       "      <td>2431</td>\n",
       "    </tr>\n",
       "    <tr>\n",
       "      <th>1</th>\n",
       "      <td>0</td>\n",
       "      <td>641</td>\n",
       "      <td>674</td>\n",
       "      <td>1156</td>\n",
       "      <td>1652</td>\n",
       "      <td>1410</td>\n",
       "      <td>2433</td>\n",
       "    </tr>\n",
       "    <tr>\n",
       "      <th>2</th>\n",
       "      <td>0</td>\n",
       "      <td>642</td>\n",
       "      <td>646</td>\n",
       "      <td>1159</td>\n",
       "      <td>1643</td>\n",
       "      <td>1455</td>\n",
       "      <td>2361</td>\n",
       "    </tr>\n",
       "    <tr>\n",
       "      <th>3</th>\n",
       "      <td>0</td>\n",
       "      <td>640</td>\n",
       "      <td>590</td>\n",
       "      <td>1105</td>\n",
       "      <td>1608</td>\n",
       "      <td>1459</td>\n",
       "      <td>2427</td>\n",
       "    </tr>\n",
       "    <tr>\n",
       "      <th>4</th>\n",
       "      <td>0</td>\n",
       "      <td>616</td>\n",
       "      <td>627</td>\n",
       "      <td>1192</td>\n",
       "      <td>1637</td>\n",
       "      <td>1466</td>\n",
       "      <td>2447</td>\n",
       "    </tr>\n",
       "    <tr>\n",
       "      <th>...</th>\n",
       "      <td>...</td>\n",
       "      <td>...</td>\n",
       "      <td>...</td>\n",
       "      <td>...</td>\n",
       "      <td>...</td>\n",
       "      <td>...</td>\n",
       "      <td>...</td>\n",
       "    </tr>\n",
       "    <tr>\n",
       "      <th>1840</th>\n",
       "      <td>1</td>\n",
       "      <td>862</td>\n",
       "      <td>826</td>\n",
       "      <td>1564</td>\n",
       "      <td>1768</td>\n",
       "      <td>1540</td>\n",
       "      <td>2037</td>\n",
       "    </tr>\n",
       "    <tr>\n",
       "      <th>1841</th>\n",
       "      <td>1</td>\n",
       "      <td>917</td>\n",
       "      <td>821</td>\n",
       "      <td>1571</td>\n",
       "      <td>1779</td>\n",
       "      <td>1543</td>\n",
       "      <td>2008</td>\n",
       "    </tr>\n",
       "    <tr>\n",
       "      <th>1842</th>\n",
       "      <td>1</td>\n",
       "      <td>925</td>\n",
       "      <td>832</td>\n",
       "      <td>1582</td>\n",
       "      <td>1776</td>\n",
       "      <td>1545</td>\n",
       "      <td>1989</td>\n",
       "    </tr>\n",
       "    <tr>\n",
       "      <th>1843</th>\n",
       "      <td>1</td>\n",
       "      <td>928</td>\n",
       "      <td>840</td>\n",
       "      <td>1587</td>\n",
       "      <td>1787</td>\n",
       "      <td>1538</td>\n",
       "      <td>1986</td>\n",
       "    </tr>\n",
       "    <tr>\n",
       "      <th>1844</th>\n",
       "      <td>1</td>\n",
       "      <td>926</td>\n",
       "      <td>840</td>\n",
       "      <td>1606</td>\n",
       "      <td>1785</td>\n",
       "      <td>1555</td>\n",
       "      <td>1996</td>\n",
       "    </tr>\n",
       "  </tbody>\n",
       "</table>\n",
       "<p>1845 rows × 7 columns</p>\n",
       "</div>\n",
       "    <div class=\"colab-df-buttons\">\n",
       "\n",
       "  <div class=\"colab-df-container\">\n",
       "    <button class=\"colab-df-convert\" onclick=\"convertToInteractive('df-28eebdc5-75b0-4c3d-b8ea-05bf9d11065f')\"\n",
       "            title=\"Convert this dataframe to an interactive table.\"\n",
       "            style=\"display:none;\">\n",
       "\n",
       "  <svg xmlns=\"http://www.w3.org/2000/svg\" height=\"24px\" viewBox=\"0 -960 960 960\">\n",
       "    <path d=\"M120-120v-720h720v720H120Zm60-500h600v-160H180v160Zm220 220h160v-160H400v160Zm0 220h160v-160H400v160ZM180-400h160v-160H180v160Zm440 0h160v-160H620v160ZM180-180h160v-160H180v160Zm440 0h160v-160H620v160Z\"/>\n",
       "  </svg>\n",
       "    </button>\n",
       "\n",
       "  <style>\n",
       "    .colab-df-container {\n",
       "      display:flex;\n",
       "      gap: 12px;\n",
       "    }\n",
       "\n",
       "    .colab-df-convert {\n",
       "      background-color: #E8F0FE;\n",
       "      border: none;\n",
       "      border-radius: 50%;\n",
       "      cursor: pointer;\n",
       "      display: none;\n",
       "      fill: #1967D2;\n",
       "      height: 32px;\n",
       "      padding: 0 0 0 0;\n",
       "      width: 32px;\n",
       "    }\n",
       "\n",
       "    .colab-df-convert:hover {\n",
       "      background-color: #E2EBFA;\n",
       "      box-shadow: 0px 1px 2px rgba(60, 64, 67, 0.3), 0px 1px 3px 1px rgba(60, 64, 67, 0.15);\n",
       "      fill: #174EA6;\n",
       "    }\n",
       "\n",
       "    .colab-df-buttons div {\n",
       "      margin-bottom: 4px;\n",
       "    }\n",
       "\n",
       "    [theme=dark] .colab-df-convert {\n",
       "      background-color: #3B4455;\n",
       "      fill: #D2E3FC;\n",
       "    }\n",
       "\n",
       "    [theme=dark] .colab-df-convert:hover {\n",
       "      background-color: #434B5C;\n",
       "      box-shadow: 0px 1px 3px 1px rgba(0, 0, 0, 0.15);\n",
       "      filter: drop-shadow(0px 1px 2px rgba(0, 0, 0, 0.3));\n",
       "      fill: #FFFFFF;\n",
       "    }\n",
       "  </style>\n",
       "\n",
       "    <script>\n",
       "      const buttonEl =\n",
       "        document.querySelector('#df-28eebdc5-75b0-4c3d-b8ea-05bf9d11065f button.colab-df-convert');\n",
       "      buttonEl.style.display =\n",
       "        google.colab.kernel.accessAllowed ? 'block' : 'none';\n",
       "\n",
       "      async function convertToInteractive(key) {\n",
       "        const element = document.querySelector('#df-28eebdc5-75b0-4c3d-b8ea-05bf9d11065f');\n",
       "        const dataTable =\n",
       "          await google.colab.kernel.invokeFunction('convertToInteractive',\n",
       "                                                    [key], {});\n",
       "        if (!dataTable) return;\n",
       "\n",
       "        const docLinkHtml = 'Like what you see? Visit the ' +\n",
       "          '<a target=\"_blank\" href=https://colab.research.google.com/notebooks/data_table.ipynb>data table notebook</a>'\n",
       "          + ' to learn more about interactive tables.';\n",
       "        element.innerHTML = '';\n",
       "        dataTable['output_type'] = 'display_data';\n",
       "        await google.colab.output.renderOutput(dataTable, element);\n",
       "        const docLink = document.createElement('div');\n",
       "        docLink.innerHTML = docLinkHtml;\n",
       "        element.appendChild(docLink);\n",
       "      }\n",
       "    </script>\n",
       "  </div>\n",
       "\n",
       "\n",
       "<div id=\"df-004d09fb-ad37-4627-8671-a101e1bc1d98\">\n",
       "  <button class=\"colab-df-quickchart\" onclick=\"quickchart('df-004d09fb-ad37-4627-8671-a101e1bc1d98')\"\n",
       "            title=\"Suggest charts\"\n",
       "            style=\"display:none;\">\n",
       "\n",
       "<svg xmlns=\"http://www.w3.org/2000/svg\" height=\"24px\"viewBox=\"0 0 24 24\"\n",
       "     width=\"24px\">\n",
       "    <g>\n",
       "        <path d=\"M19 3H5c-1.1 0-2 .9-2 2v14c0 1.1.9 2 2 2h14c1.1 0 2-.9 2-2V5c0-1.1-.9-2-2-2zM9 17H7v-7h2v7zm4 0h-2V7h2v10zm4 0h-2v-4h2v4z\"/>\n",
       "    </g>\n",
       "</svg>\n",
       "  </button>\n",
       "\n",
       "<style>\n",
       "  .colab-df-quickchart {\n",
       "      --bg-color: #E8F0FE;\n",
       "      --fill-color: #1967D2;\n",
       "      --hover-bg-color: #E2EBFA;\n",
       "      --hover-fill-color: #174EA6;\n",
       "      --disabled-fill-color: #AAA;\n",
       "      --disabled-bg-color: #DDD;\n",
       "  }\n",
       "\n",
       "  [theme=dark] .colab-df-quickchart {\n",
       "      --bg-color: #3B4455;\n",
       "      --fill-color: #D2E3FC;\n",
       "      --hover-bg-color: #434B5C;\n",
       "      --hover-fill-color: #FFFFFF;\n",
       "      --disabled-bg-color: #3B4455;\n",
       "      --disabled-fill-color: #666;\n",
       "  }\n",
       "\n",
       "  .colab-df-quickchart {\n",
       "    background-color: var(--bg-color);\n",
       "    border: none;\n",
       "    border-radius: 50%;\n",
       "    cursor: pointer;\n",
       "    display: none;\n",
       "    fill: var(--fill-color);\n",
       "    height: 32px;\n",
       "    padding: 0;\n",
       "    width: 32px;\n",
       "  }\n",
       "\n",
       "  .colab-df-quickchart:hover {\n",
       "    background-color: var(--hover-bg-color);\n",
       "    box-shadow: 0 1px 2px rgba(60, 64, 67, 0.3), 0 1px 3px 1px rgba(60, 64, 67, 0.15);\n",
       "    fill: var(--button-hover-fill-color);\n",
       "  }\n",
       "\n",
       "  .colab-df-quickchart-complete:disabled,\n",
       "  .colab-df-quickchart-complete:disabled:hover {\n",
       "    background-color: var(--disabled-bg-color);\n",
       "    fill: var(--disabled-fill-color);\n",
       "    box-shadow: none;\n",
       "  }\n",
       "\n",
       "  .colab-df-spinner {\n",
       "    border: 2px solid var(--fill-color);\n",
       "    border-color: transparent;\n",
       "    border-bottom-color: var(--fill-color);\n",
       "    animation:\n",
       "      spin 1s steps(1) infinite;\n",
       "  }\n",
       "\n",
       "  @keyframes spin {\n",
       "    0% {\n",
       "      border-color: transparent;\n",
       "      border-bottom-color: var(--fill-color);\n",
       "      border-left-color: var(--fill-color);\n",
       "    }\n",
       "    20% {\n",
       "      border-color: transparent;\n",
       "      border-left-color: var(--fill-color);\n",
       "      border-top-color: var(--fill-color);\n",
       "    }\n",
       "    30% {\n",
       "      border-color: transparent;\n",
       "      border-left-color: var(--fill-color);\n",
       "      border-top-color: var(--fill-color);\n",
       "      border-right-color: var(--fill-color);\n",
       "    }\n",
       "    40% {\n",
       "      border-color: transparent;\n",
       "      border-right-color: var(--fill-color);\n",
       "      border-top-color: var(--fill-color);\n",
       "    }\n",
       "    60% {\n",
       "      border-color: transparent;\n",
       "      border-right-color: var(--fill-color);\n",
       "    }\n",
       "    80% {\n",
       "      border-color: transparent;\n",
       "      border-right-color: var(--fill-color);\n",
       "      border-bottom-color: var(--fill-color);\n",
       "    }\n",
       "    90% {\n",
       "      border-color: transparent;\n",
       "      border-bottom-color: var(--fill-color);\n",
       "    }\n",
       "  }\n",
       "</style>\n",
       "\n",
       "  <script>\n",
       "    async function quickchart(key) {\n",
       "      const quickchartButtonEl =\n",
       "        document.querySelector('#' + key + ' button');\n",
       "      quickchartButtonEl.disabled = true;  // To prevent multiple clicks.\n",
       "      quickchartButtonEl.classList.add('colab-df-spinner');\n",
       "      try {\n",
       "        const charts = await google.colab.kernel.invokeFunction(\n",
       "            'suggestCharts', [key], {});\n",
       "      } catch (error) {\n",
       "        console.error('Error during call to suggestCharts:', error);\n",
       "      }\n",
       "      quickchartButtonEl.classList.remove('colab-df-spinner');\n",
       "      quickchartButtonEl.classList.add('colab-df-quickchart-complete');\n",
       "    }\n",
       "    (() => {\n",
       "      let quickchartButtonEl =\n",
       "        document.querySelector('#df-004d09fb-ad37-4627-8671-a101e1bc1d98 button');\n",
       "      quickchartButtonEl.style.display =\n",
       "        google.colab.kernel.accessAllowed ? 'block' : 'none';\n",
       "    })();\n",
       "  </script>\n",
       "</div>\n",
       "\n",
       "  <div id=\"id_031626fd-b9b9-400e-b1fb-6757ea184699\">\n",
       "    <style>\n",
       "      .colab-df-generate {\n",
       "        background-color: #E8F0FE;\n",
       "        border: none;\n",
       "        border-radius: 50%;\n",
       "        cursor: pointer;\n",
       "        display: none;\n",
       "        fill: #1967D2;\n",
       "        height: 32px;\n",
       "        padding: 0 0 0 0;\n",
       "        width: 32px;\n",
       "      }\n",
       "\n",
       "      .colab-df-generate:hover {\n",
       "        background-color: #E2EBFA;\n",
       "        box-shadow: 0px 1px 2px rgba(60, 64, 67, 0.3), 0px 1px 3px 1px rgba(60, 64, 67, 0.15);\n",
       "        fill: #174EA6;\n",
       "      }\n",
       "\n",
       "      [theme=dark] .colab-df-generate {\n",
       "        background-color: #3B4455;\n",
       "        fill: #D2E3FC;\n",
       "      }\n",
       "\n",
       "      [theme=dark] .colab-df-generate:hover {\n",
       "        background-color: #434B5C;\n",
       "        box-shadow: 0px 1px 3px 1px rgba(0, 0, 0, 0.15);\n",
       "        filter: drop-shadow(0px 1px 2px rgba(0, 0, 0, 0.3));\n",
       "        fill: #FFFFFF;\n",
       "      }\n",
       "    </style>\n",
       "    <button class=\"colab-df-generate\" onclick=\"generateWithVariable('dataframe')\"\n",
       "            title=\"Generate code using this dataframe.\"\n",
       "            style=\"display:none;\">\n",
       "\n",
       "  <svg xmlns=\"http://www.w3.org/2000/svg\" height=\"24px\"viewBox=\"0 0 24 24\"\n",
       "       width=\"24px\">\n",
       "    <path d=\"M7,19H8.4L18.45,9,17,7.55,7,17.6ZM5,21V16.75L18.45,3.32a2,2,0,0,1,2.83,0l1.4,1.43a1.91,1.91,0,0,1,.58,1.4,1.91,1.91,0,0,1-.58,1.4L9.25,21ZM18.45,9,17,7.55Zm-12,3A5.31,5.31,0,0,0,4.9,8.1,5.31,5.31,0,0,0,1,6.5,5.31,5.31,0,0,0,4.9,4.9,5.31,5.31,0,0,0,6.5,1,5.31,5.31,0,0,0,8.1,4.9,5.31,5.31,0,0,0,12,6.5,5.46,5.46,0,0,0,6.5,12Z\"/>\n",
       "  </svg>\n",
       "    </button>\n",
       "    <script>\n",
       "      (() => {\n",
       "      const buttonEl =\n",
       "        document.querySelector('#id_031626fd-b9b9-400e-b1fb-6757ea184699 button.colab-df-generate');\n",
       "      buttonEl.style.display =\n",
       "        google.colab.kernel.accessAllowed ? 'block' : 'none';\n",
       "\n",
       "      buttonEl.onclick = () => {\n",
       "        google.colab.notebook.generateWithVariable('dataframe');\n",
       "      }\n",
       "      })();\n",
       "    </script>\n",
       "  </div>\n",
       "\n",
       "    </div>\n",
       "  </div>\n"
      ],
      "text/plain": [
       "      cluster  Methane  NOxEmissions  PM2.5Emissions  VOCEmissions  \\\n",
       "0           0      670           696            1252          1720   \n",
       "1           0      641           674            1156          1652   \n",
       "2           0      642           646            1159          1643   \n",
       "3           0      640           590            1105          1608   \n",
       "4           0      616           627            1192          1637   \n",
       "...       ...      ...           ...             ...           ...   \n",
       "1840        1      862           826            1564          1768   \n",
       "1841        1      917           821            1571          1779   \n",
       "1842        1      925           832            1582          1776   \n",
       "1843        1      928           840            1587          1787   \n",
       "1844        1      926           840            1606          1785   \n",
       "\n",
       "      SO2Emissions  CO2Emissions  \n",
       "0             1321          2431  \n",
       "1             1410          2433  \n",
       "2             1455          2361  \n",
       "3             1459          2427  \n",
       "4             1466          2447  \n",
       "...            ...           ...  \n",
       "1840          1540          2037  \n",
       "1841          1543          2008  \n",
       "1842          1545          1989  \n",
       "1843          1538          1986  \n",
       "1844          1555          1996  \n",
       "\n",
       "[1845 rows x 7 columns]"
      ]
     },
     "execution_count": 12,
     "metadata": {},
     "output_type": "execute_result"
    }
   ],
   "source": [
    "#freehand code \n"
   ]
  },
  {
   "cell_type": "markdown",
      "metadata": {
      "deletable": false,
      "editable": false,
    "id": "BL3pbwHgXhNL"
   },
   "source": [
    "**Explanation**: *You have added a new column called \"cluster\" at the beginning of the dataframe. The values in this column come from predictions, which likely contains the cluster labels assigned to each data point. This way, each row in the dataframe shows which cluster it belongs to, helping us see how the data is grouped*."
   ]
  },
  {
   "cell_type": "markdown",
      "metadata": {
      "deletable": false,
      "editable": false,
    "id": "HTESVpx6XzMv"
   },
   "source": [
    "### Goal 10: Create scatterplots using the new cluster variable.\n"
   ]
  },
  {
   "cell_type": "markdown",
      "metadata": {
      "deletable": false,
      "editable": false,
    "id": "eKbVubfQX0N1",
    "jp-MarkdownHeadingCollapsed": true
   },
   "source": [
    "#### Blockly"
   ]
  },
  {
   "cell_type": "markdown",
      "metadata": {
      "deletable": false,
      "editable": false,
    "id": "OCdNiZsYX1uw"
   },
   "source": [
    "\n",
    "**Step 1 -  Call the scatter function from plotly**\n",
    "\n",
    "To make a scatterplot, we first need to call the scatter function with our plotly library (px).\n",
    "\n",
    "From the Variables menu drag a DO block for the **px** variable. Select the **scatter** function. This specifies the function we want to call, which is the scatter function from the Plotly Express library (imported as \"px\" earlier).\n"
   ]
  },
  {
   "cell_type": "markdown",
      "metadata": {
      "deletable": false,
      "editable": false,
    "id": "fIdITwzeYJE_"
   },
   "source": [
    "\n",
    "**Step 2 -  Saying what data to use for the scatter plot**\n",
    "\n",
    "In order to make a plot, we need to choose its source from which data we want to plot from. In this case, our dataset is stored in the dataframe **dataframe**.\n",
    "\n",
    "For the first argument, drag from the Variable menu the **dataframe** variable. This allows us to specify a dataframe and what to look at for the scatter function."
   ]
  },
  {
   "cell_type": "markdown",
      "metadata": {
      "deletable": false,
      "editable": false,
    "id": "7EBhXCrPYRr7"
   },
   "source": [
    "\n",
    "\n",
    "**Step 3 -  Tell plotly what columns to put on the axis**\n",
    "\n",
    "Identify the two variables you want to look at. One variable will be alongside the X-axis (*across*) and another one alongside the Y-axis (*up and down*). In our context, we want to see the relationship between **CO2Emissions** and **PM2.5Emissions**. We will assign the variables to the 2 axes in the graph.\n",
    "\n",
    "From the TEXT menu, drag the Quotes. Type the text **CO2Emissions**. This specifies TrafficVolume as the x-axis variable for the scatter plot. Also, from the TEXT menu, drag the Quotes. Type the text **PM2.5Emissions**."
   ]
  },
  {
   "cell_type": "markdown",
      "metadata": {
      "deletable": false,
      "editable": false,
    "id": "bgdS_AWLYTOW"
   },
   "source": [
    "\n",
    "\n",
    "**Step 4 - Adding colors to each cluster**\n",
    "\n",
    "Finally, with the last Quote block, type cluster, it will determine the name of the column with the predicted cluster identified by corresponding colors.     \n",
    "\n",
    "From the TEXT menu, drag the Quotes. Type the text **‘cluster’**.\n"
   ]
  },
  {
   "cell_type": "markdown",
      "metadata": {
      "deletable": false,
      "editable": false,
    "id": "kQggyYHkYVF2"
   },
   "source": [
    "\n",
    "**Step 5 - Connect the blocks to run the code**\n",
    "\n",
    "Connect the blocks and run the code!\n",
    "\n",
    "\n",
    "<details>\n",
    "    <summary>Click to see the answer...</summary>\n",
    "    \n",
    "![](https://pbs.twimg.com/media/GaOPZxQWEAEkoxU?format=png&name=360x360)\n",
    "\n",
    "</details>"
   ]
  },
  {
   "cell_type": "code",
   "execution_count": null,
   "metadata": {},
   "outputs": [],
   "source": [
    "#blocks code\n"
   ]
  },
  {
   "cell_type": "markdown",
      "metadata": {
      "deletable": false,
      "editable": false,
    "id": "rDEHkh1hY9gv",
    "jp-MarkdownHeadingCollapsed": true
   },
   "source": [
    "#### Freehand"
   ]
  },
  {
   "cell_type": "markdown",
      "metadata": {
      "deletable": false,
      "editable": false,
    "id": "cG6o2QPaY-9M"
   },
   "source": [
    "\n",
    "**Step 1 -  Call the scatter function from plotly**\n",
    "\n",
    "To make a scatterplot, we first need to call the scatter function with our plotly library (px).\n",
    "\n",
    "From the Variables menu drag a DO block for the **px** variable. Select the \"**scatter**\" function. This specifies the function we want to call, which is the scatter function from the Plotly Express library (imported as \"px\" earlier).\n",
    "\n",
    "`px.scatter()`"
   ]
  },
  {
   "cell_type": "markdown",
      "metadata": {
      "deletable": false,
      "editable": false,
    "id": "tvB1Hy4lZKnZ"
   },
   "source": [
    "\n",
    "\n",
    "**Step 2 -  Saying what data to use for the scatter plot**\n",
    "\n",
    "In order to make a plot, we need to choose its source from which data we want to plot from. In this case, our dataset is stored in the dataframe **dataframe**.\n",
    "\n",
    "`px.scatter(dataframe)`\n"
   ]
  },
  {
   "cell_type": "markdown",
      "metadata": {
      "deletable": false,
      "editable": false,
    "id": "JHLs6eVkZTmx"
   },
   "source": [
    "\n",
    "\n",
    "**Step 3 -  Tell plotly what the columns to put on the axis**\n",
    "\n",
    "Inside the scatter() method, we add our parameters for the plot\n",
    "- **dataframe** The DataFrame containing the data to plot.\n",
    "- '**CO2Emissions**' The column to be plotted on the x-axis, representing the CO₂ emission levels.\n",
    "- '**PM2.5Emissions**' The column to be plotted on the y-axis, representing PM2.5 emission levels.\n",
    "\n",
    "`px.scatter(dataframe,'CO2Emissions','PM2.5Emissions')`\n"
   ]
  },
  {
   "cell_type": "markdown",
      "metadata": {
      "deletable": false,
      "editable": false,
    "id": "SldTSYQxZe6U"
   },
   "source": [
    "\n",
    "**Step 4 - Adding colors to each cluster**\n",
    "\n",
    "Finally, let’s type type **cluster** to determine the name of the column with the predicted cluster identified by corresponding colors.     \n",
    "\n",
    "- '**Cluster**', add a last parameter as ‘cluster’ which will paint each dot with the corresponding color\n",
    "\n",
    "`px.scatter(dataframe,'CO2Emissions','PM2.5Emissions','cluster)`\n"
   ]
  },
  {
   "cell_type": "markdown",
      "metadata": {
      "deletable": false,
      "editable": false,
    "id": "8V7FaYulZweo"
   },
   "source": [
    "**Step 5 - Run the code**\n",
    "\n",
    "Hit ‘control’ and ‘enter’ at the same time to run the code!\n",
    "\n",
    "\n",
    "<details>\n",
    "    <summary>Click to see the answer...</summary>\n",
    "    \n",
    "![](https://pbs.twimg.com/media/GaOPc3IXgAA7qxy?format=png&name=small\n",
    ")\n",
    "\n",
    "</details>"
   ]
  },
  {
   "cell_type": "markdown",
      "metadata": {
      "deletable": false,
      "editable": false,
    "id": "MR8u_uVpZzDO"
   },
   "source": [
    "\n",
    "**Your Turn**: We’ve tried to create our new variable. Let’s jump in and see what our scatterplot looks like and if we can find any interesting patterns\n"
   ]
  },
  {
   "cell_type": "code",
   "execution_count": 2,
   "metadata": {
    "colab": {
     "base_uri": "https://localhost:8080/",
     "height": 542
    },
    "id": "_d7aaETmZ6nF",
    "outputId": "5b3277fd-bf69-4728-e7ef-eae8b5cf11f4"
   },
   "outputs": [],
   "source": [
    "#freehand code \n"
   ]
  },
  {
   "cell_type": "markdown",
      "metadata": {
      "deletable": false,
      "editable": false,
    "id": "Ksw7CZVTZ5c3"
   },
   "source": [
    "\n",
    "\n",
    "\n",
    "**Explanation**: *The scatter plot shows how CO2 and PM2.5 emissions are grouped into four clusters, each represented by a different color. The trend shows that as CO2 emissions increase, PM2.5 emissions generally decrease, but not in a straightforward way. The clusters reveal distinct groups the orange cluster has high PM2.5 emissions and lower CO2 emissions, while the purple and blue clusters show lower PM2.5 emissions at varying levels of CO2. This clustering helps us understand that emissions don’t follow a single pattern but instead form different groups, which can give insights into the sources or types of emissions*."
   ]
  },
  {
   "cell_type": "markdown",
      "metadata": {
      "deletable": false,
      "editable": false,
    "id": "QZVnSaplZ9bK"
   },
   "source": [
    "### Goal 11: Create scatterplots using different variables to compare.\n",
    "\n",
    "We looked at another scatterplot earlier. How about let’s try some new variables to compare? How about methane?"
   ]
  },
  {
   "cell_type": "markdown",
      "metadata": {
      "deletable": false,
      "editable": false,
    "id": "jeqZVU-MaCL_",
    "jp-MarkdownHeadingCollapsed": true
   },
   "source": [
    "#### Blockly"
   ]
  },
  {
   "cell_type": "markdown",
      "metadata": {
      "deletable": false,
      "editable": false,
    "id": "1zXIFDiraDdg"
   },
   "source": [
    "**Step 1 -  Call the scatter function from plotly**\n",
    "\n",
    "To make a scatterplot, we first need to call the scatter function with our plotly library (px).\n",
    "\n",
    "From the Variables menu drag a DO block for the **px** variable. Select the \"**scatter**\" function. This specifies the function we want to call, which is the scatter function from the Plotly Express library (imported as \"px\" earlier).\n"
   ]
  },
  {
   "cell_type": "markdown",
      "metadata": {
      "deletable": false,
      "editable": false,
    "id": "Y49BWumpaKEw"
   },
   "source": [
    "\n",
    "**Step 2 -  Saying what data to use for the scatter plot**\n",
    "\n",
    "In order to make a plot, we need to choose its source from which data we want to plot from. In this case, our dataset is stored in the dataframe **dataframe**.\n",
    "\n",
    "For the first argument, drag from the Variable menu the **dataframe** variable. This allows us to specify a dataframe as and what to look at for the scatter function.\n"
   ]
  },
  {
   "cell_type": "markdown",
      "metadata": {
      "deletable": false,
      "editable": false,
    "id": "VVjCNe49aLgq"
   },
   "source": [
    "\n",
    "**Step 3 -  Tell plotly what columns to put on axis**\n",
    "\n",
    "Identify the two variables you want to look at. One variable will be alongside the X-axis (*across*) and another one alongside the Y-axis (*up and down*). In our context, we want to see the relationship between **CO2Emissions** and **Methane**. We will assign the variables in the 2 axis in the graph.\n",
    "\n",
    "From the TEXT menu, drag the Quotes. Type the text **CO2Emissions**. This specifies TrafficVolume as the x-axis variable for the scatter plot. Also, from the TEXT menu, drag the Quotes. Type the text **Methane**.\n"
   ]
  },
  {
   "cell_type": "markdown",
      "metadata": {
      "deletable": false,
      "editable": false,
    "id": "-utHODstaNFi"
   },
   "source": [
    "\n",
    "**Step 4 - Adding colors to each cluster**\n",
    "\n",
    "Finally, with the last Quote block, type **cluster**, it will determined the name of the column with the predicted cluster identified by corresponding colors.     \n",
    "\n",
    "From the TEXT menu, drag the Quotes. Type the text ‘cluster’.\n"
   ]
  },
  {
   "cell_type": "markdown",
      "metadata": {
      "deletable": false,
      "editable": false,
    "id": "1PIdUunXaONs"
   },
   "source": [
    "\n",
    "**Step 5 - Connect the blocks to run the code**\n",
    "\n",
    "Connect the blocks and run the code!\n",
    "\n",
    "<details>\n",
    "    <summary>Click to see the answer...</summary>\n",
    "    \n",
    "![](https://pbs.twimg.com/media/GbbFJzhagAAiy0x?format=png&name=900x900)\n",
    "\n",
    "</details>"
   ]
  },
  {
   "cell_type": "code",
   "execution_count": null,
   "metadata": {},
   "outputs": [],
   "source": [
    "#blocks code\n"
   ]
  },
  {
   "cell_type": "markdown",
      "metadata": {
      "deletable": false,
      "editable": false,
    "id": "Hms3OyUobQvz",
    "jp-MarkdownHeadingCollapsed": true
   },
   "source": [
    "#### Freehand"
   ]
  },
  {
   "cell_type": "markdown",
      "metadata": {
      "deletable": false,
      "editable": false,
    "id": "Bt1etfJAbSFl"
   },
   "source": [
    "\n",
    "**Step 1 -  Call the scatter function from plotly**\n",
    "\n",
    "To make a scatterplot, we first need to call the scatter function with our plotly library (px).\n",
    "\n",
    "From the Variables menu drag a DO block for the **px** variable. Select the \"**scatter**\" function. This specifies the function we want to call, which is the scatter function from the Plotly Express library (imported as \"px\" earlier).\n",
    "\n",
    "`px.scatter()`\n"
   ]
  },
  {
   "cell_type": "markdown",
      "metadata": {
      "deletable": false,
      "editable": false,
    "id": "vxxvzIHsbX1I"
   },
   "source": [
    "\n",
    "**Step 2 -  Saying what data to use for the scatter plot**\n",
    "\n",
    "In order to make a plot, we need to choose its source from which data we want to plot from. In this case, our dataset is stored in the dataframe dataframe.\n",
    "\n",
    "`px.scatter(dataframe)`"
   ]
  },
  {
   "cell_type": "markdown",
      "metadata": {
      "deletable": false,
      "editable": false,
    "id": "oaIXgoKHbZDN"
   },
   "source": [
    "\n",
    "\n",
    "**Step 3 -  Tell plotly what the columns to put on the axis**\n",
    "\n",
    "Inside the scatter() method, we add our parameters for the plot\n",
    "- **dataframe** The DataFrame containing the data to plot.\n",
    "- '**CO2Emissions**' The column to be plotted on the x-axis, representing the CO₂ emission levels.\n",
    "- '**Methane**' The column to be plotted on the y-axis, representing PM2.5 emission levels.\n",
    "\n",
    "`px.scatter(dataframe,'CO2Emissions','Methane')`\n"
   ]
  },
  {
   "cell_type": "markdown",
      "metadata": {
      "deletable": false,
      "editable": false,
    "id": "_m2k-SesbaIa"
   },
   "source": [
    "\n",
    "**Step 4 - Adding colors to each cluster**\n",
    "\n",
    "Finally, let’s type **cluster** to determine the name of the column with the predicted cluster identified by corresponding colors.     \n",
    "\n",
    "- '**cluster**', add a last parameter as ‘cluster’ which will paint each dot with the corresponding color\n",
    "\n",
    "`px.scatter(dataframe,'CO2Emissions','Methane','cluster)`\n"
   ]
  },
  {
   "cell_type": "markdown",
      "metadata": {
      "deletable": false,
      "editable": false,
    "id": "YEYRq_3pba5R"
   },
   "source": [
    "\n",
    "**Step 5 - Run the code**\n",
    "\n",
    "Hit ‘control’ and ‘enter’ at the same time to run the code!\n",
    "\n",
    "<details>\n",
    "    <summary>Click to see the answer...</summary>\n",
    "\n",
    "![](https://pbs.twimg.com/media/GbbFGQoaIAAvAdq?format=jpg&name=medium)\n",
    "\n",
    "</details>"
   ]
  },
  {
   "cell_type": "markdown",
      "metadata": {
      "deletable": false,
      "editable": false,
    "id": "qItgL23bb-eT"
   },
   "source": [
    "**Your Turn**: Let’s try another one! This time, let’s create a scatterplot, but let’s tweak the variables we are looking at.\n"
   ]
  },
  {
   "cell_type": "code",
   "execution_count": 4,
   "metadata": {
    "colab": {
     "base_uri": "https://localhost:8080/",
     "height": 542
    },
    "id": "oFsfHVRScDIH",
    "outputId": "e4122020-58af-411a-aeab-a99be05a65bf"
   },
   "outputs": [],
   "source": [
    "#freehand code \n"
   ]
  },
  {
   "cell_type": "markdown",
      "metadata": {
      "deletable": false,
      "editable": false,
    "id": "wm5amzZbcE-m"
   },
   "source": [
    "**Explanation** *The scatter plot shows the relationship between CO2 emissions and Methane emissions, with data points grouped into four clusters. Each color represents a different cluster, indicating that certain ranges of CO2 and Methane emissions are commonly found together. For example, the orange cluster has higher CO2 and Methane levels, while the purple cluster has lower levels of both. The clustering helps us see that emissions don’t follow a single pattern; instead, there are different groups with distinct levels of CO2 and Methane. This kind of grouping can be useful for identifying different sources or types of pollution*."
   ]
  },
  {
   "cell_type": "markdown",
      "metadata": {
      "deletable": false,
      "editable": false,
    "id": "M0zP5NdMcG5J"
   },
   "source": [
    "### Goal 12: Create even more scatterplots using different variables to compare\n",
    "\n",
    "So how about we try even more mixing and matching of variables to compare!?"
   ]
  },
  {
   "cell_type": "markdown",
      "metadata": {
      "deletable": false,
      "editable": false,
    "id": "VvmxSifUcMoy",
    "jp-MarkdownHeadingCollapsed": true
   },
   "source": [
    "#### Blockly"
   ]
  },
  {
   "cell_type": "markdown",
      "metadata": {
      "deletable": false,
      "editable": false,
    "id": "5A7k8ddgcaQB"
   },
   "source": [
    "\n",
    "**Step 1 -  Call the scatter function from plotly**\n",
    "\n",
    "To make a scatterplot, we first need to call the scatter function with our plotly library (px).\n",
    "\n",
    "From the Variables menu drag a DO block for the **px** variable. Select the \"**scatter**\" function. This specifies the function we want to call, which is the scatter function from the Plotly Express library (imported as \"px\" earlier).\n"
   ]
  },
  {
   "cell_type": "markdown",
      "metadata": {
      "deletable": false,
      "editable": false,
    "id": "Wjb8kKCgcmMC"
   },
   "source": [
    "\n",
    "**Step 2 -  Saying what data to use for the scatter plot**\n",
    "\n",
    "In order to make a plot, we need to choose its source from which data we want to plot from. In this case, our dataset is stored in the dataframe **dataframe**.\n",
    "\n",
    "For the first argument, drag from the Variable menu the **dataframe** variable. This allows us to specify a dataframe and what to look at for the scatter function.\n"
   ]
  },
  {
   "cell_type": "markdown",
      "metadata": {
      "deletable": false,
      "editable": false,
    "id": "vsN9UzOHcnzQ"
   },
   "source": [
    "\n",
    "**Step 3 -  Tell plotly what columns to put on the axis**\n",
    "\n",
    "Identify the two variables you want to look at. One variable will be alongside the X-axis (*across*) and another one alongside the Y-axis (*up and down*). In our context, we want to see the relationship between **Methane** and **PM2.5Emissions**. We will assign the variables to the 2 axes in the graph.\n",
    "\n",
    "From the TEXT menu, drag the Quotes. Type the text **Methane**. This specifies TrafficVolume as the x-axis variable for the scatter plot. Also, from the TEXT menu, drag the Quotes. Type the text **PM2.5Emissions**."
   ]
  },
  {
   "cell_type": "markdown",
      "metadata": {
      "deletable": false,
      "editable": false,
    "id": "c9he3ZRDcpet"
   },
   "source": [
    "\n",
    "\n",
    "**Step 4 - Adding colors to each cluster**\n",
    "\n",
    "Finally, with the last Quote block, type cluster, it will determine the name of the column with the predicted cluster identified by corresponding colors.     \n",
    "\n",
    "From the TEXT menu, drag the Quotes. Type the text **‘cluster’**.\n"
   ]
  },
  {
   "cell_type": "markdown",
      "metadata": {
      "deletable": false,
      "editable": false,
    "id": "OhDZ_6Rpcqfa"
   },
   "source": [
    "\n",
    "**Step 5 - Connect the blocks to run the code**\n",
    "\n",
    "Connect the blocks and run the code!\n",
    "<details>\n",
    "    <summary>Click to see the answer...</summary>\n",
    "\n",
    "![](https://pbs.twimg.com/media/GbbEQk-acAAD_0T?format=png&name=900x900)\n",
    "    \n",
    "</details>"
   ]
  },
  {
   "cell_type": "code",
   "execution_count": null,
   "metadata": {},
   "outputs": [],
   "source": [
    "#blocks code\n"
   ]
  },
  {
   "cell_type": "markdown",
      "metadata": {
      "deletable": false,
      "editable": false,
    "id": "vbk7b0DbdCPK",
    "jp-MarkdownHeadingCollapsed": true
   },
   "source": [
    "#### Freehand"
   ]
  },
  {
   "cell_type": "markdown",
      "metadata": {
      "deletable": false,
      "editable": false,
    "id": "j9FpOdBOdK5G"
   },
   "source": [
    "\n",
    "**Step 1 -  Call the scatter function from plotly**\n",
    "\n",
    "To make a scatterplot, we first need to call the scatter function with our plotly library (px).\n",
    "\n",
    "From the Variables menu drag a DO block for the **px** variable. Select the \"**scatter**\" function. This specifies the function we want to call, which is the scatter function from the Plotly Express library (imported as \"px\" earlier).\n",
    "\n",
    "`px.scatter()`"
   ]
  },
  {
   "cell_type": "markdown",
      "metadata": {
      "deletable": false,
      "editable": false,
    "id": "Bo8rMGovdRRO"
   },
   "source": [
    "\n",
    "\n",
    "**Step 2 -  Saying what data to use for the scatter plot**\n",
    "\n",
    "In order to make a plot, we need to choose its source from which data we want to plot from. In this case, our dataset is stored in the dataframe **dataframe**.\n",
    "\n",
    "`px.scatter(dataframe)`\n"
   ]
  },
  {
   "cell_type": "markdown",
      "metadata": {
      "deletable": false,
      "editable": false,
    "id": "VZ5P2tMRdTCe"
   },
   "source": [
    "\n",
    "**Step 3 -  Tell plotly what the columns to put on the axis**\n",
    "\n",
    "Inside the scatter() method, we add our parameters for the plot\n",
    "- **dataframe** The DataFrame containing the data to plot.\n",
    "- '**Methane**' The column to be plotted on the x-axis, representing the CO₂ emission levels.\n",
    "- '**PM2.5Emissions**' The column to be plotted on the y-axis, representing PM2.5 emission levels.\n",
    "\n",
    "`px.scatter(dataframe,'Methane','PM2.5Emissions')`\n"
   ]
  },
  {
   "cell_type": "markdown",
      "metadata": {
      "deletable": false,
      "editable": false,
    "id": "2tVdF0p4dUmM"
   },
   "source": [
    "\n",
    "**Step 4 - Adding colors to each cluster**\n",
    "\n",
    "Finally, let’s type **cluster** to determine the name of the column with the predicted cluster identified by corresponding colors.     \n",
    "\n",
    "- '**cluster**', add a last parameter as ‘cluster’ which will paint each dot with the corresponding color\n",
    "\n",
    "`px.scatter(dataframe,'Methane','PM2.5Emissions','cluster)`\n"
   ]
  },
  {
   "cell_type": "markdown",
      "metadata": {
      "deletable": false,
      "editable": false,
    "id": "NDsA922gdVcR"
   },
   "source": [
    "\n",
    "**Step 5 - Run the code**\n",
    "\n",
    "Hit ‘control’ and ‘enter’ at the same time to run the code!\n",
    "<details>\n",
    "    <summary>Click to see the answer...</summary>\n",
    "\n",
    "\n",
    "![](https://pbs.twimg.com/media/GbbENvkawAAuixa?format=jpg&name=medium)\n",
    "\n",
    "<d>"
   ]
  },
  {
   "cell_type": "markdown",
      "metadata": {
      "deletable": false,
      "editable": false,
    "id": "UA8cuR2Vd57q"
   },
   "source": [
    "\n",
    "**Your Turn**: You are probably feeling pretty good about this by now. Let’s run a scatterplot for these variables and see what we find!\n"
   ]
  },
  {
   "cell_type": "code",
   "execution_count": 5,
   "metadata": {
    "colab": {
     "base_uri": "https://localhost:8080/",
     "height": 542
    },
    "id": "76FHMh7-d7_j",
    "outputId": "183fe776-6f0d-4f88-d8e4-bfa6df86deaa"
   },
   "outputs": [],
   "source": [
    "#freehand code \n"
   ]
  },
  {
   "cell_type": "markdown",
      "metadata": {
      "deletable": false,
      "editable": false,
    "id": "-KGByH6Vd9w2"
   },
   "source": [
    "**Explanation**: *The scatter plot shows how data points are grouped into four clusters based on two variables Methane and PM2.5 emissions. Each color represents a different cluster, and we can see that as Methane emissions increase, PM2.5 emissions also tend to increase. However, the clustering suggests that there are different \"types\" or patterns within this trend. For example, points in the purple cluster have lower Methane and PM2.5 emissions, while points in the orange cluster have higher emissions of both. This clustering helps us see natural groupings in the data, which can be useful for understanding patterns in emissions*."
   ]
  },
  {
   "cell_type": "markdown",
      "metadata": {
      "deletable": false,
      "editable": false,
    "id": "REfZ7wsCeDSL"
   },
   "source": [
    "## WHAT DID YOU LEARN?"
   ]
  },
  {
   "cell_type": "markdown",
      "metadata": {
      "deletable": false,
      "editable": false,
    "id": "LmdDmM54eFhG"
   },
   "source": [
    "\n",
    "In this lesson, we’ve covered the ins and outs of [clustering](## \"a group of data points that are similar to each other than to points in other clusters\"). We’ve explored different methods that we can use to find patterns and group similar things together. We also explored the differences between hierarchical clustering and nonhierarchical clustering. Remember, hierarchical clustering starts by combining small groups of data until there’s one big cluster. Non-hierarchical clustering starts with data points and creates groups around whatever that starting point is. Regardless of the method, clustering is great because it can help us solve real problems by showing us how data fits together!\n"
   ]
  },
  {
   "cell_type": "markdown",
      "metadata": {
      "deletable": false,
      "editable": false,
    "id": "Ma6yYicseGXB"
   },
   "source": [
    "\n",
    "## WHAT’S NEXT?\n"
   ]
  },
  {
   "cell_type": "markdown",
      "metadata": {
      "deletable": false,
      "editable": false,
    "id": "jo3Z7EwPeHXz"
   },
   "source": [
    "\n",
    "[KNN Classification](KNN_Classification.ipynb)\n"
   ]
  },
  {
   "cell_type": "markdown",
      "metadata": {
      "deletable": false,
      "editable": false,
    "id": "diUMa3nxeIHk"
   },
   "source": [
    "\n",
    "## TELL ME MORE\n",
    "\n"
   ]
  },
  {
   "cell_type": "markdown",
      "metadata": {
      "deletable": false,
      "editable": false,
    "editable": true,
    "id": "YLre5KLOeJA1",
    "slideshow": {
     "slide_type": ""
    },
    "tags": []
   },
   "source": [
    "\n",
    "- [Datawhys Clustering Notebook](https://github.com/memphis-iis/datawhys-content-notebooks-python/blob/master/Clustering.ipynb)\n",
    "- [Datawhys Clustering Problem-Solving Notebook](https://github.com/memphis-iis/datawhys-content-notebooks-python/blob/master/Clustering-PS.ipynb)\n"
   ]
  }
 ],
 "metadata": {
  "colab": {
   "provenance": []
  },
  "kernelspec": {
   "display_name": "Python 3 (ipykernel)",
   "language": "python",
   "name": "python3"
  },
  "language_info": {
   "codemirror_mode": {
    "name": "ipython",
    "version": 3
   },
   "file_extension": ".py",
   "mimetype": "text/x-python",
   "name": "python",
   "nbconvert_exporter": "python",
   "pygments_lexer": "ipython3",
   "version": "3.10.6"
  }
 },
 "nbformat": 4,
 "nbformat_minor": 4
}
